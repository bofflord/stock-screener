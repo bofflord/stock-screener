{
 "metadata": {
  "language_info": {
   "codemirror_mode": {
    "name": "ipython",
    "version": 3
   },
   "file_extension": ".py",
   "mimetype": "text/x-python",
   "name": "python",
   "nbconvert_exporter": "python",
   "pygments_lexer": "ipython3",
   "version": "3.8.5"
  },
  "orig_nbformat": 4,
  "kernelspec": {
   "name": "python3",
   "display_name": "Python 3.8.5 64-bit ('dataengineering': conda)"
  },
  "interpreter": {
   "hash": "e8c5907d6f6b93abd568ea4798fcc42687f0080df672fabf898fced0e116d856"
  }
 },
 "nbformat": 4,
 "nbformat_minor": 2,
 "cells": [
  {
   "source": [
    "# Daily Stock Screener"
   ],
   "cell_type": "markdown",
   "metadata": {}
  },
  {
   "source": [
    "Notes:\n",
    "- NASDAQ trading time is 9:30 am to 4 pm (GMT-4)"
   ],
   "cell_type": "markdown",
   "metadata": {}
  },
  {
   "source": [
    "## Imports"
   ],
   "cell_type": "markdown",
   "metadata": {}
  },
  {
   "cell_type": "code",
   "execution_count": 1,
   "metadata": {},
   "outputs": [],
   "source": [
    "# general module import\n",
    "import pandas as pd\n",
    "import numpy as np"
   ]
  },
  {
   "cell_type": "code",
   "execution_count": 2,
   "metadata": {},
   "outputs": [],
   "source": [
    "# Local spark cluster specific imports for Windows\n",
    "import findspark\n",
    "findspark.init()"
   ]
  },
  {
   "cell_type": "code",
   "execution_count": 3,
   "metadata": {},
   "outputs": [
    {
     "output_type": "stream",
     "name": "stdout",
     "text": [
      "+-----+\n|hello|\n+-----+\n|spark|\n+-----+\n\n"
     ]
    }
   ],
   "source": [
    "# spark specific import. \n",
    "# Note: wait until run of previous cell is complete to avoid start-up issues.\n",
    "import pyspark\n",
    "from pyspark.sql import SparkSession\n",
    "from pyspark.sql import functions as F\n",
    "spark = SparkSession.builder.getOrCreate()\n",
    "df = spark.sql(\"select 'spark' as hello \")\n",
    "df.show()"
   ]
  },
  {
   "cell_type": "code",
   "execution_count": 4,
   "metadata": {},
   "outputs": [],
   "source": [
    "# import of own packages\n",
    "from analysis_utils import read_result_tables\n",
    "from get_prices import *"
   ]
  },
  {
   "source": [
    "## Extract Source Data"
   ],
   "cell_type": "markdown",
   "metadata": {}
  },
  {
   "cell_type": "code",
   "execution_count": 5,
   "metadata": {},
   "outputs": [],
   "source": [
    "# extract screener results\n",
    "company_info_df, fundamental_df, growth_df, screener_df = read_result_tables()"
   ]
  },
  {
   "cell_type": "code",
   "execution_count": 6,
   "metadata": {},
   "outputs": [],
   "source": [
    "# get symbol list from growth_df\n",
    "symbol_list = growth_df['Ticker'].unique().tolist()"
   ]
  },
  {
   "cell_type": "code",
   "execution_count": 10,
   "metadata": {},
   "outputs": [
    {
     "output_type": "stream",
     "name": "stdout",
     "text": [
      "Start download of historic price data\n",
      "Ticker price data extracted...\n",
      "Total number of valid symbols downloaded = 1523\n"
     ]
    }
   ],
   "source": [
    "# get daily stock data\n",
    "daily_prices_path = '../data/6_daily_prices'\n",
    "download_ticker_prices(symbol_list, period='1d', download_path=daily_prices_path)"
   ]
  },
  {
   "cell_type": "code",
   "execution_count": 8,
   "metadata": {},
   "outputs": [],
   "source": [
    "# load daily stock prides from disk\n",
    "price_df = load_ticker_prices(spark, symbol_list, source_path=daily_prices_path)"
   ]
  },
  {
   "source": [
    "## Transform to daily screener data"
   ],
   "cell_type": "markdown",
   "metadata": {}
  },
  {
   "cell_type": "code",
   "execution_count": 9,
   "metadata": {},
   "outputs": [],
   "source": [
    "# update screener df with daily price data\n",
    "screener_df = find_stocks_below_mos(spark, price_df, growth_df)"
   ]
  },
  {
   "source": [
    "## Load Screener results to disk"
   ],
   "cell_type": "markdown",
   "metadata": {}
  },
  {
   "cell_type": "code",
   "execution_count": null,
   "metadata": {},
   "outputs": [],
   "source": [
    "screener_df.to_parquet('..//data//5_results//' + 'screener' + '.parquet.gzip', compression='gzip')"
   ]
  }
 ]
}
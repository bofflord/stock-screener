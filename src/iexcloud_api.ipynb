{
 "metadata": {
  "language_info": {
   "codemirror_mode": {
    "name": "ipython",
    "version": 3
   },
   "file_extension": ".py",
   "mimetype": "text/x-python",
   "name": "python",
   "nbconvert_exporter": "python",
   "pygments_lexer": "ipython3",
   "version": "3.8.5"
  },
  "orig_nbformat": 2,
  "kernelspec": {
   "name": "python385jvsc74a57bd0e8c5907d6f6b93abd568ea4798fcc42687f0080df672fabf898fced0e116d856",
   "display_name": "Python 3.8.5 64-bit ('dataengineering': conda)"
  }
 },
 "nbformat": 4,
 "nbformat_minor": 2,
 "cells": [
  {
   "cell_type": "code",
   "execution_count": 1,
   "metadata": {},
   "outputs": [
    {
     "output_type": "stream",
     "name": "stdout",
     "text": [
      "Collecting pyEX\n  Downloading pyEX-0.5.0-py2.py3-none-any.whl (163 kB)\nRequirement already satisfied: ipython>=7.2.0 in c:\\users\\boffmasta\\anaconda3\\envs\\dataengineering\\lib\\site-packages (from pyEX) (7.19.0)\nRequirement already satisfied: pytz>=2019.1 in c:\\users\\boffmasta\\anaconda3\\envs\\dataengineering\\lib\\site-packages (from pyEX) (2020.5)\nRequirement already satisfied: requests>=2.21.0 in c:\\users\\boffmasta\\anaconda3\\envs\\dataengineering\\lib\\site-packages (from pyEX) (2.25.1)\nRequirement already satisfied: six in c:\\users\\boffmasta\\anaconda3\\envs\\dataengineering\\lib\\site-packages (from pyEX) (1.15.0)\nRequirement already satisfied: pandas>=0.22 in c:\\users\\boffmasta\\anaconda3\\envs\\dataengineering\\lib\\site-packages (from pyEX) (1.2.0)\nCollecting deprecation>=2.0.6\n  Downloading deprecation-2.1.0-py2.py3-none-any.whl (11 kB)\nRequirement already satisfied: packaging in c:\\users\\boffmasta\\anaconda3\\envs\\dataengineering\\lib\\site-packages (from deprecation>=2.0.6->pyEX) (20.8)\nRequirement already satisfied: jedi>=0.10 in c:\\users\\boffmasta\\anaconda3\\envs\\dataengineering\\lib\\site-packages (from ipython>=7.2.0->pyEX) (0.18.0)\nRequirement already satisfied: backcall in c:\\users\\boffmasta\\anaconda3\\envs\\dataengineering\\lib\\site-packages (from ipython>=7.2.0->pyEX) (0.2.0)\nRequirement already satisfied: pickleshare in c:\\users\\boffmasta\\anaconda3\\envs\\dataengineering\\lib\\site-packages (from ipython>=7.2.0->pyEX) (0.7.5)\nRequirement already satisfied: pygments in c:\\users\\boffmasta\\anaconda3\\envs\\dataengineering\\lib\\site-packages (from ipython>=7.2.0->pyEX) (2.7.3)\nRequirement already satisfied: setuptools>=18.5 in c:\\users\\boffmasta\\anaconda3\\envs\\dataengineering\\lib\\site-packages (from ipython>=7.2.0->pyEX) (51.1.2.post20210110)\nRequirement already satisfied: traitlets>=4.2 in c:\\users\\boffmasta\\anaconda3\\envs\\dataengineering\\lib\\site-packages (from ipython>=7.2.0->pyEX) (5.0.5)\nRequirement already satisfied: decorator in c:\\users\\boffmasta\\anaconda3\\envs\\dataengineering\\lib\\site-packages (from ipython>=7.2.0->pyEX) (4.4.2)\nRequirement already satisfied: prompt-toolkit!=3.0.0,!=3.0.1,<3.1.0,>=2.0.0 in c:\\users\\boffmasta\\anaconda3\\envs\\dataengineering\\lib\\site-packages (from ipython>=7.2.0->pyEX) (3.0.8)\nRequirement already satisfied: colorama in c:\\users\\boffmasta\\anaconda3\\envs\\dataengineering\\lib\\site-packages (from ipython>=7.2.0->pyEX) (0.4.4)\nRequirement already satisfied: parso<0.9.0,>=0.8.0 in c:\\users\\boffmasta\\appdata\\roaming\\python\\python38\\site-packages (from jedi>=0.10->ipython>=7.2.0->pyEX) (0.8.1)\nRequirement already satisfied: python-dateutil>=2.7.3 in c:\\users\\boffmasta\\anaconda3\\envs\\dataengineering\\lib\\site-packages (from pandas>=0.22->pyEX) (2.8.1)\nRequirement already satisfied: numpy>=1.16.5 in c:\\users\\boffmasta\\anaconda3\\envs\\dataengineering\\lib\\site-packages (from pandas>=0.22->pyEX) (1.19.2)\nCollecting Pillow>=5.3.0\n  Downloading Pillow-8.2.0-cp38-cp38-win_amd64.whl (2.2 MB)\nRequirement already satisfied: wcwidth in c:\\users\\boffmasta\\anaconda3\\envs\\dataengineering\\lib\\site-packages (from prompt-toolkit!=3.0.0,!=3.0.1,<3.1.0,>=2.0.0->ipython>=7.2.0->pyEX) (0.2.5)\nRequirement already satisfied: certifi>=2017.4.17 in c:\\users\\boffmasta\\anaconda3\\envs\\dataengineering\\lib\\site-packages (from requests>=2.21.0->pyEX) (2020.12.5)\nRequirement already satisfied: idna<3,>=2.5 in c:\\users\\boffmasta\\anaconda3\\envs\\dataengineering\\lib\\site-packages (from requests>=2.21.0->pyEX) (2.10)\nRequirement already satisfied: chardet<5,>=3.0.2 in c:\\users\\boffmasta\\anaconda3\\envs\\dataengineering\\lib\\site-packages (from requests>=2.21.0->pyEX) (4.0.0)\nRequirement already satisfied: urllib3<1.27,>=1.21.1 in c:\\users\\boffmasta\\anaconda3\\envs\\dataengineering\\lib\\site-packages (from requests>=2.21.0->pyEX) (1.25.11)\nCollecting socketIO-client-nexus>=0.7.6\n  Downloading socketIO_client_nexus-0.7.6-py2.py3-none-any.whl (22 kB)\nCollecting sseclient>=0.0.22\n  Downloading sseclient-0.0.27.tar.gz (7.5 kB)\nCollecting temporal-cache>=0.1.1\n  Downloading temporal_cache-0.1.4-py2.py3-none-any.whl (17 kB)\nCollecting frozendict>=1.2\n  Downloading frozendict-1.2.tar.gz (2.6 kB)\nRequirement already satisfied: ipython-genutils in c:\\users\\boffmasta\\anaconda3\\envs\\dataengineering\\lib\\site-packages (from traitlets>=4.2->ipython>=7.2.0->pyEX) (0.2.0)\nCollecting tzlocal>=2.0.0\n  Using cached tzlocal-2.1-py2.py3-none-any.whl (16 kB)\nRequirement already satisfied: pyparsing>=2.0.2 in c:\\users\\boffmasta\\anaconda3\\envs\\dataengineering\\lib\\site-packages (from packaging->deprecation>=2.0.6->pyEX) (2.4.7)\nCollecting websocket-client\n  Downloading websocket_client-0.58.0-py2.py3-none-any.whl (61 kB)\nBuilding wheels for collected packages: sseclient, frozendict\n  Building wheel for sseclient (setup.py): started\n  Building wheel for sseclient (setup.py): finished with status 'done'\n  Created wheel for sseclient: filename=sseclient-0.0.27-py3-none-any.whl size=5571 sha256=53bfa0a80cc676ae01ed7e869472328822f53bdcb4be89e2709701849e47c506\n  Stored in directory: c:\\users\\boffmasta\\appdata\\local\\pip\\cache\\wheels\\f9\\12\\8e\\90bd3f4c38f3a0c17681ce222e7762743164876d6dbf04ab71\n  Building wheel for frozendict (setup.py): started\n  Building wheel for frozendict (setup.py): finished with status 'done'\n  Created wheel for frozendict: filename=frozendict-1.2-py3-none-any.whl size=3146 sha256=9948ffa851ae8182ac1fddac2bace36d75fdd29cf9a93f29f7eb1cfa7b6383e7\n  Stored in directory: c:\\users\\boffmasta\\appdata\\local\\pip\\cache\\wheels\\9b\\9b\\56\\5713233cf7226423ab6c58c08081551a301b5863e343ba053c\nSuccessfully built sseclient frozendict\nInstalling collected packages: websocket-client, tzlocal, frozendict, temporal-cache, sseclient, socketIO-client-nexus, Pillow, deprecation, pyEX\nSuccessfully installed Pillow-8.2.0 deprecation-2.1.0 frozendict-1.2 pyEX-0.5.0 socketIO-client-nexus-0.7.6 sseclient-0.0.27 temporal-cache-0.1.4 tzlocal-2.1 websocket-client-0.58.0\n"
     ]
    }
   ],
   "source": [
    "#!pip install pyEX\n"
   ]
  },
  {
   "source": [
    "# Imports"
   ],
   "cell_type": "markdown",
   "metadata": {}
  },
  {
   "cell_type": "code",
   "execution_count": 1,
   "metadata": {},
   "outputs": [],
   "source": [
    "import pandas as pd \n",
    "import pyEX as p\n",
    "import configparser"
   ]
  },
  {
   "source": [
    "# Get API key from config file"
   ],
   "cell_type": "markdown",
   "metadata": {}
  },
  {
   "cell_type": "code",
   "execution_count": 2,
   "metadata": {},
   "outputs": [],
   "source": [
    "config = configparser.ConfigParser()\n",
    "config.read_file(open('../data/api_keys.cfg'))\n",
    "\n",
    "iex_api_key_sandbox = config.get('iexcloud_sandbox','api_key')\n",
    "iex_api_key_stable = config.get('iexcloud_stable','api_key')"
   ]
  },
  {
   "source": [
    "# Initialize IEX Cloud API Connection"
   ],
   "cell_type": "markdown",
   "metadata": {}
  },
  {
   "cell_type": "code",
   "execution_count": 27,
   "metadata": {},
   "outputs": [],
   "source": [
    "# create Client with Sandbox API key and version\n",
    "iex_c = p.Client(api_token=iex_api_key_sandbox, version = 'sandbox')\n",
    "\n",
    "# create Client subscribed API key and version\n",
    "#iex_c = p.Client(api_token=iex_api_key_stable, version = 'stable')"
   ]
  },
  {
   "source": [
    "# Test API connectivity and get test data"
   ],
   "cell_type": "markdown",
   "metadata": {}
  },
  {
   "cell_type": "code",
   "execution_count": 4,
   "metadata": {},
   "outputs": [],
   "source": [
    "# Show available DF function\n",
    "#[_ for _ in dir(p) if _.endswith('DF')]"
   ]
  },
  {
   "source": [
    "## Daily Ticker for one symbol"
   ],
   "cell_type": "markdown",
   "metadata": {}
  },
  {
   "cell_type": "code",
   "execution_count": 16,
   "metadata": {},
   "outputs": [],
   "source": [
    "# Documentation: https://iexcloud.io/docs/api/#historical-prices\n",
    "# credit weight per call: 2\n",
    "aapl_df = iex_c.chartDF('AAPL', timeframe='1m')"
   ]
  },
  {
   "cell_type": "code",
   "execution_count": 6,
   "metadata": {},
   "outputs": [
    {
     "output_type": "execute_result",
     "data": {
      "text/plain": [
       "             close      high     low    open symbol     volume  \\\n",
       "date                                                             \n",
       "2021-04-06  126.21  127.1300  125.65  126.50   AAPL   80171253   \n",
       "2021-04-05  125.90  126.1601  123.07  123.87   AAPL   88651175   \n",
       "2021-04-01  123.00  124.1800  122.49  123.66   AAPL   75089134   \n",
       "2021-03-31  122.15  123.5200  121.15  121.65   AAPL  118323826   \n",
       "2021-03-30  119.90  120.4031  118.86  120.11   AAPL   85671919   \n",
       "\n",
       "                           id   key subkey             updated  ...    uLow  \\\n",
       "date                                                            ...           \n",
       "2021-04-06  HISTORICAL_PRICES  AAPL        2021-04-07 01:00:03  ...  125.65   \n",
       "2021-04-05  HISTORICAL_PRICES  AAPL        2021-04-06 00:48:08  ...  123.07   \n",
       "2021-04-01  HISTORICAL_PRICES  AAPL        2021-04-02 00:48:07  ...  122.49   \n",
       "2021-03-31  HISTORICAL_PRICES  AAPL        2021-04-01 00:48:05  ...  121.15   \n",
       "2021-03-30  HISTORICAL_PRICES  AAPL        2021-03-31 01:16:10  ...  118.86   \n",
       "\n",
       "              uVolume   fOpen  fClose     fHigh    fLow    fVolume  \\\n",
       "date                                                                 \n",
       "2021-04-06   80171253  126.50  126.21  127.1300  125.65   80171253   \n",
       "2021-04-05   88651175  123.87  125.90  126.1601  123.07   88651175   \n",
       "2021-04-01   75089134  123.66  123.00  124.1800  122.49   75089134   \n",
       "2021-03-31  118323826  121.65  122.15  123.5200  121.15  118323826   \n",
       "2021-03-30   85671919  120.11  119.90  120.4031  118.86   85671919   \n",
       "\n",
       "                 label  change  changePercent  \n",
       "date                                           \n",
       "2021-04-06   Apr 6, 21    0.00         0.0000  \n",
       "2021-04-05   Apr 5, 21   -0.31        -0.0025  \n",
       "2021-04-01   Apr 1, 21   -2.90        -0.0230  \n",
       "2021-03-31  Mar 31, 21   -0.85        -0.0069  \n",
       "2021-03-30  Mar 30, 21   -2.25        -0.0184  \n",
       "\n",
       "[5 rows x 25 columns]"
      ],
      "text/html": "<div>\n<style scoped>\n    .dataframe tbody tr th:only-of-type {\n        vertical-align: middle;\n    }\n\n    .dataframe tbody tr th {\n        vertical-align: top;\n    }\n\n    .dataframe thead th {\n        text-align: right;\n    }\n</style>\n<table border=\"1\" class=\"dataframe\">\n  <thead>\n    <tr style=\"text-align: right;\">\n      <th></th>\n      <th>close</th>\n      <th>high</th>\n      <th>low</th>\n      <th>open</th>\n      <th>symbol</th>\n      <th>volume</th>\n      <th>id</th>\n      <th>key</th>\n      <th>subkey</th>\n      <th>updated</th>\n      <th>...</th>\n      <th>uLow</th>\n      <th>uVolume</th>\n      <th>fOpen</th>\n      <th>fClose</th>\n      <th>fHigh</th>\n      <th>fLow</th>\n      <th>fVolume</th>\n      <th>label</th>\n      <th>change</th>\n      <th>changePercent</th>\n    </tr>\n    <tr>\n      <th>date</th>\n      <th></th>\n      <th></th>\n      <th></th>\n      <th></th>\n      <th></th>\n      <th></th>\n      <th></th>\n      <th></th>\n      <th></th>\n      <th></th>\n      <th></th>\n      <th></th>\n      <th></th>\n      <th></th>\n      <th></th>\n      <th></th>\n      <th></th>\n      <th></th>\n      <th></th>\n      <th></th>\n      <th></th>\n    </tr>\n  </thead>\n  <tbody>\n    <tr>\n      <th>2021-04-06</th>\n      <td>126.21</td>\n      <td>127.1300</td>\n      <td>125.65</td>\n      <td>126.50</td>\n      <td>AAPL</td>\n      <td>80171253</td>\n      <td>HISTORICAL_PRICES</td>\n      <td>AAPL</td>\n      <td></td>\n      <td>2021-04-07 01:00:03</td>\n      <td>...</td>\n      <td>125.65</td>\n      <td>80171253</td>\n      <td>126.50</td>\n      <td>126.21</td>\n      <td>127.1300</td>\n      <td>125.65</td>\n      <td>80171253</td>\n      <td>Apr 6, 21</td>\n      <td>0.00</td>\n      <td>0.0000</td>\n    </tr>\n    <tr>\n      <th>2021-04-05</th>\n      <td>125.90</td>\n      <td>126.1601</td>\n      <td>123.07</td>\n      <td>123.87</td>\n      <td>AAPL</td>\n      <td>88651175</td>\n      <td>HISTORICAL_PRICES</td>\n      <td>AAPL</td>\n      <td></td>\n      <td>2021-04-06 00:48:08</td>\n      <td>...</td>\n      <td>123.07</td>\n      <td>88651175</td>\n      <td>123.87</td>\n      <td>125.90</td>\n      <td>126.1601</td>\n      <td>123.07</td>\n      <td>88651175</td>\n      <td>Apr 5, 21</td>\n      <td>-0.31</td>\n      <td>-0.0025</td>\n    </tr>\n    <tr>\n      <th>2021-04-01</th>\n      <td>123.00</td>\n      <td>124.1800</td>\n      <td>122.49</td>\n      <td>123.66</td>\n      <td>AAPL</td>\n      <td>75089134</td>\n      <td>HISTORICAL_PRICES</td>\n      <td>AAPL</td>\n      <td></td>\n      <td>2021-04-02 00:48:07</td>\n      <td>...</td>\n      <td>122.49</td>\n      <td>75089134</td>\n      <td>123.66</td>\n      <td>123.00</td>\n      <td>124.1800</td>\n      <td>122.49</td>\n      <td>75089134</td>\n      <td>Apr 1, 21</td>\n      <td>-2.90</td>\n      <td>-0.0230</td>\n    </tr>\n    <tr>\n      <th>2021-03-31</th>\n      <td>122.15</td>\n      <td>123.5200</td>\n      <td>121.15</td>\n      <td>121.65</td>\n      <td>AAPL</td>\n      <td>118323826</td>\n      <td>HISTORICAL_PRICES</td>\n      <td>AAPL</td>\n      <td></td>\n      <td>2021-04-01 00:48:05</td>\n      <td>...</td>\n      <td>121.15</td>\n      <td>118323826</td>\n      <td>121.65</td>\n      <td>122.15</td>\n      <td>123.5200</td>\n      <td>121.15</td>\n      <td>118323826</td>\n      <td>Mar 31, 21</td>\n      <td>-0.85</td>\n      <td>-0.0069</td>\n    </tr>\n    <tr>\n      <th>2021-03-30</th>\n      <td>119.90</td>\n      <td>120.4031</td>\n      <td>118.86</td>\n      <td>120.11</td>\n      <td>AAPL</td>\n      <td>85671919</td>\n      <td>HISTORICAL_PRICES</td>\n      <td>AAPL</td>\n      <td></td>\n      <td>2021-03-31 01:16:10</td>\n      <td>...</td>\n      <td>118.86</td>\n      <td>85671919</td>\n      <td>120.11</td>\n      <td>119.90</td>\n      <td>120.4031</td>\n      <td>118.86</td>\n      <td>85671919</td>\n      <td>Mar 30, 21</td>\n      <td>-2.25</td>\n      <td>-0.0184</td>\n    </tr>\n  </tbody>\n</table>\n<p>5 rows × 25 columns</p>\n</div>"
     },
     "metadata": {},
     "execution_count": 6
    }
   ],
   "source": [
    "aapl_df.head()"
   ]
  },
  {
   "cell_type": "code",
   "execution_count": 17,
   "metadata": {},
   "outputs": [
    {
     "output_type": "execute_result",
     "data": {
      "text/plain": [
       "['close',\n",
       " 'high',\n",
       " 'low',\n",
       " 'open',\n",
       " 'symbol',\n",
       " 'volume',\n",
       " 'id',\n",
       " 'key',\n",
       " 'subkey',\n",
       " 'updated',\n",
       " 'changeOverTime',\n",
       " 'marketChangeOverTime',\n",
       " 'uOpen',\n",
       " 'uClose',\n",
       " 'uHigh',\n",
       " 'uLow',\n",
       " 'uVolume',\n",
       " 'fOpen',\n",
       " 'fClose',\n",
       " 'fHigh',\n",
       " 'fLow',\n",
       " 'fVolume',\n",
       " 'label',\n",
       " 'change',\n",
       " 'changePercent']"
      ]
     },
     "metadata": {},
     "execution_count": 17
    }
   ],
   "source": [
    "aapl_df.columns.tolist()"
   ]
  },
  {
   "source": [
    "## Financials ##\n",
    "- Pulls income statement, balance sheet, and cash flow data from the most recent reported quarter.\n",
    "- see: https://iexcloud.io/docs/api/#financials"
   ],
   "cell_type": "markdown",
   "metadata": {}
  },
  {
   "cell_type": "code",
   "execution_count": 24,
   "metadata": {},
   "outputs": [],
   "source": [
    "# Documentation: https://iexcloud.io/docs/api/#financials\n",
    "# credit weight per call: 5000\n",
    "aapl_df = iex_c.financialsDF('AAPL', period='annual')"
   ]
  },
  {
   "cell_type": "code",
   "execution_count": 25,
   "metadata": {},
   "outputs": [
    {
     "output_type": "execute_result",
     "data": {
      "text/plain": [
       "                 EBITDA  accountsPayable capitalSurplus  cashChange  \\\n",
       "reportDate                                                            \n",
       "2020-10-30  77344000000      42296000000           None -9614000000   \n",
       "\n",
       "               cashFlow  cashFlowFinancing  changesInInventories  \\\n",
       "reportDate                                                         \n",
       "2020-10-30  80674000000       -86820000000             -45000000   \n",
       "\n",
       "            changesInReceivables  commonStock  costOfRevenue  ...  \\\n",
       "reportDate                                                    ...   \n",
       "2020-10-30           -8359000000  17352119000   169559000000  ...   \n",
       "\n",
       "               totalDebt  totalInvestingCashFlows  totalLiabilities  \\\n",
       "reportDate                                                            \n",
       "2020-10-30  112436000000              -4289000000      258549000000   \n",
       "\n",
       "            totalRevenue  treasuryStock          id   key  subkey  \\\n",
       "reportDate                                                          \n",
       "2020-10-30  274515000000              0  FINANCIALS  AAPL  annual   \n",
       "\n",
       "                                 date             updated  \n",
       "reportDate                                                 \n",
       "2020-10-30 1970-01-01 00:26:41.078400 2021-01-28 13:48:57  \n",
       "\n",
       "[1 rows x 69 columns]"
      ],
      "text/html": "<div>\n<style scoped>\n    .dataframe tbody tr th:only-of-type {\n        vertical-align: middle;\n    }\n\n    .dataframe tbody tr th {\n        vertical-align: top;\n    }\n\n    .dataframe thead th {\n        text-align: right;\n    }\n</style>\n<table border=\"1\" class=\"dataframe\">\n  <thead>\n    <tr style=\"text-align: right;\">\n      <th></th>\n      <th>EBITDA</th>\n      <th>accountsPayable</th>\n      <th>capitalSurplus</th>\n      <th>cashChange</th>\n      <th>cashFlow</th>\n      <th>cashFlowFinancing</th>\n      <th>changesInInventories</th>\n      <th>changesInReceivables</th>\n      <th>commonStock</th>\n      <th>costOfRevenue</th>\n      <th>...</th>\n      <th>totalDebt</th>\n      <th>totalInvestingCashFlows</th>\n      <th>totalLiabilities</th>\n      <th>totalRevenue</th>\n      <th>treasuryStock</th>\n      <th>id</th>\n      <th>key</th>\n      <th>subkey</th>\n      <th>date</th>\n      <th>updated</th>\n    </tr>\n    <tr>\n      <th>reportDate</th>\n      <th></th>\n      <th></th>\n      <th></th>\n      <th></th>\n      <th></th>\n      <th></th>\n      <th></th>\n      <th></th>\n      <th></th>\n      <th></th>\n      <th></th>\n      <th></th>\n      <th></th>\n      <th></th>\n      <th></th>\n      <th></th>\n      <th></th>\n      <th></th>\n      <th></th>\n      <th></th>\n      <th></th>\n    </tr>\n  </thead>\n  <tbody>\n    <tr>\n      <th>2020-10-30</th>\n      <td>77344000000</td>\n      <td>42296000000</td>\n      <td>None</td>\n      <td>-9614000000</td>\n      <td>80674000000</td>\n      <td>-86820000000</td>\n      <td>-45000000</td>\n      <td>-8359000000</td>\n      <td>17352119000</td>\n      <td>169559000000</td>\n      <td>...</td>\n      <td>112436000000</td>\n      <td>-4289000000</td>\n      <td>258549000000</td>\n      <td>274515000000</td>\n      <td>0</td>\n      <td>FINANCIALS</td>\n      <td>AAPL</td>\n      <td>annual</td>\n      <td>1970-01-01 00:26:41.078400</td>\n      <td>2021-01-28 13:48:57</td>\n    </tr>\n  </tbody>\n</table>\n<p>1 rows × 69 columns</p>\n</div>"
     },
     "metadata": {},
     "execution_count": 25
    }
   ],
   "source": [
    "aapl_df.head()"
   ]
  },
  {
   "cell_type": "code",
   "execution_count": 9,
   "metadata": {},
   "outputs": [
    {
     "output_type": "execute_result",
     "data": {
      "text/plain": [
       "['EBITDA',\n",
       " 'accountsPayable',\n",
       " 'capitalSurplus',\n",
       " 'cashChange',\n",
       " 'cashFlow',\n",
       " 'cashFlowFinancing',\n",
       " 'changesInInventories',\n",
       " 'changesInReceivables',\n",
       " 'commonStock',\n",
       " 'costOfRevenue',\n",
       " 'currency',\n",
       " 'currentAssets',\n",
       " 'currentCash',\n",
       " 'currentDebt',\n",
       " 'currentLongTermDebt',\n",
       " 'depreciation',\n",
       " 'dividendsPaid',\n",
       " 'ebit',\n",
       " 'exchangeRateEffect',\n",
       " 'filingType',\n",
       " 'fiscalDate',\n",
       " 'fiscalQuarter',\n",
       " 'fiscalYear',\n",
       " 'goodwill',\n",
       " 'grossProfit',\n",
       " 'incomeTax',\n",
       " 'intangibleAssets',\n",
       " 'interestIncome',\n",
       " 'inventory',\n",
       " 'investingActivityOther',\n",
       " 'investments',\n",
       " 'longTermDebt',\n",
       " 'longTermInvestments',\n",
       " 'minorityInterest',\n",
       " 'netBorrowings',\n",
       " 'netIncome',\n",
       " 'netIncomeBasic',\n",
       " 'netTangibleAssets',\n",
       " 'operatingExpense',\n",
       " 'operatingIncome',\n",
       " 'operatingRevenue',\n",
       " 'otherAssets',\n",
       " 'otherCurrentAssets',\n",
       " 'otherCurrentLiabilities',\n",
       " 'otherIncomeExpenseNet',\n",
       " 'otherLiabilities',\n",
       " 'pretaxIncome',\n",
       " 'propertyPlantEquipment',\n",
       " 'receivables',\n",
       " 'researchAndDevelopment',\n",
       " 'retainedEarnings',\n",
       " 'revenue',\n",
       " 'sellingGeneralAndAdmin',\n",
       " 'shareholderEquity',\n",
       " 'shortTermDebt',\n",
       " 'shortTermInvestments',\n",
       " 'symbol',\n",
       " 'totalAssets',\n",
       " 'totalCash',\n",
       " 'totalDebt',\n",
       " 'totalInvestingCashFlows',\n",
       " 'totalLiabilities',\n",
       " 'totalRevenue',\n",
       " 'treasuryStock',\n",
       " 'id',\n",
       " 'key',\n",
       " 'subkey',\n",
       " 'date',\n",
       " 'updated']"
      ]
     },
     "metadata": {},
     "execution_count": 9
    }
   ],
   "source": [
    "aapl_df.columns.tolist()"
   ]
  },
  {
   "cell_type": "code",
   "execution_count": 20,
   "metadata": {},
   "outputs": [],
   "source": [
    "# CURRENTLY NOT WORKING\n",
    "# https://iexcloud.io/docs/api/#earnings\n",
    "# iex_c.earningsDF('AAPL', period='quarter').head()"
   ]
  },
  {
   "source": [
    "## Balance Sheet"
   ],
   "cell_type": "markdown",
   "metadata": {}
  },
  {
   "cell_type": "code",
   "execution_count": null,
   "metadata": {},
   "outputs": [],
   "source": []
  },
  {
   "cell_type": "code",
   "execution_count": 22,
   "metadata": {},
   "outputs": [
    {
     "output_type": "execute_result",
     "data": {
      "text/plain": [
       "            accountsPayable capitalSurplus  commonStock currency  \\\n",
       "reportDate                                                         \n",
       "2020-10-30      42296000000           None  17352119000      USD   \n",
       "\n",
       "            currentAssets  currentCash  currentLongTermDebt filingType  \\\n",
       "reportDate                                                               \n",
       "2020-10-30   143713000000  90943000000          13769000000       10-K   \n",
       "\n",
       "            fiscalDate  fiscalQuarter  ...  symbol   totalAssets  \\\n",
       "reportDate                             ...                         \n",
       "2020-10-30  2020-09-26              0  ...    AAPL  323888000000   \n",
       "\n",
       "            totalCurrentLiabilities  totalLiabilities  treasuryStock  \\\n",
       "reportDate                                                             \n",
       "2020-10-30             105392000000      258549000000              0   \n",
       "\n",
       "                       id   key  subkey                       date  \\\n",
       "reportDate                                                           \n",
       "2020-10-30  BALANCE_SHEET  AAPL  annual 1970-01-01 00:26:41.078400   \n",
       "\n",
       "                       updated  \n",
       "reportDate                      \n",
       "2020-10-30 2021-01-28 13:48:57  \n",
       "\n",
       "[1 rows x 37 columns]"
      ],
      "text/html": "<div>\n<style scoped>\n    .dataframe tbody tr th:only-of-type {\n        vertical-align: middle;\n    }\n\n    .dataframe tbody tr th {\n        vertical-align: top;\n    }\n\n    .dataframe thead th {\n        text-align: right;\n    }\n</style>\n<table border=\"1\" class=\"dataframe\">\n  <thead>\n    <tr style=\"text-align: right;\">\n      <th></th>\n      <th>accountsPayable</th>\n      <th>capitalSurplus</th>\n      <th>commonStock</th>\n      <th>currency</th>\n      <th>currentAssets</th>\n      <th>currentCash</th>\n      <th>currentLongTermDebt</th>\n      <th>filingType</th>\n      <th>fiscalDate</th>\n      <th>fiscalQuarter</th>\n      <th>...</th>\n      <th>symbol</th>\n      <th>totalAssets</th>\n      <th>totalCurrentLiabilities</th>\n      <th>totalLiabilities</th>\n      <th>treasuryStock</th>\n      <th>id</th>\n      <th>key</th>\n      <th>subkey</th>\n      <th>date</th>\n      <th>updated</th>\n    </tr>\n    <tr>\n      <th>reportDate</th>\n      <th></th>\n      <th></th>\n      <th></th>\n      <th></th>\n      <th></th>\n      <th></th>\n      <th></th>\n      <th></th>\n      <th></th>\n      <th></th>\n      <th></th>\n      <th></th>\n      <th></th>\n      <th></th>\n      <th></th>\n      <th></th>\n      <th></th>\n      <th></th>\n      <th></th>\n      <th></th>\n      <th></th>\n    </tr>\n  </thead>\n  <tbody>\n    <tr>\n      <th>2020-10-30</th>\n      <td>42296000000</td>\n      <td>None</td>\n      <td>17352119000</td>\n      <td>USD</td>\n      <td>143713000000</td>\n      <td>90943000000</td>\n      <td>13769000000</td>\n      <td>10-K</td>\n      <td>2020-09-26</td>\n      <td>0</td>\n      <td>...</td>\n      <td>AAPL</td>\n      <td>323888000000</td>\n      <td>105392000000</td>\n      <td>258549000000</td>\n      <td>0</td>\n      <td>BALANCE_SHEET</td>\n      <td>AAPL</td>\n      <td>annual</td>\n      <td>1970-01-01 00:26:41.078400</td>\n      <td>2021-01-28 13:48:57</td>\n    </tr>\n  </tbody>\n</table>\n<p>1 rows × 37 columns</p>\n</div>"
     },
     "metadata": {},
     "execution_count": 22
    }
   ],
   "source": [
    "# Balance sheet\n",
    "# see https://iexcloud.io/docs/api/#balance-sheet\n",
    "# credit weight: 3000\n",
    "df= iex_c.balanceSheetDF('AAPL', period='annual')\n",
    "df.head()"
   ]
  },
  {
   "cell_type": "code",
   "execution_count": 23,
   "metadata": {},
   "outputs": [
    {
     "output_type": "execute_result",
     "data": {
      "text/plain": [
       "['accountsPayable',\n",
       " 'capitalSurplus',\n",
       " 'commonStock',\n",
       " 'currency',\n",
       " 'currentAssets',\n",
       " 'currentCash',\n",
       " 'currentLongTermDebt',\n",
       " 'filingType',\n",
       " 'fiscalDate',\n",
       " 'fiscalQuarter',\n",
       " 'fiscalYear',\n",
       " 'goodwill',\n",
       " 'intangibleAssets',\n",
       " 'inventory',\n",
       " 'longTermDebt',\n",
       " 'longTermInvestments',\n",
       " 'minorityInterest',\n",
       " 'netTangibleAssets',\n",
       " 'otherAssets',\n",
       " 'otherCurrentAssets',\n",
       " 'otherCurrentLiabilities',\n",
       " 'otherLiabilities',\n",
       " 'propertyPlantEquipment',\n",
       " 'receivables',\n",
       " 'retainedEarnings',\n",
       " 'shareholderEquity',\n",
       " 'shortTermInvestments',\n",
       " 'symbol',\n",
       " 'totalAssets',\n",
       " 'totalCurrentLiabilities',\n",
       " 'totalLiabilities',\n",
       " 'treasuryStock',\n",
       " 'id',\n",
       " 'key',\n",
       " 'subkey',\n",
       " 'date',\n",
       " 'updated']"
      ]
     },
     "metadata": {},
     "execution_count": 23
    }
   ],
   "source": [
    "df.columns.tolist()"
   ]
  },
  {
   "source": [
    "## Company Information"
   ],
   "cell_type": "markdown",
   "metadata": {}
  },
  {
   "cell_type": "code",
   "execution_count": 13,
   "metadata": {},
   "outputs": [
    {
     "output_type": "execute_result",
     "data": {
      "text/plain": [
       "       companyName                           exchange  \\\n",
       "symbol                                                  \n",
       "AAPL     Apple Inc  NASDAQ/NGS (GLOBAL SELECT MARKET)   \n",
       "\n",
       "                                  industry                 website  \\\n",
       "symbol                                                               \n",
       "AAPL    Electronic Computer Manufacturing   https://www.apple.com/   \n",
       "\n",
       "                                              description           CEO  \\\n",
       "symbol                                                                    \n",
       "AAPL    Apple Inc. is an American multinational techno...  Timothy Cook   \n",
       "\n",
       "       securityName issueType         sector  primarySicCode  employees  \\\n",
       "symbol                                                                    \n",
       "AAPL      Apple Inc        cs  Manufacturing            3571     147000   \n",
       "\n",
       "                                                     tags           address  \\\n",
       "symbol                                                                        \n",
       "AAPL    [Electronic Technology, Telecommunications Equ...  1 Apple Park Way   \n",
       "\n",
       "       address2       state       city         zip country        phone  \n",
       "symbol                                                                   \n",
       "AAPL       None  California  Cupertino  95014-0642      US  14089961010  "
      ],
      "text/html": "<div>\n<style scoped>\n    .dataframe tbody tr th:only-of-type {\n        vertical-align: middle;\n    }\n\n    .dataframe tbody tr th {\n        vertical-align: top;\n    }\n\n    .dataframe thead th {\n        text-align: right;\n    }\n</style>\n<table border=\"1\" class=\"dataframe\">\n  <thead>\n    <tr style=\"text-align: right;\">\n      <th></th>\n      <th>companyName</th>\n      <th>exchange</th>\n      <th>industry</th>\n      <th>website</th>\n      <th>description</th>\n      <th>CEO</th>\n      <th>securityName</th>\n      <th>issueType</th>\n      <th>sector</th>\n      <th>primarySicCode</th>\n      <th>employees</th>\n      <th>tags</th>\n      <th>address</th>\n      <th>address2</th>\n      <th>state</th>\n      <th>city</th>\n      <th>zip</th>\n      <th>country</th>\n      <th>phone</th>\n    </tr>\n    <tr>\n      <th>symbol</th>\n      <th></th>\n      <th></th>\n      <th></th>\n      <th></th>\n      <th></th>\n      <th></th>\n      <th></th>\n      <th></th>\n      <th></th>\n      <th></th>\n      <th></th>\n      <th></th>\n      <th></th>\n      <th></th>\n      <th></th>\n      <th></th>\n      <th></th>\n      <th></th>\n      <th></th>\n    </tr>\n  </thead>\n  <tbody>\n    <tr>\n      <th>AAPL</th>\n      <td>Apple Inc</td>\n      <td>NASDAQ/NGS (GLOBAL SELECT MARKET)</td>\n      <td>Electronic Computer Manufacturing</td>\n      <td>https://www.apple.com/</td>\n      <td>Apple Inc. is an American multinational techno...</td>\n      <td>Timothy Cook</td>\n      <td>Apple Inc</td>\n      <td>cs</td>\n      <td>Manufacturing</td>\n      <td>3571</td>\n      <td>147000</td>\n      <td>[Electronic Technology, Telecommunications Equ...</td>\n      <td>1 Apple Park Way</td>\n      <td>None</td>\n      <td>California</td>\n      <td>Cupertino</td>\n      <td>95014-0642</td>\n      <td>US</td>\n      <td>14089961010</td>\n    </tr>\n  </tbody>\n</table>\n</div>"
     },
     "metadata": {},
     "execution_count": 13
    }
   ],
   "source": [
    "# companyDF\n",
    "# see https://iexcloud.io/docs/api/#balance-sheet\n",
    "iex_c.companyDF('AAPL')"
   ]
  },
  {
   "source": [
    "## Peer group information"
   ],
   "cell_type": "markdown",
   "metadata": {}
  },
  {
   "cell_type": "code",
   "execution_count": 14,
   "metadata": {},
   "outputs": [
    {
     "output_type": "execute_result",
     "data": {
      "text/plain": [
       "        peer\n",
       "symbol      \n",
       "MSFT    MSFT\n",
       "HPQ      HPQ\n",
       "GOOG    GOOG\n",
       "AMZN    AMZN\n",
       "NFLX    NFLX"
      ],
      "text/html": "<div>\n<style scoped>\n    .dataframe tbody tr th:only-of-type {\n        vertical-align: middle;\n    }\n\n    .dataframe tbody tr th {\n        vertical-align: top;\n    }\n\n    .dataframe thead th {\n        text-align: right;\n    }\n</style>\n<table border=\"1\" class=\"dataframe\">\n  <thead>\n    <tr style=\"text-align: right;\">\n      <th></th>\n      <th>peer</th>\n    </tr>\n    <tr>\n      <th>symbol</th>\n      <th></th>\n    </tr>\n  </thead>\n  <tbody>\n    <tr>\n      <th>MSFT</th>\n      <td>MSFT</td>\n    </tr>\n    <tr>\n      <th>HPQ</th>\n      <td>HPQ</td>\n    </tr>\n    <tr>\n      <th>GOOG</th>\n      <td>GOOG</td>\n    </tr>\n    <tr>\n      <th>AMZN</th>\n      <td>AMZN</td>\n    </tr>\n    <tr>\n      <th>NFLX</th>\n      <td>NFLX</td>\n    </tr>\n  </tbody>\n</table>\n</div>"
     },
     "metadata": {},
     "execution_count": 14
    }
   ],
   "source": [
    "#peersDF\n",
    "# see https://iexcloud.io/docs/api/#peer-groups\n",
    "iex_c.peersDF('AAPL')"
   ]
  },
  {
   "source": [
    "# IEX library: stocks package"
   ],
   "cell_type": "markdown",
   "metadata": {}
  },
  {
   "cell_type": "code",
   "execution_count": null,
   "metadata": {},
   "outputs": [],
   "source": [
    "p.stocks.timeseries.tenK(id='AAPL', )"
   ]
  },
  {
   "source": [
    "# IEX REST API query: e.g. Timeseries API call using requests"
   ],
   "cell_type": "markdown",
   "metadata": {}
  },
  {
   "cell_type": "code",
   "execution_count": 51,
   "metadata": {},
   "outputs": [],
   "source": [
    "import requests"
   ]
  },
  {
   "cell_type": "code",
   "execution_count": 36,
   "metadata": {},
   "outputs": [],
   "source": [
    "base_url = 'https://cloud.iexapis.com/stable/'\n",
    "sandbox_url = 'https://sandbox.iexapis.com/stable/'"
   ]
  },
  {
   "cell_type": "code",
   "execution_count": 37,
   "metadata": {},
   "outputs": [],
   "source": [
    "resp = requests.get(sandbox_url+'stock/AAPL/quote'+'?token=' + iex_api_key_sandbox)"
   ]
  },
  {
   "cell_type": "code",
   "execution_count": 64,
   "metadata": {},
   "outputs": [
    {
     "output_type": "execute_result",
     "data": {
      "text/plain": [
       "{'symbol': 'AAPL',\n",
       " 'companyName': 'Apple Inc',\n",
       " 'primaryExchange': 'LSNQ G KSEBTATS)(NAL/OEE RACDMALG',\n",
       " 'calculationPrice': 'tops',\n",
       " 'open': None,\n",
       " 'openTime': None,\n",
       " 'openSource': 'ocfiflia',\n",
       " 'close': None,\n",
       " 'closeTime': None,\n",
       " 'closeSource': 'ifiolafc',\n",
       " 'high': None,\n",
       " 'highTime': None,\n",
       " 'highSource': None,\n",
       " 'low': None,\n",
       " 'lowTime': None,\n",
       " 'lowSource': None,\n",
       " 'latestPrice': 128.7,\n",
       " 'latestSource': 'IEX real time price',\n",
       " 'latestTime': '3:36:40 PM',\n",
       " 'latestUpdate': 1671342779169,\n",
       " 'latestVolume': 71757001,\n",
       " 'iexRealtimePrice': 132.37,\n",
       " 'iexRealtimeSize': 207,\n",
       " 'iexLastUpdated': 1661000457192,\n",
       " 'delayedPrice': None,\n",
       " 'delayedPriceTime': None,\n",
       " 'oddLotDelayedPrice': None,\n",
       " 'oddLotDelayedPriceTime': None,\n",
       " 'extendedPrice': None,\n",
       " 'extendedChange': None,\n",
       " 'extendedChangePercent': None,\n",
       " 'extendedPriceTime': None,\n",
       " 'previousClose': 126.34,\n",
       " 'previousVolume': 82250699,\n",
       " 'change': 1.26,\n",
       " 'changePercent': 0.0103,\n",
       " 'volume': 72458058,\n",
       " 'iexMarketPercent': 0.01929739615480581,\n",
       " 'iexVolume': 1347690,\n",
       " 'avgTotalVolume': 105654212,\n",
       " 'iexBidPrice': 129.39,\n",
       " 'iexBidSize': 123,\n",
       " 'iexAskPrice': 131.8,\n",
       " 'iexAskSize': 101,\n",
       " 'iexOpen': 131.76,\n",
       " 'iexOpenTime': 1679176328518,\n",
       " 'iexClose': 131.7,\n",
       " 'iexCloseTime': 1654142570858,\n",
       " 'marketCap': 2155767603501,\n",
       " 'peRatio': 35.46,\n",
       " 'week52High': 146.15,\n",
       " 'week52Low': 65.81,\n",
       " 'ytdChange': -0.03830572840507429,\n",
       " 'lastTradeTime': 1649509292461,\n",
       " 'isUSMarketOpen': True}"
      ]
     },
     "metadata": {},
     "execution_count": 64
    }
   ],
   "source": [
    "(resp.json())"
   ]
  },
  {
   "cell_type": "code",
   "execution_count": 76,
   "metadata": {},
   "outputs": [],
   "source": [
    "resp = requests.get(sandbox_url+'/time-series/REPORTED_FINANCIALS/AAPL/10-K'+'?token=' + iex_api_key_sandbox)"
   ]
  },
  {
   "cell_type": "code",
   "execution_count": 78,
   "metadata": {},
   "outputs": [
    {
     "output_type": "execute_result",
     "data": {
      "text/plain": [
       "[{'AccountsPayableCurrent': 43197581756,\n",
       "  'AccountsReceivableNetCurrent': 16564112352,\n",
       "  'AccruedIncomeTaxesNoncurrent': 29331036897,\n",
       "  'AccumulatedDepreciationDepletionAndAmortizationPropertyPlantAndEquipment': 69455653699,\n",
       "  'AccumulatedOtherComprehensiveIncomeLossNetOfTax': -410034372,\n",
       "  'AllocatedShareBasedCompensationExpense': 6934693694,\n",
       "  'AmendmentFlag': 'eslaf',\n",
       "  'AmountUtilizedUnderShareRepurchaseProgram': 174278779500,\n",
       "  'Assets': 330552804223,\n",
       "  'AssetsCurrent': 150837317900,\n",
       "  'AssetsNoncurrent': 181024877174,\n",
       "  'AvailableForSaleDebtSecuritiesAccumulatedGrossUnrealizedGainBeforeTax': 2905816296,\n",
       "  'AvailableForSaleDebtSecuritiesAccumulatedGrossUnrealizedLossBeforeTax': 398069062,\n",
       "  'AvailableForSaleDebtSecuritiesAmortizedCostBasis': 194949172256,\n",
       "  'AvailableForSaleSecuritiesDebtSecurities': 194376360372,\n",
       "  'CashAndCashEquivalentsAtCarryingValue': 39468543968,\n",
       "  'CashCashEquivalentsRestrictedCashAndRestrictedCashEquivalents': 40667152567,\n",
       "  'CashCashEquivalentsRestrictedCashAndRestrictedCashEquivalentsPeriodIncreaseDecreaseIncludingExchangeRateEffect': -10592547252,\n",
       "  'CityAreaCode': 425,\n",
       "  'CollateralAlreadyReceivedAggregateFairValue': 902647491,\n",
       "  'CommercialPaper': 5033852136,\n",
       "  'CommonStockDividendsPerShareDeclared': 0.831,\n",
       "  'CommonStockParOrStatedValuePerShare': 1e-05,\n",
       "  'CommonStockSharesAuthorized': 51233474767,\n",
       "  'CommonStockSharesIssued': 17470716604,\n",
       "  'CommonStockSharesOutstanding': 17090844618,\n",
       "  'CommonStocksIncludingAdditionalPaidInCapital': 52332719078,\n",
       "  'ComprehensiveIncomeNetOfTax': 59037390746,\n",
       "  'ContractWithCustomerLiability': 10644103864,\n",
       "  'ContractWithCustomerLiabilityCurrent': 6907185925,\n",
       "  'ContractWithCustomerLiabilityRevenueRecognized': 5076907824,\n",
       "  'CostOfGoodsAndServicesSold': 173393278203,\n",
       "  'CurrentFederalTaxExpenseBenefit': 6504484465,\n",
       "  'CurrentFiscalYearEndDate': '062-9--',\n",
       "  'CurrentForeignTaxExpenseBenefit': 3163765750,\n",
       "  'CurrentStateAndLocalTaxExpenseBenefit': 456847040,\n",
       "  'DebtInstrumentCarryingAmount': 107674003743,\n",
       "  'DebtInstrumentTerm': '9PM',\n",
       "  'DebtInstrumentUnamortizedDiscountPremiumAndDebtIssuanceCostsNet': 320853747,\n",
       "  'DecreaseInUnrecognizedTaxBenefitsIsReasonablyPossible': 3944506314,\n",
       "  'DeferredFederalIncomeTaxExpenseBenefit': -3770931579,\n",
       "  'DeferredForeignIncomeTaxExpenseBenefit': 3393726877,\n",
       "  'DeferredIncomeTaxExpenseBenefit': -219746579,\n",
       "  'DeferredIncomeTaxLiabilities': 10231776852,\n",
       "  'DeferredStateAndLocalIncomeTaxExpenseBenefit': 21127333,\n",
       "  'DeferredTaxAssetsDeferredIncome': 1679116851,\n",
       "  'DeferredTaxAssetsGoodwillAndIntangibleAssets': 8592186897,\n",
       "  'DeferredTaxAssetsGross': 20091047298,\n",
       "  'DeferredTaxAssetsLeaseLiabilities': 2041157923,\n",
       "  'DeferredTaxAssetsLiabilitiesNet': 8322975950,\n",
       "  'DeferredTaxAssetsNet': 19195748903,\n",
       "  'DeferredTaxAssetsOther': 2420775626,\n",
       "  'DeferredTaxAssetsTaxDeferredExpenseReservesAndAccruals': 5040608423,\n",
       "  'DeferredTaxAssetsValuationAllowance': 1053582581,\n",
       "  'DeferredTaxLiabilitiesLeasingArrangements': 1910311556,\n",
       "  'DeferredTaxLiabilitiesMinimumTaxonForeignEarnings': 7340045330,\n",
       "  'DeferredTaxLiabilitiesOther': 724586716,\n",
       "  'DeferredTaxLiabilitiesOtherComprehensiveIncome': 550426805,\n",
       "  'DefinedContributionPlanMaximumAnnualContributionsPerEmployeeAmount': 20182,\n",
       "  'Depreciation': 9940842640,\n",
       "  'DepreciationDepletionAndAmortization': 11458915168,\n",
       "  'DerivativeAssetsReductionforMasterNettingArrangements': 2839495489,\n",
       "  'DerivativeFairValueOfDerivativeNet': -321717018,\n",
       "  'DerivativeLiabilitiesReductionforMasterNettingArrangements': 2847729038,\n",
       "  'DocumentAnnualReport': 'teur',\n",
       "  'DocumentFiscalPeriodFocus': 'YF',\n",
       "  'DocumentFiscalYearFocus': 2023,\n",
       "  'DocumentPeriodEndDate': '2020-09-12',\n",
       "  'DocumentTransitionReport': 'efasl',\n",
       "  'DocumentType': '10-K',\n",
       "  'EarningsPerShareBasic': 3.4,\n",
       "  'EarningsPerShareDiluted': 3.39,\n",
       "  'EarningsPerSharePolicyTextBlock': 'ehileuttfer mtoviu T sod kelu rcuyelmoere nfepyeoeete da tyietl  rs satstpei.dtndh e ntaltvoh tap icmCtieiofispchi',\n",
       "  'EffectiveIncomeTaxRateContinuingOperations': 0.145,\n",
       "  'EffectiveIncomeTaxRateReconciliationAtFederalStatutoryIncomeTaxRate': 0.21,\n",
       "  'EffectiveIncomeTaxRateReconciliationShareBasedCompensationExcessTaxBenefitAmount': -933989520,\n",
       "  'EffectiveIncomeTaxRateReconciliationTaxCutsAndJobsActOf2017Amount': -600046904,\n",
       "  'EmployeeServiceShareBasedCompensationNonvestedAwardsTotalCompensationCostNotYetRecognized': 12346313015,\n",
       "  'EmployeeServiceShareBasedCompensationNonvestedAwardsTotalCompensationCostNotYetRecognizedPeriodForRecognition1': '7PY6MD2',\n",
       "  'EmployeeServiceShareBasedCompensationTaxBenefitFromCompensationExpense': 2518061249,\n",
       "  'EntityAddressAddressLine1': 'ypO ePaWrAlep ka n',\n",
       "  'EntityAddressCityOrTown': 'Cernptiou',\n",
       "  'EntityAddressPostalZipCode': 97706,\n",
       "  'EntityAddressStateOrProvince': 'CA',\n",
       "  'EntityCentralIndexKey': 321943,\n",
       "  'EntityCurrentReportingStatus': 'esY',\n",
       "  'EntityEmergingGrowthCompany': 'sfeal',\n",
       "  'EntityFileNumber': '46170303-',\n",
       "  'EntityFilerCategory': ' eicdeAer eLrltarlFaecg',\n",
       "  'EntityIncorporationStateCountryCode': 'CA',\n",
       "  'EntityInteractiveDataCurrent': 'eYs',\n",
       "  'EntityRegistrantName': 'lp.AcneIp ',\n",
       "  'EntityShellCompany': 'sfael',\n",
       "  'EntitySmallBusiness': 'flesa',\n",
       "  'EntityTaxIdentificationNumber': '410094142-',\n",
       "  'EntityVoluntaryFilers': 'oN',\n",
       "  'EntityWellKnownSeasonedIssuer': 'Yes',\n",
       "  'EquitySecuritiesWithoutReadilyDeterminableFairValueAmount': 2890593624,\n",
       "  'FederalIncomeTaxExpenseBenefitContinuingOperations': 2722677153,\n",
       "  'FinanceLeaseLiability': 668347150,\n",
       "  'FinanceLeaseLiabilityCurrent': 24870269,\n",
       "  'FinanceLeaseLiabilityCurrentStatementOfFinancialPositionExtensibleList': 'eti:hbrOetinipsuiCleaus-trragLa',\n",
       "  'FinanceLeaseLiabilityNoncurrent': 648523464,\n",
       "  'FinanceLeaseLiabilityNoncurrentStatementOfFinancialPositionExtensibleList': 'beuOuNrh:iiotrn-ciatrassLigeeatnpl',\n",
       "  'FinanceLeaseLiabilityPaymentsDue': 1141552649,\n",
       "  'FinanceLeaseLiabilityPaymentsDueAfterYearFive': 902815754,\n",
       "  'FinanceLeaseLiabilityPaymentsDueNextTwelveMonths': 43465425,\n",
       "  'FinanceLeaseLiabilityPaymentsDueYearFive': 25041584,\n",
       "  'FinanceLeaseLiabilityPaymentsDueYearFour': 30242430,\n",
       "  'FinanceLeaseLiabilityPaymentsDueYearThree': 56305190,\n",
       "  'FinanceLeaseLiabilityPaymentsDueYearTwo': 45014460,\n",
       "  'FinanceLeaseLiabilityUndiscountedExcessAmount': 437444991,\n",
       "  'FinanceLeaseRightOfUseAsset': 643400840,\n",
       "  'FinanceLeaseRightOfUseAssetStatementOfFinancialPositionExtensibleList': 'ueEttantegaApplprnamP-neiqN:sotyuPdr',\n",
       "  'ForeignIncomeTaxExpenseBenefitContinuingOperations': 6776929242,\n",
       "  'GainLossFromComponentsExcludedFromAssessmentOfFairValueHedgeEffectivenessNet': 467252784,\n",
       "  'GrossProfit': 107638569590,\n",
       "  'HedgeAccountingAdjustmentsRelatedToLongTermDebt': 1708084782,\n",
       "  'IcfrAuditorAttestationFlag': 'etru',\n",
       "  'IncomeLossFromContinuingOperationsBeforeIncomeTaxesExtraordinaryItemsNoncontrollingInterest': 69267929187,\n",
       "  'IncomeLossFromContinuingOperationsBeforeIncomeTaxesForeign': 39710787466,\n",
       "  'IncomeTaxExpenseBenefit': 10110785127,\n",
       "  'IncomeTaxReconciliationForeignIncomeTaxRateDifferential': -2644846307,\n",
       "  'IncomeTaxReconciliationIncomeTaxExpenseBenefitAtFederalStatutoryIncomeTaxRate': 14398964532,\n",
       "  'IncomeTaxReconciliationOtherAdjustments': -59798827,\n",
       "  'IncomeTaxReconciliationStateAndLocalIncomeTaxes': 433012381,\n",
       "  'IncomeTaxReconciliationTaxCreditsResearch': 733498639,\n",
       "  'IncomeTaxesPaidNet': 9692014544,\n",
       "  'IncreaseDecreaseInAccountsPayable': -4140655867,\n",
       "  'IncreaseDecreaseInAccountsReceivable': -7224558666,\n",
       "  'IncreaseDecreaseInContractWithCustomerLiability': 2140423402,\n",
       "  'IncreaseDecreaseInInventories': 131859884,\n",
       "  'IncreaseDecreaseInOtherOperatingAssets': 9804019204,\n",
       "  'IncreaseDecreaseInOtherOperatingLiabilities': 9251816625,\n",
       "  'IncreaseDecreaseInOtherReceivables': -1626680281,\n",
       "  'InterestCostsIncurred': 2925897538,\n",
       "  'InterestExpense': 2923347308,\n",
       "  'InterestPaidNet': 3003221178,\n",
       "  'InventoryNet': 4137191634,\n",
       "  'InvestmentIncomeInterestAndDividend': 3880728310,\n",
       "  'LesseeOperatingAndFinanceLeaseLiabilityToBePaidAfterYearFive': 4974751937,\n",
       "  'LesseeOperatingAndFinanceLeaseLiabilityToBePaidYearFive': 1031933613,\n",
       "  'LesseeOperatingAndFinanceLeaseLiabilityToBePaidYearFour': 1129816437,\n",
       "  'LesseeOperatingAndFinanceLeaseLiabilityToBePaidYearOne': 1567018103,\n",
       "  'LesseeOperatingAndFinanceLeaseLiabilityToBePaidYearThree': 1421965334,\n",
       "  'LesseeOperatingAndFinanceLeaseLiabilityToBePaidYearTwo': 1534750570,\n",
       "  'LesseeOperatingLeaseLeaseNotYetCommencedPaymentsDue': 1724290988,\n",
       "  'LesseeOperatingLeaseLiabilityPaymentsDue': 10457259142,\n",
       "  'LesseeOperatingLeaseLiabilityPaymentsDueAfterYearFive': 3955988031,\n",
       "  'LesseeOperatingLeaseLiabilityPaymentsDueNextTwelveMonths': 1538988538,\n",
       "  'LesseeOperatingLeaseLiabilityPaymentsDueYearFive': 968642195,\n",
       "  'LesseeOperatingLeaseLiabilityPaymentsDueYearFour': 1088492673,\n",
       "  'LesseeOperatingLeaseLiabilityPaymentsDueYearThree': 1371472377,\n",
       "  'LesseeOperatingLeaseLiabilityPaymentsDueYearTwo': 1533750840,\n",
       "  'LesseeOperatingLeaseLiabilityUndiscountedExcessAmount': 1003550158,\n",
       "  'LesseeOperatingandFinanceLeaseLiabilityPaymentsDue': 11628169958,\n",
       "  'LesseeOperatingandFinanceLeaseLiabilityUndiscountedExcessAmount': 1446361581,\n",
       "  'LesseeOperatingandFinanceLeaseTermofContract': 'P0Y1',\n",
       "  'Liabilities': 268669264046,\n",
       "  'LiabilitiesAndStockholdersEquity': 337391960482,\n",
       "  'LiabilitiesCurrent': 107149835949,\n",
       "  'LiabilitiesNoncurrent': 156613908955,\n",
       "  'LocalPhoneNumber': '06901-19',\n",
       "  'LongTermDebtCurrent': 9018070368,\n",
       "  'LongTermDebtMaturitiesRepaymentsOfPrincipalAfterYearFive': 56524917558,\n",
       "  'LongTermDebtMaturitiesRepaymentsOfPrincipalInNextTwelveMonths': 9061035695,\n",
       "  'LongTermDebtMaturitiesRepaymentsOfPrincipalInYearFive': 11016880733,\n",
       "  'LongTermDebtMaturitiesRepaymentsOfPrincipalInYearFour': 10178782260,\n",
       "  'LongTermDebtMaturitiesRepaymentsOfPrincipalInYearThree': 11780216362,\n",
       "  'LongTermDebtMaturitiesRepaymentsOfPrincipalInYearTwo': 9592623696,\n",
       "  'LongTermDebtNoncurrent': 102096344282,\n",
       "  'MarketableSecuritiesCurrent': 54355160795,\n",
       "  'MarketableSecuritiesNoncurrent': 105863530887,\n",
       "  'MaximumLengthOfTimeHedgedInInterestRateCashFlowHedge1': 'YP7',\n",
       "  'NetCashProvidedByUsedInFinancingActivities': -90025439074,\n",
       "  'NetCashProvidedByUsedInInvestingActivities': -4374555408,\n",
       "  'NetCashProvidedByUsedInOperatingActivities': 84212344952,\n",
       "  'NetIncomeLoss': 57560973500,\n",
       "  'NoncurrentAssets': 37940991850,\n",
       "  'NonoperatingIncomeExpense': 826582966,\n",
       "  'NontradeReceivablesCurrent': 21863359352,\n",
       "  'OperatingExpenses': 40441239282,\n",
       "  'OperatingIncomeLoss': 67722156423,\n",
       "  'OperatingLeaseCost': 1507535484,\n",
       "  'OperatingLeaseLiability': 9400748187,\n",
       "  'OperatingLeaseLiabilityCurrent': 1444434249,\n",
       "  'OperatingLeaseLiabilityCurrentStatementOfFinancialPositionExtensibleList': 'eOiregtniaitr:airasetu-hpusCbLl',\n",
       "  'OperatingLeaseLiabilityNoncurrent': 7922253799,\n",
       "  'OperatingLeaseLiabilityNoncurrentStatementOfFinancialPositionExtensibleList': 'ueobsLgtlae-ruii:nrasNOtitecpnirha',\n",
       "  'OperatingLeasePayments': 1530568448,\n",
       "  'OperatingLeaseRightOfUseAsset': 8703314856,\n",
       "  'OperatingLeaseRightOfUseAssetStatementOfFinancialPositionExtensibleList': 'nrs-stehg:psusoeetNtraAruncOa',\n",
       "  'OperatingandFinanceLeaseLiability': 10012591760,\n",
       "  'OperatingandFinanceLeaseRightofUseAsset': 9395783168,\n",
       "  'OperatingandFinanceLeaseWeightedAverageDiscountRatePercent': 0.02,\n",
       "  'OperatingandFinanceLeaseWeightedAverageRemainingLeaseTerm': 'M011D3P8Y',\n",
       "  'OtherAccruedLiabilitiesNoncurrent': 26533728990,\n",
       "  'OtherAssetsCurrent': 11414672275,\n",
       "  'OtherAssetsNoncurrent': 43972353031,\n",
       "  'OtherComprehensiveIncomeLossAvailableForSaleSecuritiesAdjustmentNetOfTax': 1143005390,\n",
       "  'OtherComprehensiveIncomeLossCashFlowHedgeGainLossBeforeReclassificationAndTax': 318115299,\n",
       "  'OtherComprehensiveIncomeLossCashFlowHedgeGainLossReclassificationAfterTax': 1285427594,\n",
       "  'OtherComprehensiveIncomeLossCashFlowHedgeGainLossReclassificationBeforeTax': 1605709331,\n",
       "  'OtherComprehensiveIncomeLossDerivativeExcludedComponentIncreaseDecreaseBeforeAdjustmentsAndTax': -174550112,\n",
       "  'OtherComprehensiveIncomeLossDerivativeInstrumentGainLossafterReclassificationandTax': -1221271563,\n",
       "  'OtherComprehensiveIncomeLossDerivativeInstrumentGainLossbeforeReclassificationafterTax': 82551441,\n",
       "  'OtherComprehensiveIncomeLossForeignCurrencyTransactionAndTranslationAdjustmentNetOfTax': 90253595,\n",
       "  'OtherComprehensiveIncomeLossNetOfTaxPortionAttributableToParent': 43135625,\n",
       "  'OtherComprehensiveIncomeLossReclassificationAdjustmentFromAOCIForSaleOfSecuritiesNetOfTax': 64859550,\n",
       "  'OtherComprehensiveIncomeUnrealizedHoldingGainLossOnSecuritiesArisingDuringPeriodNetOfTax': 1252140227,\n",
       "  'OtherLiabilitiesCurrent': 43477588845,\n",
       "  'OtherLiabilitiesNoncurrent': 54739552223,\n",
       "  'OtherNoncashIncomeExpense': 100273017,\n",
       "  'OtherNonoperatingIncomeExpense': -90531434,\n",
       "  'PaymentsForProceedsFromOtherInvestingActivities': 828509228,\n",
       "  'PaymentsForRepurchaseOfCommonStock': 74133832421,\n",
       "  'PaymentsOfDividends': 14584735202,\n",
       "  'PaymentsRelatedToTaxWithholdingForShareBasedCompensation': 3677821204,\n",
       "  'PaymentsToAcquireAvailableForSaleSecuritiesDebt': 115282135796,\n",
       "  'PaymentsToAcquireBusinessesNetOfCashAcquired': 1571652910,\n",
       "  'PaymentsToAcquireOtherInvestments': 210933370,\n",
       "  'PaymentsToAcquirePropertyPlantAndEquipment': 7575027593,\n",
       "  'PerformanceObligationsinArrangements': 3,\n",
       "  'ProceedsFromIssuanceOfCommonStock': 906634995,\n",
       "  'ProceedsFromIssuanceOfLongTermDebt': 16362547340,\n",
       "  'ProceedsFromMaturitiesPrepaymentsAndCallsOfAvailableForSaleSecurities': 69950805989,\n",
       "  'ProceedsFromOtherShortTermDebt': 5427268303,\n",
       "  'ProceedsFromPaymentsForOtherFinancingActivities': -131744694,\n",
       "  'ProceedsFromRepaymentsOfCommercialPaper': -987078092,\n",
       "  'ProceedsFromRepaymentsOfShortTermDebtMaturingInMoreThanThreeMonths': -1084155018,\n",
       "  'ProceedsFromRepaymentsOfShortTermDebtMaturingInThreeMonthsOrLess': 103682292,\n",
       "  'ProceedsFromSaleAndMaturityOfOtherInvestments': 93229994,\n",
       "  'ProceedsFromSaleOfAvailableForSaleSecuritiesDebt': 50800839485,\n",
       "  'ProceedsFromShortTermDebtMaturingInMoreThanThreeMonths': 6491850670,\n",
       "  'PropertyPlantAndEquipmentGross': 103703441935,\n",
       "  'PropertyPlantAndEquipmentNet': 37004719273,\n",
       "  'RepaymentsOfLongTermDebt': 12631774261,\n",
       "  'RepaymentsOfOtherShortTermDebt': 5359764983,\n",
       "  'RepaymentsOfShortTermDebtMaturingInMoreThanThreeMonths': 7331388886,\n",
       "  'ResearchAndDevelopmentExpense': 19373376305,\n",
       "  'RestrictedCashAndCashEquivalentsAtCarryingValue': 36227765,\n",
       "  'RestrictedCashAndCashEquivalentsCurrentAssetStatementOfFinancialPositionExtensibleList': 'rrsrseAattnusCe:Opehu-tgsa',\n",
       "  'RestrictedCashAndCashEquivalentsNoncurrent': 1768846413,\n",
       "  'RestrictedCashAndCashEquivalentsNoncurrentAssetStatementOfFinancialPositionExtensibleList': 'NestapnOusrtrnechgta-r:oeAssu',\n",
       "  'RestrictedInvestments': 19243224171,\n",
       "  'RetainedEarningsAccumulatedDeficit': 15444752780,\n",
       "  'RevenueFromContractWithCustomerExcludingAssessedTax': 276022751498,\n",
       "  'RightofUseAssetsObtainedinExchangeforOperatingandFinanceLeaseLiabilities': 10709241262,\n",
       "  'SellingGeneralAndAdministrativeExpense': 20553889367,\n",
       "  'ShareBasedCompensation': 6856481469,\n",
       "  'ShortTermDebtWeightedAverageInterestRate': 0.0064,\n",
       "  'StandardProductWarrantyAccrual': 3476200142,\n",
       "  'StandardProductWarrantyAccrualPayments': 2956980560,\n",
       "  'StandardProductWarrantyAccrualWarrantiesIssued': 2802447397,\n",
       "  'StateAndLocalIncomeTaxExpenseBenefitContinuingOperations': 493246452,\n",
       "  'StockRepurchaseProgramAuthorizedAmount1': 227457194450,\n",
       "  'StockRepurchasedAndRetiredDuringPeriodShares': 933214151,\n",
       "  'StockRepurchasedAndRetiredDuringPeriodValue': 74548010688,\n",
       "  'StockholdersEquity': 66787867433,\n",
       "  'TradingSymbol': 'PALA',\n",
       "  'UnrecognizedTaxBenefits': 16789951291,\n",
       "  'UnrecognizedTaxBenefitsDecreasesResultingFromPriorPeriodTaxPositions': 793284412,\n",
       "  'UnrecognizedTaxBenefitsDecreasesResultingFromSettlementsWithTaxingAuthorities': 89032116,\n",
       "  'UnrecognizedTaxBenefitsIncomeTaxPenaltiesAndInterestAccrued': 1404441748,\n",
       "  'UnrecognizedTaxBenefitsIncomeTaxPenaltiesAndInterestExpense': 87418354,\n",
       "  'UnrecognizedTaxBenefitsIncreasesResultingFromCurrentPeriodTaxPositions': 1365814151,\n",
       "  'UnrecognizedTaxBenefitsIncreasesResultingFromPriorPeriodTaxPositions': 455237195,\n",
       "  'UnrecognizedTaxBenefitsReductionsResultingFromLapseOfApplicableStatuteOfLimitations': 70379183,\n",
       "  'UnrecognizedTaxBenefitsThatWouldImpactEffectiveTaxRate': 9077711919,\n",
       "  'UnrecordedUnconditionalPurchaseObligationBalanceOnFifthAnniversary': 107728774,\n",
       "  'UnrecordedUnconditionalPurchaseObligationBalanceOnFirstAnniversary': 3610071239,\n",
       "  'UnrecordedUnconditionalPurchaseObligationBalanceOnFourthAnniversary': 367437146,\n",
       "  'UnrecordedUnconditionalPurchaseObligationBalanceOnSecondAnniversary': 2979906645,\n",
       "  'UnrecordedUnconditionalPurchaseObligationBalanceOnThirdAnniversary': 1760441538,\n",
       "  'UnrecordedUnconditionalPurchaseObligationBalanceSheetAmount': 9011002054,\n",
       "  'UnrecordedUnconditionalPurchaseObligationDueAfterFiveYears': 133102688,\n",
       "  'VariableLeaseCost': 9542763692,\n",
       "  'WeightedAverageNumberDilutedSharesOutstandingAdjustment': 181792266,\n",
       "  'WeightedAverageNumberOfDilutedSharesOutstanding': 18097084984,\n",
       "  'WeightedAverageNumberOfSharesOutstandingBasic': 17995693614,\n",
       "  'accessionNumber': '200300-01009-2060930',\n",
       "  'cik': '331474',\n",
       "  'dateFiled': 1616131465750,\n",
       "  'documentType': '10-K',\n",
       "  'entityName': '.pplIne cA',\n",
       "  'irsNumber': '961340703',\n",
       "  'periodEnd': 1645752416552,\n",
       "  'update': '20201017',\n",
       "  'id': 'PNSE_FAECINRITOLADR',\n",
       "  'key': 'PALA',\n",
       "  'subkey': '10-K',\n",
       "  'updated': 1656308078938}]"
      ]
     },
     "metadata": {},
     "execution_count": 78
    }
   ],
   "source": [
    "resp.json()"
   ]
  },
  {
   "cell_type": "code",
   "execution_count": null,
   "metadata": {},
   "outputs": [],
   "source": []
  }
 ]
}
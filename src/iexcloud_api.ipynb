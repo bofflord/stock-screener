{
 "metadata": {
  "language_info": {
   "codemirror_mode": {
    "name": "ipython",
    "version": 3
   },
   "file_extension": ".py",
   "mimetype": "text/x-python",
   "name": "python",
   "nbconvert_exporter": "python",
   "pygments_lexer": "ipython3",
   "version": "3.8.5"
  },
  "orig_nbformat": 2,
  "kernelspec": {
   "name": "python385jvsc74a57bd0e8c5907d6f6b93abd568ea4798fcc42687f0080df672fabf898fced0e116d856",
   "display_name": "Python 3.8.5 64-bit ('dataengineering': conda)"
  }
 },
 "nbformat": 4,
 "nbformat_minor": 2,
 "cells": [
  {
   "cell_type": "code",
   "execution_count": 1,
   "metadata": {},
   "outputs": [
    {
     "output_type": "stream",
     "name": "stdout",
     "text": [
      "Collecting pyEX\n  Downloading pyEX-0.5.0-py2.py3-none-any.whl (163 kB)\nRequirement already satisfied: ipython>=7.2.0 in c:\\users\\boffmasta\\anaconda3\\envs\\dataengineering\\lib\\site-packages (from pyEX) (7.19.0)\nRequirement already satisfied: pytz>=2019.1 in c:\\users\\boffmasta\\anaconda3\\envs\\dataengineering\\lib\\site-packages (from pyEX) (2020.5)\nRequirement already satisfied: requests>=2.21.0 in c:\\users\\boffmasta\\anaconda3\\envs\\dataengineering\\lib\\site-packages (from pyEX) (2.25.1)\nRequirement already satisfied: six in c:\\users\\boffmasta\\anaconda3\\envs\\dataengineering\\lib\\site-packages (from pyEX) (1.15.0)\nRequirement already satisfied: pandas>=0.22 in c:\\users\\boffmasta\\anaconda3\\envs\\dataengineering\\lib\\site-packages (from pyEX) (1.2.0)\nCollecting deprecation>=2.0.6\n  Downloading deprecation-2.1.0-py2.py3-none-any.whl (11 kB)\nRequirement already satisfied: packaging in c:\\users\\boffmasta\\anaconda3\\envs\\dataengineering\\lib\\site-packages (from deprecation>=2.0.6->pyEX) (20.8)\nRequirement already satisfied: jedi>=0.10 in c:\\users\\boffmasta\\anaconda3\\envs\\dataengineering\\lib\\site-packages (from ipython>=7.2.0->pyEX) (0.18.0)\nRequirement already satisfied: backcall in c:\\users\\boffmasta\\anaconda3\\envs\\dataengineering\\lib\\site-packages (from ipython>=7.2.0->pyEX) (0.2.0)\nRequirement already satisfied: pickleshare in c:\\users\\boffmasta\\anaconda3\\envs\\dataengineering\\lib\\site-packages (from ipython>=7.2.0->pyEX) (0.7.5)\nRequirement already satisfied: pygments in c:\\users\\boffmasta\\anaconda3\\envs\\dataengineering\\lib\\site-packages (from ipython>=7.2.0->pyEX) (2.7.3)\nRequirement already satisfied: setuptools>=18.5 in c:\\users\\boffmasta\\anaconda3\\envs\\dataengineering\\lib\\site-packages (from ipython>=7.2.0->pyEX) (51.1.2.post20210110)\nRequirement already satisfied: traitlets>=4.2 in c:\\users\\boffmasta\\anaconda3\\envs\\dataengineering\\lib\\site-packages (from ipython>=7.2.0->pyEX) (5.0.5)\nRequirement already satisfied: decorator in c:\\users\\boffmasta\\anaconda3\\envs\\dataengineering\\lib\\site-packages (from ipython>=7.2.0->pyEX) (4.4.2)\nRequirement already satisfied: prompt-toolkit!=3.0.0,!=3.0.1,<3.1.0,>=2.0.0 in c:\\users\\boffmasta\\anaconda3\\envs\\dataengineering\\lib\\site-packages (from ipython>=7.2.0->pyEX) (3.0.8)\nRequirement already satisfied: colorama in c:\\users\\boffmasta\\anaconda3\\envs\\dataengineering\\lib\\site-packages (from ipython>=7.2.0->pyEX) (0.4.4)\nRequirement already satisfied: parso<0.9.0,>=0.8.0 in c:\\users\\boffmasta\\appdata\\roaming\\python\\python38\\site-packages (from jedi>=0.10->ipython>=7.2.0->pyEX) (0.8.1)\nRequirement already satisfied: python-dateutil>=2.7.3 in c:\\users\\boffmasta\\anaconda3\\envs\\dataengineering\\lib\\site-packages (from pandas>=0.22->pyEX) (2.8.1)\nRequirement already satisfied: numpy>=1.16.5 in c:\\users\\boffmasta\\anaconda3\\envs\\dataengineering\\lib\\site-packages (from pandas>=0.22->pyEX) (1.19.2)\nCollecting Pillow>=5.3.0\n  Downloading Pillow-8.2.0-cp38-cp38-win_amd64.whl (2.2 MB)\nRequirement already satisfied: wcwidth in c:\\users\\boffmasta\\anaconda3\\envs\\dataengineering\\lib\\site-packages (from prompt-toolkit!=3.0.0,!=3.0.1,<3.1.0,>=2.0.0->ipython>=7.2.0->pyEX) (0.2.5)\nRequirement already satisfied: certifi>=2017.4.17 in c:\\users\\boffmasta\\anaconda3\\envs\\dataengineering\\lib\\site-packages (from requests>=2.21.0->pyEX) (2020.12.5)\nRequirement already satisfied: idna<3,>=2.5 in c:\\users\\boffmasta\\anaconda3\\envs\\dataengineering\\lib\\site-packages (from requests>=2.21.0->pyEX) (2.10)\nRequirement already satisfied: chardet<5,>=3.0.2 in c:\\users\\boffmasta\\anaconda3\\envs\\dataengineering\\lib\\site-packages (from requests>=2.21.0->pyEX) (4.0.0)\nRequirement already satisfied: urllib3<1.27,>=1.21.1 in c:\\users\\boffmasta\\anaconda3\\envs\\dataengineering\\lib\\site-packages (from requests>=2.21.0->pyEX) (1.25.11)\nCollecting socketIO-client-nexus>=0.7.6\n  Downloading socketIO_client_nexus-0.7.6-py2.py3-none-any.whl (22 kB)\nCollecting sseclient>=0.0.22\n  Downloading sseclient-0.0.27.tar.gz (7.5 kB)\nCollecting temporal-cache>=0.1.1\n  Downloading temporal_cache-0.1.4-py2.py3-none-any.whl (17 kB)\nCollecting frozendict>=1.2\n  Downloading frozendict-1.2.tar.gz (2.6 kB)\nRequirement already satisfied: ipython-genutils in c:\\users\\boffmasta\\anaconda3\\envs\\dataengineering\\lib\\site-packages (from traitlets>=4.2->ipython>=7.2.0->pyEX) (0.2.0)\nCollecting tzlocal>=2.0.0\n  Using cached tzlocal-2.1-py2.py3-none-any.whl (16 kB)\nRequirement already satisfied: pyparsing>=2.0.2 in c:\\users\\boffmasta\\anaconda3\\envs\\dataengineering\\lib\\site-packages (from packaging->deprecation>=2.0.6->pyEX) (2.4.7)\nCollecting websocket-client\n  Downloading websocket_client-0.58.0-py2.py3-none-any.whl (61 kB)\nBuilding wheels for collected packages: sseclient, frozendict\n  Building wheel for sseclient (setup.py): started\n  Building wheel for sseclient (setup.py): finished with status 'done'\n  Created wheel for sseclient: filename=sseclient-0.0.27-py3-none-any.whl size=5571 sha256=53bfa0a80cc676ae01ed7e869472328822f53bdcb4be89e2709701849e47c506\n  Stored in directory: c:\\users\\boffmasta\\appdata\\local\\pip\\cache\\wheels\\f9\\12\\8e\\90bd3f4c38f3a0c17681ce222e7762743164876d6dbf04ab71\n  Building wheel for frozendict (setup.py): started\n  Building wheel for frozendict (setup.py): finished with status 'done'\n  Created wheel for frozendict: filename=frozendict-1.2-py3-none-any.whl size=3146 sha256=9948ffa851ae8182ac1fddac2bace36d75fdd29cf9a93f29f7eb1cfa7b6383e7\n  Stored in directory: c:\\users\\boffmasta\\appdata\\local\\pip\\cache\\wheels\\9b\\9b\\56\\5713233cf7226423ab6c58c08081551a301b5863e343ba053c\nSuccessfully built sseclient frozendict\nInstalling collected packages: websocket-client, tzlocal, frozendict, temporal-cache, sseclient, socketIO-client-nexus, Pillow, deprecation, pyEX\nSuccessfully installed Pillow-8.2.0 deprecation-2.1.0 frozendict-1.2 pyEX-0.5.0 socketIO-client-nexus-0.7.6 sseclient-0.0.27 temporal-cache-0.1.4 tzlocal-2.1 websocket-client-0.58.0\n"
     ]
    }
   ],
   "source": [
    "#!pip install pyEX\n"
   ]
  },
  {
   "source": [
    "# Imports"
   ],
   "cell_type": "markdown",
   "metadata": {}
  },
  {
   "cell_type": "code",
   "execution_count": 1,
   "metadata": {},
   "outputs": [],
   "source": [
    "import pandas as pd \n",
    "import pyEX as p\n",
    "import configparser\n",
    "import requests"
   ]
  },
  {
   "source": [
    "# Get API key from config file"
   ],
   "cell_type": "markdown",
   "metadata": {}
  },
  {
   "cell_type": "code",
   "execution_count": 2,
   "metadata": {},
   "outputs": [],
   "source": [
    "config = configparser.ConfigParser()\n",
    "config.read_file(open('../data/api_keys.cfg'))\n",
    "\n",
    "iex_api_key_sandbox = config.get('iexcloud_sandbox','api_key')\n",
    "iex_api_key_stable = config.get('iexcloud_stable','api_key')"
   ]
  },
  {
   "source": [
    "# Initialize IEX Cloud API Connection"
   ],
   "cell_type": "markdown",
   "metadata": {}
  },
  {
   "cell_type": "code",
   "execution_count": 3,
   "metadata": {},
   "outputs": [],
   "source": [
    "# create Client with Sandbox API key and version\n",
    "#iex_c = p.Client(api_token=iex_api_key_sandbox, version = 'sandbox')\n",
    "\n",
    "# create Client subscribed API key and version\n",
    "iex_c = p.Client(api_token=iex_api_key_stable, version = 'stable')"
   ]
  },
  {
   "source": [
    "# Test API connectivity and get test data"
   ],
   "cell_type": "markdown",
   "metadata": {}
  },
  {
   "cell_type": "code",
   "execution_count": 4,
   "metadata": {},
   "outputs": [],
   "source": [
    "# Show available DF function\n",
    "#[_ for _ in dir(p) if _.endswith('DF')]"
   ]
  },
  {
   "source": [
    "## Daily Ticker for one symbol"
   ],
   "cell_type": "markdown",
   "metadata": {}
  },
  {
   "cell_type": "code",
   "execution_count": 16,
   "metadata": {},
   "outputs": [],
   "source": [
    "# Documentation: https://iexcloud.io/docs/api/#historical-prices\n",
    "# credit weight per call: 2\n",
    "aapl_df = iex_c.chartDF('AAPL', timeframe='1m')"
   ]
  },
  {
   "cell_type": "code",
   "execution_count": 6,
   "metadata": {},
   "outputs": [
    {
     "output_type": "execute_result",
     "data": {
      "text/plain": [
       "             close      high     low    open symbol     volume  \\\n",
       "date                                                             \n",
       "2021-04-06  126.21  127.1300  125.65  126.50   AAPL   80171253   \n",
       "2021-04-05  125.90  126.1601  123.07  123.87   AAPL   88651175   \n",
       "2021-04-01  123.00  124.1800  122.49  123.66   AAPL   75089134   \n",
       "2021-03-31  122.15  123.5200  121.15  121.65   AAPL  118323826   \n",
       "2021-03-30  119.90  120.4031  118.86  120.11   AAPL   85671919   \n",
       "\n",
       "                           id   key subkey             updated  ...    uLow  \\\n",
       "date                                                            ...           \n",
       "2021-04-06  HISTORICAL_PRICES  AAPL        2021-04-07 01:00:03  ...  125.65   \n",
       "2021-04-05  HISTORICAL_PRICES  AAPL        2021-04-06 00:48:08  ...  123.07   \n",
       "2021-04-01  HISTORICAL_PRICES  AAPL        2021-04-02 00:48:07  ...  122.49   \n",
       "2021-03-31  HISTORICAL_PRICES  AAPL        2021-04-01 00:48:05  ...  121.15   \n",
       "2021-03-30  HISTORICAL_PRICES  AAPL        2021-03-31 01:16:10  ...  118.86   \n",
       "\n",
       "              uVolume   fOpen  fClose     fHigh    fLow    fVolume  \\\n",
       "date                                                                 \n",
       "2021-04-06   80171253  126.50  126.21  127.1300  125.65   80171253   \n",
       "2021-04-05   88651175  123.87  125.90  126.1601  123.07   88651175   \n",
       "2021-04-01   75089134  123.66  123.00  124.1800  122.49   75089134   \n",
       "2021-03-31  118323826  121.65  122.15  123.5200  121.15  118323826   \n",
       "2021-03-30   85671919  120.11  119.90  120.4031  118.86   85671919   \n",
       "\n",
       "                 label  change  changePercent  \n",
       "date                                           \n",
       "2021-04-06   Apr 6, 21    0.00         0.0000  \n",
       "2021-04-05   Apr 5, 21   -0.31        -0.0025  \n",
       "2021-04-01   Apr 1, 21   -2.90        -0.0230  \n",
       "2021-03-31  Mar 31, 21   -0.85        -0.0069  \n",
       "2021-03-30  Mar 30, 21   -2.25        -0.0184  \n",
       "\n",
       "[5 rows x 25 columns]"
      ],
      "text/html": "<div>\n<style scoped>\n    .dataframe tbody tr th:only-of-type {\n        vertical-align: middle;\n    }\n\n    .dataframe tbody tr th {\n        vertical-align: top;\n    }\n\n    .dataframe thead th {\n        text-align: right;\n    }\n</style>\n<table border=\"1\" class=\"dataframe\">\n  <thead>\n    <tr style=\"text-align: right;\">\n      <th></th>\n      <th>close</th>\n      <th>high</th>\n      <th>low</th>\n      <th>open</th>\n      <th>symbol</th>\n      <th>volume</th>\n      <th>id</th>\n      <th>key</th>\n      <th>subkey</th>\n      <th>updated</th>\n      <th>...</th>\n      <th>uLow</th>\n      <th>uVolume</th>\n      <th>fOpen</th>\n      <th>fClose</th>\n      <th>fHigh</th>\n      <th>fLow</th>\n      <th>fVolume</th>\n      <th>label</th>\n      <th>change</th>\n      <th>changePercent</th>\n    </tr>\n    <tr>\n      <th>date</th>\n      <th></th>\n      <th></th>\n      <th></th>\n      <th></th>\n      <th></th>\n      <th></th>\n      <th></th>\n      <th></th>\n      <th></th>\n      <th></th>\n      <th></th>\n      <th></th>\n      <th></th>\n      <th></th>\n      <th></th>\n      <th></th>\n      <th></th>\n      <th></th>\n      <th></th>\n      <th></th>\n      <th></th>\n    </tr>\n  </thead>\n  <tbody>\n    <tr>\n      <th>2021-04-06</th>\n      <td>126.21</td>\n      <td>127.1300</td>\n      <td>125.65</td>\n      <td>126.50</td>\n      <td>AAPL</td>\n      <td>80171253</td>\n      <td>HISTORICAL_PRICES</td>\n      <td>AAPL</td>\n      <td></td>\n      <td>2021-04-07 01:00:03</td>\n      <td>...</td>\n      <td>125.65</td>\n      <td>80171253</td>\n      <td>126.50</td>\n      <td>126.21</td>\n      <td>127.1300</td>\n      <td>125.65</td>\n      <td>80171253</td>\n      <td>Apr 6, 21</td>\n      <td>0.00</td>\n      <td>0.0000</td>\n    </tr>\n    <tr>\n      <th>2021-04-05</th>\n      <td>125.90</td>\n      <td>126.1601</td>\n      <td>123.07</td>\n      <td>123.87</td>\n      <td>AAPL</td>\n      <td>88651175</td>\n      <td>HISTORICAL_PRICES</td>\n      <td>AAPL</td>\n      <td></td>\n      <td>2021-04-06 00:48:08</td>\n      <td>...</td>\n      <td>123.07</td>\n      <td>88651175</td>\n      <td>123.87</td>\n      <td>125.90</td>\n      <td>126.1601</td>\n      <td>123.07</td>\n      <td>88651175</td>\n      <td>Apr 5, 21</td>\n      <td>-0.31</td>\n      <td>-0.0025</td>\n    </tr>\n    <tr>\n      <th>2021-04-01</th>\n      <td>123.00</td>\n      <td>124.1800</td>\n      <td>122.49</td>\n      <td>123.66</td>\n      <td>AAPL</td>\n      <td>75089134</td>\n      <td>HISTORICAL_PRICES</td>\n      <td>AAPL</td>\n      <td></td>\n      <td>2021-04-02 00:48:07</td>\n      <td>...</td>\n      <td>122.49</td>\n      <td>75089134</td>\n      <td>123.66</td>\n      <td>123.00</td>\n      <td>124.1800</td>\n      <td>122.49</td>\n      <td>75089134</td>\n      <td>Apr 1, 21</td>\n      <td>-2.90</td>\n      <td>-0.0230</td>\n    </tr>\n    <tr>\n      <th>2021-03-31</th>\n      <td>122.15</td>\n      <td>123.5200</td>\n      <td>121.15</td>\n      <td>121.65</td>\n      <td>AAPL</td>\n      <td>118323826</td>\n      <td>HISTORICAL_PRICES</td>\n      <td>AAPL</td>\n      <td></td>\n      <td>2021-04-01 00:48:05</td>\n      <td>...</td>\n      <td>121.15</td>\n      <td>118323826</td>\n      <td>121.65</td>\n      <td>122.15</td>\n      <td>123.5200</td>\n      <td>121.15</td>\n      <td>118323826</td>\n      <td>Mar 31, 21</td>\n      <td>-0.85</td>\n      <td>-0.0069</td>\n    </tr>\n    <tr>\n      <th>2021-03-30</th>\n      <td>119.90</td>\n      <td>120.4031</td>\n      <td>118.86</td>\n      <td>120.11</td>\n      <td>AAPL</td>\n      <td>85671919</td>\n      <td>HISTORICAL_PRICES</td>\n      <td>AAPL</td>\n      <td></td>\n      <td>2021-03-31 01:16:10</td>\n      <td>...</td>\n      <td>118.86</td>\n      <td>85671919</td>\n      <td>120.11</td>\n      <td>119.90</td>\n      <td>120.4031</td>\n      <td>118.86</td>\n      <td>85671919</td>\n      <td>Mar 30, 21</td>\n      <td>-2.25</td>\n      <td>-0.0184</td>\n    </tr>\n  </tbody>\n</table>\n<p>5 rows × 25 columns</p>\n</div>"
     },
     "metadata": {},
     "execution_count": 6
    }
   ],
   "source": [
    "aapl_df.head()"
   ]
  },
  {
   "cell_type": "code",
   "execution_count": 17,
   "metadata": {},
   "outputs": [
    {
     "output_type": "execute_result",
     "data": {
      "text/plain": [
       "['close',\n",
       " 'high',\n",
       " 'low',\n",
       " 'open',\n",
       " 'symbol',\n",
       " 'volume',\n",
       " 'id',\n",
       " 'key',\n",
       " 'subkey',\n",
       " 'updated',\n",
       " 'changeOverTime',\n",
       " 'marketChangeOverTime',\n",
       " 'uOpen',\n",
       " 'uClose',\n",
       " 'uHigh',\n",
       " 'uLow',\n",
       " 'uVolume',\n",
       " 'fOpen',\n",
       " 'fClose',\n",
       " 'fHigh',\n",
       " 'fLow',\n",
       " 'fVolume',\n",
       " 'label',\n",
       " 'change',\n",
       " 'changePercent']"
      ]
     },
     "metadata": {},
     "execution_count": 17
    }
   ],
   "source": [
    "aapl_df.columns.tolist()"
   ]
  },
  {
   "source": [
    "## Financials ##\n",
    "- Pulls income statement, balance sheet, and cash flow data from the most recent reported quarter.\n",
    "- see: https://iexcloud.io/docs/api/#financials"
   ],
   "cell_type": "markdown",
   "metadata": {}
  },
  {
   "cell_type": "code",
   "execution_count": 24,
   "metadata": {},
   "outputs": [],
   "source": [
    "# Documentation: https://iexcloud.io/docs/api/#financials\n",
    "# credit weight per call: 5000\n",
    "aapl_df = iex_c.financialsDF('AAPL', period='annual')"
   ]
  },
  {
   "cell_type": "code",
   "execution_count": 25,
   "metadata": {},
   "outputs": [
    {
     "output_type": "execute_result",
     "data": {
      "text/plain": [
       "                 EBITDA  accountsPayable capitalSurplus  cashChange  \\\n",
       "reportDate                                                            \n",
       "2020-10-30  77344000000      42296000000           None -9614000000   \n",
       "\n",
       "               cashFlow  cashFlowFinancing  changesInInventories  \\\n",
       "reportDate                                                         \n",
       "2020-10-30  80674000000       -86820000000             -45000000   \n",
       "\n",
       "            changesInReceivables  commonStock  costOfRevenue  ...  \\\n",
       "reportDate                                                    ...   \n",
       "2020-10-30           -8359000000  17352119000   169559000000  ...   \n",
       "\n",
       "               totalDebt  totalInvestingCashFlows  totalLiabilities  \\\n",
       "reportDate                                                            \n",
       "2020-10-30  112436000000              -4289000000      258549000000   \n",
       "\n",
       "            totalRevenue  treasuryStock          id   key  subkey  \\\n",
       "reportDate                                                          \n",
       "2020-10-30  274515000000              0  FINANCIALS  AAPL  annual   \n",
       "\n",
       "                                 date             updated  \n",
       "reportDate                                                 \n",
       "2020-10-30 1970-01-01 00:26:41.078400 2021-01-28 13:48:57  \n",
       "\n",
       "[1 rows x 69 columns]"
      ],
      "text/html": "<div>\n<style scoped>\n    .dataframe tbody tr th:only-of-type {\n        vertical-align: middle;\n    }\n\n    .dataframe tbody tr th {\n        vertical-align: top;\n    }\n\n    .dataframe thead th {\n        text-align: right;\n    }\n</style>\n<table border=\"1\" class=\"dataframe\">\n  <thead>\n    <tr style=\"text-align: right;\">\n      <th></th>\n      <th>EBITDA</th>\n      <th>accountsPayable</th>\n      <th>capitalSurplus</th>\n      <th>cashChange</th>\n      <th>cashFlow</th>\n      <th>cashFlowFinancing</th>\n      <th>changesInInventories</th>\n      <th>changesInReceivables</th>\n      <th>commonStock</th>\n      <th>costOfRevenue</th>\n      <th>...</th>\n      <th>totalDebt</th>\n      <th>totalInvestingCashFlows</th>\n      <th>totalLiabilities</th>\n      <th>totalRevenue</th>\n      <th>treasuryStock</th>\n      <th>id</th>\n      <th>key</th>\n      <th>subkey</th>\n      <th>date</th>\n      <th>updated</th>\n    </tr>\n    <tr>\n      <th>reportDate</th>\n      <th></th>\n      <th></th>\n      <th></th>\n      <th></th>\n      <th></th>\n      <th></th>\n      <th></th>\n      <th></th>\n      <th></th>\n      <th></th>\n      <th></th>\n      <th></th>\n      <th></th>\n      <th></th>\n      <th></th>\n      <th></th>\n      <th></th>\n      <th></th>\n      <th></th>\n      <th></th>\n      <th></th>\n    </tr>\n  </thead>\n  <tbody>\n    <tr>\n      <th>2020-10-30</th>\n      <td>77344000000</td>\n      <td>42296000000</td>\n      <td>None</td>\n      <td>-9614000000</td>\n      <td>80674000000</td>\n      <td>-86820000000</td>\n      <td>-45000000</td>\n      <td>-8359000000</td>\n      <td>17352119000</td>\n      <td>169559000000</td>\n      <td>...</td>\n      <td>112436000000</td>\n      <td>-4289000000</td>\n      <td>258549000000</td>\n      <td>274515000000</td>\n      <td>0</td>\n      <td>FINANCIALS</td>\n      <td>AAPL</td>\n      <td>annual</td>\n      <td>1970-01-01 00:26:41.078400</td>\n      <td>2021-01-28 13:48:57</td>\n    </tr>\n  </tbody>\n</table>\n<p>1 rows × 69 columns</p>\n</div>"
     },
     "metadata": {},
     "execution_count": 25
    }
   ],
   "source": [
    "aapl_df.head()"
   ]
  },
  {
   "cell_type": "code",
   "execution_count": 9,
   "metadata": {},
   "outputs": [
    {
     "output_type": "execute_result",
     "data": {
      "text/plain": [
       "['EBITDA',\n",
       " 'accountsPayable',\n",
       " 'capitalSurplus',\n",
       " 'cashChange',\n",
       " 'cashFlow',\n",
       " 'cashFlowFinancing',\n",
       " 'changesInInventories',\n",
       " 'changesInReceivables',\n",
       " 'commonStock',\n",
       " 'costOfRevenue',\n",
       " 'currency',\n",
       " 'currentAssets',\n",
       " 'currentCash',\n",
       " 'currentDebt',\n",
       " 'currentLongTermDebt',\n",
       " 'depreciation',\n",
       " 'dividendsPaid',\n",
       " 'ebit',\n",
       " 'exchangeRateEffect',\n",
       " 'filingType',\n",
       " 'fiscalDate',\n",
       " 'fiscalQuarter',\n",
       " 'fiscalYear',\n",
       " 'goodwill',\n",
       " 'grossProfit',\n",
       " 'incomeTax',\n",
       " 'intangibleAssets',\n",
       " 'interestIncome',\n",
       " 'inventory',\n",
       " 'investingActivityOther',\n",
       " 'investments',\n",
       " 'longTermDebt',\n",
       " 'longTermInvestments',\n",
       " 'minorityInterest',\n",
       " 'netBorrowings',\n",
       " 'netIncome',\n",
       " 'netIncomeBasic',\n",
       " 'netTangibleAssets',\n",
       " 'operatingExpense',\n",
       " 'operatingIncome',\n",
       " 'operatingRevenue',\n",
       " 'otherAssets',\n",
       " 'otherCurrentAssets',\n",
       " 'otherCurrentLiabilities',\n",
       " 'otherIncomeExpenseNet',\n",
       " 'otherLiabilities',\n",
       " 'pretaxIncome',\n",
       " 'propertyPlantEquipment',\n",
       " 'receivables',\n",
       " 'researchAndDevelopment',\n",
       " 'retainedEarnings',\n",
       " 'revenue',\n",
       " 'sellingGeneralAndAdmin',\n",
       " 'shareholderEquity',\n",
       " 'shortTermDebt',\n",
       " 'shortTermInvestments',\n",
       " 'symbol',\n",
       " 'totalAssets',\n",
       " 'totalCash',\n",
       " 'totalDebt',\n",
       " 'totalInvestingCashFlows',\n",
       " 'totalLiabilities',\n",
       " 'totalRevenue',\n",
       " 'treasuryStock',\n",
       " 'id',\n",
       " 'key',\n",
       " 'subkey',\n",
       " 'date',\n",
       " 'updated']"
      ]
     },
     "metadata": {},
     "execution_count": 9
    }
   ],
   "source": [
    "aapl_df.columns.tolist()"
   ]
  },
  {
   "cell_type": "code",
   "execution_count": 20,
   "metadata": {},
   "outputs": [],
   "source": [
    "# CURRENTLY NOT WORKING\n",
    "# https://iexcloud.io/docs/api/#earnings\n",
    "# iex_c.earningsDF('AAPL', period='quarter').head()"
   ]
  },
  {
   "source": [
    "## Balance Sheet"
   ],
   "cell_type": "markdown",
   "metadata": {}
  },
  {
   "cell_type": "code",
   "execution_count": null,
   "metadata": {},
   "outputs": [],
   "source": []
  },
  {
   "cell_type": "code",
   "execution_count": 22,
   "metadata": {},
   "outputs": [
    {
     "output_type": "execute_result",
     "data": {
      "text/plain": [
       "            accountsPayable capitalSurplus  commonStock currency  \\\n",
       "reportDate                                                         \n",
       "2020-10-30      42296000000           None  17352119000      USD   \n",
       "\n",
       "            currentAssets  currentCash  currentLongTermDebt filingType  \\\n",
       "reportDate                                                               \n",
       "2020-10-30   143713000000  90943000000          13769000000       10-K   \n",
       "\n",
       "            fiscalDate  fiscalQuarter  ...  symbol   totalAssets  \\\n",
       "reportDate                             ...                         \n",
       "2020-10-30  2020-09-26              0  ...    AAPL  323888000000   \n",
       "\n",
       "            totalCurrentLiabilities  totalLiabilities  treasuryStock  \\\n",
       "reportDate                                                             \n",
       "2020-10-30             105392000000      258549000000              0   \n",
       "\n",
       "                       id   key  subkey                       date  \\\n",
       "reportDate                                                           \n",
       "2020-10-30  BALANCE_SHEET  AAPL  annual 1970-01-01 00:26:41.078400   \n",
       "\n",
       "                       updated  \n",
       "reportDate                      \n",
       "2020-10-30 2021-01-28 13:48:57  \n",
       "\n",
       "[1 rows x 37 columns]"
      ],
      "text/html": "<div>\n<style scoped>\n    .dataframe tbody tr th:only-of-type {\n        vertical-align: middle;\n    }\n\n    .dataframe tbody tr th {\n        vertical-align: top;\n    }\n\n    .dataframe thead th {\n        text-align: right;\n    }\n</style>\n<table border=\"1\" class=\"dataframe\">\n  <thead>\n    <tr style=\"text-align: right;\">\n      <th></th>\n      <th>accountsPayable</th>\n      <th>capitalSurplus</th>\n      <th>commonStock</th>\n      <th>currency</th>\n      <th>currentAssets</th>\n      <th>currentCash</th>\n      <th>currentLongTermDebt</th>\n      <th>filingType</th>\n      <th>fiscalDate</th>\n      <th>fiscalQuarter</th>\n      <th>...</th>\n      <th>symbol</th>\n      <th>totalAssets</th>\n      <th>totalCurrentLiabilities</th>\n      <th>totalLiabilities</th>\n      <th>treasuryStock</th>\n      <th>id</th>\n      <th>key</th>\n      <th>subkey</th>\n      <th>date</th>\n      <th>updated</th>\n    </tr>\n    <tr>\n      <th>reportDate</th>\n      <th></th>\n      <th></th>\n      <th></th>\n      <th></th>\n      <th></th>\n      <th></th>\n      <th></th>\n      <th></th>\n      <th></th>\n      <th></th>\n      <th></th>\n      <th></th>\n      <th></th>\n      <th></th>\n      <th></th>\n      <th></th>\n      <th></th>\n      <th></th>\n      <th></th>\n      <th></th>\n      <th></th>\n    </tr>\n  </thead>\n  <tbody>\n    <tr>\n      <th>2020-10-30</th>\n      <td>42296000000</td>\n      <td>None</td>\n      <td>17352119000</td>\n      <td>USD</td>\n      <td>143713000000</td>\n      <td>90943000000</td>\n      <td>13769000000</td>\n      <td>10-K</td>\n      <td>2020-09-26</td>\n      <td>0</td>\n      <td>...</td>\n      <td>AAPL</td>\n      <td>323888000000</td>\n      <td>105392000000</td>\n      <td>258549000000</td>\n      <td>0</td>\n      <td>BALANCE_SHEET</td>\n      <td>AAPL</td>\n      <td>annual</td>\n      <td>1970-01-01 00:26:41.078400</td>\n      <td>2021-01-28 13:48:57</td>\n    </tr>\n  </tbody>\n</table>\n<p>1 rows × 37 columns</p>\n</div>"
     },
     "metadata": {},
     "execution_count": 22
    }
   ],
   "source": [
    "# Balance sheet\n",
    "# see https://iexcloud.io/docs/api/#balance-sheet\n",
    "# credit weight: 3000\n",
    "df= iex_c.balanceSheetDF('AAPL', period='annual')\n",
    "df.head()"
   ]
  },
  {
   "cell_type": "code",
   "execution_count": 23,
   "metadata": {},
   "outputs": [
    {
     "output_type": "execute_result",
     "data": {
      "text/plain": [
       "['accountsPayable',\n",
       " 'capitalSurplus',\n",
       " 'commonStock',\n",
       " 'currency',\n",
       " 'currentAssets',\n",
       " 'currentCash',\n",
       " 'currentLongTermDebt',\n",
       " 'filingType',\n",
       " 'fiscalDate',\n",
       " 'fiscalQuarter',\n",
       " 'fiscalYear',\n",
       " 'goodwill',\n",
       " 'intangibleAssets',\n",
       " 'inventory',\n",
       " 'longTermDebt',\n",
       " 'longTermInvestments',\n",
       " 'minorityInterest',\n",
       " 'netTangibleAssets',\n",
       " 'otherAssets',\n",
       " 'otherCurrentAssets',\n",
       " 'otherCurrentLiabilities',\n",
       " 'otherLiabilities',\n",
       " 'propertyPlantEquipment',\n",
       " 'receivables',\n",
       " 'retainedEarnings',\n",
       " 'shareholderEquity',\n",
       " 'shortTermInvestments',\n",
       " 'symbol',\n",
       " 'totalAssets',\n",
       " 'totalCurrentLiabilities',\n",
       " 'totalLiabilities',\n",
       " 'treasuryStock',\n",
       " 'id',\n",
       " 'key',\n",
       " 'subkey',\n",
       " 'date',\n",
       " 'updated']"
      ]
     },
     "metadata": {},
     "execution_count": 23
    }
   ],
   "source": [
    "df.columns.tolist()"
   ]
  },
  {
   "source": [
    "## Company Information"
   ],
   "cell_type": "markdown",
   "metadata": {}
  },
  {
   "cell_type": "code",
   "execution_count": 13,
   "metadata": {},
   "outputs": [
    {
     "output_type": "execute_result",
     "data": {
      "text/plain": [
       "       companyName                           exchange  \\\n",
       "symbol                                                  \n",
       "AAPL     Apple Inc  NASDAQ/NGS (GLOBAL SELECT MARKET)   \n",
       "\n",
       "                                  industry                 website  \\\n",
       "symbol                                                               \n",
       "AAPL    Electronic Computer Manufacturing   https://www.apple.com/   \n",
       "\n",
       "                                              description           CEO  \\\n",
       "symbol                                                                    \n",
       "AAPL    Apple Inc. is an American multinational techno...  Timothy Cook   \n",
       "\n",
       "       securityName issueType         sector  primarySicCode  employees  \\\n",
       "symbol                                                                    \n",
       "AAPL      Apple Inc        cs  Manufacturing            3571     147000   \n",
       "\n",
       "                                                     tags           address  \\\n",
       "symbol                                                                        \n",
       "AAPL    [Electronic Technology, Telecommunications Equ...  1 Apple Park Way   \n",
       "\n",
       "       address2       state       city         zip country        phone  \n",
       "symbol                                                                   \n",
       "AAPL       None  California  Cupertino  95014-0642      US  14089961010  "
      ],
      "text/html": "<div>\n<style scoped>\n    .dataframe tbody tr th:only-of-type {\n        vertical-align: middle;\n    }\n\n    .dataframe tbody tr th {\n        vertical-align: top;\n    }\n\n    .dataframe thead th {\n        text-align: right;\n    }\n</style>\n<table border=\"1\" class=\"dataframe\">\n  <thead>\n    <tr style=\"text-align: right;\">\n      <th></th>\n      <th>companyName</th>\n      <th>exchange</th>\n      <th>industry</th>\n      <th>website</th>\n      <th>description</th>\n      <th>CEO</th>\n      <th>securityName</th>\n      <th>issueType</th>\n      <th>sector</th>\n      <th>primarySicCode</th>\n      <th>employees</th>\n      <th>tags</th>\n      <th>address</th>\n      <th>address2</th>\n      <th>state</th>\n      <th>city</th>\n      <th>zip</th>\n      <th>country</th>\n      <th>phone</th>\n    </tr>\n    <tr>\n      <th>symbol</th>\n      <th></th>\n      <th></th>\n      <th></th>\n      <th></th>\n      <th></th>\n      <th></th>\n      <th></th>\n      <th></th>\n      <th></th>\n      <th></th>\n      <th></th>\n      <th></th>\n      <th></th>\n      <th></th>\n      <th></th>\n      <th></th>\n      <th></th>\n      <th></th>\n      <th></th>\n    </tr>\n  </thead>\n  <tbody>\n    <tr>\n      <th>AAPL</th>\n      <td>Apple Inc</td>\n      <td>NASDAQ/NGS (GLOBAL SELECT MARKET)</td>\n      <td>Electronic Computer Manufacturing</td>\n      <td>https://www.apple.com/</td>\n      <td>Apple Inc. is an American multinational techno...</td>\n      <td>Timothy Cook</td>\n      <td>Apple Inc</td>\n      <td>cs</td>\n      <td>Manufacturing</td>\n      <td>3571</td>\n      <td>147000</td>\n      <td>[Electronic Technology, Telecommunications Equ...</td>\n      <td>1 Apple Park Way</td>\n      <td>None</td>\n      <td>California</td>\n      <td>Cupertino</td>\n      <td>95014-0642</td>\n      <td>US</td>\n      <td>14089961010</td>\n    </tr>\n  </tbody>\n</table>\n</div>"
     },
     "metadata": {},
     "execution_count": 13
    }
   ],
   "source": [
    "# companyDF\n",
    "# see https://iexcloud.io/docs/api/#balance-sheet\n",
    "iex_c.companyDF('AAPL')"
   ]
  },
  {
   "source": [
    "## Peer group information"
   ],
   "cell_type": "markdown",
   "metadata": {}
  },
  {
   "cell_type": "code",
   "execution_count": 5,
   "metadata": {},
   "outputs": [
    {
     "output_type": "execute_result",
     "data": {
      "text/plain": [
       "        peer\n",
       "symbol      \n",
       "MSFT    MSFT\n",
       "HPQ      HPQ\n",
       "GOOG    GOOG\n",
       "AMZN    AMZN\n",
       "NFLX    NFLX"
      ],
      "text/html": "<div>\n<style scoped>\n    .dataframe tbody tr th:only-of-type {\n        vertical-align: middle;\n    }\n\n    .dataframe tbody tr th {\n        vertical-align: top;\n    }\n\n    .dataframe thead th {\n        text-align: right;\n    }\n</style>\n<table border=\"1\" class=\"dataframe\">\n  <thead>\n    <tr style=\"text-align: right;\">\n      <th></th>\n      <th>peer</th>\n    </tr>\n    <tr>\n      <th>symbol</th>\n      <th></th>\n    </tr>\n  </thead>\n  <tbody>\n    <tr>\n      <th>MSFT</th>\n      <td>MSFT</td>\n    </tr>\n    <tr>\n      <th>HPQ</th>\n      <td>HPQ</td>\n    </tr>\n    <tr>\n      <th>GOOG</th>\n      <td>GOOG</td>\n    </tr>\n    <tr>\n      <th>AMZN</th>\n      <td>AMZN</td>\n    </tr>\n    <tr>\n      <th>NFLX</th>\n      <td>NFLX</td>\n    </tr>\n  </tbody>\n</table>\n</div>"
     },
     "metadata": {},
     "execution_count": 5
    }
   ],
   "source": [
    "#peersDF\n",
    "# weight 500 per call\n",
    "# see https://iexcloud.io/docs/api/#peer-groups\n",
    "peer_df = iex_c.peersDF('AAPL')\n",
    "peer_df"
   ]
  },
  {
   "cell_type": "code",
   "execution_count": 10,
   "metadata": {},
   "outputs": [
    {
     "output_type": "execute_result",
     "data": {
      "text/plain": [
       "'MSFT,HPQ,GOOG,AMZN,NFLX'"
      ]
     },
     "metadata": {},
     "execution_count": 10
    }
   ],
   "source": [
    "peer_string = (',').join(peer_df['peer'].values)\n",
    "peer_string"
   ]
  },
  {
   "cell_type": "code",
   "execution_count": 22,
   "metadata": {},
   "outputs": [
    {
     "output_type": "execute_result",
     "data": {
      "text/plain": [
       "  Ticker                                      Peer_string\n",
       "0   MSFT                 ORCL,IBM,GOOGL,HPQ,CSCO,AAPL,SAP\n",
       "1    HPQ  IBM,AAPL,MSFT,CSCO,LNVGY,INTC,SMCI,XRX,CAJ,ORCL\n",
       "2   GOOG  MSFT,AAPL,EBAY,FB,YNDX,BIDU,AKAM,ADBE,AMZN,BCOR\n",
       "3   AMZN                   GOOGL,EBAY,TSLA,NFLX,MSFT,NWSA\n",
       "4   NFLX                           AMZN,GOOGL,BCE,FB,FOXA"
      ],
      "text/html": "<div>\n<style scoped>\n    .dataframe tbody tr th:only-of-type {\n        vertical-align: middle;\n    }\n\n    .dataframe tbody tr th {\n        vertical-align: top;\n    }\n\n    .dataframe thead th {\n        text-align: right;\n    }\n</style>\n<table border=\"1\" class=\"dataframe\">\n  <thead>\n    <tr style=\"text-align: right;\">\n      <th></th>\n      <th>Ticker</th>\n      <th>Peer_string</th>\n    </tr>\n  </thead>\n  <tbody>\n    <tr>\n      <th>0</th>\n      <td>MSFT</td>\n      <td>ORCL,IBM,GOOGL,HPQ,CSCO,AAPL,SAP</td>\n    </tr>\n    <tr>\n      <th>1</th>\n      <td>HPQ</td>\n      <td>IBM,AAPL,MSFT,CSCO,LNVGY,INTC,SMCI,XRX,CAJ,ORCL</td>\n    </tr>\n    <tr>\n      <th>2</th>\n      <td>GOOG</td>\n      <td>MSFT,AAPL,EBAY,FB,YNDX,BIDU,AKAM,ADBE,AMZN,BCOR</td>\n    </tr>\n    <tr>\n      <th>3</th>\n      <td>AMZN</td>\n      <td>GOOGL,EBAY,TSLA,NFLX,MSFT,NWSA</td>\n    </tr>\n    <tr>\n      <th>4</th>\n      <td>NFLX</td>\n      <td>AMZN,GOOGL,BCE,FB,FOXA</td>\n    </tr>\n  </tbody>\n</table>\n</div>"
     },
     "metadata": {},
     "execution_count": 22
    }
   ],
   "source": [
    "symbol_list = ['MSFT','HPQ','GOOG','AMZN','NFLX']\n",
    "peer_dict = {}\n",
    "for symbol in symbol_list:\n",
    "    peer_dict[symbol] = (',').join(iex_c.peersDF(symbol).peer.values)   \n",
    "peer_df = pd.DataFrame.from_dict(peer_dict, orient='index').reset_index()\n",
    "peer_df.columns = ['Ticker', 'Peer_string']\n",
    "peer_df"
   ]
  },
  {
   "cell_type": "code",
   "execution_count": 23,
   "metadata": {},
   "outputs": [
    {
     "output_type": "execute_result",
     "data": {
      "text/plain": [
       "  Ticker                                      Peer_string  \\\n",
       "0   MSFT                 ORCL,IBM,GOOGL,HPQ,CSCO,AAPL,SAP   \n",
       "1    HPQ  IBM,AAPL,MSFT,CSCO,LNVGY,INTC,SMCI,XRX,CAJ,ORCL   \n",
       "\n",
       "                                           Peer_list  \n",
       "0           [ORCL, IBM, GOOGL, HPQ, CSCO, AAPL, SAP]  \n",
       "1  [IBM, AAPL, MSFT, CSCO, LNVGY, INTC, SMCI, XRX...  "
      ],
      "text/html": "<div>\n<style scoped>\n    .dataframe tbody tr th:only-of-type {\n        vertical-align: middle;\n    }\n\n    .dataframe tbody tr th {\n        vertical-align: top;\n    }\n\n    .dataframe thead th {\n        text-align: right;\n    }\n</style>\n<table border=\"1\" class=\"dataframe\">\n  <thead>\n    <tr style=\"text-align: right;\">\n      <th></th>\n      <th>Ticker</th>\n      <th>Peer_string</th>\n      <th>Peer_list</th>\n    </tr>\n  </thead>\n  <tbody>\n    <tr>\n      <th>0</th>\n      <td>MSFT</td>\n      <td>ORCL,IBM,GOOGL,HPQ,CSCO,AAPL,SAP</td>\n      <td>[ORCL, IBM, GOOGL, HPQ, CSCO, AAPL, SAP]</td>\n    </tr>\n    <tr>\n      <th>1</th>\n      <td>HPQ</td>\n      <td>IBM,AAPL,MSFT,CSCO,LNVGY,INTC,SMCI,XRX,CAJ,ORCL</td>\n      <td>[IBM, AAPL, MSFT, CSCO, LNVGY, INTC, SMCI, XRX...</td>\n    </tr>\n  </tbody>\n</table>\n</div>"
     },
     "metadata": {},
     "execution_count": 23
    }
   ],
   "source": [
    "peer_df['Peer_list'] = peer_df['Peer_string'].str.split(',')\n",
    "peer_df.head(2)"
   ]
  },
  {
   "cell_type": "code",
   "execution_count": 25,
   "metadata": {},
   "outputs": [],
   "source": [
    "peer_df.to_csv('..//data//1_company_info//peer_list.csv', index=False)"
   ]
  },
  {
   "cell_type": "code",
   "execution_count": 28,
   "metadata": {},
   "outputs": [],
   "source": [
    "peer_df = pd.read_csv('..//data//1_company_info//peer_list.csv')\n",
    "peer_df['Peer_list'] = peer_df['Peer_string'].str.split(',')"
   ]
  },
  {
   "cell_type": "code",
   "execution_count": 29,
   "metadata": {},
   "outputs": [
    {
     "output_type": "execute_result",
     "data": {
      "text/plain": [
       "  Ticker                                      Peer_string  \\\n",
       "0   MSFT                 ORCL,IBM,GOOGL,HPQ,CSCO,AAPL,SAP   \n",
       "1    HPQ  IBM,AAPL,MSFT,CSCO,LNVGY,INTC,SMCI,XRX,CAJ,ORCL   \n",
       "2   GOOG  MSFT,AAPL,EBAY,FB,YNDX,BIDU,AKAM,ADBE,AMZN,BCOR   \n",
       "3   AMZN                   GOOGL,EBAY,TSLA,NFLX,MSFT,NWSA   \n",
       "4   NFLX                           AMZN,GOOGL,BCE,FB,FOXA   \n",
       "\n",
       "                                           Peer_list  \n",
       "0           [ORCL, IBM, GOOGL, HPQ, CSCO, AAPL, SAP]  \n",
       "1  [IBM, AAPL, MSFT, CSCO, LNVGY, INTC, SMCI, XRX...  \n",
       "2  [MSFT, AAPL, EBAY, FB, YNDX, BIDU, AKAM, ADBE,...  \n",
       "3              [GOOGL, EBAY, TSLA, NFLX, MSFT, NWSA]  \n",
       "4                       [AMZN, GOOGL, BCE, FB, FOXA]  "
      ],
      "text/html": "<div>\n<style scoped>\n    .dataframe tbody tr th:only-of-type {\n        vertical-align: middle;\n    }\n\n    .dataframe tbody tr th {\n        vertical-align: top;\n    }\n\n    .dataframe thead th {\n        text-align: right;\n    }\n</style>\n<table border=\"1\" class=\"dataframe\">\n  <thead>\n    <tr style=\"text-align: right;\">\n      <th></th>\n      <th>Ticker</th>\n      <th>Peer_string</th>\n      <th>Peer_list</th>\n    </tr>\n  </thead>\n  <tbody>\n    <tr>\n      <th>0</th>\n      <td>MSFT</td>\n      <td>ORCL,IBM,GOOGL,HPQ,CSCO,AAPL,SAP</td>\n      <td>[ORCL, IBM, GOOGL, HPQ, CSCO, AAPL, SAP]</td>\n    </tr>\n    <tr>\n      <th>1</th>\n      <td>HPQ</td>\n      <td>IBM,AAPL,MSFT,CSCO,LNVGY,INTC,SMCI,XRX,CAJ,ORCL</td>\n      <td>[IBM, AAPL, MSFT, CSCO, LNVGY, INTC, SMCI, XRX...</td>\n    </tr>\n    <tr>\n      <th>2</th>\n      <td>GOOG</td>\n      <td>MSFT,AAPL,EBAY,FB,YNDX,BIDU,AKAM,ADBE,AMZN,BCOR</td>\n      <td>[MSFT, AAPL, EBAY, FB, YNDX, BIDU, AKAM, ADBE,...</td>\n    </tr>\n    <tr>\n      <th>3</th>\n      <td>AMZN</td>\n      <td>GOOGL,EBAY,TSLA,NFLX,MSFT,NWSA</td>\n      <td>[GOOGL, EBAY, TSLA, NFLX, MSFT, NWSA]</td>\n    </tr>\n    <tr>\n      <th>4</th>\n      <td>NFLX</td>\n      <td>AMZN,GOOGL,BCE,FB,FOXA</td>\n      <td>[AMZN, GOOGL, BCE, FB, FOXA]</td>\n    </tr>\n  </tbody>\n</table>\n</div>"
     },
     "metadata": {},
     "execution_count": 29
    }
   ],
   "source": [
    "peer_df.head()"
   ]
  },
  {
   "source": [
    "# IEX library: stocks package"
   ],
   "cell_type": "markdown",
   "metadata": {}
  },
  {
   "cell_type": "code",
   "execution_count": null,
   "metadata": {},
   "outputs": [],
   "source": [
    "p.stocks.timeseries.tenK(id='AAPL', )"
   ]
  },
  {
   "source": [
    "# IEX REST API query: e.g. Timeseries API call using requests"
   ],
   "cell_type": "markdown",
   "metadata": {}
  },
  {
   "cell_type": "code",
   "execution_count": 5,
   "metadata": {},
   "outputs": [],
   "source": []
  },
  {
   "cell_type": "code",
   "execution_count": 8,
   "metadata": {},
   "outputs": [],
   "source": [
    "base_url = 'https://cloud.iexapis.com/stable/'\n",
    "sandbox_url = 'https://sandbox.iexapis.com/stable/'"
   ]
  },
  {
   "cell_type": "code",
   "execution_count": 37,
   "metadata": {},
   "outputs": [],
   "source": [
    "resp = requests.get(sandbox_url+'stock/AAPL/quote'+'?token=' + iex_api_key_sandbox)"
   ]
  },
  {
   "cell_type": "code",
   "execution_count": 64,
   "metadata": {},
   "outputs": [
    {
     "output_type": "execute_result",
     "data": {
      "text/plain": [
       "{'symbol': 'AAPL',\n",
       " 'companyName': 'Apple Inc',\n",
       " 'primaryExchange': 'LSNQ G KSEBTATS)(NAL/OEE RACDMALG',\n",
       " 'calculationPrice': 'tops',\n",
       " 'open': None,\n",
       " 'openTime': None,\n",
       " 'openSource': 'ocfiflia',\n",
       " 'close': None,\n",
       " 'closeTime': None,\n",
       " 'closeSource': 'ifiolafc',\n",
       " 'high': None,\n",
       " 'highTime': None,\n",
       " 'highSource': None,\n",
       " 'low': None,\n",
       " 'lowTime': None,\n",
       " 'lowSource': None,\n",
       " 'latestPrice': 128.7,\n",
       " 'latestSource': 'IEX real time price',\n",
       " 'latestTime': '3:36:40 PM',\n",
       " 'latestUpdate': 1671342779169,\n",
       " 'latestVolume': 71757001,\n",
       " 'iexRealtimePrice': 132.37,\n",
       " 'iexRealtimeSize': 207,\n",
       " 'iexLastUpdated': 1661000457192,\n",
       " 'delayedPrice': None,\n",
       " 'delayedPriceTime': None,\n",
       " 'oddLotDelayedPrice': None,\n",
       " 'oddLotDelayedPriceTime': None,\n",
       " 'extendedPrice': None,\n",
       " 'extendedChange': None,\n",
       " 'extendedChangePercent': None,\n",
       " 'extendedPriceTime': None,\n",
       " 'previousClose': 126.34,\n",
       " 'previousVolume': 82250699,\n",
       " 'change': 1.26,\n",
       " 'changePercent': 0.0103,\n",
       " 'volume': 72458058,\n",
       " 'iexMarketPercent': 0.01929739615480581,\n",
       " 'iexVolume': 1347690,\n",
       " 'avgTotalVolume': 105654212,\n",
       " 'iexBidPrice': 129.39,\n",
       " 'iexBidSize': 123,\n",
       " 'iexAskPrice': 131.8,\n",
       " 'iexAskSize': 101,\n",
       " 'iexOpen': 131.76,\n",
       " 'iexOpenTime': 1679176328518,\n",
       " 'iexClose': 131.7,\n",
       " 'iexCloseTime': 1654142570858,\n",
       " 'marketCap': 2155767603501,\n",
       " 'peRatio': 35.46,\n",
       " 'week52High': 146.15,\n",
       " 'week52Low': 65.81,\n",
       " 'ytdChange': -0.03830572840507429,\n",
       " 'lastTradeTime': 1649509292461,\n",
       " 'isUSMarketOpen': True}"
      ]
     },
     "metadata": {},
     "execution_count": 64
    }
   ],
   "source": [
    "(resp.json())"
   ]
  },
  {
   "cell_type": "code",
   "execution_count": 9,
   "metadata": {},
   "outputs": [],
   "source": [
    "# sandbox_url\n",
    "resp = requests.get(sandbox_url+'/time-series/REPORTED_FINANCIALS/AAPL/10-K'+'?token=' + iex_api_key_sandbox)\n",
    "# base_url\n",
    "# resp = requests.get(base_url+'/time-series/REPORTED_FINANCIALS/AAPL/10-K'+'?token=' + iex_api_key_stable)"
   ]
  },
  {
   "cell_type": "code",
   "execution_count": 10,
   "metadata": {},
   "outputs": [
    {
     "output_type": "execute_result",
     "data": {
      "text/plain": [
       "[{'AccountsPayableCurrent': 42296000000,\n",
       "  'AccountsReceivableNetCurrent': 16120000000,\n",
       "  'AccruedIncomeTaxesNoncurrent': 28170000000,\n",
       "  'AccumulatedDepreciationDepletionAndAmortizationPropertyPlantAndEquipment': 66760000000,\n",
       "  'AccumulatedOtherComprehensiveIncomeLossNetOfTax': -406000000,\n",
       "  'AllocatedShareBasedCompensationExpense': 6829000000,\n",
       "  'AmendmentFlag': 'false',\n",
       "  'AmountUtilizedUnderShareRepurchaseProgram': 168600000000,\n",
       "  'Assets': 323888000000,\n",
       "  'AssetsCurrent': 143713000000,\n",
       "  'AssetsNoncurrent': 180175000000,\n",
       "  'AvailableForSaleDebtSecuritiesAccumulatedGrossUnrealizedGainBeforeTax': 2784000000,\n",
       "  'AvailableForSaleDebtSecuritiesAccumulatedGrossUnrealizedLossBeforeTax': 385000000,\n",
       "  'AvailableForSaleDebtSecuritiesAmortizedCostBasis': 189431000000,\n",
       "  'AvailableForSaleSecuritiesDebtSecurities': 191830000000,\n",
       "  'CashAndCashEquivalentsAtCarryingValue': 38016000000,\n",
       "  'CashCashEquivalentsRestrictedCashAndRestrictedCashEquivalents': 39789000000,\n",
       "  'CashCashEquivalentsRestrictedCashAndRestrictedCashEquivalentsPeriodIncreaseDecreaseIncludingExchangeRateEffect': -10435000000,\n",
       "  'CityAreaCode': 408,\n",
       "  'CollateralAlreadyReceivedAggregateFairValue': 875000000,\n",
       "  'CommercialPaper': 5000000000,\n",
       "  'CommonStockDividendsPerShareDeclared': 0.795,\n",
       "  'CommonStockParOrStatedValuePerShare': 1e-05,\n",
       "  'CommonStockSharesAuthorized': 50400000000,\n",
       "  'CommonStockSharesIssued': 16976763000,\n",
       "  'CommonStockSharesOutstanding': 16976763000,\n",
       "  'CommonStocksIncludingAdditionalPaidInCapital': 50779000000,\n",
       "  'ComprehensiveIncomeNetOfTax': 57453000000,\n",
       "  'ContractWithCustomerLiability': 10200000000,\n",
       "  'ContractWithCustomerLiabilityCurrent': 6643000000,\n",
       "  'ContractWithCustomerLiabilityRevenueRecognized': 5000000000,\n",
       "  'CostOfGoodsAndServicesSold': 169559000000,\n",
       "  'CurrentFederalTaxExpenseBenefit': 6306000000,\n",
       "  'CurrentFiscalYearEndDate': '--09-26',\n",
       "  'CurrentForeignTaxExpenseBenefit': 3134000000,\n",
       "  'CurrentStateAndLocalTaxExpenseBenefit': 455000000,\n",
       "  'DebtInstrumentCarryingAmount': 106078000000,\n",
       "  'DebtInstrumentTerm': 'P9M',\n",
       "  'DebtInstrumentUnamortizedDiscountPremiumAndDebtIssuanceCostsNet': 314000000,\n",
       "  'DecreaseInUnrecognizedTaxBenefitsIsReasonablyPossible': 3900000000,\n",
       "  'DeferredFederalIncomeTaxExpenseBenefit': -3619000000,\n",
       "  'DeferredForeignIncomeTaxExpenseBenefit': 3383000000,\n",
       "  'DeferredIncomeTaxExpenseBenefit': -215000000,\n",
       "  'DeferredIncomeTaxLiabilities': 10138000000,\n",
       "  'DeferredStateAndLocalIncomeTaxExpenseBenefit': 21000000,\n",
       "  'DeferredTaxAssetsDeferredIncome': 1638000000,\n",
       "  'DeferredTaxAssetsGoodwillAndIntangibleAssets': 8317000000,\n",
       "  'DeferredTaxAssetsGross': 19336000000,\n",
       "  'DeferredTaxAssetsLeaseLiabilities': 2038000000,\n",
       "  'DeferredTaxAssetsLiabilitiesNet': 8157000000,\n",
       "  'DeferredTaxAssetsNet': 18295000000,\n",
       "  'DeferredTaxAssetsOther': 2409000000,\n",
       "  'DeferredTaxAssetsTaxDeferredExpenseReservesAndAccruals': 4934000000,\n",
       "  'DeferredTaxAssetsValuationAllowance': 1041000000,\n",
       "  'DeferredTaxLiabilitiesLeasingArrangements': 1862000000,\n",
       "  'DeferredTaxLiabilitiesMinimumTaxonForeignEarnings': 7045000000,\n",
       "  'DeferredTaxLiabilitiesOther': 705000000,\n",
       "  'DeferredTaxLiabilitiesOtherComprehensiveIncome': 526000000,\n",
       "  'DefinedContributionPlanMaximumAnnualContributionsPerEmployeeAmount': 19500,\n",
       "  'Depreciation': 9700000000,\n",
       "  'DepreciationDepletionAndAmortization': 11056000000,\n",
       "  'DerivativeAssetsReductionforMasterNettingArrangements': 2800000000,\n",
       "  'DerivativeFairValueOfDerivativeNet': -312000000,\n",
       "  'DerivativeLiabilitiesReductionforMasterNettingArrangements': 2800000000,\n",
       "  'DocumentAnnualReport': 'true',\n",
       "  'DocumentFiscalPeriodFocus': 'FY',\n",
       "  'DocumentFiscalYearFocus': 2020,\n",
       "  'DocumentPeriodEndDate': '2020-09-26',\n",
       "  'DocumentTransitionReport': 'false',\n",
       "  'DocumentType': '10-K',\n",
       "  'EarningsPerShareBasic': 3.31,\n",
       "  'EarningsPerShareDiluted': 3.28,\n",
       "  'EarningsPerSharePolicyTextBlock': 'The Company applies the treasury stock method to determine the dilutive effect of potentially dilutive securities.',\n",
       "  'EffectiveIncomeTaxRateContinuingOperations': 0.144,\n",
       "  'EffectiveIncomeTaxRateReconciliationAtFederalStatutoryIncomeTaxRate': 0.21,\n",
       "  'EffectiveIncomeTaxRateReconciliationShareBasedCompensationExcessTaxBenefitAmount': -930000000,\n",
       "  'EffectiveIncomeTaxRateReconciliationTaxCutsAndJobsActOf2017Amount': -582000000,\n",
       "  'EmployeeServiceShareBasedCompensationNonvestedAwardsTotalCompensationCostNotYetRecognized': 12200000000,\n",
       "  'EmployeeServiceShareBasedCompensationNonvestedAwardsTotalCompensationCostNotYetRecognizedPeriodForRecognition1': 'P2Y7M6D',\n",
       "  'EmployeeServiceShareBasedCompensationTaxBenefitFromCompensationExpense': 2476000000,\n",
       "  'EntityAddressAddressLine1': 'One Apple Park Way',\n",
       "  'EntityAddressCityOrTown': 'Cupertino',\n",
       "  'EntityAddressPostalZipCode': 95014,\n",
       "  'EntityAddressStateOrProvince': 'CA',\n",
       "  'EntityCentralIndexKey': 320193,\n",
       "  'EntityCurrentReportingStatus': 'Yes',\n",
       "  'EntityEmergingGrowthCompany': 'false',\n",
       "  'EntityFileNumber': '001-36743',\n",
       "  'EntityFilerCategory': 'Large Accelerated Filer',\n",
       "  'EntityIncorporationStateCountryCode': 'CA',\n",
       "  'EntityInteractiveDataCurrent': 'Yes',\n",
       "  'EntityRegistrantName': 'Apple Inc.',\n",
       "  'EntityShellCompany': 'false',\n",
       "  'EntitySmallBusiness': 'false',\n",
       "  'EntityTaxIdentificationNumber': '94-2404110',\n",
       "  'EntityVoluntaryFilers': 'No',\n",
       "  'EntityWellKnownSeasonedIssuer': 'Yes',\n",
       "  'EquitySecuritiesWithoutReadilyDeterminableFairValueAmount': 2800000000,\n",
       "  'FederalIncomeTaxExpenseBenefitContinuingOperations': 2687000000,\n",
       "  'FinanceLeaseLiability': 661000000,\n",
       "  'FinanceLeaseLiabilityCurrent': 24000000,\n",
       "  'FinanceLeaseLiabilityCurrentStatementOfFinancialPositionExtensibleList': 'us-gaap:OtherLiabilitiesCurrent',\n",
       "  'FinanceLeaseLiabilityNoncurrent': 637000000,\n",
       "  'FinanceLeaseLiabilityNoncurrentStatementOfFinancialPositionExtensibleList': 'us-gaap:OtherLiabilitiesNoncurrent',\n",
       "  'FinanceLeaseLiabilityPaymentsDue': 1090000000,\n",
       "  'FinanceLeaseLiabilityPaymentsDueAfterYearFive': 895000000,\n",
       "  'FinanceLeaseLiabilityPaymentsDueNextTwelveMonths': 43000000,\n",
       "  'FinanceLeaseLiabilityPaymentsDueYearFive': 25000000,\n",
       "  'FinanceLeaseLiabilityPaymentsDueYearFour': 30000000,\n",
       "  'FinanceLeaseLiabilityPaymentsDueYearThree': 54000000,\n",
       "  'FinanceLeaseLiabilityPaymentsDueYearTwo': 43000000,\n",
       "  'FinanceLeaseLiabilityUndiscountedExcessAmount': 429000000,\n",
       "  'FinanceLeaseRightOfUseAsset': 629000000,\n",
       "  'FinanceLeaseRightOfUseAssetStatementOfFinancialPositionExtensibleList': 'us-gaap:PropertyPlantAndEquipmentNet',\n",
       "  'ForeignIncomeTaxExpenseBenefitContinuingOperations': 6517000000,\n",
       "  'GainLossFromComponentsExcludedFromAssessmentOfFairValueHedgeEffectivenessNet': 465000000,\n",
       "  'GrossProfit': 104956000000,\n",
       "  'HedgeAccountingAdjustmentsRelatedToLongTermDebt': 1676000000,\n",
       "  'IcfrAuditorAttestationFlag': 'true',\n",
       "  'IncomeLossFromContinuingOperationsBeforeIncomeTaxesExtraordinaryItemsNoncontrollingInterest': 67091000000,\n",
       "  'IncomeLossFromContinuingOperationsBeforeIncomeTaxesForeign': 38100000000,\n",
       "  'IncomeTaxExpenseBenefit': 9680000000,\n",
       "  'IncomeTaxReconciliationForeignIncomeTaxRateDifferential': -2534000000,\n",
       "  'IncomeTaxReconciliationIncomeTaxExpenseBenefitAtFederalStatutoryIncomeTaxRate': 14089000000,\n",
       "  'IncomeTaxReconciliationOtherAdjustments': -58000000,\n",
       "  'IncomeTaxReconciliationStateAndLocalIncomeTaxes': 423000000,\n",
       "  'IncomeTaxReconciliationTaxCreditsResearch': 728000000,\n",
       "  'IncomeTaxesPaidNet': 9501000000,\n",
       "  'IncreaseDecreaseInAccountsPayable': -4062000000,\n",
       "  'IncreaseDecreaseInAccountsReceivable': -6917000000,\n",
       "  'IncreaseDecreaseInContractWithCustomerLiability': 2081000000,\n",
       "  'IncreaseDecreaseInInventories': 127000000,\n",
       "  'IncreaseDecreaseInOtherOperatingAssets': 9588000000,\n",
       "  'IncreaseDecreaseInOtherOperatingLiabilities': 8916000000,\n",
       "  'IncreaseDecreaseInOtherReceivables': -1553000000,\n",
       "  'InterestCostsIncurred': 2800000000,\n",
       "  'InterestExpense': 2873000000,\n",
       "  'InterestPaidNet': 3002000000,\n",
       "  'InventoryNet': 4061000000,\n",
       "  'InvestmentIncomeInterestAndDividend': 3763000000,\n",
       "  'LesseeOperatingAndFinanceLeaseLiabilityToBePaidAfterYearFive': 4740000000,\n",
       "  'LesseeOperatingAndFinanceLeaseLiabilityToBePaidYearFive': 985000000,\n",
       "  'LesseeOperatingAndFinanceLeaseLiabilityToBePaidYearFour': 1098000000,\n",
       "  'LesseeOperatingAndFinanceLeaseLiabilityToBePaidYearOne': 1536000000,\n",
       "  'LesseeOperatingAndFinanceLeaseLiabilityToBePaidYearThree': 1371000000,\n",
       "  'LesseeOperatingAndFinanceLeaseLiabilityToBePaidYearTwo': 1504000000,\n",
       "  'LesseeOperatingLeaseLeaseNotYetCommencedPaymentsDue': 1700000000,\n",
       "  'LesseeOperatingLeaseLiabilityPaymentsDue': 10144000000,\n",
       "  'LesseeOperatingLeaseLiabilityPaymentsDueAfterYearFive': 3845000000,\n",
       "  'LesseeOperatingLeaseLiabilityPaymentsDueNextTwelveMonths': 1493000000,\n",
       "  'LesseeOperatingLeaseLiabilityPaymentsDueYearFive': 960000000,\n",
       "  'LesseeOperatingLeaseLiabilityPaymentsDueYearFour': 1068000000,\n",
       "  'LesseeOperatingLeaseLiabilityPaymentsDueYearThree': 1317000000,\n",
       "  'LesseeOperatingLeaseLiabilityPaymentsDueYearTwo': 1461000000,\n",
       "  'LesseeOperatingLeaseLiabilityUndiscountedExcessAmount': 963000000,\n",
       "  'LesseeOperatingandFinanceLeaseLiabilityPaymentsDue': 11234000000,\n",
       "  'LesseeOperatingandFinanceLeaseLiabilityUndiscountedExcessAmount': 1392000000,\n",
       "  'LesseeOperatingandFinanceLeaseTermofContract': 'P10Y',\n",
       "  'Liabilities': 258549000000,\n",
       "  'LiabilitiesAndStockholdersEquity': 323888000000,\n",
       "  'LiabilitiesCurrent': 105392000000,\n",
       "  'LiabilitiesNoncurrent': 153157000000,\n",
       "  'LocalPhoneNumber': '996-1010',\n",
       "  'LongTermDebtCurrent': 8773000000,\n",
       "  'LongTermDebtMaturitiesRepaymentsOfPrincipalAfterYearFive': 55341000000,\n",
       "  'LongTermDebtMaturitiesRepaymentsOfPrincipalInNextTwelveMonths': 8750000000,\n",
       "  'LongTermDebtMaturitiesRepaymentsOfPrincipalInYearFive': 10914000000,\n",
       "  'LongTermDebtMaturitiesRepaymentsOfPrincipalInYearFour': 10115000000,\n",
       "  'LongTermDebtMaturitiesRepaymentsOfPrincipalInYearThree': 11389000000,\n",
       "  'LongTermDebtMaturitiesRepaymentsOfPrincipalInYearTwo': 9569000000,\n",
       "  'LongTermDebtNoncurrent': 98667000000,\n",
       "  'MarketableSecuritiesCurrent': 52927000000,\n",
       "  'MarketableSecuritiesNoncurrent': 100887000000,\n",
       "  'MaximumLengthOfTimeHedgedInInterestRateCashFlowHedge1': 'P7Y',\n",
       "  'NetCashProvidedByUsedInFinancingActivities': -86820000000,\n",
       "  'NetCashProvidedByUsedInInvestingActivities': -4289000000,\n",
       "  'NetCashProvidedByUsedInOperatingActivities': 80674000000,\n",
       "  'NetIncomeLoss': 57411000000,\n",
       "  'NoncurrentAssets': 36766000000,\n",
       "  'NonoperatingIncomeExpense': 803000000,\n",
       "  'NontradeReceivablesCurrent': 21325000000,\n",
       "  'OperatingExpenses': 38668000000,\n",
       "  'OperatingIncomeLoss': 66288000000,\n",
       "  'OperatingLeaseCost': 1500000000,\n",
       "  'OperatingLeaseLiability': 9181000000,\n",
       "  'OperatingLeaseLiabilityCurrent': 1436000000,\n",
       "  'OperatingLeaseLiabilityCurrentStatementOfFinancialPositionExtensibleList': 'us-gaap:OtherLiabilitiesCurrent',\n",
       "  'OperatingLeaseLiabilityNoncurrent': 7745000000,\n",
       "  'OperatingLeaseLiabilityNoncurrentStatementOfFinancialPositionExtensibleList': 'us-gaap:OtherLiabilitiesNoncurrent',\n",
       "  'OperatingLeasePayments': 1500000000,\n",
       "  'OperatingLeaseRightOfUseAsset': 8570000000,\n",
       "  'OperatingLeaseRightOfUseAssetStatementOfFinancialPositionExtensibleList': 'us-gaap:OtherAssetsNoncurrent',\n",
       "  'OperatingandFinanceLeaseLiability': 9842000000,\n",
       "  'OperatingandFinanceLeaseRightofUseAsset': 9199000000,\n",
       "  'OperatingandFinanceLeaseWeightedAverageDiscountRatePercent': 0.02,\n",
       "  'OperatingandFinanceLeaseWeightedAverageRemainingLeaseTerm': 'P10Y3M18D',\n",
       "  'OtherAccruedLiabilitiesNoncurrent': 26320000000,\n",
       "  'OtherAssetsCurrent': 11264000000,\n",
       "  'OtherAssetsNoncurrent': 42522000000,\n",
       "  'OtherComprehensiveIncomeLossAvailableForSaleSecuritiesAdjustmentNetOfTax': 1139000000,\n",
       "  'OtherComprehensiveIncomeLossCashFlowHedgeGainLossBeforeReclassificationAndTax': 308000000,\n",
       "  'OtherComprehensiveIncomeLossCashFlowHedgeGainLossReclassificationAfterTax': 1264000000,\n",
       "  'OtherComprehensiveIncomeLossCashFlowHedgeGainLossReclassificationBeforeTax': 1545000000,\n",
       "  'OtherComprehensiveIncomeLossDerivativeExcludedComponentIncreaseDecreaseBeforeAdjustmentsAndTax': -168000000,\n",
       "  'OtherComprehensiveIncomeLossDerivativeInstrumentGainLossafterReclassificationandTax': -1185000000,\n",
       "  'OtherComprehensiveIncomeLossDerivativeInstrumentGainLossbeforeReclassificationafterTax': 79000000,\n",
       "  'OtherComprehensiveIncomeLossForeignCurrencyTransactionAndTranslationAdjustmentNetOfTax': 88000000,\n",
       "  'OtherComprehensiveIncomeLossNetOfTaxPortionAttributableToParent': 42000000,\n",
       "  'OtherComprehensiveIncomeLossReclassificationAdjustmentFromAOCIForSaleOfSecuritiesNetOfTax': 63000000,\n",
       "  'OtherComprehensiveIncomeUnrealizedHoldingGainLossOnSecuritiesArisingDuringPeriodNetOfTax': 1202000000,\n",
       "  'OtherLiabilitiesCurrent': 42684000000,\n",
       "  'OtherLiabilitiesNoncurrent': 54490000000,\n",
       "  'OtherNoncashIncomeExpense': 97000000,\n",
       "  'OtherNonoperatingIncomeExpense': -87000000,\n",
       "  'PaymentsForProceedsFromOtherInvestingActivities': 791000000,\n",
       "  'PaymentsForRepurchaseOfCommonStock': 72358000000,\n",
       "  'PaymentsOfDividends': 14081000000,\n",
       "  'PaymentsRelatedToTaxWithholdingForShareBasedCompensation': 3634000000,\n",
       "  'PaymentsToAcquireAvailableForSaleSecuritiesDebt': 114938000000,\n",
       "  'PaymentsToAcquireBusinessesNetOfCashAcquired': 1524000000,\n",
       "  'PaymentsToAcquireOtherInvestments': 210000000,\n",
       "  'PaymentsToAcquirePropertyPlantAndEquipment': 7309000000,\n",
       "  'PerformanceObligationsinArrangements': 3,\n",
       "  'ProceedsFromIssuanceOfCommonStock': 880000000,\n",
       "  'ProceedsFromIssuanceOfLongTermDebt': 16091000000,\n",
       "  'ProceedsFromMaturitiesPrepaymentsAndCallsOfAvailableForSaleSecurities': 69918000000,\n",
       "  'ProceedsFromOtherShortTermDebt': 5200000000,\n",
       "  'ProceedsFromPaymentsForOtherFinancingActivities': -126000000,\n",
       "  'ProceedsFromRepaymentsOfCommercialPaper': -963000000,\n",
       "  'ProceedsFromRepaymentsOfShortTermDebtMaturingInMoreThanThreeMonths': -1063000000,\n",
       "  'ProceedsFromRepaymentsOfShortTermDebtMaturingInThreeMonthsOrLess': 100000000,\n",
       "  'ProceedsFromSaleAndMaturityOfOtherInvestments': 92000000,\n",
       "  'ProceedsFromSaleOfAvailableForSaleSecuritiesDebt': 50473000000,\n",
       "  'ProceedsFromShortTermDebtMaturingInMoreThanThreeMonths': 6185000000,\n",
       "  'PropertyPlantAndEquipmentGross': 103526000000,\n",
       "  'PropertyPlantAndEquipmentNet': 36766000000,\n",
       "  'RepaymentsOfLongTermDebt': 12629000000,\n",
       "  'RepaymentsOfOtherShortTermDebt': 5200000000,\n",
       "  'RepaymentsOfShortTermDebtMaturingInMoreThanThreeMonths': 7248000000,\n",
       "  'ResearchAndDevelopmentExpense': 18752000000,\n",
       "  'RestrictedCashAndCashEquivalentsAtCarryingValue': 36000000,\n",
       "  'RestrictedCashAndCashEquivalentsCurrentAssetStatementOfFinancialPositionExtensibleList': 'us-gaap:OtherAssetsCurrent',\n",
       "  'RestrictedCashAndCashEquivalentsNoncurrent': 1737000000,\n",
       "  'RestrictedCashAndCashEquivalentsNoncurrentAssetStatementOfFinancialPositionExtensibleList': 'us-gaap:OtherAssetsNoncurrent',\n",
       "  'RestrictedInvestments': 18600000000,\n",
       "  'RetainedEarningsAccumulatedDeficit': 14966000000,\n",
       "  'RevenueFromContractWithCustomerExcludingAssessedTax': 274515000000,\n",
       "  'RightofUseAssetsObtainedinExchangeforOperatingandFinanceLeaseLiabilities': 10500000000,\n",
       "  'SellingGeneralAndAdministrativeExpense': 19916000000,\n",
       "  'ShareBasedCompensation': 6829000000,\n",
       "  'ShortTermDebtWeightedAverageInterestRate': 0.0062,\n",
       "  'StandardProductWarrantyAccrual': 3354000000,\n",
       "  'StandardProductWarrantyAccrualPayments': 2956000000,\n",
       "  'StandardProductWarrantyAccrualWarrantiesIssued': 2740000000,\n",
       "  'StateAndLocalIncomeTaxExpenseBenefitContinuingOperations': 476000000,\n",
       "  'StockRepurchaseProgramAuthorizedAmount1': 225000000000,\n",
       "  'StockRepurchasedAndRetiredDuringPeriodShares': 917000000,\n",
       "  'StockRepurchasedAndRetiredDuringPeriodValue': 72500000000,\n",
       "  'StockholdersEquity': 65339000000,\n",
       "  'TradingSymbol': 'AAPL',\n",
       "  'UnrecognizedTaxBenefits': 16475000000,\n",
       "  'UnrecognizedTaxBenefitsDecreasesResultingFromPriorPeriodTaxPositions': 791000000,\n",
       "  'UnrecognizedTaxBenefitsDecreasesResultingFromSettlementsWithTaxingAuthorities': 85000000,\n",
       "  'UnrecognizedTaxBenefitsIncomeTaxPenaltiesAndInterestAccrued': 1400000000,\n",
       "  'UnrecognizedTaxBenefitsIncomeTaxPenaltiesAndInterestExpense': 85000000,\n",
       "  'UnrecognizedTaxBenefitsIncreasesResultingFromCurrentPeriodTaxPositions': 1347000000,\n",
       "  'UnrecognizedTaxBenefitsIncreasesResultingFromPriorPeriodTaxPositions': 454000000,\n",
       "  'UnrecognizedTaxBenefitsReductionsResultingFromLapseOfApplicableStatuteOfLimitations': 69000000,\n",
       "  'UnrecognizedTaxBenefitsThatWouldImpactEffectiveTaxRate': 8800000000,\n",
       "  'UnrecordedUnconditionalPurchaseObligationBalanceOnFifthAnniversary': 104000000,\n",
       "  'UnrecordedUnconditionalPurchaseObligationBalanceOnFirstAnniversary': 3476000000,\n",
       "  'UnrecordedUnconditionalPurchaseObligationBalanceOnFourthAnniversary': 357000000,\n",
       "  'UnrecordedUnconditionalPurchaseObligationBalanceOnSecondAnniversary': 2885000000,\n",
       "  'UnrecordedUnconditionalPurchaseObligationBalanceOnThirdAnniversary': 1700000000,\n",
       "  'UnrecordedUnconditionalPurchaseObligationBalanceSheetAmount': 8652000000,\n",
       "  'UnrecordedUnconditionalPurchaseObligationDueAfterFiveYears': 130000000,\n",
       "  'VariableLeaseCost': 9300000000,\n",
       "  'WeightedAverageNumberDilutedSharesOutstandingAdjustment': 176095000,\n",
       "  'WeightedAverageNumberOfDilutedSharesOutstanding': 17528214000,\n",
       "  'WeightedAverageNumberOfSharesOutstandingBasic': 17352119000,\n",
       "  'accessionNumber': '0000320193-20-000096',\n",
       "  'cik': '0000320193',\n",
       "  'dateFiled': 1604016000000,\n",
       "  'documentType': '10-K',\n",
       "  'entityName': 'Apple Inc.',\n",
       "  'irsNumber': '942404110',\n",
       "  'periodEnd': 1601078400000,\n",
       "  'update': '20201029',\n",
       "  'id': 'REPORTED_FINANCIALS',\n",
       "  'key': 'AAPL',\n",
       "  'subkey': '10-K',\n",
       "  'date': 1604016000000,\n",
       "  'updated': 1613080881000}]"
      ]
     },
     "metadata": {},
     "execution_count": 10
    }
   ],
   "source": [
    "resp.json()"
   ]
  },
  {
   "cell_type": "code",
   "execution_count": null,
   "metadata": {},
   "outputs": [],
   "source": []
  }
 ]
}
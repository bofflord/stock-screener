{
 "cells": [
  {
   "cell_type": "markdown",
   "metadata": {
    "editable": true
   },
   "source": [
    "# Rule #1 Stock Screener\n",
    "### Data Engineering Capstone Project\n",
    "\n",
    "#### Project Summary\n",
    "There are various ways to make investment decisions on the stockmarket. Many are based on data analysis.\n",
    "\n",
    "One investment strategy which became wide-known due to well-known proponents such as Benjamin Graham and Warren Buffet is called [value investing] (https://en.wikipedia.org/wiki/Value_investing). In layman's terms it assumes that:\n",
    "- via fundamental analysis an investor can buy stocks at less than their intrinsic value. \n",
    "- the intrinsic value will however in the long time be recognised by the market.\n",
    "\n",
    "[Fundamental analysis] (https://en.wikipedia.org/wiki/Fundamental_analysis) is  done by calculating and evaluating KPIs from the financial statements of businesses. From these KPIs the intrinsic value of the stock is then derived. One guideline on how to do this is provided by [Phil Town in his book \"Rule #1\"] (https://en.wikipedia.org/wiki/Phil_Town).\n",
    "\n",
    "He breaks the [relevant KPIs for value growth down to 5] (https://medium.datadriveninvestor.com/the-rule-1-of-long-term-investing-5e34c5702e49):\n",
    "- Return on Investment Capital (ROIC)\n",
    "- Sales growth rate\n",
    "- Earnings per Share (EPS) growth rate\n",
    "- Book Value per Share (BVPS) or Equity, growth rate\n",
    "- Free Cash Flow (FCF or Cash) growth rate\n",
    "\n",
    "Additionally Phil Town provides a formula on how to calculate the intrinisic value. This value he calles the \"sticker price\". An example calculation is available [here] (https://meetinvest.com/glossary/sticker-price#:~:text=where%20future%20market%20price%20%3D%20future,%2FE%20*%20estimated%20future%20EPS.).\n",
    "\n",
    "\n",
    "This project aims to provide curated data assets on stocks traded in the NASDAQ exchange for an investment analyst in order to:\n",
    "- inform on the industry background of a company and its peers.\n",
    "- conduct fundamental analysis based on the rule #1 kpi set. \n",
    "- evaluate value growth KPIs and derive the sticker price.\n",
    "- screen markets for stocks whose prices is under their intrinsic value.\n",
    "- enable further optimization and backtesting via historic market price data.\n",
    "\n",
    "\n",
    "The project follows the follow steps:\n",
    "* Step 1: Scope the Project and Gather Data\n",
    "* Step 2: Explore and Assess the Data\n",
    "* Step 3: Define the Data Model\n",
    "* Step 4: Run ETL to Model the Data\n",
    "* Step 5: Complete Project Write Up"
   ]
  },
  {
   "cell_type": "code",
   "execution_count": 1,
   "metadata": {
    "editable": true
   },
   "outputs": [],
   "source": [
    "# Do all imports and installs here\n",
    "import pandas as pd\n",
    "import numpy as np\n",
    "import matplotlib.pyplot as plt\n",
    "import simfin as sf\n",
    "import os\n",
    "import shutil"
   ]
  },
  {
   "cell_type": "code",
   "execution_count": 2,
   "metadata": {},
   "outputs": [],
   "source": [
    "# Local spark cluster specific imports for Windows\n",
    "import findspark\n",
    "findspark.init()"
   ]
  },
  {
   "cell_type": "code",
   "execution_count": 3,
   "metadata": {},
   "outputs": [
    {
     "name": "stderr",
     "output_type": "stream",
     "text": [
      "22/09/03 17:26:32 WARN Utils: Your hostname, STH-4 resolves to a loopback address: 127.0.1.1; using 172.25.147.250 instead (on interface eth0)\n",
      "22/09/03 17:26:32 WARN Utils: Set SPARK_LOCAL_IP if you need to bind to another address\n",
      "Using Spark's default log4j profile: org/apache/spark/log4j-defaults.properties\n",
      "Setting default log level to \"WARN\".\n",
      "To adjust logging level use sc.setLogLevel(newLevel). For SparkR, use setLogLevel(newLevel).\n",
      "22/09/03 17:26:35 WARN NativeCodeLoader: Unable to load native-hadoop library for your platform... using builtin-java classes where applicable\n",
      "[Stage 0:>                                                          (0 + 1) / 1]\r"
     ]
    },
    {
     "name": "stdout",
     "output_type": "stream",
     "text": [
      "+-----+\n",
      "|hello|\n",
      "+-----+\n",
      "|spark|\n",
      "+-----+\n",
      "\n"
     ]
    },
    {
     "name": "stderr",
     "output_type": "stream",
     "text": [
      "                                                                                \r"
     ]
    }
   ],
   "source": [
    "# spark specific import. \n",
    "# Note: wait until run of previous cell is complete to avoid start-up issues.\n",
    "import pyspark\n",
    "from pyspark.sql import SparkSession\n",
    "from pyspark.sql import functions as F\n",
    "spark = SparkSession.builder.getOrCreate()\n",
    "df = spark.sql(\"select 'spark' as hello \")\n",
    "df.show()"
   ]
  },
  {
   "cell_type": "code",
   "execution_count": 4,
   "metadata": {},
   "outputs": [],
   "source": [
    "# import of functions from custom modules. \n",
    "# Note: wait until run of previous cell is complete to avoid start-up issues.\n",
    "from get_prices import *\n",
    "from get_fundamentals import *\n",
    "from get_peers import *\n",
    "from get_company_info import *\n",
    "from analysis_utils import *\n",
    "from pipelines import *"
   ]
  },
  {
   "cell_type": "markdown",
   "metadata": {
    "editable": true
   },
   "source": [
    "## Step 1: Scope the Project and Gather Data\n",
    "\n",
    "### Scope \n",
    "Explain what you plan to do in the project in more detail. What data do you use? What is your end solution look like? What tools did you use? etc>\n",
    "\n",
    "After some initial research it was found that the required data on \n",
    "- company information\n",
    "- financial statements \n",
    "- historical prices\n",
    "\n",
    "is available via APIs of various providers. \n",
    "\n",
    "The financial statement and price data is then used to create the following additional data sets:\n",
    "- growth KPIs: KPIs relevant for the growth #1 investment strategy\n",
    "- screener results: identified stock which current prices is below the calculated intrinsic value.\n",
    "\n",
    "The data engineering pipelines built in this project process the data in two steps:\n",
    "\n",
    "1. Extraction from source and load to staging folder.\n",
    "2. Extraction from staging folder, transformation and load to target folders.\n",
    "\n",
    "The goal is to provide all tables as files in a target folder from which they will be loaded to an analytical tool for the evaluation.\n",
    "\n",
    "Since all providers chosen for this project offer a python API the first pipeline for source data extraction is purely realized via python shell scripts.\n",
    "\n",
    "However since the amount of data is quite largely (ca. 10 million records on historical stock pices), the second data pipeline which processes the data and creates the output files uses a combination of python and PySpark.\n",
    "\n",
    "The project was entirely developed to run locally on a Windows computer. Consequently some specific imports and start-up procedures need to be followed in order to ensure a smooth run.\n",
    "\n",
    "### Describe and Gather Data \n",
    "Below the various data sets and sources are described in the categories \n",
    "- company information\n",
    "- financial statements \n",
    "- historical prices\n",
    "\n",
    "Furthermore an overview is given on the definition of the content in the data sets:\n",
    "- growth KPIs\n",
    "- screener results\n",
    "\n",
    "Describe the data sets you're using. Where did it come from? What type of information is included? "
   ]
  },
  {
   "cell_type": "markdown",
   "metadata": {
    "editable": true
   },
   "source": [
    "#### 1.1 Company information\n",
    "- Ticker symbol list: \"http://www.nasdaqtrader.com/dynamic/SymDir/nasdaqtraded.txt\"\n",
    "    - [Symbol Look-Up/Directory Data Fields & Definitions] (http://www.nasdaqtrader.com/trader.aspx?id=symboldirdefs)\n",
    "    - \"Ticker\" symbol of a stock is the primary/ foreign key which connects all of the tables with each other.\n",
    "    - it is filtered to only those Ticker symbols which\n",
    "        - are not test issues\n",
    "        - are stocks and not ETFs\n",
    "        - are not bankrupt\n",
    "- Company information: Kaggle dataset from 2019 https://www.kaggle.com/marketahead/all-us-stocks-tickers-company-info-logos \n",
    "    - this data was retrieved from the IEX Cloud API.\n",
    "    - in order to save costs it was decided to re-use this dataset instead of downloading the data fresh from the API.\n",
    "- Peer group information: IEX Cloud API https://iexcloud.io/docs/api/#peer-groups\n",
    "    - the corresponding python API package is [pyEX] (https://pyex.readthedocs.io/en/latest/#)\n",
    "    - this data is merged to the company information data set."
   ]
  },
  {
   "cell_type": "markdown",
   "metadata": {
    "editable": true
   },
   "source": [
    "#### 1.2 Fundamental indicators \n",
    "\n",
    "- all fundamental data is retrieved via the [SimFin] API (https://simfin.com/contribute/overview#/)\n",
    "    - the corresponding python API package is [simfin] (https://github.com/SimFin/simfin)\n",
    "- the used financial statements are:\n",
    "    - Income statement\n",
    "    - Balance sheet\n",
    "    - Cashflow statement\n",
    "- via the free API key used for this project, the data of the latest year (currently 2020) is not available. This data is only available via a paid subscription.\n",
    "\n",
    "From these data sets the 5 relevant  KPIs listed by Phil Town are calculated:\n",
    "- Return on Invested Capital (ROIC)\n",
    "    - Source: Income Statement\n",
    "        - net income: n_i -> column 'Net Income'\n",
    "        - dividend: di -> column 'Dividends Paid'\n",
    "        - debt: de -> summed up with equity in column 'Total Liabilities & Equity'\n",
    "        - equity: eq\n",
    "    - Definition: ROIC = (ni - di) / (de + eq)\n",
    "- Sales Growth Rate\n",
    "    - Source: Income Statement\n",
    "    - Definition:  Sales is equal to column 'revenue'\n",
    "- Earnings per Share Growth Rate\n",
    "    - Source: Income Statement\n",
    "        - Earnings: ea -> column 'Net Income'\n",
    "        - number of shares : sh -> column 'Shares (Basic)'\n",
    "    - Definition: ea / sh\n",
    "- Book Value per Share Growth Rate\n",
    "    - Source: Balance Sheet\n",
    "        - Total Equity: t_e -> column 'Total Equity'\n",
    "        - Prefered Equity: p_e (not available)\n",
    "        - number of shares : sh -> column 'Shares (Basic)'\n",
    "    - Definition: (t_e - p_e) / sh\n",
    "- Free Cash Flow Growth Rate\n",
    "    - Source: \n",
    "        - Cash Flow: \n",
    "            - Cashflow from Operating Activities: cf_oa -> column 'Net Cash from Operating Activities'\n",
    "            - Capital Expenditure: capex -> column 'Net Cash from Investing Activities'\n",
    "        - Income Statement:\n",
    "            - Interest Expenses: i_e -> excluded for simplicity, column 'Interest Expense, Net'\n",
    "            - Tax shield on Interest Expense: t_i_e  -> excluded for simplicity\n",
    "    - Definition: Free Cashflow (f_cf) = cf_oa + i_e - t_i_e - capex\n"
   ]
  },
  {
   "cell_type": "markdown",
   "metadata": {},
   "source": [
    "#### 1.3 Pricing information ####\n",
    "The purpose of this data is to evaluate the so-called sticker prices and margin of safety based on current stock prices. It can also be used for backtesting criteria on historic data.\n",
    "- all historic price data is retrieve via the Yahoo Finance API\n",
    "    - the corresponding python package is [yfinance] (https://pypi.org/project/yfinance/)\n",
    "    - for the data extraction an [existing script by Oleh Onyshchak] (https://www.kaggle.com/jacksoncrow/download-nasdaq-historical-data) was used and adapted.\n"
   ]
  },
  {
   "cell_type": "markdown",
   "metadata": {},
   "source": [
    "#### 1.4 Growth KPI ####\n",
    "\n",
    "From the fundamental KPIs growth indicators are derived which represent the performance over time. From these the intrinsic value of a stock is calculated via the \"sticker price\". An additional margin of safety is added to that.\n",
    "- Sticker price calculation\n",
    "    - future period fp, by default 10 years\n",
    "    - Sticker price = future market price / (1 + exp_rr)^fp\n",
    "    - expected annual return rate exp_rr, by default 15%\n",
    "    - future market price = future P/E * estimated future EPS\n",
    "        - future P/E = min(pe_default, pe_5yr_avg)\n",
    "            - default price per earnings pe_default: 2* rule #1 growth rate (see below)\n",
    "            - 5 year average of annual price per earnings pe_5yr_avg\n",
    "                - annual price per earnings pe = price/ eps\n",
    "                    - annual price = mean of daily low prices in month December\n",
    "        - estimated future EPS f_eps = current EPS * (1+ rule1_gr)^fp\n",
    "            - rule #1 growth rate rule1_gr = min(bvps_gr_5yr, eps_gr_5yr)\n",
    "- Margin of safety: half the the sticker price."
   ]
  },
  {
   "cell_type": "markdown",
   "metadata": {},
   "source": [
    "#### 1.5 Screener results ####\n",
    "This table is where things get interesting. The purpose of this table is to show all stocks which latest low price is below the calculated intrinsic value (including a margin of safety). For these stocks we get \"value\" for our bucks.\n",
    "\n",
    "The table is generated by:\n",
    "- extracting the latest stock price data for all stocks.\n",
    "- joining the intrinsic values for each stock from the growth kpi table.\n",
    "- filtering and keeping only those stocks which price is below the margin of safety value.\n"
   ]
  },
  {
   "cell_type": "markdown",
   "metadata": {
    "editable": true
   },
   "source": [
    "## Step 2: Explore and Assess the Data\n",
    "#### Explore the Data ####\n",
    "For the data exploration purposes the python package pandas profiling is used.\n",
    "It generates a so called profiling report for a Pandas Dataframe.\n",
    "\n",
    "Identify data quality issues, like missing values, duplicate data, etc.\n",
    "\n",
    "#### Cleaning Steps\n",
    "Document steps necessary to clean the data"
   ]
  },
  {
   "cell_type": "markdown",
   "metadata": {},
   "source": [
    "### 2.1 Company information\n",
    "#### 2.1.1 Ticker Symbol List"
   ]
  },
  {
   "cell_type": "code",
   "execution_count": 5,
   "metadata": {},
   "outputs": [
    {
     "data": {
      "text/html": [
       "<div>\n",
       "<style scoped>\n",
       "    .dataframe tbody tr th:only-of-type {\n",
       "        vertical-align: middle;\n",
       "    }\n",
       "\n",
       "    .dataframe tbody tr th {\n",
       "        vertical-align: top;\n",
       "    }\n",
       "\n",
       "    .dataframe thead th {\n",
       "        text-align: right;\n",
       "    }\n",
       "</style>\n",
       "<table border=\"1\" class=\"dataframe\">\n",
       "  <thead>\n",
       "    <tr style=\"text-align: right;\">\n",
       "      <th></th>\n",
       "      <th>Nasdaq Traded</th>\n",
       "      <th>Symbol</th>\n",
       "      <th>Security Name</th>\n",
       "      <th>Listing Exchange</th>\n",
       "      <th>Market Category</th>\n",
       "      <th>ETF</th>\n",
       "      <th>Round Lot Size</th>\n",
       "      <th>Test Issue</th>\n",
       "      <th>Financial Status</th>\n",
       "      <th>CQS Symbol</th>\n",
       "      <th>NASDAQ Symbol</th>\n",
       "      <th>NextShares</th>\n",
       "    </tr>\n",
       "  </thead>\n",
       "  <tbody>\n",
       "    <tr>\n",
       "      <th>0</th>\n",
       "      <td>Y</td>\n",
       "      <td>A</td>\n",
       "      <td>Agilent Technologies, Inc. Common Stock</td>\n",
       "      <td>N</td>\n",
       "      <td></td>\n",
       "      <td>N</td>\n",
       "      <td>100.0</td>\n",
       "      <td>N</td>\n",
       "      <td>NaN</td>\n",
       "      <td>A</td>\n",
       "      <td>A</td>\n",
       "      <td>N</td>\n",
       "    </tr>\n",
       "    <tr>\n",
       "      <th>1</th>\n",
       "      <td>Y</td>\n",
       "      <td>AA</td>\n",
       "      <td>Alcoa Corporation Common Stock</td>\n",
       "      <td>N</td>\n",
       "      <td></td>\n",
       "      <td>N</td>\n",
       "      <td>100.0</td>\n",
       "      <td>N</td>\n",
       "      <td>NaN</td>\n",
       "      <td>AA</td>\n",
       "      <td>AA</td>\n",
       "      <td>N</td>\n",
       "    </tr>\n",
       "    <tr>\n",
       "      <th>2</th>\n",
       "      <td>Y</td>\n",
       "      <td>AAA</td>\n",
       "      <td>Listed Funds Trust AAF First Priority CLO Bond...</td>\n",
       "      <td>P</td>\n",
       "      <td></td>\n",
       "      <td>Y</td>\n",
       "      <td>100.0</td>\n",
       "      <td>N</td>\n",
       "      <td>NaN</td>\n",
       "      <td>AAA</td>\n",
       "      <td>AAA</td>\n",
       "      <td>N</td>\n",
       "    </tr>\n",
       "  </tbody>\n",
       "</table>\n",
       "</div>"
      ],
      "text/plain": [
       "  Nasdaq Traded Symbol                                      Security Name  \\\n",
       "0             Y      A            Agilent Technologies, Inc. Common Stock   \n",
       "1             Y     AA                    Alcoa Corporation Common Stock    \n",
       "2             Y    AAA  Listed Funds Trust AAF First Priority CLO Bond...   \n",
       "\n",
       "  Listing Exchange Market Category ETF  Round Lot Size Test Issue  \\\n",
       "0                N                   N           100.0          N   \n",
       "1                N                   N           100.0          N   \n",
       "2                P                   Y           100.0          N   \n",
       "\n",
       "  Financial Status CQS Symbol NASDAQ Symbol NextShares  \n",
       "0              NaN          A             A          N  \n",
       "1              NaN         AA            AA          N  \n",
       "2              NaN        AAA           AAA          N  "
      ]
     },
     "execution_count": 5,
     "metadata": {},
     "output_type": "execute_result"
    }
   ],
   "source": [
    "# get ticket symbol list\n",
    "symbol_df = pd.read_csv(\"http://www.nasdaqtrader.com/dynamic/SymDir/nasdaqtraded.txt\", sep='|')\n",
    "symbol_df.head(3)"
   ]
  },
  {
   "cell_type": "code",
   "execution_count": 6,
   "metadata": {},
   "outputs": [
    {
     "name": "stdout",
     "output_type": "stream",
     "text": [
      "Number of symbol in NASDAQ list before any filters: 12193\n",
      "Number of symbol in NASDAQ list after filters: 8829\n"
     ]
    }
   ],
   "source": [
    "print('Number of symbol in NASDAQ list before any filters: {}'\\\n",
    "    .format(symbol_df['NASDAQ Symbol'].nunique()))\n",
    "# exclude test issues\n",
    "symbol_df = symbol_df[(symbol_df['Test Issue'] == 'N')]\n",
    "# exclude companies that are bankrupt\n",
    "symbol_df = symbol_df[symbol_df['Financial Status'].isna() | (symbol_df['Financial Status']=='N')]\n",
    "# exclude ETFs\n",
    "symbol_df = symbol_df[symbol_df['ETF']=='N']\n",
    "symbol_list = symbol_df['NASDAQ Symbol'].tolist()\n",
    "print('Number of symbol in NASDAQ list after filters: {}'\\\n",
    "    .format(len(symbol_list)))"
   ]
  },
  {
   "cell_type": "markdown",
   "metadata": {},
   "source": [
    "#### 2.1.2 Company Info\n",
    "From the Pandas Profiling report the following insights can be gathered:\n",
    "- data for 4559 ticker symbols is available\n",
    "- the amount of missing data is quite low (5.3%) and mostly on the columns logo, ceo and tag.\n",
    "- the data quality is considered high, further cleaning is not required."
   ]
  },
  {
   "cell_type": "code",
   "execution_count": 7,
   "metadata": {},
   "outputs": [
    {
     "name": "stdout",
     "output_type": "stream",
     "text": [
      "Number of stocks symbols in list: 4014\n",
      "Company data loaded from disk...\n"
     ]
    },
    {
     "data": {
      "text/html": [
       "<div>\n",
       "<style scoped>\n",
       "    .dataframe tbody tr th:only-of-type {\n",
       "        vertical-align: middle;\n",
       "    }\n",
       "\n",
       "    .dataframe tbody tr th {\n",
       "        vertical-align: top;\n",
       "    }\n",
       "\n",
       "    .dataframe thead th {\n",
       "        text-align: right;\n",
       "    }\n",
       "</style>\n",
       "<table border=\"1\" class=\"dataframe\">\n",
       "  <thead>\n",
       "    <tr style=\"text-align: right;\">\n",
       "      <th></th>\n",
       "      <th>ticker</th>\n",
       "      <th>company name</th>\n",
       "      <th>short name</th>\n",
       "      <th>industry</th>\n",
       "      <th>description</th>\n",
       "      <th>website</th>\n",
       "      <th>logo</th>\n",
       "      <th>ceo</th>\n",
       "      <th>exchange</th>\n",
       "      <th>market cap</th>\n",
       "      <th>sector</th>\n",
       "      <th>tag 1</th>\n",
       "      <th>tag 2</th>\n",
       "      <th>tag 3</th>\n",
       "    </tr>\n",
       "  </thead>\n",
       "  <tbody>\n",
       "    <tr>\n",
       "      <th>0</th>\n",
       "      <td>A</td>\n",
       "      <td>Agilent Technologies Inc.</td>\n",
       "      <td>Agilent</td>\n",
       "      <td>Medical Diagnostics &amp; Research</td>\n",
       "      <td>Agilent Technologies Inc is engaged in life sc...</td>\n",
       "      <td>http://www.agilent.com</td>\n",
       "      <td>A.png</td>\n",
       "      <td>Michael R. McMullen</td>\n",
       "      <td>New York Stock Exchange</td>\n",
       "      <td>2.421807e+10</td>\n",
       "      <td>Healthcare</td>\n",
       "      <td>Healthcare</td>\n",
       "      <td>Diagnostics &amp; Research</td>\n",
       "      <td>Medical Diagnostics &amp; Research</td>\n",
       "    </tr>\n",
       "  </tbody>\n",
       "</table>\n",
       "</div>"
      ],
      "text/plain": [
       "  ticker               company name short name  \\\n",
       "0      A  Agilent Technologies Inc.    Agilent   \n",
       "\n",
       "                         industry  \\\n",
       "0  Medical Diagnostics & Research   \n",
       "\n",
       "                                         description                 website  \\\n",
       "0  Agilent Technologies Inc is engaged in life sc...  http://www.agilent.com   \n",
       "\n",
       "    logo                  ceo                 exchange    market cap  \\\n",
       "0  A.png  Michael R. McMullen  New York Stock Exchange  2.421807e+10   \n",
       "\n",
       "       sector       tag 1                   tag 2  \\\n",
       "0  Healthcare  Healthcare  Diagnostics & Research   \n",
       "\n",
       "                            tag 3  \n",
       "0  Medical Diagnostics & Research  "
      ]
     },
     "execution_count": 7,
     "metadata": {},
     "output_type": "execute_result"
    }
   ],
   "source": [
    "company_info_df = load_company_info_from_disk(symbol_list)\n",
    "company_info_df.head(1)"
   ]
  },
  {
   "cell_type": "code",
   "execution_count": 9,
   "metadata": {},
   "outputs": [
    {
     "data": {
      "application/vnd.jupyter.widget-view+json": {
       "model_id": "5b1db52338a0421c8be37e20a2513bd7",
       "version_major": 2,
       "version_minor": 0
      },
      "text/plain": [
       "Summarize dataset:   0%|          | 0/5 [00:00<?, ?it/s]"
      ]
     },
     "metadata": {},
     "output_type": "display_data"
    },
    {
     "data": {
      "application/vnd.jupyter.widget-view+json": {
       "model_id": "cfa5a21028b842c69808ac97d2da272e",
       "version_major": 2,
       "version_minor": 0
      },
      "text/plain": [
       "Generate report structure:   0%|          | 0/1 [00:00<?, ?it/s]"
      ]
     },
     "metadata": {},
     "output_type": "display_data"
    },
    {
     "data": {
      "application/vnd.jupyter.widget-view+json": {
       "model_id": "ec5ace47db134039b3b2ce451b4c8c65",
       "version_major": 2,
       "version_minor": 0
      },
      "text/plain": [
       "Render HTML:   0%|          | 0/1 [00:00<?, ?it/s]"
      ]
     },
     "metadata": {},
     "output_type": "display_data"
    },
    {
     "data": {
      "application/vnd.jupyter.widget-view+json": {
       "model_id": "c2ff78cf47a9409bb6828d3c544607e5",
       "version_major": 2,
       "version_minor": 0
      },
      "text/plain": [
       "Export report to file:   0%|          | 0/1 [00:00<?, ?it/s]"
      ]
     },
     "metadata": {},
     "output_type": "display_data"
    },
    {
     "name": "stdout",
     "output_type": "stream",
     "text": [
      "\n",
      "Pandas profiling report of file company_info_df created\n",
      "\n",
      "\n"
     ]
    }
   ],
   "source": [
    "create_pandas_profiling_report(company_info_df, 'company_info_df')"
   ]
  },
  {
   "cell_type": "code",
   "execution_count": 10,
   "metadata": {},
   "outputs": [],
   "source": [
    "# reduce symbol_list to those where company information is available\n",
    "symbol_list = company_info_df['ticker'].unique().tolist()"
   ]
  },
  {
   "cell_type": "markdown",
   "metadata": {},
   "source": [
    "#### 2.1.3 Peer group information\n",
    "For retrieving this data via the API there is a cost per ticker symbol. In order to limit these costs it was decided to limit data retrieval to only those symbols which are in the company information data set (4545 ticker symbols in total).\n",
    "\n",
    "From Pandas Profiling report the following insights can be gathered:\n",
    "- an API call was successfull for 4536 out of the 4545 ticker symbols.\n",
    "- For 3375 of these ticker symbols the peer data is available.\n",
    "\n",
    "Since the peer group is considered a supplementary information, it was decided to proceed in the project with the total number of symbols in the company information data set. The amount of missing values for peer group is acceptable."
   ]
  },
  {
   "cell_type": "code",
   "execution_count": 11,
   "metadata": {},
   "outputs": [],
   "source": [
    "# initial download of peer data from API\n",
    "# Note: requires a valid API key\n",
    "#peer_df = download_peer_data(symbol_list)"
   ]
  },
  {
   "cell_type": "markdown",
   "metadata": {},
   "source": []
  },
  {
   "cell_type": "code",
   "execution_count": 12,
   "metadata": {},
   "outputs": [
    {
     "name": "stdout",
     "output_type": "stream",
     "text": [
      "Shape of peer_df: (4187, 3)\n"
     ]
    }
   ],
   "source": [
    "# load downloaded peer data from disk\n",
    "peer_df = get_peer_data_from_disk(symbol_list)\n",
    "peer_df_shape = peer_df.shape\n",
    "print(f'Shape of peer_df: {peer_df_shape}')"
   ]
  },
  {
   "cell_type": "code",
   "execution_count": 13,
   "metadata": {},
   "outputs": [
    {
     "data": {
      "application/vnd.jupyter.widget-view+json": {
       "model_id": "a64238e784f54d609d6a4b24e8ca7c7d",
       "version_major": 2,
       "version_minor": 0
      },
      "text/plain": [
       "Summarize dataset:   0%|          | 0/5 [00:00<?, ?it/s]"
      ]
     },
     "metadata": {},
     "output_type": "display_data"
    },
    {
     "data": {
      "application/vnd.jupyter.widget-view+json": {
       "model_id": "385f1c9726d54e1eb23a15aecb793b0c",
       "version_major": 2,
       "version_minor": 0
      },
      "text/plain": [
       "Generate report structure:   0%|          | 0/1 [00:00<?, ?it/s]"
      ]
     },
     "metadata": {},
     "output_type": "display_data"
    },
    {
     "data": {
      "application/vnd.jupyter.widget-view+json": {
       "model_id": "cc7fe2b4bd244b01a85cb38d26ba7aa6",
       "version_major": 2,
       "version_minor": 0
      },
      "text/plain": [
       "Render HTML:   0%|          | 0/1 [00:00<?, ?it/s]"
      ]
     },
     "metadata": {},
     "output_type": "display_data"
    },
    {
     "data": {
      "application/vnd.jupyter.widget-view+json": {
       "model_id": "25e4be3ef19b47c08c729af60b16b6a4",
       "version_major": 2,
       "version_minor": 0
      },
      "text/plain": [
       "Export report to file:   0%|          | 0/1 [00:00<?, ?it/s]"
      ]
     },
     "metadata": {},
     "output_type": "display_data"
    },
    {
     "name": "stdout",
     "output_type": "stream",
     "text": [
      "\n",
      "Pandas profiling report of file peer_df created\n",
      "\n",
      "\n"
     ]
    }
   ],
   "source": [
    "create_pandas_profiling_report(peer_df, 'peer_df')"
   ]
  },
  {
   "cell_type": "code",
   "execution_count": 14,
   "metadata": {},
   "outputs": [
    {
     "data": {
      "text/html": [
       "<div>\n",
       "<style scoped>\n",
       "    .dataframe tbody tr th:only-of-type {\n",
       "        vertical-align: middle;\n",
       "    }\n",
       "\n",
       "    .dataframe tbody tr th {\n",
       "        vertical-align: top;\n",
       "    }\n",
       "\n",
       "    .dataframe thead th {\n",
       "        text-align: right;\n",
       "    }\n",
       "</style>\n",
       "<table border=\"1\" class=\"dataframe\">\n",
       "  <thead>\n",
       "    <tr style=\"text-align: right;\">\n",
       "      <th></th>\n",
       "      <th>ticker</th>\n",
       "      <th>company name</th>\n",
       "      <th>short name</th>\n",
       "      <th>industry</th>\n",
       "      <th>description</th>\n",
       "      <th>website</th>\n",
       "      <th>logo</th>\n",
       "      <th>ceo</th>\n",
       "      <th>exchange</th>\n",
       "      <th>market cap</th>\n",
       "      <th>sector</th>\n",
       "      <th>tag 1</th>\n",
       "      <th>tag 2</th>\n",
       "      <th>tag 3</th>\n",
       "      <th>peer_string</th>\n",
       "      <th>peer_list</th>\n",
       "    </tr>\n",
       "  </thead>\n",
       "  <tbody>\n",
       "    <tr>\n",
       "      <th>0</th>\n",
       "      <td>A</td>\n",
       "      <td>Agilent Technologies Inc.</td>\n",
       "      <td>Agilent</td>\n",
       "      <td>Medical Diagnostics &amp; Research</td>\n",
       "      <td>Agilent Technologies Inc is engaged in life sc...</td>\n",
       "      <td>http://www.agilent.com</td>\n",
       "      <td>A.png</td>\n",
       "      <td>Michael R. McMullen</td>\n",
       "      <td>New York Stock Exchange</td>\n",
       "      <td>2.421807e+10</td>\n",
       "      <td>Healthcare</td>\n",
       "      <td>Healthcare</td>\n",
       "      <td>Diagnostics &amp; Research</td>\n",
       "      <td>Medical Diagnostics &amp; Research</td>\n",
       "      <td>TMO,PKI,DHR,TER,NATI,ILMN,AME,BRKR,GE,SPMYY</td>\n",
       "      <td>[TMO, PKI, DHR, TER, NATI, ILMN, AME, BRKR, GE...</td>\n",
       "    </tr>\n",
       "    <tr>\n",
       "      <th>1</th>\n",
       "      <td>AA</td>\n",
       "      <td>Alcoa Corporation</td>\n",
       "      <td>Alcoa</td>\n",
       "      <td>Metals &amp; Mining</td>\n",
       "      <td>Alcoa Corp is an integrated aluminum company. ...</td>\n",
       "      <td>http://www.alcoa.com</td>\n",
       "      <td>AA.png</td>\n",
       "      <td>Roy Christopher Harvey</td>\n",
       "      <td>New York Stock Exchange</td>\n",
       "      <td>5.374967e+09</td>\n",
       "      <td>Basic Materials</td>\n",
       "      <td>Basic Materials</td>\n",
       "      <td>Aluminum</td>\n",
       "      <td>Metals &amp; Mining</td>\n",
       "      <td>ACH,KALU,CENX,NHYDY,AWCMY,BBL,BHP</td>\n",
       "      <td>[ACH, KALU, CENX, NHYDY, AWCMY, BBL, BHP]</td>\n",
       "    </tr>\n",
       "    <tr>\n",
       "      <th>2</th>\n",
       "      <td>AAC</td>\n",
       "      <td>AAC Holdings Inc.</td>\n",
       "      <td>AAC</td>\n",
       "      <td>Health Care Providers</td>\n",
       "      <td>AAC Holdings Inc provides inpatient and outpat...</td>\n",
       "      <td>http://www.americanaddictioncenters.org</td>\n",
       "      <td>NaN</td>\n",
       "      <td>Michael T. Cartwright</td>\n",
       "      <td>New York Stock Exchange</td>\n",
       "      <td>6.372010e+07</td>\n",
       "      <td>Healthcare</td>\n",
       "      <td>Healthcare</td>\n",
       "      <td>Medical Care</td>\n",
       "      <td>Health Care Providers</td>\n",
       "      <td>SEM,ACHC,USPH,BICX</td>\n",
       "      <td>[SEM, ACHC, USPH, BICX]</td>\n",
       "    </tr>\n",
       "  </tbody>\n",
       "</table>\n",
       "</div>"
      ],
      "text/plain": [
       "  ticker               company name short name  \\\n",
       "0      A  Agilent Technologies Inc.    Agilent   \n",
       "1     AA          Alcoa Corporation      Alcoa   \n",
       "2    AAC          AAC Holdings Inc.        AAC   \n",
       "\n",
       "                         industry  \\\n",
       "0  Medical Diagnostics & Research   \n",
       "1                 Metals & Mining   \n",
       "2           Health Care Providers   \n",
       "\n",
       "                                         description  \\\n",
       "0  Agilent Technologies Inc is engaged in life sc...   \n",
       "1  Alcoa Corp is an integrated aluminum company. ...   \n",
       "2  AAC Holdings Inc provides inpatient and outpat...   \n",
       "\n",
       "                                   website    logo                     ceo  \\\n",
       "0                   http://www.agilent.com   A.png     Michael R. McMullen   \n",
       "1                     http://www.alcoa.com  AA.png  Roy Christopher Harvey   \n",
       "2  http://www.americanaddictioncenters.org     NaN   Michael T. Cartwright   \n",
       "\n",
       "                  exchange    market cap           sector            tag 1  \\\n",
       "0  New York Stock Exchange  2.421807e+10       Healthcare       Healthcare   \n",
       "1  New York Stock Exchange  5.374967e+09  Basic Materials  Basic Materials   \n",
       "2  New York Stock Exchange  6.372010e+07       Healthcare       Healthcare   \n",
       "\n",
       "                    tag 2                           tag 3  \\\n",
       "0  Diagnostics & Research  Medical Diagnostics & Research   \n",
       "1                Aluminum                 Metals & Mining   \n",
       "2            Medical Care           Health Care Providers   \n",
       "\n",
       "                                   peer_string  \\\n",
       "0  TMO,PKI,DHR,TER,NATI,ILMN,AME,BRKR,GE,SPMYY   \n",
       "1            ACH,KALU,CENX,NHYDY,AWCMY,BBL,BHP   \n",
       "2                           SEM,ACHC,USPH,BICX   \n",
       "\n",
       "                                           peer_list  \n",
       "0  [TMO, PKI, DHR, TER, NATI, ILMN, AME, BRKR, GE...  \n",
       "1          [ACH, KALU, CENX, NHYDY, AWCMY, BBL, BHP]  \n",
       "2                            [SEM, ACHC, USPH, BICX]  "
      ]
     },
     "execution_count": 14,
     "metadata": {},
     "output_type": "execute_result"
    }
   ],
   "source": [
    "# add peer data to company info\n",
    "company_info_df = company_info_df.merge(peer_df, \n",
    "                                        on = 'ticker',\n",
    "                                        how='left',\n",
    "                                        validate='1:1')\n",
    "company_info_df.head(3)"
   ]
  },
  {
   "cell_type": "markdown",
   "metadata": {},
   "source": [
    "### 2.2 Fundamental indicators\n",
    "The Simfin API others a bulk download of fundamental data traded on American stock exchanges.\n",
    "From the Pandas Profiling report the following insights can be gathered:\n",
    "- Income statement: \n",
    "    - data for 2296 ticker symbols available.\n",
    "    - column \"Revenue\" has low number of missing values.\n",
    "    - Fiscal Years: data availability after 2010 is good, but no before.\n",
    "- Balance sheet:\n",
    "    - data for 2297 ticker symbols available.\n",
    "    - Fiscal Years: data availability after 2010 is good, but no before.\n",
    "- Cashflow statement:\n",
    "    - data for 2296 ticker symbols available.\n",
    "    - Fiscal Years: data availability after 2010 is good, but no before.\n",
    "    - column \"Shares (Basic)\" has low number of missing values.\n",
    "    - column \"Dividents Paid\" has high number of missing values (50%).\n",
    "        - data cleansing: NA values are replaced with Zero.\n",
    "        - this way the missing data has no effect on the overall ROIC calculation.\n",
    "        - this is however a cause of potential errors in the KPI.\n",
    "    - column \"Net Cash from Investing Activities\" has low number of missing values.\n",
    "\n",
    "However the number of Ticker symbols with data overlapping with those in the symbol list derived from the company information data set is considerably lower:\n",
    "- Available symbols in data set cashflow_df: 1660 of total 4545\n",
    "- Available symbols in data set income_sm_df: 1660 of total 4545\n",
    "- Available symbols in data set balance_st_df: 1661 of total 4545\n",
    "\n",
    "Since the fundamental data is at the core of value investing strategies, the symbol list will be reduced to the 1660 tickers with available fundamental data"
   ]
  },
  {
   "cell_type": "code",
   "execution_count": 17,
   "metadata": {},
   "outputs": [],
   "source": [
    "# initialize simfin API\n",
    "init_simfin_api()\n",
    "sf.set_api_key(\"63QS1kmWV1MEWj7lnQNJUc9T2C1yN3gu\")"
   ]
  },
  {
   "cell_type": "code",
   "execution_count": 18,
   "metadata": {},
   "outputs": [
    {
     "name": "stdout",
     "output_type": "stream",
     "text": [
      "Dataset \"us-cashflow-annual\" on disk (286 days old).\n",
      "- Downloading ... 100.0%\n",
      "- Extracting zip-file ... Done!\n",
      "- Loading from disk ... Done!\n",
      "Dataset \"us-income-annual\" on disk (286 days old).\n",
      "- Downloading ... 100.0%\n",
      "- Extracting zip-file ... Done!\n",
      "- Loading from disk ... Done!\n",
      "Dataset \"us-balance-annual\" on disk (264 days old).\n",
      "- Downloading ... 100.0%\n",
      "- Extracting zip-file ... Done!\n",
      "- Loading from disk ... Done!\n"
     ]
    }
   ],
   "source": [
    "market='us'\n",
    "variant='annual'\n",
    "# download cashflow data from the SimFin server and load into a Pandas DataFrame.\n",
    "cashflow_df = sf.load_cashflow(variant=variant, market=market)\n",
    "cashflow_df = cashflow_df.reset_index()\n",
    "# Download the data from the SimFin server and load into a Pandas DataFrame.\n",
    "income_sm_df = sf.load_income(variant=variant, market=market)\n",
    "income_sm_df = income_sm_df.reset_index()\n",
    "# Download the data from the SimFin server and load into a Pandas DataFrame.\n",
    "balance_st_df = sf.load_balance(variant=variant, market=market)\n",
    "balance_st_df = balance_st_df.reset_index()"
   ]
  },
  {
   "cell_type": "code",
   "execution_count": 19,
   "metadata": {},
   "outputs": [
    {
     "data": {
      "application/vnd.jupyter.widget-view+json": {
       "model_id": "5315d24953e54779ab2341089cec31bd",
       "version_major": 2,
       "version_minor": 0
      },
      "text/plain": [
       "Summarize dataset:   0%|          | 0/5 [00:00<?, ?it/s]"
      ]
     },
     "metadata": {},
     "output_type": "display_data"
    },
    {
     "data": {
      "application/vnd.jupyter.widget-view+json": {
       "model_id": "8dcccb9254574e6fb3a232eaf06cd196",
       "version_major": 2,
       "version_minor": 0
      },
      "text/plain": [
       "Generate report structure:   0%|          | 0/1 [00:00<?, ?it/s]"
      ]
     },
     "metadata": {},
     "output_type": "display_data"
    },
    {
     "data": {
      "application/vnd.jupyter.widget-view+json": {
       "model_id": "d6942af157304ed0a1afdc786e3c752c",
       "version_major": 2,
       "version_minor": 0
      },
      "text/plain": [
       "Render HTML:   0%|          | 0/1 [00:00<?, ?it/s]"
      ]
     },
     "metadata": {},
     "output_type": "display_data"
    },
    {
     "data": {
      "application/vnd.jupyter.widget-view+json": {
       "model_id": "564ab2ffab614be19afb68a4aaa14948",
       "version_major": 2,
       "version_minor": 0
      },
      "text/plain": [
       "Export report to file:   0%|          | 0/1 [00:00<?, ?it/s]"
      ]
     },
     "metadata": {},
     "output_type": "display_data"
    },
    {
     "name": "stdout",
     "output_type": "stream",
     "text": [
      "\n",
      "Pandas profiling report of file cashflow_df created\n",
      "\n",
      "\n"
     ]
    },
    {
     "data": {
      "application/vnd.jupyter.widget-view+json": {
       "model_id": "3fd5123d9cc2450c8ae67f3fa10d2a8c",
       "version_major": 2,
       "version_minor": 0
      },
      "text/plain": [
       "Summarize dataset:   0%|          | 0/5 [00:00<?, ?it/s]"
      ]
     },
     "metadata": {},
     "output_type": "display_data"
    },
    {
     "data": {
      "application/vnd.jupyter.widget-view+json": {
       "model_id": "db9831123d3245379a6a4cc8181b9888",
       "version_major": 2,
       "version_minor": 0
      },
      "text/plain": [
       "Generate report structure:   0%|          | 0/1 [00:00<?, ?it/s]"
      ]
     },
     "metadata": {},
     "output_type": "display_data"
    },
    {
     "data": {
      "application/vnd.jupyter.widget-view+json": {
       "model_id": "2f5279f0554845ef8dde959497d8a609",
       "version_major": 2,
       "version_minor": 0
      },
      "text/plain": [
       "Render HTML:   0%|          | 0/1 [00:00<?, ?it/s]"
      ]
     },
     "metadata": {},
     "output_type": "display_data"
    },
    {
     "data": {
      "application/vnd.jupyter.widget-view+json": {
       "model_id": "7ed7f08f11e143eeb3b13ef376d1f134",
       "version_major": 2,
       "version_minor": 0
      },
      "text/plain": [
       "Export report to file:   0%|          | 0/1 [00:00<?, ?it/s]"
      ]
     },
     "metadata": {},
     "output_type": "display_data"
    },
    {
     "name": "stdout",
     "output_type": "stream",
     "text": [
      "\n",
      "Pandas profiling report of file income_sm_df created\n",
      "\n",
      "\n"
     ]
    },
    {
     "data": {
      "application/vnd.jupyter.widget-view+json": {
       "model_id": "c03bc5d095c647c7bead7986aa782c4d",
       "version_major": 2,
       "version_minor": 0
      },
      "text/plain": [
       "Summarize dataset:   0%|          | 0/5 [00:00<?, ?it/s]"
      ]
     },
     "metadata": {},
     "output_type": "display_data"
    },
    {
     "data": {
      "application/vnd.jupyter.widget-view+json": {
       "model_id": "4709012d8f72456383e68e65b7ab5a73",
       "version_major": 2,
       "version_minor": 0
      },
      "text/plain": [
       "Generate report structure:   0%|          | 0/1 [00:00<?, ?it/s]"
      ]
     },
     "metadata": {},
     "output_type": "display_data"
    },
    {
     "data": {
      "application/vnd.jupyter.widget-view+json": {
       "model_id": "e57e6e8ca0234c468b5b37869de66bf8",
       "version_major": 2,
       "version_minor": 0
      },
      "text/plain": [
       "Render HTML:   0%|          | 0/1 [00:00<?, ?it/s]"
      ]
     },
     "metadata": {},
     "output_type": "display_data"
    },
    {
     "data": {
      "application/vnd.jupyter.widget-view+json": {
       "model_id": "aee05d5664a14fceacf493417322bb50",
       "version_major": 2,
       "version_minor": 0
      },
      "text/plain": [
       "Export report to file:   0%|          | 0/1 [00:00<?, ?it/s]"
      ]
     },
     "metadata": {},
     "output_type": "display_data"
    },
    {
     "name": "stdout",
     "output_type": "stream",
     "text": [
      "\n",
      "Pandas profiling report of file balance_st_df created\n",
      "\n",
      "\n"
     ]
    }
   ],
   "source": [
    "# create Pandas Profiling Report for each DataFrame\n",
    "for df, df_name in zip([cashflow_df, income_sm_df, balance_st_df],\n",
    "                        ['cashflow_df', 'income_sm_df', 'balance_st_df']):\n",
    "    create_pandas_profiling_report(df, df_name)"
   ]
  },
  {
   "cell_type": "code",
   "execution_count": 20,
   "metadata": {},
   "outputs": [
    {
     "name": "stdout",
     "output_type": "stream",
     "text": [
      "Available symbols in data set cashflow_df: 1714 of total 4243\n",
      "Available symbols in data set income_sm_df: 1714 of total 4243\n",
      "Available symbols in data set balance_st_df: 1714 of total 4243\n"
     ]
    }
   ],
   "source": [
    "# check availability of fundamental data for stocks in symbol list\n",
    "for df, df_name in zip([cashflow_df, income_sm_df, balance_st_df],\n",
    "                        ['cashflow_df', 'income_sm_df', 'balance_st_df']):\n",
    "    symbol_cnt = len(symbol_list)\n",
    "    available_symbol_cnt = df[df['Ticker'].isin(symbol_list)]['Ticker'].nunique()\n",
    "    print(f'Available symbols in data set {df_name}: {available_symbol_cnt} of total {symbol_cnt}')"
   ]
  },
  {
   "cell_type": "code",
   "execution_count": 21,
   "metadata": {},
   "outputs": [],
   "source": [
    "# determine time period for analysis\n",
    "period_dict = {'start_date':2010,\n",
    "                'end_date':2019}"
   ]
  },
  {
   "cell_type": "code",
   "execution_count": 22,
   "metadata": {},
   "outputs": [
    {
     "name": "stdout",
     "output_type": "stream",
     "text": [
      "Dataset \"us-cashflow-annual\" on disk (0 days old).\n",
      "- Loading from disk ... Done!\n",
      "Dataset \"us-income-annual\" on disk (0 days old).\n",
      "- Loading from disk ... Done!\n",
      "Dataset \"us-balance-annual\" on disk (0 days old).\n",
      "- Loading from disk ... Done!\n",
      "Symbols with available fundamental data: 1714\n",
      "Combined all fundamental data from financial statements to one Dataframe.\n",
      "Calculated roic and added it to Dataframe\n",
      "Calculated eps and added it to Dataframe\n",
      "Calculated bvps and added it to Dataframe\n",
      "Calculated fcf and added it to Dataframe\n",
      "top5 KPIs added to fundamental data\n"
     ]
    },
    {
     "data": {
      "text/html": [
       "<div>\n",
       "<style scoped>\n",
       "    .dataframe tbody tr th:only-of-type {\n",
       "        vertical-align: middle;\n",
       "    }\n",
       "\n",
       "    .dataframe tbody tr th {\n",
       "        vertical-align: top;\n",
       "    }\n",
       "\n",
       "    .dataframe thead th {\n",
       "        text-align: right;\n",
       "    }\n",
       "</style>\n",
       "<table border=\"1\" class=\"dataframe\">\n",
       "  <thead>\n",
       "    <tr style=\"text-align: right;\">\n",
       "      <th></th>\n",
       "      <th>Ticker</th>\n",
       "      <th>Report Date_is</th>\n",
       "      <th>SimFinId</th>\n",
       "      <th>Currency</th>\n",
       "      <th>Fiscal Year</th>\n",
       "      <th>Fiscal Period_is</th>\n",
       "      <th>Publish Date_is</th>\n",
       "      <th>Restated Date_is</th>\n",
       "      <th>Shares (Basic)_is</th>\n",
       "      <th>Shares (Diluted)_is</th>\n",
       "      <th>...</th>\n",
       "      <th>Share Capital &amp; Additional Paid-In Capital</th>\n",
       "      <th>Treasury Stock</th>\n",
       "      <th>Retained Earnings</th>\n",
       "      <th>Total Equity</th>\n",
       "      <th>Total Liabilities &amp; Equity</th>\n",
       "      <th>Dividends Paid_clean</th>\n",
       "      <th>roic</th>\n",
       "      <th>eps</th>\n",
       "      <th>bvps</th>\n",
       "      <th>fcf</th>\n",
       "    </tr>\n",
       "  </thead>\n",
       "  <tbody>\n",
       "    <tr>\n",
       "      <th>6634</th>\n",
       "      <td>ZYNE</td>\n",
       "      <td>2017-12-31</td>\n",
       "      <td>901704</td>\n",
       "      <td>USD</td>\n",
       "      <td>2017</td>\n",
       "      <td>FY</td>\n",
       "      <td>2018-03-12</td>\n",
       "      <td>2019-03-11</td>\n",
       "      <td>12914814.0</td>\n",
       "      <td>12914814.0</td>\n",
       "      <td>...</td>\n",
       "      <td>138930454.0</td>\n",
       "      <td>NaN</td>\n",
       "      <td>-77980866.0</td>\n",
       "      <td>60949588</td>\n",
       "      <td>69054309</td>\n",
       "      <td>0.0</td>\n",
       "      <td>-0.463582</td>\n",
       "      <td>-2.478727</td>\n",
       "      <td>4.719355</td>\n",
       "      <td>-25727095.0</td>\n",
       "    </tr>\n",
       "    <tr>\n",
       "      <th>6635</th>\n",
       "      <td>ZYNE</td>\n",
       "      <td>2018-12-31</td>\n",
       "      <td>901704</td>\n",
       "      <td>USD</td>\n",
       "      <td>2018</td>\n",
       "      <td>FY</td>\n",
       "      <td>2019-03-11</td>\n",
       "      <td>2021-03-10</td>\n",
       "      <td>15308886.0</td>\n",
       "      <td>15308886.0</td>\n",
       "      <td>...</td>\n",
       "      <td>175493702.0</td>\n",
       "      <td>NaN</td>\n",
       "      <td>-117892041.0</td>\n",
       "      <td>57601661</td>\n",
       "      <td>67327443</td>\n",
       "      <td>0.0</td>\n",
       "      <td>-0.592792</td>\n",
       "      <td>-2.607059</td>\n",
       "      <td>3.762629</td>\n",
       "      <td>-32110693.0</td>\n",
       "    </tr>\n",
       "    <tr>\n",
       "      <th>6636</th>\n",
       "      <td>ZYNE</td>\n",
       "      <td>2019-12-31</td>\n",
       "      <td>901704</td>\n",
       "      <td>USD</td>\n",
       "      <td>2019</td>\n",
       "      <td>FY</td>\n",
       "      <td>2020-03-10</td>\n",
       "      <td>2021-03-10</td>\n",
       "      <td>22000203.0</td>\n",
       "      <td>22000203.0</td>\n",
       "      <td>...</td>\n",
       "      <td>226432367.0</td>\n",
       "      <td>NaN</td>\n",
       "      <td>-150835624.0</td>\n",
       "      <td>75596743</td>\n",
       "      <td>87764596</td>\n",
       "      <td>0.0</td>\n",
       "      <td>-0.375363</td>\n",
       "      <td>-1.497422</td>\n",
       "      <td>3.436184</td>\n",
       "      <td>-34688586.0</td>\n",
       "    </tr>\n",
       "  </tbody>\n",
       "</table>\n",
       "<p>3 rows × 83 columns</p>\n",
       "</div>"
      ],
      "text/plain": [
       "     Ticker Report Date_is  SimFinId Currency  Fiscal Year Fiscal Period_is  \\\n",
       "6634   ZYNE     2017-12-31    901704      USD         2017               FY   \n",
       "6635   ZYNE     2018-12-31    901704      USD         2018               FY   \n",
       "6636   ZYNE     2019-12-31    901704      USD         2019               FY   \n",
       "\n",
       "     Publish Date_is Restated Date_is  Shares (Basic)_is  Shares (Diluted)_is  \\\n",
       "6634      2018-03-12       2019-03-11         12914814.0           12914814.0   \n",
       "6635      2019-03-11       2021-03-10         15308886.0           15308886.0   \n",
       "6636      2020-03-10       2021-03-10         22000203.0           22000203.0   \n",
       "\n",
       "      ...  Share Capital & Additional Paid-In Capital  Treasury Stock  \\\n",
       "6634  ...                                 138930454.0             NaN   \n",
       "6635  ...                                 175493702.0             NaN   \n",
       "6636  ...                                 226432367.0             NaN   \n",
       "\n",
       "      Retained Earnings  Total Equity  Total Liabilities & Equity  \\\n",
       "6634        -77980866.0      60949588                    69054309   \n",
       "6635       -117892041.0      57601661                    67327443   \n",
       "6636       -150835624.0      75596743                    87764596   \n",
       "\n",
       "      Dividends Paid_clean      roic       eps      bvps         fcf  \n",
       "6634                   0.0 -0.463582 -2.478727  4.719355 -25727095.0  \n",
       "6635                   0.0 -0.592792 -2.607059  3.762629 -32110693.0  \n",
       "6636                   0.0 -0.375363 -1.497422  3.436184 -34688586.0  \n",
       "\n",
       "[3 rows x 83 columns]"
      ]
     },
     "execution_count": 22,
     "metadata": {},
     "output_type": "execute_result"
    }
   ],
   "source": [
    "# combine fundamentals and calculate top5 kpis\n",
    "fundamental_df = combine_fundamentals(symbol_list)\n",
    "# filter on relevant time period\n",
    "fundamental_df = filter_df(fundamental_df, period_dict)\n",
    "fundamental_df = calculate_top5_kpi(fundamental_df)\n",
    "# reduce symbol_list to those where fundamental data is available\n",
    "symbol_list = fundamental_df['Ticker'].unique().tolist()\n",
    "fundamental_df.tail(3)"
   ]
  },
  {
   "cell_type": "markdown",
   "metadata": {},
   "source": [
    "### 2.3 Pricing information\n",
    "Since the amount of available data is quite large, it is not possible to use Pandas Profiling here for an evaluation. Instead descriptive statistics are derived from PySpark computations\n",
    "- Number of rows in entire price data:  9.702.060\n",
    "- Data for 1655 out of 1660 ticker symbols is available via the API.\n",
    "- the price data is essential for the growth KPI calculation. Consequently the processed data will again be restricted to the ticker symbols with available price data."
   ]
  },
  {
   "cell_type": "code",
   "execution_count": 23,
   "metadata": {},
   "outputs": [
    {
     "name": "stdout",
     "output_type": "stream",
     "text": [
      "CPU times: user 6 µs, sys: 1e+03 ns, total: 7 µs\n",
      "Wall time: 13.4 µs\n"
     ]
    }
   ],
   "source": [
    "%%time\n",
    "# Download historic stock prices for symbols\n",
    "# Note: this might take a long time, consequently the code line below is commented.\n",
    "#download_ticker_prices(symbol_list)"
   ]
  },
  {
   "cell_type": "code",
   "execution_count": 24,
   "metadata": {},
   "outputs": [
    {
     "name": "stderr",
     "output_type": "stream",
     "text": [
      "                                                                                \r"
     ]
    },
    {
     "name": "stdout",
     "output_type": "stream",
     "text": [
      "root\n",
      " |-- Date: date (nullable = true)\n",
      " |-- Ticker: string (nullable = true)\n",
      " |-- Open: double (nullable = true)\n",
      " |-- High: double (nullable = true)\n",
      " |-- Low: double (nullable = true)\n",
      " |-- Close: double (nullable = true)\n",
      " |-- Adj Close: double (nullable = true)\n",
      " |-- Volume: double (nullable = true)\n",
      "\n",
      "CPU times: user 462 ms, sys: 81.1 ms, total: 543 ms\n",
      "Wall time: 17 s\n"
     ]
    }
   ],
   "source": [
    "%%time\n",
    "# load ticker prices for symbols\n",
    "price_df = load_ticker_prices(spark, symbol_list)\n",
    "# print Schema\n",
    "price_df.printSchema()"
   ]
  },
  {
   "cell_type": "code",
   "execution_count": 25,
   "metadata": {},
   "outputs": [
    {
     "data": {
      "text/html": [
       "<div>\n",
       "<style scoped>\n",
       "    .dataframe tbody tr th:only-of-type {\n",
       "        vertical-align: middle;\n",
       "    }\n",
       "\n",
       "    .dataframe tbody tr th {\n",
       "        vertical-align: top;\n",
       "    }\n",
       "\n",
       "    .dataframe thead th {\n",
       "        text-align: right;\n",
       "    }\n",
       "</style>\n",
       "<table border=\"1\" class=\"dataframe\">\n",
       "  <thead>\n",
       "    <tr style=\"text-align: right;\">\n",
       "      <th></th>\n",
       "      <th>Date</th>\n",
       "      <th>Ticker</th>\n",
       "      <th>Open</th>\n",
       "      <th>High</th>\n",
       "      <th>Low</th>\n",
       "      <th>Close</th>\n",
       "      <th>Adj Close</th>\n",
       "      <th>Volume</th>\n",
       "    </tr>\n",
       "  </thead>\n",
       "  <tbody>\n",
       "    <tr>\n",
       "      <th>0</th>\n",
       "      <td>1962-01-02</td>\n",
       "      <td>HPQ</td>\n",
       "      <td>0.131273</td>\n",
       "      <td>0.131273</td>\n",
       "      <td>0.124177</td>\n",
       "      <td>0.124177</td>\n",
       "      <td>0.046594</td>\n",
       "      <td>2480333.0</td>\n",
       "    </tr>\n",
       "    <tr>\n",
       "      <th>1</th>\n",
       "      <td>1962-01-03</td>\n",
       "      <td>HPQ</td>\n",
       "      <td>0.124177</td>\n",
       "      <td>0.124177</td>\n",
       "      <td>0.121516</td>\n",
       "      <td>0.122846</td>\n",
       "      <td>0.046094</td>\n",
       "      <td>507341.0</td>\n",
       "    </tr>\n",
       "    <tr>\n",
       "      <th>2</th>\n",
       "      <td>1962-01-04</td>\n",
       "      <td>HPQ</td>\n",
       "      <td>0.122846</td>\n",
       "      <td>0.126838</td>\n",
       "      <td>0.117968</td>\n",
       "      <td>0.120185</td>\n",
       "      <td>0.045096</td>\n",
       "      <td>845568.0</td>\n",
       "    </tr>\n",
       "  </tbody>\n",
       "</table>\n",
       "</div>"
      ],
      "text/plain": [
       "         Date Ticker      Open      High       Low     Close  Adj Close  \\\n",
       "0  1962-01-02    HPQ  0.131273  0.131273  0.124177  0.124177   0.046594   \n",
       "1  1962-01-03    HPQ  0.124177  0.124177  0.121516  0.122846   0.046094   \n",
       "2  1962-01-04    HPQ  0.122846  0.126838  0.117968  0.120185   0.045096   \n",
       "\n",
       "      Volume  \n",
       "0  2480333.0  \n",
       "1   507341.0  \n",
       "2   845568.0  "
      ]
     },
     "execution_count": 25,
     "metadata": {},
     "output_type": "execute_result"
    }
   ],
   "source": [
    "# print tail and visualize in Pandas\n",
    "price_df.limit(3).toPandas()"
   ]
  },
  {
   "cell_type": "code",
   "execution_count": 26,
   "metadata": {},
   "outputs": [
    {
     "name": "stderr",
     "output_type": "stream",
     "text": [
      "[Stage 4:========================================================>(60 + 1) / 61]\r"
     ]
    },
    {
     "name": "stdout",
     "output_type": "stream",
     "text": [
      "Number of rows in price data: 9967746\n",
      "CPU times: user 51.4 ms, sys: 2.76 ms, total: 54.2 ms\n",
      "Wall time: 14.1 s\n"
     ]
    },
    {
     "name": "stderr",
     "output_type": "stream",
     "text": [
      "                                                                                \r"
     ]
    }
   ],
   "source": [
    "%%time\n",
    "# count number of rows\n",
    "price_df_row_count = price_df.count()\n",
    "print(f'Number of rows in price data: {price_df_row_count}')"
   ]
  },
  {
   "cell_type": "code",
   "execution_count": 27,
   "metadata": {},
   "outputs": [
    {
     "name": "stderr",
     "output_type": "stream",
     "text": [
      "[Stage 7:=======================================================> (59 + 2) / 61]\r"
     ]
    },
    {
     "name": "stdout",
     "output_type": "stream",
     "text": [
      "+----------------------+\n",
      "|count(DISTINCT Ticker)|\n",
      "+----------------------+\n",
      "|                  1716|\n",
      "+----------------------+\n",
      "\n",
      "CPU times: user 54 ms, sys: 8.91 ms, total: 62.9 ms\n",
      "Wall time: 23.7 s\n"
     ]
    },
    {
     "name": "stderr",
     "output_type": "stream",
     "text": [
      "                                                                                \r"
     ]
    }
   ],
   "source": [
    "%%time\n",
    "price_df.select(F.countDistinct('Ticker')).show()"
   ]
  },
  {
   "cell_type": "code",
   "execution_count": 28,
   "metadata": {},
   "outputs": [
    {
     "name": "stderr",
     "output_type": "stream",
     "text": [
      "[Stage 13:=====================================================>  (58 + 2) / 61]\r"
     ]
    },
    {
     "name": "stdout",
     "output_type": "stream",
     "text": [
      "+----------+----------+\n",
      "| min(Date)| max(Date)|\n",
      "+----------+----------+\n",
      "|1962-01-02|2021-06-04|\n",
      "+----------+----------+\n",
      "\n",
      "CPU times: user 57.8 ms, sys: 23.3 ms, total: 81.1 ms\n",
      "Wall time: 25.3 s\n"
     ]
    },
    {
     "name": "stderr",
     "output_type": "stream",
     "text": [
      "                                                                                \r"
     ]
    }
   ],
   "source": [
    "%%time\n",
    "price_df.select(F.min('Date'),F.max('Date')).show()"
   ]
  },
  {
   "cell_type": "code",
   "execution_count": 29,
   "metadata": {},
   "outputs": [
    {
     "name": "stderr",
     "output_type": "stream",
     "text": [
      "[Stage 16:======================================================> (59 + 2) / 61]\r"
     ]
    },
    {
     "name": "stdout",
     "output_type": "stream",
     "text": [
      "CPU times: user 102 ms, sys: 3.8 ms, total: 106 ms\n",
      "Wall time: 20.5 s\n"
     ]
    },
    {
     "name": "stderr",
     "output_type": "stream",
     "text": [
      "                                                                                \r"
     ]
    }
   ],
   "source": [
    "%%time\n",
    "# restrict symbol_list to those with available price data\n",
    "symbol_list = price_df.select('Ticker').distinct().toPandas()['Ticker'].tolist()\n",
    "# filter on relevant time period\n",
    "fundamental_df = filter_symbols(fundamental_df, symbol_list)"
   ]
  },
  {
   "cell_type": "markdown",
   "metadata": {},
   "source": [
    "### 2.4 Growth KPIs\n",
    "The growth KPI calculation is calculated from indicators in the fundamental and price data sets. Two more KPIs need to be added to the fundamental data set as prequisite:\n",
    "- annual price data. In this project: mean low price of all trading days in month December.\n",
    "- annual price per earning ratio.\n",
    "\n",
    "Once this is done, alle growth KPIs that are necessary for a calculation of the intrinsic stock value can be calculated from the fundamental data set.\n",
    "\n",
    "From the Pandas Profiling report the following insights can be covered:\n",
    "- generally not many missing values with the exception of the columns rule1_gr_5yr and rule1_gr_10yr.\n",
    "- the high amount of missing values in these two columsn is created on purpose by a rule in the calculate_growth_summary function. \n",
    "    - This is done to exclude all ticker symbols with a negative growth rate in the following computations.\n",
    "    - If such an exclusion is not done, the results of the screener can be misleading. Negative growth rates can mathematically result in positive intrinsic values, even though from a business perspective this is not possible.\n",
    "- additionally there is a rule #1 quality check in place which sets the future market price (price_future) to NULL if either the roic or fcf growth rate is negative\n",
    "- Data cleansing:\n",
    "    - Since the methodolody of the intrinsic value calculation is based on the performance of the last 5 years, a rule was set to include only those symbols with data for the last 5 years.\n",
    "        - 1507 out of 1655 ticker symbols fulfill this condition.\n",
    "        - Additionally most indicators were also calculated for a 10 year time period.\n",
    "        - 10 years: 71.1% of ticker symbols have data for the entire period.\n",
    "    - it was found that the growth KPIs had infinite values which is caused by unexpected handling of missing values. For these cases it was decided to replace these infinite numbers with Null values (np.nan).\n",
    "    - future earnings per share (eps_future): negative values are replaced with null values since they would cause intrinsic stock values which cannot occur in reality.\n",
    "    - future price per earnings (pe_future): negative values are replaced with null values since they would cause intrinsic stock values which cannot occur in reality.\n",
    "- the intrinsic stock value (columns future price, sticker price, mos) is calculated for 385 symbols out of the 1507 in the dataset (25.5%). \n",
    "    - The value distribution shows that at at least 95% of the results appear to be in a realistic value range.\n",
    "    - about 1% of the intrinsic values appear to be unrealistically high.\n",
    "    - this is caused by unrealistically high growth rates which in turn appear to be cause by changes that are not yet taken into account (e.g. mergers which dramatically change shares and turnover values).\n",
    "\n",
    "    "
   ]
  },
  {
   "cell_type": "code",
   "execution_count": 30,
   "metadata": {},
   "outputs": [
    {
     "name": "stderr",
     "output_type": "stream",
     "text": [
      "                                                                                \r"
     ]
    },
    {
     "name": "stdout",
     "output_type": "stream",
     "text": [
      "CPU times: user 180 ms, sys: 21.7 ms, total: 202 ms\n",
      "Wall time: 36.8 s\n"
     ]
    },
    {
     "data": {
      "text/html": [
       "<div>\n",
       "<style scoped>\n",
       "    .dataframe tbody tr th:only-of-type {\n",
       "        vertical-align: middle;\n",
       "    }\n",
       "\n",
       "    .dataframe tbody tr th {\n",
       "        vertical-align: top;\n",
       "    }\n",
       "\n",
       "    .dataframe thead th {\n",
       "        text-align: right;\n",
       "    }\n",
       "</style>\n",
       "<table border=\"1\" class=\"dataframe\">\n",
       "  <thead>\n",
       "    <tr style=\"text-align: right;\">\n",
       "      <th></th>\n",
       "      <th>year</th>\n",
       "      <th>Ticker</th>\n",
       "      <th>mean_low_price</th>\n",
       "    </tr>\n",
       "  </thead>\n",
       "  <tbody>\n",
       "    <tr>\n",
       "      <th>15010</th>\n",
       "      <td>2019</td>\n",
       "      <td>ZUMZ</td>\n",
       "      <td>31.880000</td>\n",
       "    </tr>\n",
       "    <tr>\n",
       "      <th>15011</th>\n",
       "      <td>2019</td>\n",
       "      <td>ZUO</td>\n",
       "      <td>14.341429</td>\n",
       "    </tr>\n",
       "    <tr>\n",
       "      <th>15012</th>\n",
       "      <td>2019</td>\n",
       "      <td>ZYNE</td>\n",
       "      <td>5.738524</td>\n",
       "    </tr>\n",
       "  </tbody>\n",
       "</table>\n",
       "</div>"
      ],
      "text/plain": [
       "       year Ticker  mean_low_price\n",
       "15010  2019   ZUMZ       31.880000\n",
       "15011  2019    ZUO       14.341429\n",
       "15012  2019   ZYNE        5.738524"
      ]
     },
     "execution_count": 30,
     "metadata": {},
     "output_type": "execute_result"
    }
   ],
   "source": [
    "%%time\n",
    "# calculate annual price from historic price data\n",
    "ann_price_df = calculate_annual_price(spark, price_df, period_dict)\n",
    "ann_price_df.tail(3)"
   ]
  },
  {
   "cell_type": "code",
   "execution_count": 31,
   "metadata": {},
   "outputs": [
    {
     "data": {
      "text/html": [
       "<div>\n",
       "<style scoped>\n",
       "    .dataframe tbody tr th:only-of-type {\n",
       "        vertical-align: middle;\n",
       "    }\n",
       "\n",
       "    .dataframe tbody tr th {\n",
       "        vertical-align: top;\n",
       "    }\n",
       "\n",
       "    .dataframe thead th {\n",
       "        text-align: right;\n",
       "    }\n",
       "</style>\n",
       "<table border=\"1\" class=\"dataframe\">\n",
       "  <thead>\n",
       "    <tr style=\"text-align: right;\">\n",
       "      <th></th>\n",
       "      <th>Ticker</th>\n",
       "      <th>Report Date_is</th>\n",
       "      <th>SimFinId</th>\n",
       "      <th>Currency</th>\n",
       "      <th>Fiscal Year</th>\n",
       "      <th>Fiscal Period_is</th>\n",
       "      <th>Publish Date_is</th>\n",
       "      <th>Restated Date_is</th>\n",
       "      <th>Shares (Basic)_is</th>\n",
       "      <th>Shares (Diluted)_is</th>\n",
       "      <th>...</th>\n",
       "      <th>Retained Earnings</th>\n",
       "      <th>Total Equity</th>\n",
       "      <th>Total Liabilities &amp; Equity</th>\n",
       "      <th>Dividends Paid_clean</th>\n",
       "      <th>roic</th>\n",
       "      <th>eps</th>\n",
       "      <th>bvps</th>\n",
       "      <th>fcf</th>\n",
       "      <th>mean_low_price</th>\n",
       "      <th>pe</th>\n",
       "    </tr>\n",
       "  </thead>\n",
       "  <tbody>\n",
       "    <tr>\n",
       "      <th>6163</th>\n",
       "      <td>ZYNE</td>\n",
       "      <td>2017-12-31</td>\n",
       "      <td>901704</td>\n",
       "      <td>USD</td>\n",
       "      <td>2017</td>\n",
       "      <td>FY</td>\n",
       "      <td>2018-03-12</td>\n",
       "      <td>2019-03-11</td>\n",
       "      <td>12914814.0</td>\n",
       "      <td>12914814.0</td>\n",
       "      <td>...</td>\n",
       "      <td>-77980866.0</td>\n",
       "      <td>60949588</td>\n",
       "      <td>69054309</td>\n",
       "      <td>0.0</td>\n",
       "      <td>-0.463582</td>\n",
       "      <td>-2.478727</td>\n",
       "      <td>4.719355</td>\n",
       "      <td>-25727095.0</td>\n",
       "      <td>11.937900</td>\n",
       "      <td>-4.816141</td>\n",
       "    </tr>\n",
       "    <tr>\n",
       "      <th>6164</th>\n",
       "      <td>ZYNE</td>\n",
       "      <td>2018-12-31</td>\n",
       "      <td>901704</td>\n",
       "      <td>USD</td>\n",
       "      <td>2018</td>\n",
       "      <td>FY</td>\n",
       "      <td>2019-03-11</td>\n",
       "      <td>2021-03-10</td>\n",
       "      <td>15308886.0</td>\n",
       "      <td>15308886.0</td>\n",
       "      <td>...</td>\n",
       "      <td>-117892041.0</td>\n",
       "      <td>57601661</td>\n",
       "      <td>67327443</td>\n",
       "      <td>0.0</td>\n",
       "      <td>-0.592792</td>\n",
       "      <td>-2.607059</td>\n",
       "      <td>3.762629</td>\n",
       "      <td>-32110693.0</td>\n",
       "      <td>3.816737</td>\n",
       "      <td>-1.464001</td>\n",
       "    </tr>\n",
       "    <tr>\n",
       "      <th>6165</th>\n",
       "      <td>ZYNE</td>\n",
       "      <td>2019-12-31</td>\n",
       "      <td>901704</td>\n",
       "      <td>USD</td>\n",
       "      <td>2019</td>\n",
       "      <td>FY</td>\n",
       "      <td>2020-03-10</td>\n",
       "      <td>2021-03-10</td>\n",
       "      <td>22000203.0</td>\n",
       "      <td>22000203.0</td>\n",
       "      <td>...</td>\n",
       "      <td>-150835624.0</td>\n",
       "      <td>75596743</td>\n",
       "      <td>87764596</td>\n",
       "      <td>0.0</td>\n",
       "      <td>-0.375363</td>\n",
       "      <td>-1.497422</td>\n",
       "      <td>3.436184</td>\n",
       "      <td>-34688586.0</td>\n",
       "      <td>5.738524</td>\n",
       "      <td>-3.832270</td>\n",
       "    </tr>\n",
       "  </tbody>\n",
       "</table>\n",
       "<p>3 rows × 85 columns</p>\n",
       "</div>"
      ],
      "text/plain": [
       "     Ticker Report Date_is  SimFinId Currency  Fiscal Year Fiscal Period_is  \\\n",
       "6163   ZYNE     2017-12-31    901704      USD         2017               FY   \n",
       "6164   ZYNE     2018-12-31    901704      USD         2018               FY   \n",
       "6165   ZYNE     2019-12-31    901704      USD         2019               FY   \n",
       "\n",
       "     Publish Date_is Restated Date_is  Shares (Basic)_is  Shares (Diluted)_is  \\\n",
       "6163      2018-03-12       2019-03-11         12914814.0           12914814.0   \n",
       "6164      2019-03-11       2021-03-10         15308886.0           15308886.0   \n",
       "6165      2020-03-10       2021-03-10         22000203.0           22000203.0   \n",
       "\n",
       "      ...  Retained Earnings  Total Equity  Total Liabilities & Equity  \\\n",
       "6163  ...        -77980866.0      60949588                    69054309   \n",
       "6164  ...       -117892041.0      57601661                    67327443   \n",
       "6165  ...       -150835624.0      75596743                    87764596   \n",
       "\n",
       "      Dividends Paid_clean      roic       eps      bvps         fcf  \\\n",
       "6163                   0.0 -0.463582 -2.478727  4.719355 -25727095.0   \n",
       "6164                   0.0 -0.592792 -2.607059  3.762629 -32110693.0   \n",
       "6165                   0.0 -0.375363 -1.497422  3.436184 -34688586.0   \n",
       "\n",
       "      mean_low_price        pe  \n",
       "6163       11.937900 -4.816141  \n",
       "6164        3.816737 -1.464001  \n",
       "6165        5.738524 -3.832270  \n",
       "\n",
       "[3 rows x 85 columns]"
      ]
     },
     "execution_count": 31,
     "metadata": {},
     "output_type": "execute_result"
    }
   ],
   "source": [
    "# calculate annual price per earnings\n",
    "fundamental_df = calculate_annual_pe(ann_price_df, fundamental_df)\n",
    "fundamental_df.tail(3)"
   ]
  },
  {
   "cell_type": "code",
   "execution_count": 32,
   "metadata": {},
   "outputs": [
    {
     "name": "stdout",
     "output_type": "stream",
     "text": [
      "Calculated KPI growth from year to year.\n",
      "Calculated 5 and 10 year growth rate\n"
     ]
    },
    {
     "data": {
      "text/html": [
       "<div>\n",
       "<style scoped>\n",
       "    .dataframe tbody tr th:only-of-type {\n",
       "        vertical-align: middle;\n",
       "    }\n",
       "\n",
       "    .dataframe tbody tr th {\n",
       "        vertical-align: top;\n",
       "    }\n",
       "\n",
       "    .dataframe thead th {\n",
       "        text-align: right;\n",
       "    }\n",
       "</style>\n",
       "<table border=\"1\" class=\"dataframe\">\n",
       "  <thead>\n",
       "    <tr style=\"text-align: right;\">\n",
       "      <th></th>\n",
       "      <th>Ticker</th>\n",
       "      <th>revenue_gr_curr</th>\n",
       "      <th>eps_curr</th>\n",
       "      <th>roic_gr_5yr</th>\n",
       "      <th>revenue_gr_5yr</th>\n",
       "      <th>eps_gr_5yr</th>\n",
       "      <th>bvps_gr_5yr</th>\n",
       "      <th>fcf_gr_5yr</th>\n",
       "      <th>pe_5yr</th>\n",
       "      <th>yrs_in_5yr</th>\n",
       "      <th>...</th>\n",
       "      <th>pe_default_5yr</th>\n",
       "      <th>roic_gr_10yr</th>\n",
       "      <th>revenue_gr_10yr</th>\n",
       "      <th>eps_gr_10yr</th>\n",
       "      <th>bvps_gr_10yr</th>\n",
       "      <th>fcf_gr_10yr</th>\n",
       "      <th>pe_10yr</th>\n",
       "      <th>yrs_in_10yr</th>\n",
       "      <th>rule1_gr_10yr</th>\n",
       "      <th>pe_default_10yr</th>\n",
       "    </tr>\n",
       "  </thead>\n",
       "  <tbody>\n",
       "    <tr>\n",
       "      <th>0</th>\n",
       "      <td>ABMD</td>\n",
       "      <td>0.092862</td>\n",
       "      <td>4.493437</td>\n",
       "      <td>0.24</td>\n",
       "      <td>0.27</td>\n",
       "      <td>0.62</td>\n",
       "      <td>0.29</td>\n",
       "      <td>0.38</td>\n",
       "      <td>70.63</td>\n",
       "      <td>5</td>\n",
       "      <td>...</td>\n",
       "      <td>58.0</td>\n",
       "      <td>0.24</td>\n",
       "      <td>0.27</td>\n",
       "      <td>0.62</td>\n",
       "      <td>0.29</td>\n",
       "      <td>0.38</td>\n",
       "      <td>70.63</td>\n",
       "      <td>5</td>\n",
       "      <td>0.29</td>\n",
       "      <td>58.0</td>\n",
       "    </tr>\n",
       "    <tr>\n",
       "      <th>1</th>\n",
       "      <td>AGYS</td>\n",
       "      <td>0.141400</td>\n",
       "      <td>-1466.319459</td>\n",
       "      <td>1.11</td>\n",
       "      <td>0.08</td>\n",
       "      <td>641.86</td>\n",
       "      <td>176.47</td>\n",
       "      <td>-0.11</td>\n",
       "      <td>-28.11</td>\n",
       "      <td>5</td>\n",
       "      <td>...</td>\n",
       "      <td>35294.0</td>\n",
       "      <td>1.11</td>\n",
       "      <td>0.08</td>\n",
       "      <td>641.86</td>\n",
       "      <td>176.47</td>\n",
       "      <td>-0.11</td>\n",
       "      <td>-28.11</td>\n",
       "      <td>5</td>\n",
       "      <td>176.47</td>\n",
       "      <td>35294.0</td>\n",
       "    </tr>\n",
       "    <tr>\n",
       "      <th>2</th>\n",
       "      <td>AMSC</td>\n",
       "      <td>0.135766</td>\n",
       "      <td>-0.814677</td>\n",
       "      <td>-0.56</td>\n",
       "      <td>-0.07</td>\n",
       "      <td>-0.84</td>\n",
       "      <td>-0.09</td>\n",
       "      <td>0.08</td>\n",
       "      <td>-2.04</td>\n",
       "      <td>5</td>\n",
       "      <td>...</td>\n",
       "      <td>NaN</td>\n",
       "      <td>-0.56</td>\n",
       "      <td>-0.07</td>\n",
       "      <td>-0.84</td>\n",
       "      <td>-0.09</td>\n",
       "      <td>0.08</td>\n",
       "      <td>-2.04</td>\n",
       "      <td>5</td>\n",
       "      <td>NaN</td>\n",
       "      <td>NaN</td>\n",
       "    </tr>\n",
       "  </tbody>\n",
       "</table>\n",
       "<p>3 rows × 21 columns</p>\n",
       "</div>"
      ],
      "text/plain": [
       "  Ticker  revenue_gr_curr     eps_curr  roic_gr_5yr  revenue_gr_5yr  \\\n",
       "0   ABMD         0.092862     4.493437         0.24            0.27   \n",
       "1   AGYS         0.141400 -1466.319459         1.11            0.08   \n",
       "2   AMSC         0.135766    -0.814677        -0.56           -0.07   \n",
       "\n",
       "   eps_gr_5yr  bvps_gr_5yr  fcf_gr_5yr  pe_5yr  yrs_in_5yr  ...  \\\n",
       "0        0.62         0.29        0.38   70.63           5  ...   \n",
       "1      641.86       176.47       -0.11  -28.11           5  ...   \n",
       "2       -0.84        -0.09        0.08   -2.04           5  ...   \n",
       "\n",
       "   pe_default_5yr  roic_gr_10yr  revenue_gr_10yr  eps_gr_10yr  bvps_gr_10yr  \\\n",
       "0            58.0          0.24             0.27         0.62          0.29   \n",
       "1         35294.0          1.11             0.08       641.86        176.47   \n",
       "2             NaN         -0.56            -0.07        -0.84         -0.09   \n",
       "\n",
       "   fcf_gr_10yr  pe_10yr  yrs_in_10yr  rule1_gr_10yr  pe_default_10yr  \n",
       "0         0.38    70.63            5           0.29             58.0  \n",
       "1        -0.11   -28.11            5         176.47          35294.0  \n",
       "2         0.08    -2.04            5            NaN              NaN  \n",
       "\n",
       "[3 rows x 21 columns]"
      ]
     },
     "execution_count": 32,
     "metadata": {},
     "output_type": "execute_result"
    }
   ],
   "source": [
    "# calculate growth kpi df\n",
    "growth_df = calculate_growth_rates(fundamental_df, agg_func='mean')\n",
    "growth_df.head(3)"
   ]
  },
  {
   "cell_type": "code",
   "execution_count": 33,
   "metadata": {},
   "outputs": [
    {
     "data": {
      "text/html": [
       "<div>\n",
       "<style scoped>\n",
       "    .dataframe tbody tr th:only-of-type {\n",
       "        vertical-align: middle;\n",
       "    }\n",
       "\n",
       "    .dataframe tbody tr th {\n",
       "        vertical-align: top;\n",
       "    }\n",
       "\n",
       "    .dataframe thead th {\n",
       "        text-align: right;\n",
       "    }\n",
       "</style>\n",
       "<table border=\"1\" class=\"dataframe\">\n",
       "  <thead>\n",
       "    <tr style=\"text-align: right;\">\n",
       "      <th></th>\n",
       "      <th>Ticker</th>\n",
       "      <th>revenue_gr_curr</th>\n",
       "      <th>eps_curr</th>\n",
       "      <th>roic_gr_5yr</th>\n",
       "      <th>revenue_gr_5yr</th>\n",
       "      <th>eps_gr_5yr</th>\n",
       "      <th>bvps_gr_5yr</th>\n",
       "      <th>fcf_gr_5yr</th>\n",
       "      <th>pe_5yr</th>\n",
       "      <th>yrs_in_5yr</th>\n",
       "      <th>...</th>\n",
       "      <th>fcf_gr_10yr</th>\n",
       "      <th>pe_10yr</th>\n",
       "      <th>yrs_in_10yr</th>\n",
       "      <th>rule1_gr_10yr</th>\n",
       "      <th>pe_default_10yr</th>\n",
       "      <th>pe_future</th>\n",
       "      <th>eps_future</th>\n",
       "      <th>price_future</th>\n",
       "      <th>sticker_price</th>\n",
       "      <th>mos</th>\n",
       "    </tr>\n",
       "  </thead>\n",
       "  <tbody>\n",
       "    <tr>\n",
       "      <th>0</th>\n",
       "      <td>ABMD</td>\n",
       "      <td>0.092862</td>\n",
       "      <td>4.493437</td>\n",
       "      <td>0.24</td>\n",
       "      <td>0.27</td>\n",
       "      <td>0.62</td>\n",
       "      <td>0.29</td>\n",
       "      <td>0.38</td>\n",
       "      <td>70.63</td>\n",
       "      <td>5</td>\n",
       "      <td>...</td>\n",
       "      <td>0.38</td>\n",
       "      <td>70.63</td>\n",
       "      <td>5</td>\n",
       "      <td>0.29</td>\n",
       "      <td>58.0</td>\n",
       "      <td>58.0</td>\n",
       "      <td>57.342389</td>\n",
       "      <td>3325.85855</td>\n",
       "      <td>822.101368</td>\n",
       "      <td>411.050684</td>\n",
       "    </tr>\n",
       "    <tr>\n",
       "      <th>1</th>\n",
       "      <td>AGYS</td>\n",
       "      <td>0.141400</td>\n",
       "      <td>-1466.319459</td>\n",
       "      <td>1.11</td>\n",
       "      <td>0.08</td>\n",
       "      <td>641.86</td>\n",
       "      <td>176.47</td>\n",
       "      <td>-0.11</td>\n",
       "      <td>-28.11</td>\n",
       "      <td>5</td>\n",
       "      <td>...</td>\n",
       "      <td>-0.11</td>\n",
       "      <td>-28.11</td>\n",
       "      <td>5</td>\n",
       "      <td>176.47</td>\n",
       "      <td>35294.0</td>\n",
       "      <td>NaN</td>\n",
       "      <td>NaN</td>\n",
       "      <td>NaN</td>\n",
       "      <td>NaN</td>\n",
       "      <td>NaN</td>\n",
       "    </tr>\n",
       "    <tr>\n",
       "      <th>2</th>\n",
       "      <td>AMSC</td>\n",
       "      <td>0.135766</td>\n",
       "      <td>-0.814677</td>\n",
       "      <td>-0.56</td>\n",
       "      <td>-0.07</td>\n",
       "      <td>-0.84</td>\n",
       "      <td>-0.09</td>\n",
       "      <td>0.08</td>\n",
       "      <td>-2.04</td>\n",
       "      <td>5</td>\n",
       "      <td>...</td>\n",
       "      <td>0.08</td>\n",
       "      <td>-2.04</td>\n",
       "      <td>5</td>\n",
       "      <td>NaN</td>\n",
       "      <td>NaN</td>\n",
       "      <td>NaN</td>\n",
       "      <td>NaN</td>\n",
       "      <td>NaN</td>\n",
       "      <td>NaN</td>\n",
       "      <td>NaN</td>\n",
       "    </tr>\n",
       "  </tbody>\n",
       "</table>\n",
       "<p>3 rows × 26 columns</p>\n",
       "</div>"
      ],
      "text/plain": [
       "  Ticker  revenue_gr_curr     eps_curr  roic_gr_5yr  revenue_gr_5yr  \\\n",
       "0   ABMD         0.092862     4.493437         0.24            0.27   \n",
       "1   AGYS         0.141400 -1466.319459         1.11            0.08   \n",
       "2   AMSC         0.135766    -0.814677        -0.56           -0.07   \n",
       "\n",
       "   eps_gr_5yr  bvps_gr_5yr  fcf_gr_5yr  pe_5yr  yrs_in_5yr  ...  fcf_gr_10yr  \\\n",
       "0        0.62         0.29        0.38   70.63           5  ...         0.38   \n",
       "1      641.86       176.47       -0.11  -28.11           5  ...        -0.11   \n",
       "2       -0.84        -0.09        0.08   -2.04           5  ...         0.08   \n",
       "\n",
       "   pe_10yr  yrs_in_10yr  rule1_gr_10yr  pe_default_10yr  pe_future  \\\n",
       "0    70.63            5           0.29             58.0       58.0   \n",
       "1   -28.11            5         176.47          35294.0        NaN   \n",
       "2    -2.04            5            NaN              NaN        NaN   \n",
       "\n",
       "   eps_future  price_future  sticker_price         mos  \n",
       "0   57.342389    3325.85855     822.101368  411.050684  \n",
       "1         NaN           NaN            NaN         NaN  \n",
       "2         NaN           NaN            NaN         NaN  \n",
       "\n",
       "[3 rows x 26 columns]"
      ]
     },
     "execution_count": 33,
     "metadata": {},
     "output_type": "execute_result"
    }
   ],
   "source": [
    "growth_df = calculate_sticker_price(growth_df, fp=10, exp_rr=0.15)\n",
    "growth_df.head(3)"
   ]
  },
  {
   "cell_type": "code",
   "execution_count": 34,
   "metadata": {},
   "outputs": [
    {
     "data": {
      "application/vnd.jupyter.widget-view+json": {
       "model_id": "8637a0f70572404ebb2f58adf6830a5b",
       "version_major": 2,
       "version_minor": 0
      },
      "text/plain": [
       "Summarize dataset:   0%|          | 0/5 [00:00<?, ?it/s]"
      ]
     },
     "metadata": {},
     "output_type": "display_data"
    },
    {
     "data": {
      "application/vnd.jupyter.widget-view+json": {
       "model_id": "c54e6760c5574582b59eaef295fc0300",
       "version_major": 2,
       "version_minor": 0
      },
      "text/plain": [
       "Generate report structure:   0%|          | 0/1 [00:00<?, ?it/s]"
      ]
     },
     "metadata": {},
     "output_type": "display_data"
    },
    {
     "data": {
      "application/vnd.jupyter.widget-view+json": {
       "model_id": "b5411fe86b174cb58764a080f55bdb25",
       "version_major": 2,
       "version_minor": 0
      },
      "text/plain": [
       "Render HTML:   0%|          | 0/1 [00:00<?, ?it/s]"
      ]
     },
     "metadata": {},
     "output_type": "display_data"
    },
    {
     "data": {
      "application/vnd.jupyter.widget-view+json": {
       "model_id": "00278e5a9309475f8f3b659ff5f91ebc",
       "version_major": 2,
       "version_minor": 0
      },
      "text/plain": [
       "Export report to file:   0%|          | 0/1 [00:00<?, ?it/s]"
      ]
     },
     "metadata": {},
     "output_type": "display_data"
    },
    {
     "name": "stdout",
     "output_type": "stream",
     "text": [
      "\n",
      "Pandas profiling report of file growth_df created\n",
      "\n",
      "\n"
     ]
    }
   ],
   "source": [
    "# create pandas profiling report of growth kpi dataset\n",
    "create_pandas_profiling_report(growth_df, 'growth_df')"
   ]
  },
  {
   "cell_type": "code",
   "execution_count": 35,
   "metadata": {},
   "outputs": [
    {
     "data": {
      "text/plain": [
       "count       15.000000\n",
       "mean      4501.978221\n",
       "std      17107.361232\n",
       "min          7.385125\n",
       "3%           8.006221\n",
       "4%           8.213253\n",
       "5%           8.420285\n",
       "10%          9.632734\n",
       "20%         19.114548\n",
       "30%         32.349187\n",
       "40%         35.103926\n",
       "50%         38.509094\n",
       "60%         58.976125\n",
       "70%        101.355129\n",
       "80%        144.168356\n",
       "90%        341.378396\n",
       "95%      20189.783863\n",
       "98%      47880.010314\n",
       "99%      57110.085798\n",
       "max      66340.161282\n",
       "Name: mos, dtype: float64"
      ]
     },
     "execution_count": 35,
     "metadata": {},
     "output_type": "execute_result"
    }
   ],
   "source": [
    "# analysis of extreme values for margin of safety based on findings in profiling report\n",
    "growth_df['mos'].describe(percentiles=[.03, .04, .05, .1, .2, .3, .4, .5, .6, .7, .8, .9, .95, .98, .99])"
   ]
  },
  {
   "cell_type": "code",
   "execution_count": 36,
   "metadata": {},
   "outputs": [
    {
     "ename": "IndexError",
     "evalue": "single positional indexer is out-of-bounds",
     "output_type": "error",
     "traceback": [
      "\u001b[0;31m---------------------------------------------------------------------------\u001b[0m",
      "\u001b[0;31mIndexError\u001b[0m                                Traceback (most recent call last)",
      "\u001b[0;32m/tmp/ipykernel_14694/379819996.py\u001b[0m in \u001b[0;36m<module>\u001b[0;34m\u001b[0m\n\u001b[1;32m      1\u001b[0m \u001b[0;31m# analysis of extreme cases: negative mos\u001b[0m\u001b[0;34m\u001b[0m\u001b[0;34m\u001b[0m\u001b[0;34m\u001b[0m\u001b[0m\n\u001b[0;32m----> 2\u001b[0;31m \u001b[0mgrowth_df\u001b[0m\u001b[0;34m[\u001b[0m\u001b[0mgrowth_df\u001b[0m\u001b[0;34m[\u001b[0m\u001b[0;34m'mos'\u001b[0m\u001b[0;34m]\u001b[0m\u001b[0;34m<=\u001b[0m\u001b[0;36m1e-01\u001b[0m\u001b[0;34m]\u001b[0m\u001b[0;34m.\u001b[0m\u001b[0miloc\u001b[0m\u001b[0;34m[\u001b[0m\u001b[0;36m0\u001b[0m\u001b[0;34m]\u001b[0m\u001b[0;34m\u001b[0m\u001b[0;34m\u001b[0m\u001b[0m\n\u001b[0m",
      "\u001b[0;32m~/01_projects/10_py37_dataeng_venv/.venv/lib/python3.7/site-packages/pandas/core/indexing.py\u001b[0m in \u001b[0;36m__getitem__\u001b[0;34m(self, key)\u001b[0m\n\u001b[1;32m    929\u001b[0m \u001b[0;34m\u001b[0m\u001b[0m\n\u001b[1;32m    930\u001b[0m             \u001b[0mmaybe_callable\u001b[0m \u001b[0;34m=\u001b[0m \u001b[0mcom\u001b[0m\u001b[0;34m.\u001b[0m\u001b[0mapply_if_callable\u001b[0m\u001b[0;34m(\u001b[0m\u001b[0mkey\u001b[0m\u001b[0;34m,\u001b[0m \u001b[0mself\u001b[0m\u001b[0;34m.\u001b[0m\u001b[0mobj\u001b[0m\u001b[0;34m)\u001b[0m\u001b[0;34m\u001b[0m\u001b[0;34m\u001b[0m\u001b[0m\n\u001b[0;32m--> 931\u001b[0;31m             \u001b[0;32mreturn\u001b[0m \u001b[0mself\u001b[0m\u001b[0;34m.\u001b[0m\u001b[0m_getitem_axis\u001b[0m\u001b[0;34m(\u001b[0m\u001b[0mmaybe_callable\u001b[0m\u001b[0;34m,\u001b[0m \u001b[0maxis\u001b[0m\u001b[0;34m=\u001b[0m\u001b[0maxis\u001b[0m\u001b[0;34m)\u001b[0m\u001b[0;34m\u001b[0m\u001b[0;34m\u001b[0m\u001b[0m\n\u001b[0m\u001b[1;32m    932\u001b[0m \u001b[0;34m\u001b[0m\u001b[0m\n\u001b[1;32m    933\u001b[0m     \u001b[0;32mdef\u001b[0m \u001b[0m_is_scalar_access\u001b[0m\u001b[0;34m(\u001b[0m\u001b[0mself\u001b[0m\u001b[0;34m,\u001b[0m \u001b[0mkey\u001b[0m\u001b[0;34m:\u001b[0m \u001b[0mtuple\u001b[0m\u001b[0;34m)\u001b[0m\u001b[0;34m:\u001b[0m\u001b[0;34m\u001b[0m\u001b[0;34m\u001b[0m\u001b[0m\n",
      "\u001b[0;32m~/01_projects/10_py37_dataeng_venv/.venv/lib/python3.7/site-packages/pandas/core/indexing.py\u001b[0m in \u001b[0;36m_getitem_axis\u001b[0;34m(self, key, axis)\u001b[0m\n\u001b[1;32m   1564\u001b[0m \u001b[0;34m\u001b[0m\u001b[0m\n\u001b[1;32m   1565\u001b[0m             \u001b[0;31m# validate the location\u001b[0m\u001b[0;34m\u001b[0m\u001b[0;34m\u001b[0m\u001b[0;34m\u001b[0m\u001b[0m\n\u001b[0;32m-> 1566\u001b[0;31m             \u001b[0mself\u001b[0m\u001b[0;34m.\u001b[0m\u001b[0m_validate_integer\u001b[0m\u001b[0;34m(\u001b[0m\u001b[0mkey\u001b[0m\u001b[0;34m,\u001b[0m \u001b[0maxis\u001b[0m\u001b[0;34m)\u001b[0m\u001b[0;34m\u001b[0m\u001b[0;34m\u001b[0m\u001b[0m\n\u001b[0m\u001b[1;32m   1567\u001b[0m \u001b[0;34m\u001b[0m\u001b[0m\n\u001b[1;32m   1568\u001b[0m             \u001b[0;32mreturn\u001b[0m \u001b[0mself\u001b[0m\u001b[0;34m.\u001b[0m\u001b[0mobj\u001b[0m\u001b[0;34m.\u001b[0m\u001b[0m_ixs\u001b[0m\u001b[0;34m(\u001b[0m\u001b[0mkey\u001b[0m\u001b[0;34m,\u001b[0m \u001b[0maxis\u001b[0m\u001b[0;34m=\u001b[0m\u001b[0maxis\u001b[0m\u001b[0;34m)\u001b[0m\u001b[0;34m\u001b[0m\u001b[0;34m\u001b[0m\u001b[0m\n",
      "\u001b[0;32m~/01_projects/10_py37_dataeng_venv/.venv/lib/python3.7/site-packages/pandas/core/indexing.py\u001b[0m in \u001b[0;36m_validate_integer\u001b[0;34m(self, key, axis)\u001b[0m\n\u001b[1;32m   1498\u001b[0m         \u001b[0mlen_axis\u001b[0m \u001b[0;34m=\u001b[0m \u001b[0mlen\u001b[0m\u001b[0;34m(\u001b[0m\u001b[0mself\u001b[0m\u001b[0;34m.\u001b[0m\u001b[0mobj\u001b[0m\u001b[0;34m.\u001b[0m\u001b[0m_get_axis\u001b[0m\u001b[0;34m(\u001b[0m\u001b[0maxis\u001b[0m\u001b[0;34m)\u001b[0m\u001b[0;34m)\u001b[0m\u001b[0;34m\u001b[0m\u001b[0;34m\u001b[0m\u001b[0m\n\u001b[1;32m   1499\u001b[0m         \u001b[0;32mif\u001b[0m \u001b[0mkey\u001b[0m \u001b[0;34m>=\u001b[0m \u001b[0mlen_axis\u001b[0m \u001b[0;32mor\u001b[0m \u001b[0mkey\u001b[0m \u001b[0;34m<\u001b[0m \u001b[0;34m-\u001b[0m\u001b[0mlen_axis\u001b[0m\u001b[0;34m:\u001b[0m\u001b[0;34m\u001b[0m\u001b[0;34m\u001b[0m\u001b[0m\n\u001b[0;32m-> 1500\u001b[0;31m             \u001b[0;32mraise\u001b[0m \u001b[0mIndexError\u001b[0m\u001b[0;34m(\u001b[0m\u001b[0;34m\"single positional indexer is out-of-bounds\"\u001b[0m\u001b[0;34m)\u001b[0m\u001b[0;34m\u001b[0m\u001b[0;34m\u001b[0m\u001b[0m\n\u001b[0m\u001b[1;32m   1501\u001b[0m \u001b[0;34m\u001b[0m\u001b[0m\n\u001b[1;32m   1502\u001b[0m     \u001b[0;31m# -------------------------------------------------------------------\u001b[0m\u001b[0;34m\u001b[0m\u001b[0;34m\u001b[0m\u001b[0;34m\u001b[0m\u001b[0m\n",
      "\u001b[0;31mIndexError\u001b[0m: single positional indexer is out-of-bounds"
     ]
    }
   ],
   "source": [
    "# analysis of extreme cases: negative mos\n",
    "# growth_df[growth_df['mos']<=1e-01].iloc[0]"
   ]
  },
  {
   "cell_type": "code",
   "execution_count": 37,
   "metadata": {},
   "outputs": [
    {
     "ename": "IndexError",
     "evalue": "single positional indexer is out-of-bounds",
     "output_type": "error",
     "traceback": [
      "\u001b[0;31m---------------------------------------------------------------------------\u001b[0m",
      "\u001b[0;31mIndexError\u001b[0m                                Traceback (most recent call last)",
      "\u001b[0;32m/tmp/ipykernel_14694/2404710621.py\u001b[0m in \u001b[0;36m<module>\u001b[0;34m\u001b[0m\n\u001b[1;32m      1\u001b[0m \u001b[0;31m# analyis of extreme cases: unrealistically high mos\u001b[0m\u001b[0;34m\u001b[0m\u001b[0;34m\u001b[0m\u001b[0;34m\u001b[0m\u001b[0m\n\u001b[1;32m      2\u001b[0m \u001b[0;31m# analysis of extreme cases: negative mos\u001b[0m\u001b[0;34m\u001b[0m\u001b[0;34m\u001b[0m\u001b[0;34m\u001b[0m\u001b[0m\n\u001b[0;32m----> 3\u001b[0;31m \u001b[0mgrowth_df\u001b[0m\u001b[0;34m[\u001b[0m\u001b[0mgrowth_df\u001b[0m\u001b[0;34m[\u001b[0m\u001b[0;34m'mos'\u001b[0m\u001b[0;34m]\u001b[0m\u001b[0;34m>=\u001b[0m\u001b[0;34m(\u001b[0m\u001b[0;36m1.0e10\u001b[0m\u001b[0;34m)\u001b[0m\u001b[0;34m]\u001b[0m\u001b[0;34m.\u001b[0m\u001b[0miloc\u001b[0m\u001b[0;34m[\u001b[0m\u001b[0;36m0\u001b[0m\u001b[0;34m]\u001b[0m\u001b[0;34m\u001b[0m\u001b[0;34m\u001b[0m\u001b[0m\n\u001b[0m",
      "\u001b[0;32m~/01_projects/10_py37_dataeng_venv/.venv/lib/python3.7/site-packages/pandas/core/indexing.py\u001b[0m in \u001b[0;36m__getitem__\u001b[0;34m(self, key)\u001b[0m\n\u001b[1;32m    929\u001b[0m \u001b[0;34m\u001b[0m\u001b[0m\n\u001b[1;32m    930\u001b[0m             \u001b[0mmaybe_callable\u001b[0m \u001b[0;34m=\u001b[0m \u001b[0mcom\u001b[0m\u001b[0;34m.\u001b[0m\u001b[0mapply_if_callable\u001b[0m\u001b[0;34m(\u001b[0m\u001b[0mkey\u001b[0m\u001b[0;34m,\u001b[0m \u001b[0mself\u001b[0m\u001b[0;34m.\u001b[0m\u001b[0mobj\u001b[0m\u001b[0;34m)\u001b[0m\u001b[0;34m\u001b[0m\u001b[0;34m\u001b[0m\u001b[0m\n\u001b[0;32m--> 931\u001b[0;31m             \u001b[0;32mreturn\u001b[0m \u001b[0mself\u001b[0m\u001b[0;34m.\u001b[0m\u001b[0m_getitem_axis\u001b[0m\u001b[0;34m(\u001b[0m\u001b[0mmaybe_callable\u001b[0m\u001b[0;34m,\u001b[0m \u001b[0maxis\u001b[0m\u001b[0;34m=\u001b[0m\u001b[0maxis\u001b[0m\u001b[0;34m)\u001b[0m\u001b[0;34m\u001b[0m\u001b[0;34m\u001b[0m\u001b[0m\n\u001b[0m\u001b[1;32m    932\u001b[0m \u001b[0;34m\u001b[0m\u001b[0m\n\u001b[1;32m    933\u001b[0m     \u001b[0;32mdef\u001b[0m \u001b[0m_is_scalar_access\u001b[0m\u001b[0;34m(\u001b[0m\u001b[0mself\u001b[0m\u001b[0;34m,\u001b[0m \u001b[0mkey\u001b[0m\u001b[0;34m:\u001b[0m \u001b[0mtuple\u001b[0m\u001b[0;34m)\u001b[0m\u001b[0;34m:\u001b[0m\u001b[0;34m\u001b[0m\u001b[0;34m\u001b[0m\u001b[0m\n",
      "\u001b[0;32m~/01_projects/10_py37_dataeng_venv/.venv/lib/python3.7/site-packages/pandas/core/indexing.py\u001b[0m in \u001b[0;36m_getitem_axis\u001b[0;34m(self, key, axis)\u001b[0m\n\u001b[1;32m   1564\u001b[0m \u001b[0;34m\u001b[0m\u001b[0m\n\u001b[1;32m   1565\u001b[0m             \u001b[0;31m# validate the location\u001b[0m\u001b[0;34m\u001b[0m\u001b[0;34m\u001b[0m\u001b[0;34m\u001b[0m\u001b[0m\n\u001b[0;32m-> 1566\u001b[0;31m             \u001b[0mself\u001b[0m\u001b[0;34m.\u001b[0m\u001b[0m_validate_integer\u001b[0m\u001b[0;34m(\u001b[0m\u001b[0mkey\u001b[0m\u001b[0;34m,\u001b[0m \u001b[0maxis\u001b[0m\u001b[0;34m)\u001b[0m\u001b[0;34m\u001b[0m\u001b[0;34m\u001b[0m\u001b[0m\n\u001b[0m\u001b[1;32m   1567\u001b[0m \u001b[0;34m\u001b[0m\u001b[0m\n\u001b[1;32m   1568\u001b[0m             \u001b[0;32mreturn\u001b[0m \u001b[0mself\u001b[0m\u001b[0;34m.\u001b[0m\u001b[0mobj\u001b[0m\u001b[0;34m.\u001b[0m\u001b[0m_ixs\u001b[0m\u001b[0;34m(\u001b[0m\u001b[0mkey\u001b[0m\u001b[0;34m,\u001b[0m \u001b[0maxis\u001b[0m\u001b[0;34m=\u001b[0m\u001b[0maxis\u001b[0m\u001b[0;34m)\u001b[0m\u001b[0;34m\u001b[0m\u001b[0;34m\u001b[0m\u001b[0m\n",
      "\u001b[0;32m~/01_projects/10_py37_dataeng_venv/.venv/lib/python3.7/site-packages/pandas/core/indexing.py\u001b[0m in \u001b[0;36m_validate_integer\u001b[0;34m(self, key, axis)\u001b[0m\n\u001b[1;32m   1498\u001b[0m         \u001b[0mlen_axis\u001b[0m \u001b[0;34m=\u001b[0m \u001b[0mlen\u001b[0m\u001b[0;34m(\u001b[0m\u001b[0mself\u001b[0m\u001b[0;34m.\u001b[0m\u001b[0mobj\u001b[0m\u001b[0;34m.\u001b[0m\u001b[0m_get_axis\u001b[0m\u001b[0;34m(\u001b[0m\u001b[0maxis\u001b[0m\u001b[0;34m)\u001b[0m\u001b[0;34m)\u001b[0m\u001b[0;34m\u001b[0m\u001b[0;34m\u001b[0m\u001b[0m\n\u001b[1;32m   1499\u001b[0m         \u001b[0;32mif\u001b[0m \u001b[0mkey\u001b[0m \u001b[0;34m>=\u001b[0m \u001b[0mlen_axis\u001b[0m \u001b[0;32mor\u001b[0m \u001b[0mkey\u001b[0m \u001b[0;34m<\u001b[0m \u001b[0;34m-\u001b[0m\u001b[0mlen_axis\u001b[0m\u001b[0;34m:\u001b[0m\u001b[0;34m\u001b[0m\u001b[0;34m\u001b[0m\u001b[0m\n\u001b[0;32m-> 1500\u001b[0;31m             \u001b[0;32mraise\u001b[0m \u001b[0mIndexError\u001b[0m\u001b[0;34m(\u001b[0m\u001b[0;34m\"single positional indexer is out-of-bounds\"\u001b[0m\u001b[0;34m)\u001b[0m\u001b[0;34m\u001b[0m\u001b[0;34m\u001b[0m\u001b[0m\n\u001b[0m\u001b[1;32m   1501\u001b[0m \u001b[0;34m\u001b[0m\u001b[0m\n\u001b[1;32m   1502\u001b[0m     \u001b[0;31m# -------------------------------------------------------------------\u001b[0m\u001b[0;34m\u001b[0m\u001b[0;34m\u001b[0m\u001b[0;34m\u001b[0m\u001b[0m\n",
      "\u001b[0;31mIndexError\u001b[0m: single positional indexer is out-of-bounds"
     ]
    }
   ],
   "source": [
    "# analyis of extreme cases: unrealistically high mos\n",
    "# analysis of extreme cases: negative mos\n",
    "# growth_df[growth_df['mos']>=(1.0e10)].iloc[0]"
   ]
  },
  {
   "cell_type": "code",
   "execution_count": null,
   "metadata": {},
   "outputs": [
    {
     "data": {
      "text/html": [
       "<div>\n",
       "<style scoped>\n",
       "    .dataframe tbody tr th:only-of-type {\n",
       "        vertical-align: middle;\n",
       "    }\n",
       "\n",
       "    .dataframe tbody tr th {\n",
       "        vertical-align: top;\n",
       "    }\n",
       "\n",
       "    .dataframe thead th {\n",
       "        text-align: right;\n",
       "    }\n",
       "</style>\n",
       "<table border=\"1\" class=\"dataframe\">\n",
       "  <thead>\n",
       "    <tr style=\"text-align: right;\">\n",
       "      <th></th>\n",
       "      <th>Ticker</th>\n",
       "      <th>Report Date_is</th>\n",
       "      <th>SimFinId</th>\n",
       "      <th>Currency</th>\n",
       "      <th>Fiscal Year</th>\n",
       "      <th>Fiscal Period_is</th>\n",
       "      <th>Publish Date_is</th>\n",
       "      <th>Restated Date_is</th>\n",
       "      <th>Shares (Basic)_is</th>\n",
       "      <th>Shares (Diluted)_is</th>\n",
       "      <th>...</th>\n",
       "      <th>Retained Earnings</th>\n",
       "      <th>Total Equity</th>\n",
       "      <th>Total Liabilities &amp; Equity</th>\n",
       "      <th>Dividends Paid_clean</th>\n",
       "      <th>roic</th>\n",
       "      <th>eps</th>\n",
       "      <th>bvps</th>\n",
       "      <th>fcf</th>\n",
       "      <th>mean_low_price</th>\n",
       "      <th>pe</th>\n",
       "    </tr>\n",
       "  </thead>\n",
       "  <tbody>\n",
       "    <tr>\n",
       "      <th>5015</th>\n",
       "      <td>FCPT</td>\n",
       "      <td>2014-12-31</td>\n",
       "      <td>623532</td>\n",
       "      <td>USD</td>\n",
       "      <td>2014</td>\n",
       "      <td>FY</td>\n",
       "      <td>2015-03-23</td>\n",
       "      <td>2017-02-27</td>\n",
       "      <td>6206375.0</td>\n",
       "      <td>6263921.0</td>\n",
       "      <td>...</td>\n",
       "      <td>0.0</td>\n",
       "      <td>8998000.0</td>\n",
       "      <td>11949000</td>\n",
       "      <td>0.0</td>\n",
       "      <td>0.002678</td>\n",
       "      <td>0.005156</td>\n",
       "      <td>1.449800</td>\n",
       "      <td>1016000.0</td>\n",
       "      <td>NaN</td>\n",
       "      <td>NaN</td>\n",
       "    </tr>\n",
       "    <tr>\n",
       "      <th>5016</th>\n",
       "      <td>FCPT</td>\n",
       "      <td>2015-12-31</td>\n",
       "      <td>623532</td>\n",
       "      <td>USD</td>\n",
       "      <td>2015</td>\n",
       "      <td>FY</td>\n",
       "      <td>2016-02-04</td>\n",
       "      <td>2018-02-27</td>\n",
       "      <td>6206375.0</td>\n",
       "      <td>6263921.0</td>\n",
       "      <td>...</td>\n",
       "      <td>5257000.0</td>\n",
       "      <td>441642000.0</td>\n",
       "      <td>929437000</td>\n",
       "      <td>0.0</td>\n",
       "      <td>0.006132</td>\n",
       "      <td>0.918249</td>\n",
       "      <td>71.159413</td>\n",
       "      <td>22249000.0</td>\n",
       "      <td>21.840909</td>\n",
       "      <td>23.785379</td>\n",
       "    </tr>\n",
       "    <tr>\n",
       "      <th>5017</th>\n",
       "      <td>FCPT</td>\n",
       "      <td>2016-12-31</td>\n",
       "      <td>623532</td>\n",
       "      <td>USD</td>\n",
       "      <td>2016</td>\n",
       "      <td>FY</td>\n",
       "      <td>2017-02-27</td>\n",
       "      <td>2018-02-27</td>\n",
       "      <td>56984561.0</td>\n",
       "      <td>59568067.0</td>\n",
       "      <td>...</td>\n",
       "      <td>25943000.0</td>\n",
       "      <td>470117000.0</td>\n",
       "      <td>937151000</td>\n",
       "      <td>-121604000.0</td>\n",
       "      <td>0.037566</td>\n",
       "      <td>2.751780</td>\n",
       "      <td>8.249901</td>\n",
       "      <td>130261000.0</td>\n",
       "      <td>19.338095</td>\n",
       "      <td>7.027485</td>\n",
       "    </tr>\n",
       "    <tr>\n",
       "      <th>5018</th>\n",
       "      <td>FCPT</td>\n",
       "      <td>2017-12-31</td>\n",
       "      <td>623532</td>\n",
       "      <td>USD</td>\n",
       "      <td>2017</td>\n",
       "      <td>FY</td>\n",
       "      <td>2018-02-27</td>\n",
       "      <td>2018-02-27</td>\n",
       "      <td>60627423.0</td>\n",
       "      <td>60695834.0</td>\n",
       "      <td>...</td>\n",
       "      <td>36318000.0</td>\n",
       "      <td>522268000.0</td>\n",
       "      <td>1068659000</td>\n",
       "      <td>-58695000.0</td>\n",
       "      <td>0.011883</td>\n",
       "      <td>1.177586</td>\n",
       "      <td>8.614386</td>\n",
       "      <td>154454000.0</td>\n",
       "      <td>25.626500</td>\n",
       "      <td>21.761894</td>\n",
       "    </tr>\n",
       "    <tr>\n",
       "      <th>5019</th>\n",
       "      <td>FCPT</td>\n",
       "      <td>2018-12-31</td>\n",
       "      <td>623532</td>\n",
       "      <td>USD</td>\n",
       "      <td>2018</td>\n",
       "      <td>FY</td>\n",
       "      <td>2019-02-20</td>\n",
       "      <td>2019-02-20</td>\n",
       "      <td>64041255.0</td>\n",
       "      <td>64388929.0</td>\n",
       "      <td>...</td>\n",
       "      <td>46018000.0</td>\n",
       "      <td>698964000.0</td>\n",
       "      <td>1343098000</td>\n",
       "      <td>-69494000.0</td>\n",
       "      <td>0.009608</td>\n",
       "      <td>1.286639</td>\n",
       "      <td>10.914277</td>\n",
       "      <td>327928000.0</td>\n",
       "      <td>26.643158</td>\n",
       "      <td>20.707557</td>\n",
       "    </tr>\n",
       "    <tr>\n",
       "      <th>5020</th>\n",
       "      <td>FCPT</td>\n",
       "      <td>2019-12-31</td>\n",
       "      <td>623532</td>\n",
       "      <td>USD</td>\n",
       "      <td>2019</td>\n",
       "      <td>FY</td>\n",
       "      <td>2020-02-27</td>\n",
       "      <td>2020-02-27</td>\n",
       "      <td>68430841.0</td>\n",
       "      <td>68632010.0</td>\n",
       "      <td>...</td>\n",
       "      <td>38401000.0</td>\n",
       "      <td>726741000.0</td>\n",
       "      <td>1446070000</td>\n",
       "      <td>-78488000.0</td>\n",
       "      <td>-0.004061</td>\n",
       "      <td>1.061159</td>\n",
       "      <td>10.620080</td>\n",
       "      <td>312026000.0</td>\n",
       "      <td>27.397143</td>\n",
       "      <td>25.818133</td>\n",
       "    </tr>\n",
       "  </tbody>\n",
       "</table>\n",
       "<p>6 rows × 85 columns</p>\n",
       "</div>"
      ],
      "text/plain": [
       "     Ticker Report Date_is  SimFinId Currency  Fiscal Year Fiscal Period_is  \\\n",
       "5015   FCPT     2014-12-31    623532      USD         2014               FY   \n",
       "5016   FCPT     2015-12-31    623532      USD         2015               FY   \n",
       "5017   FCPT     2016-12-31    623532      USD         2016               FY   \n",
       "5018   FCPT     2017-12-31    623532      USD         2017               FY   \n",
       "5019   FCPT     2018-12-31    623532      USD         2018               FY   \n",
       "5020   FCPT     2019-12-31    623532      USD         2019               FY   \n",
       "\n",
       "     Publish Date_is Restated Date_is  Shares (Basic)_is  Shares (Diluted)_is  \\\n",
       "5015      2015-03-23       2017-02-27          6206375.0            6263921.0   \n",
       "5016      2016-02-04       2018-02-27          6206375.0            6263921.0   \n",
       "5017      2017-02-27       2018-02-27         56984561.0           59568067.0   \n",
       "5018      2018-02-27       2018-02-27         60627423.0           60695834.0   \n",
       "5019      2019-02-20       2019-02-20         64041255.0           64388929.0   \n",
       "5020      2020-02-27       2020-02-27         68430841.0           68632010.0   \n",
       "\n",
       "      ...  Retained Earnings  Total Equity  Total Liabilities & Equity  \\\n",
       "5015  ...                0.0     8998000.0                    11949000   \n",
       "5016  ...          5257000.0   441642000.0                   929437000   \n",
       "5017  ...         25943000.0   470117000.0                   937151000   \n",
       "5018  ...         36318000.0   522268000.0                  1068659000   \n",
       "5019  ...         46018000.0   698964000.0                  1343098000   \n",
       "5020  ...         38401000.0   726741000.0                  1446070000   \n",
       "\n",
       "      Dividends Paid_clean      roic       eps       bvps          fcf  \\\n",
       "5015                   0.0  0.002678  0.005156   1.449800    1016000.0   \n",
       "5016                   0.0  0.006132  0.918249  71.159413   22249000.0   \n",
       "5017          -121604000.0  0.037566  2.751780   8.249901  130261000.0   \n",
       "5018           -58695000.0  0.011883  1.177586   8.614386  154454000.0   \n",
       "5019           -69494000.0  0.009608  1.286639  10.914277  327928000.0   \n",
       "5020           -78488000.0 -0.004061  1.061159  10.620080  312026000.0   \n",
       "\n",
       "      mean_low_price         pe  \n",
       "5015             NaN        NaN  \n",
       "5016       21.840909  23.785379  \n",
       "5017       19.338095   7.027485  \n",
       "5018       25.626500  21.761894  \n",
       "5019       26.643158  20.707557  \n",
       "5020       27.397143  25.818133  \n",
       "\n",
       "[6 rows x 85 columns]"
      ]
     },
     "execution_count": 22,
     "metadata": {},
     "output_type": "execute_result"
    }
   ],
   "source": [
    "# fundamental_df[fundamental_df['Ticker']=='FCPT']"
   ]
  },
  {
   "cell_type": "markdown",
   "metadata": {},
   "source": [
    "### 2.4 Screener results\n",
    "The processing of the screener results table is comparatively easy:\n",
    "- the latest prices are extracted from the price data set\n",
    "- the relevant columns for the intrinsic value from the growth kpi data set are joined.\n",
    "\n",
    "From the Pandas Profiling report the following insights can be gathered:\n",
    "- per May-14, 2021: 35 ticker symbols where identified which intrinsic value is below the latest market price.\n",
    "- out of these 35 symbols three appear to have unrealistically high intrinsic values."
   ]
  },
  {
   "cell_type": "code",
   "execution_count": 38,
   "metadata": {
    "editable": true
   },
   "outputs": [
    {
     "name": "stderr",
     "output_type": "stream",
     "text": [
      "[Stage 35:======================================>                   (2 + 1) / 3]\r"
     ]
    },
    {
     "name": "stdout",
     "output_type": "stream",
     "text": [
      "CPU times: user 224 ms, sys: 69.3 ms, total: 294 ms\n",
      "Wall time: 1min 39s\n"
     ]
    },
    {
     "name": "stderr",
     "output_type": "stream",
     "text": [
      "                                                                                \r"
     ]
    }
   ],
   "source": [
    "%%time\n",
    "# find stocks which latest price is under the mos\n",
    "screener_df = find_stocks_below_mos(spark, price_df, growth_df)"
   ]
  },
  {
   "cell_type": "code",
   "execution_count": 39,
   "metadata": {},
   "outputs": [
    {
     "data": {
      "application/vnd.jupyter.widget-view+json": {
       "model_id": "b05c18053c4f47fe9ae6a96ba1e06957",
       "version_major": 2,
       "version_minor": 0
      },
      "text/plain": [
       "Summarize dataset:   0%|          | 0/5 [00:00<?, ?it/s]"
      ]
     },
     "metadata": {},
     "output_type": "display_data"
    },
    {
     "data": {
      "application/vnd.jupyter.widget-view+json": {
       "model_id": "e104dca5108e42c0b99ee9a65bb72f8c",
       "version_major": 2,
       "version_minor": 0
      },
      "text/plain": [
       "Generate report structure:   0%|          | 0/1 [00:00<?, ?it/s]"
      ]
     },
     "metadata": {},
     "output_type": "display_data"
    },
    {
     "data": {
      "application/vnd.jupyter.widget-view+json": {
       "model_id": "0ad7e3e5768d415d9fb71bbd7db8bf55",
       "version_major": 2,
       "version_minor": 0
      },
      "text/plain": [
       "Render HTML:   0%|          | 0/1 [00:00<?, ?it/s]"
      ]
     },
     "metadata": {},
     "output_type": "display_data"
    },
    {
     "data": {
      "application/vnd.jupyter.widget-view+json": {
       "model_id": "1d9a24cd4c9c497d9806ee53d6a6becf",
       "version_major": 2,
       "version_minor": 0
      },
      "text/plain": [
       "Export report to file:   0%|          | 0/1 [00:00<?, ?it/s]"
      ]
     },
     "metadata": {},
     "output_type": "display_data"
    },
    {
     "name": "stdout",
     "output_type": "stream",
     "text": [
      "\n",
      "Pandas profiling report of file screener_df created\n",
      "\n",
      "\n"
     ]
    }
   ],
   "source": [
    "# create pandas profiling report of growth kpi dataset\n",
    "create_pandas_profiling_report(screener_df, 'screener_df')"
   ]
  },
  {
   "cell_type": "code",
   "execution_count": 40,
   "metadata": {},
   "outputs": [
    {
     "data": {
      "text/plain": [
       "count        3.000000\n",
       "mean     22329.360643\n",
       "std      38114.570893\n",
       "min        236.869963\n",
       "5%         254.288035\n",
       "10%        271.706107\n",
       "20%        306.542251\n",
       "30%        341.378396\n",
       "40%        376.214540\n",
       "50%        411.050684\n",
       "60%      13596.872804\n",
       "70%      26782.694923\n",
       "80%      39968.517043\n",
       "90%      53154.339162\n",
       "95%      59747.250222\n",
       "max      66340.161282\n",
       "Name: mos, dtype: float64"
      ]
     },
     "execution_count": 40,
     "metadata": {},
     "output_type": "execute_result"
    }
   ],
   "source": [
    "# analysis of extreme values for margin of safety based on findings in profiling report\n",
    "screener_df['mos'].describe(percentiles=[.05, .1, .2, .3, .4, .5, .6, .7, .8, .9, .95])"
   ]
  },
  {
   "cell_type": "code",
   "execution_count": 41,
   "metadata": {},
   "outputs": [
    {
     "data": {
      "text/html": [
       "<div>\n",
       "<style scoped>\n",
       "    .dataframe tbody tr th:only-of-type {\n",
       "        vertical-align: middle;\n",
       "    }\n",
       "\n",
       "    .dataframe tbody tr th {\n",
       "        vertical-align: top;\n",
       "    }\n",
       "\n",
       "    .dataframe thead th {\n",
       "        text-align: right;\n",
       "    }\n",
       "</style>\n",
       "<table border=\"1\" class=\"dataframe\">\n",
       "  <thead>\n",
       "    <tr style=\"text-align: right;\">\n",
       "      <th></th>\n",
       "      <th>Ticker</th>\n",
       "      <th>last_date</th>\n",
       "      <th>last_low_price</th>\n",
       "      <th>price_future</th>\n",
       "      <th>sticker_price</th>\n",
       "      <th>mos</th>\n",
       "    </tr>\n",
       "  </thead>\n",
       "  <tbody>\n",
       "    <tr>\n",
       "      <th>0</th>\n",
       "      <td>EA</td>\n",
       "      <td>2021-06-04</td>\n",
       "      <td>142.639999</td>\n",
       "      <td>1916.542222</td>\n",
       "      <td>473.739926</td>\n",
       "      <td>236.869963</td>\n",
       "    </tr>\n",
       "    <tr>\n",
       "      <th>1</th>\n",
       "      <td>ABMD</td>\n",
       "      <td>2021-06-04</td>\n",
       "      <td>284.260010</td>\n",
       "      <td>3325.858550</td>\n",
       "      <td>822.101368</td>\n",
       "      <td>411.050684</td>\n",
       "    </tr>\n",
       "    <tr>\n",
       "      <th>2</th>\n",
       "      <td>RH</td>\n",
       "      <td>2021-06-04</td>\n",
       "      <td>602.219971</td>\n",
       "      <td>536765.905322</td>\n",
       "      <td>132680.322563</td>\n",
       "      <td>66340.161282</td>\n",
       "    </tr>\n",
       "  </tbody>\n",
       "</table>\n",
       "</div>"
      ],
      "text/plain": [
       "  Ticker   last_date  last_low_price   price_future  sticker_price  \\\n",
       "0     EA  2021-06-04      142.639999    1916.542222     473.739926   \n",
       "1   ABMD  2021-06-04      284.260010    3325.858550     822.101368   \n",
       "2     RH  2021-06-04      602.219971  536765.905322  132680.322563   \n",
       "\n",
       "            mos  \n",
       "0    236.869963  \n",
       "1    411.050684  \n",
       "2  66340.161282  "
      ]
     },
     "execution_count": 41,
     "metadata": {},
     "output_type": "execute_result"
    }
   ],
   "source": [
    "screener_df.head()"
   ]
  },
  {
   "cell_type": "markdown",
   "metadata": {
    "editable": true
   },
   "source": [
    "## Step 3: Define the Data Model\n",
    "#### 3.1 Conceptual Data Model\n",
    "Map out the conceptual data model and explain why you chose that model\n",
    "- Dimensional tables\n",
    "    - \"company_info\": company information, including peers\n",
    "- Fact tables:\n",
    "    - \"price\": historical stock price data (equal to staging data)\n",
    "    - \"fundamental\": fundamental indicators from financial statements\n",
    "    - \"growth\": rule #1 growth KPIs\n",
    "    - \"screener\" screener results\n",
    "\n",
    "This data model was chosen because it enables an analyst:\n",
    "- to quickly analyize the screener results with the table \"screener\".\n",
    "- to add context such as peer, industry, company name via the table \"company_info\".\n",
    "- to deeper analyze the screener results via the table \"growth\".\n",
    "- to enable backtesting of KPI based investment strategies via the table \"price\".\n",
    "\n",
    "#### 3.2 Mapping Out Data Pipelines\n",
    "List the steps necessary to pipeline the data into the chosen data model\n",
    "- Data extraction pipeline: \n",
    "    - extract data from sources via APIs and store results in staging tables.\n",
    "        - NASDAAQ: stock symbol list\n",
    "        - IEX Cloud source:\n",
    "            - Company information data\n",
    "            - Peer group data\n",
    "        - Simfin source: fundamental data\n",
    "            - Annual cashflow data\n",
    "            - Annual income statement data\n",
    "            - Annual balance sheet data\n",
    "        - Yfinance source: historical stock price data\n",
    "    - transform: reduce the list of symbols to only those where the information is available on\n",
    "        - company information data\n",
    "        - fundamental data\n",
    "        - price data\n",
    "    - load: store data on disk\n",
    "        - company information data: folder 1_company_info\n",
    "        - fundamental data: folder 2_fundamentals\n",
    "        - price data: folder 3_prices\n",
    "- Data processing pipeline: process data from staging tables to dimension and fact tables.\n",
    "    - extract:\n",
    "        - load company information data, fundamental data and price data\n",
    "    - transform:\n",
    "        - create company information dimension table with symbol list.\n",
    "        - create fundamental facts table\n",
    "        - create growth KPI facts table\n",
    "        - create screener results KPI table\n",
    "    - load: store data on disk\n",
    "        - save tables 'company_info', 'fundamental', 'growth', 'screener' to folder 5_results"
   ]
  },
  {
   "cell_type": "markdown",
   "metadata": {
    "editable": true
   },
   "source": [
    "## Step 4: Run Pipelines to Model the Data \n",
    "### 4.1 Create the data model\n",
    "Build the data pipelines to create the data model."
   ]
  },
  {
   "cell_type": "code",
   "execution_count": 5,
   "metadata": {},
   "outputs": [
    {
     "name": "stdout",
     "output_type": "stream",
     "text": [
      "Symbol data extracted...\n",
      "total number of symbols traded = 9030\n",
      "Number of stocks symbols in list: 4240\n",
      "Company data loaded from disk...\n",
      "Dataset \"us-cashflow-annual\" on disk (0 days old).\n",
      "- Loading from disk ... Done!\n",
      "Dataset \"us-income-annual\" on disk (0 days old).\n",
      "- Loading from disk ... Done!\n",
      "Dataset \"us-balance-annual\" on disk (0 days old).\n",
      "- Loading from disk ... Done!\n",
      "Symbols with available fundamental data: 1713\n",
      "Combined all fundamental data from financial statements to one Dataframe.\n",
      "Start download of historic price data\n"
     ]
    }
   ],
   "source": [
    "%%time\n",
    "# download data from sources to staging folders\n",
    "symbol_list = pipeline_staging(period='10y')\n",
    "print('Number of symbols in list after staging pipeline ran: {}'.format(len(symbol_list)))"
   ]
  },
  {
   "cell_type": "code",
   "execution_count": 5,
   "metadata": {},
   "outputs": [
    {
     "name": "stdout",
     "output_type": "stream",
     "text": [
      "Number of stocks symbols in list: 6368\n",
      "Company data loaded from disk...\n",
      "Dataset \"us-cashflow-annual\" on disk (0 days old).\n",
      "- Loading from disk ... Done!\n",
      "Dataset \"us-income-annual\" on disk (0 days old).\n",
      "- Loading from disk ... Done!\n",
      "Dataset \"us-balance-annual\" on disk (0 days old).\n",
      "- Loading from disk ... Done!\n",
      "Symbols with available fundamental data: 1957\n",
      "Combined all fundamental data from financial statements to one Dataframe.\n",
      "Calculated roic and added it to Dataframe\n",
      "Calculated eps and added it to Dataframe\n",
      "Calculated bvps and added it to Dataframe\n",
      "Calculated fcf and added it to Dataframe\n",
      "top5 KPIs added to fundamental data\n"
     ]
    },
    {
     "name": "stderr",
     "output_type": "stream",
     "text": [
      "                                                                                \r"
     ]
    },
    {
     "name": "stdout",
     "output_type": "stream",
     "text": [
      "Calculated KPI growth from year to year.\n",
      "Calculated 5 and 10 year growth rate\n"
     ]
    },
    {
     "name": "stderr",
     "output_type": "stream",
     "text": [
      "                                                                                \r"
     ]
    },
    {
     "name": "stdout",
     "output_type": "stream",
     "text": [
      "CPU times: user 4.01 s, sys: 467 ms, total: 4.47 s\n",
      "Wall time: 2min 3s\n"
     ]
    },
    {
     "data": {
      "text/html": [
       "<div>\n",
       "<style scoped>\n",
       "    .dataframe tbody tr th:only-of-type {\n",
       "        vertical-align: middle;\n",
       "    }\n",
       "\n",
       "    .dataframe tbody tr th {\n",
       "        vertical-align: top;\n",
       "    }\n",
       "\n",
       "    .dataframe thead th {\n",
       "        text-align: right;\n",
       "    }\n",
       "</style>\n",
       "<table border=\"1\" class=\"dataframe\">\n",
       "  <thead>\n",
       "    <tr style=\"text-align: right;\">\n",
       "      <th></th>\n",
       "      <th>Ticker</th>\n",
       "      <th>last_date</th>\n",
       "      <th>last_low_price</th>\n",
       "      <th>price_future</th>\n",
       "      <th>sticker_price</th>\n",
       "      <th>mos</th>\n",
       "    </tr>\n",
       "  </thead>\n",
       "  <tbody>\n",
       "    <tr>\n",
       "      <th>0</th>\n",
       "      <td>STMP</td>\n",
       "      <td>2021-06-04</td>\n",
       "      <td>188.279999</td>\n",
       "      <td>2031.299375</td>\n",
       "      <td>502.106139</td>\n",
       "      <td>251.053070</td>\n",
       "    </tr>\n",
       "    <tr>\n",
       "      <th>1</th>\n",
       "      <td>CSGP</td>\n",
       "      <td>2022-02-25</td>\n",
       "      <td>58.439999</td>\n",
       "      <td>550.501142</td>\n",
       "      <td>136.075463</td>\n",
       "      <td>68.037731</td>\n",
       "    </tr>\n",
       "    <tr>\n",
       "      <th>2</th>\n",
       "      <td>INVA</td>\n",
       "      <td>2022-02-25</td>\n",
       "      <td>19.100000</td>\n",
       "      <td>165.983485</td>\n",
       "      <td>41.028579</td>\n",
       "      <td>20.514289</td>\n",
       "    </tr>\n",
       "    <tr>\n",
       "      <th>3</th>\n",
       "      <td>TPX</td>\n",
       "      <td>2022-02-25</td>\n",
       "      <td>32.360001</td>\n",
       "      <td>844.466497</td>\n",
       "      <td>208.739203</td>\n",
       "      <td>104.369601</td>\n",
       "    </tr>\n",
       "    <tr>\n",
       "      <th>4</th>\n",
       "      <td>CDNS</td>\n",
       "      <td>2022-02-25</td>\n",
       "      <td>147.119995</td>\n",
       "      <td>1434.658286</td>\n",
       "      <td>354.625587</td>\n",
       "      <td>177.312793</td>\n",
       "    </tr>\n",
       "  </tbody>\n",
       "</table>\n",
       "</div>"
      ],
      "text/plain": [
       "  Ticker   last_date  last_low_price  price_future  sticker_price         mos\n",
       "0   STMP  2021-06-04      188.279999   2031.299375     502.106139  251.053070\n",
       "1   CSGP  2022-02-25       58.439999    550.501142     136.075463   68.037731\n",
       "2   INVA  2022-02-25       19.100000    165.983485      41.028579   20.514289\n",
       "3    TPX  2022-02-25       32.360001    844.466497     208.739203  104.369601\n",
       "4   CDNS  2022-02-25      147.119995   1434.658286     354.625587  177.312793"
      ]
     },
     "execution_count": 5,
     "metadata": {},
     "output_type": "execute_result"
    }
   ],
   "source": [
    "%%time\n",
    "period_dict = {'start_date':2010,\n",
    "                'end_date':2021}\n",
    "\n",
    "price_df, company_info_df, fundamental_df, growth_df, screener_df = pipeline_processing(spark, period_dict, agg_func='median')\n",
    "\n",
    "screener_df.head()"
   ]
  },
  {
   "cell_type": "markdown",
   "metadata": {},
   "source": [
    "#### Showcase of potential further analysis by data analyst"
   ]
  },
  {
   "cell_type": "code",
   "execution_count": 6,
   "metadata": {},
   "outputs": [
    {
     "data": {
      "text/html": [
       "<div>\n",
       "<style scoped>\n",
       "    .dataframe tbody tr th:only-of-type {\n",
       "        vertical-align: middle;\n",
       "    }\n",
       "\n",
       "    .dataframe tbody tr th {\n",
       "        vertical-align: top;\n",
       "    }\n",
       "\n",
       "    .dataframe thead th {\n",
       "        text-align: right;\n",
       "    }\n",
       "</style>\n",
       "<table border=\"1\" class=\"dataframe\">\n",
       "  <thead>\n",
       "    <tr style=\"text-align: right;\">\n",
       "      <th></th>\n",
       "      <th>Ticker</th>\n",
       "      <th>last_date</th>\n",
       "      <th>last_low_price</th>\n",
       "      <th>price_future</th>\n",
       "      <th>sticker_price</th>\n",
       "      <th>mos</th>\n",
       "      <th>company name</th>\n",
       "      <th>short name</th>\n",
       "      <th>industry</th>\n",
       "      <th>description</th>\n",
       "      <th>...</th>\n",
       "      <th>logo</th>\n",
       "      <th>ceo</th>\n",
       "      <th>exchange</th>\n",
       "      <th>market cap</th>\n",
       "      <th>sector</th>\n",
       "      <th>tag 1</th>\n",
       "      <th>tag 2</th>\n",
       "      <th>tag 3</th>\n",
       "      <th>peer_string</th>\n",
       "      <th>peer_list</th>\n",
       "    </tr>\n",
       "  </thead>\n",
       "  <tbody>\n",
       "    <tr>\n",
       "      <th>0</th>\n",
       "      <td>STMP</td>\n",
       "      <td>2021-06-04</td>\n",
       "      <td>188.279999</td>\n",
       "      <td>2031.299375</td>\n",
       "      <td>502.106139</td>\n",
       "      <td>251.053070</td>\n",
       "      <td>Stamps.com Inc.</td>\n",
       "      <td>Stamps.com</td>\n",
       "      <td>Application Software</td>\n",
       "      <td>Stamps.com Inc provides internet-based postage...</td>\n",
       "      <td>...</td>\n",
       "      <td>STMP.png</td>\n",
       "      <td>Kenneth McBride</td>\n",
       "      <td>Nasdaq Global Select</td>\n",
       "      <td>3.440200e+09</td>\n",
       "      <td>Technology</td>\n",
       "      <td>Technology</td>\n",
       "      <td>Software - Application</td>\n",
       "      <td>Application Software</td>\n",
       "      <td>MELI,SHOP,ETSY,WSCO</td>\n",
       "      <td>[MELI, SHOP, ETSY, WSCO]</td>\n",
       "    </tr>\n",
       "    <tr>\n",
       "      <th>1</th>\n",
       "      <td>CSGP</td>\n",
       "      <td>2022-02-25</td>\n",
       "      <td>58.439999</td>\n",
       "      <td>550.501142</td>\n",
       "      <td>136.075463</td>\n",
       "      <td>68.037731</td>\n",
       "      <td>CoStar Group Inc.</td>\n",
       "      <td>CoStar</td>\n",
       "      <td>Real Estate Services</td>\n",
       "      <td>CoStar Group Inc provides commercial real esta...</td>\n",
       "      <td>...</td>\n",
       "      <td>NaN</td>\n",
       "      <td>Andrew C. Florance</td>\n",
       "      <td>Nasdaq Global Select</td>\n",
       "      <td>1.451256e+10</td>\n",
       "      <td>Real Estate</td>\n",
       "      <td>Real Estate</td>\n",
       "      <td>Real Estate Services</td>\n",
       "      <td>NaN</td>\n",
       "      <td>TTGT,MOVE,ACN,MGLN</td>\n",
       "      <td>[TTGT, MOVE, ACN, MGLN]</td>\n",
       "    </tr>\n",
       "  </tbody>\n",
       "</table>\n",
       "<p>2 rows × 21 columns</p>\n",
       "</div>"
      ],
      "text/plain": [
       "  Ticker   last_date  last_low_price  price_future  sticker_price         mos  \\\n",
       "0   STMP  2021-06-04      188.279999   2031.299375     502.106139  251.053070   \n",
       "1   CSGP  2022-02-25       58.439999    550.501142     136.075463   68.037731   \n",
       "\n",
       "        company name  short name              industry  \\\n",
       "0    Stamps.com Inc.  Stamps.com  Application Software   \n",
       "1  CoStar Group Inc.      CoStar  Real Estate Services   \n",
       "\n",
       "                                         description  ...      logo  \\\n",
       "0  Stamps.com Inc provides internet-based postage...  ...  STMP.png   \n",
       "1  CoStar Group Inc provides commercial real esta...  ...       NaN   \n",
       "\n",
       "                  ceo              exchange    market cap       sector  \\\n",
       "0     Kenneth McBride  Nasdaq Global Select  3.440200e+09   Technology   \n",
       "1  Andrew C. Florance  Nasdaq Global Select  1.451256e+10  Real Estate   \n",
       "\n",
       "         tag 1                   tag 2                 tag 3  \\\n",
       "0   Technology  Software - Application  Application Software   \n",
       "1  Real Estate    Real Estate Services                   NaN   \n",
       "\n",
       "           peer_string                 peer_list  \n",
       "0  MELI,SHOP,ETSY,WSCO  [MELI, SHOP, ETSY, WSCO]  \n",
       "1   TTGT,MOVE,ACN,MGLN   [TTGT, MOVE, ACN, MGLN]  \n",
       "\n",
       "[2 rows x 21 columns]"
      ]
     },
     "execution_count": 6,
     "metadata": {},
     "output_type": "execute_result"
    }
   ],
   "source": [
    "eval_df = screener_df.merge(company_info_df.rename(columns={'ticker':'Ticker'}),\n",
    "                        how='left',\n",
    "                        on='Ticker',\n",
    "                        validate='1:1')\n",
    "eval_df.head(2)"
   ]
  },
  {
   "cell_type": "code",
   "execution_count": 7,
   "metadata": {},
   "outputs": [],
   "source": [
    "eval_df.to_excel('../data/4_data_analysis/' + str(pd.to_datetime('today'))[:10] + '_eval_df.xlsx', index=False)"
   ]
  },
  {
   "cell_type": "markdown",
   "metadata": {
    "editable": true
   },
   "source": [
    "#### 4.2 Data Quality Checks\n",
    "Explain the data quality checks you'll perform to ensure the pipeline ran as expected. These could include:\n",
    " * Integrity constraints on the relational database (e.g., unique key, data type, etc.)\n",
    " * Unit tests for the scripts to ensure they are doing the right thing\n",
    " * Source/Count checks to ensure completeness\n",
    " \n",
    "Run Quality Checks\n",
    "\n",
    "Several data quality checks have already been included in the data pipeline, e.g.:\n",
    "- merge operations: validate argument always set to interrupt pipeline in case of unexpected entries (e.g. duplicates).\n",
    "- print out of ticker symbol count at various stages of the data pipelines. This is an indicator or data availability.\n",
    "\n",
    "Additional data quality checks that are done here:\n",
    "- check data \"freshness\": check latest data in fundamental and price tables.\n",
    "- check processing pipeline functionality: re-check count of symbols in tables 'price', 'company_info', 'fundamental', 'growth', 'screener' to ensure they match with print-outs in processing pipeline."
   ]
  },
  {
   "cell_type": "code",
   "execution_count": 8,
   "metadata": {
    "editable": true
   },
   "outputs": [
    {
     "name": "stdout",
     "output_type": "stream",
     "text": [
      "Date range in price table:\n"
     ]
    },
    {
     "name": "stderr",
     "output_type": "stream",
     "text": [
      "[Stage 22:====================================================>   (55 + 2) / 59]\r"
     ]
    },
    {
     "name": "stdout",
     "output_type": "stream",
     "text": [
      "+----------+----------+\n",
      "| min(Date)| max(Date)|\n",
      "+----------+----------+\n",
      "|1962-01-02|2022-02-25|\n",
      "+----------+----------+\n",
      "\n",
      "Date range in fundamental table:\n",
      "min(Fiscal Year): 2015\n",
      "max(Fiscal Year): 2020\n",
      "CPU times: user 57.1 ms, sys: 16.4 ms, total: 73.5 ms\n",
      "Wall time: 13.8 s\n"
     ]
    },
    {
     "name": "stderr",
     "output_type": "stream",
     "text": [
      "                                                                                \r"
     ]
    }
   ],
   "source": [
    "%%time\n",
    "# Perform quality checks for freshness\n",
    "# print latest date in price table\n",
    "print('Date range in price table:')\n",
    "price_df.select(F.min('Date'),F.max('Date')).show()\n",
    "# print latest date in fundamental table\n",
    "print('Date range in fundamental table:')\n",
    "print('min(Fiscal Year): {}'.format(fundamental_df['Fiscal Year'].min()))\n",
    "print('max(Fiscal Year): {}'.format(fundamental_df['Fiscal Year'].max()))"
   ]
  },
  {
   "cell_type": "code",
   "execution_count": 9,
   "metadata": {},
   "outputs": [
    {
     "name": "stderr",
     "output_type": "stream",
     "text": [
      "[Stage 25:======================================================> (57 + 2) / 59]\r"
     ]
    },
    {
     "name": "stdout",
     "output_type": "stream",
     "text": [
      "Count of symbols in table price: 1781\n",
      "Count of symbols in table company_info: 6368\n",
      "Count of symbols in table fundamental: 1724\n",
      "Count of symbols in table growth: 1412\n",
      "Count of symbols in table screener: 29\n",
      "CPU times: user 72.6 ms, sys: 7.81 ms, total: 80.5 ms\n",
      "Wall time: 8.21 s\n"
     ]
    },
    {
     "name": "stderr",
     "output_type": "stream",
     "text": [
      "                                                                                \r"
     ]
    }
   ],
   "source": [
    "%%time\n",
    "# Perform data quality check for processing pipeline functionality\n",
    "price_symbol_list = price_df.select('Ticker').distinct().toPandas()['Ticker'].tolist()\n",
    "price_symbol_list_cnt = len(price_symbol_list)\n",
    "print(f'Count of symbols in table price: {price_symbol_list_cnt}')\n",
    "for df, df_name in zip([company_info_df.rename(columns={'ticker':'Ticker'}), fundamental_df, growth_df, screener_df],\n",
    "                        ['company_info', 'fundamental', 'growth', 'screener']):\n",
    "    print('Count of symbols in table {}: {}'.format(df_name, df['Ticker'].nunique()))\n"
   ]
  },
  {
   "cell_type": "code",
   "execution_count": 10,
   "metadata": {},
   "outputs": [],
   "source": [
    "# filter for verification of mean calculation\n",
    "# price_df.filter(\n",
    "#                     (price_df['Date']>=F.to_date(F.lit('2020-12-01'))) &\\\n",
    "#                     (price_df['Date']<=F.to_date(F.lit('2020-12-31'))) &\\\n",
    "#                     (price_df['Ticker']=='AAPL')\n",
    "#                 ).toPandas()['Low'].mean()"
   ]
  },
  {
   "cell_type": "markdown",
   "metadata": {
    "editable": true
   },
   "source": [
    "#### 4.3 Data dictionary \n",
    "Create a data dictionary for your data model. For each field, provide a brief description of what the data is and where it came from. You can include the data dictionary in the notebook or in a separate file."
   ]
  },
  {
   "cell_type": "code",
   "execution_count": 11,
   "metadata": {},
   "outputs": [
    {
     "data": {
      "text/html": [
       "<div>\n",
       "<style scoped>\n",
       "    .dataframe tbody tr th:only-of-type {\n",
       "        vertical-align: middle;\n",
       "    }\n",
       "\n",
       "    .dataframe tbody tr th {\n",
       "        vertical-align: top;\n",
       "    }\n",
       "\n",
       "    .dataframe thead th {\n",
       "        text-align: right;\n",
       "    }\n",
       "</style>\n",
       "<table border=\"1\" class=\"dataframe\">\n",
       "  <thead>\n",
       "    <tr style=\"text-align: right;\">\n",
       "      <th></th>\n",
       "      <th>table</th>\n",
       "      <th>column</th>\n",
       "      <th>dtype</th>\n",
       "      <th>source</th>\n",
       "      <th>description</th>\n",
       "    </tr>\n",
       "  </thead>\n",
       "  <tbody>\n",
       "    <tr>\n",
       "      <th>0</th>\n",
       "      <td>fundamental</td>\n",
       "      <td>Ticker</td>\n",
       "      <td>object</td>\n",
       "      <td>SimFin API</td>\n",
       "      <td>primary key. Symbol to identify stock.</td>\n",
       "    </tr>\n",
       "    <tr>\n",
       "      <th>1</th>\n",
       "      <td>fundamental</td>\n",
       "      <td>Report Date_is</td>\n",
       "      <td>datetime64[ns]</td>\n",
       "      <td>SimFin API</td>\n",
       "      <td>primary key. Date of annual financial report</td>\n",
       "    </tr>\n",
       "    <tr>\n",
       "      <th>2</th>\n",
       "      <td>fundamental</td>\n",
       "      <td>SimFinId</td>\n",
       "      <td>int64</td>\n",
       "      <td>SimFin API</td>\n",
       "      <td>ID assigned to Stock within SimFin API</td>\n",
       "    </tr>\n",
       "    <tr>\n",
       "      <th>3</th>\n",
       "      <td>fundamental</td>\n",
       "      <td>Currency</td>\n",
       "      <td>object</td>\n",
       "      <td>SimFin API</td>\n",
       "      <td>Currency in which stock is traded.</td>\n",
       "    </tr>\n",
       "    <tr>\n",
       "      <th>4</th>\n",
       "      <td>fundamental</td>\n",
       "      <td>Fiscal Year</td>\n",
       "      <td>int64</td>\n",
       "      <td>SimFin API</td>\n",
       "      <td>Year of report.</td>\n",
       "    </tr>\n",
       "  </tbody>\n",
       "</table>\n",
       "</div>"
      ],
      "text/plain": [
       "         table          column           dtype       source  \\\n",
       "0  fundamental          Ticker          object  SimFin API    \n",
       "1  fundamental  Report Date_is  datetime64[ns]  SimFin API    \n",
       "2  fundamental        SimFinId           int64  SimFin API    \n",
       "3  fundamental        Currency          object  SimFin API    \n",
       "4  fundamental     Fiscal Year           int64  SimFin API    \n",
       "\n",
       "                                    description  \n",
       "0        primary key. Symbol to identify stock.  \n",
       "1  primary key. Date of annual financial report  \n",
       "2        ID assigned to Stock within SimFin API  \n",
       "3            Currency in which stock is traded.  \n",
       "4                               Year of report.  "
      ]
     },
     "execution_count": 11,
     "metadata": {},
     "output_type": "execute_result"
    }
   ],
   "source": [
    "# read-in data dictionary from csv\n",
    "results_data_dict_df = pd.read_csv('..//data//5_results//' + 'results_data_dict_tab' + '.txt', sep='\\t')\n",
    "results_data_dict_df.head()"
   ]
  },
  {
   "cell_type": "markdown",
   "metadata": {
    "editable": true
   },
   "source": [
    "#### Step 5: Complete Project Write Up\n",
    "* Clearly state the rationale for the choice of tools and technologies for the project:\n",
    "    - staging pipeline: since all providers chosen for this project offer a python API the first pipeline for source data extraction is purely realized via python shell scripts.\n",
    "    - processing pipeline: since the amount of data to be processed is quite largely (ca. 10 million records on historical stock pices), the second data pipeline uses a combination of python and PySpark scripts.\n",
    "* Propose how often the data should be updated and why:\n",
    "    - growth KPI table generation: once a year, since fundamental data is published annually.\n",
    "    - screener table generation: daily, since changing market prices result in different daily results.\n",
    "* Write a description of how you would approach the problem differently under the following scenarios:\n",
    " * The data was increased by 100x:\n",
    "    - in general: at this scale, the pipelines could no longer be run from a local computer. Instead they should be rebuild on cloud infrastructure, e.g. AWS. One possibility would be to the use the AWS GLUE services for this purpose.\n",
    "    - staging pipeline:\n",
    "        - if API technology remains the same, request could be parallelized via python shell scripts.\n",
    "    - processing pipeline:\n",
    "        - switch to Pyspark instead of Python scripts for all processing.\n",
    " * The data populates a dashboard that must be updated on a daily basis by 7am every day.\n",
    "    - also in this scenario I would recommend to rebuild the pipeline on cloud infrastructure.\n",
    "    - Again AWS offers various services for this purpose, e.g. AWS Glue workflows.\n",
    " * The database needed to be accessed by 100+ people:\n",
    "    - also in this case I would recommend to switch to cloud infrastructure.\n",
    "    - the tables could be saved to AWS S3 and make accessible as a database via the service AWS Athena.\n",
    "    - AWS Athena"
   ]
  },
  {
   "cell_type": "code",
   "execution_count": 12,
   "metadata": {
    "editable": true
   },
   "outputs": [
    {
     "name": "stdout",
     "output_type": "stream",
     "text": [
      "no README.md file found\n",
      "[NbConvertApp] Converting notebook capstone_stockscreener.ipynb to markdown\n",
      "[NbConvertApp] Writing 73842 bytes to capstone_stockscreener.md\n"
     ]
    },
    {
     "data": {
      "text/plain": [
       "'../README.md'"
      ]
     },
     "execution_count": 12,
     "metadata": {},
     "output_type": "execute_result"
    }
   ],
   "source": [
    "# remove old documentation\n",
    "try:\n",
    "    os.remove('README.md')\n",
    "except:\n",
    "    print('no README.md file found')\n",
    "# export notebook to markdown for documentation\n",
    "!jupyter nbconvert --to markdown capstone_stockscreener.ipynb\n",
    "# rename markdown file to README.md\n",
    "os.rename('capstone_stockscreener.md', 'README.md')\n",
    "# move readme to top folder\n",
    "shutil.move('README.md', '../README.md')"
   ]
  }
 ],
 "metadata": {
  "interpreter": {
   "hash": "77b4bc66c8ecfa930f6b614bb15f828984c00df9d84155b38696e34aa1f40a0b"
  },
  "kernelspec": {
   "display_name": "Python 3.8.5 64-bit ('dataengineering': conda)",
   "language": "python",
   "name": "python3"
  },
  "language_info": {
   "codemirror_mode": {
    "name": "ipython",
    "version": 3
   },
   "file_extension": ".py",
   "mimetype": "text/x-python",
   "name": "python",
   "nbconvert_exporter": "python",
   "pygments_lexer": "ipython3",
   "version": "3.7.16"
  }
 },
 "nbformat": 4,
 "nbformat_minor": 4
}

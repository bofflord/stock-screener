{
 "cells": [
  {
   "cell_type": "markdown",
   "metadata": {
    "editable": true
   },
   "source": [
    "# Rule #1 Stock Screener\n",
    "### Data Engineering Capstone Project\n",
    "\n",
    "#### Project Summary\n",
    "There are various ways to make investment decisions on the stockmarket. Many are based on data analysis.\n",
    "\n",
    "One investment strategy which became wide-known due to well-known proponents such as Benjamin Graham and Warren Buffet is called [value investing] (https://en.wikipedia.org/wiki/Value_investing). In layman's terms it assumes that:\n",
    "- via fundamental analysis an investor can buy stocks at less than their intrinsic value. \n",
    "- the intrinsic value will however in the long time be recognised by the market.\n",
    "\n",
    "[Fundamental analysis] (https://en.wikipedia.org/wiki/Fundamental_analysis) is  done by calculating and evaluating KPIs from the financial statements of businesses. From these KPIs the intrinsic value of the stock is then derived. One guideline on how to do this is provided by [Phil Town in his book \"Rule #1\"] (https://en.wikipedia.org/wiki/Phil_Town).\n",
    "\n",
    "He breaks the [relevant KPIs for value growth down to 5] (https://medium.datadriveninvestor.com/the-rule-1-of-long-term-investing-5e34c5702e49):\n",
    "- Return on Investment Capital (ROIC)\n",
    "- Sales growth rate\n",
    "- Earnings per Share (EPS) growth rate\n",
    "- Book Value per Share (BVPS) or Equity, growth rate\n",
    "- Free Cash Flow (FCF or Cash) growth rate\n",
    "\n",
    "Additionally Phil Town provides a formula on how to calculate the intrinisic value. This value he calles the \"sticker price\". An example calculation is available [here] (https://meetinvest.com/glossary/sticker-price#:~:text=where%20future%20market%20price%20%3D%20future,%2FE%20*%20estimated%20future%20EPS.).\n",
    "\n",
    "\n",
    "This project aims to provide curated data assets on stocks traded in the NASDAQ exchange for an investment analyst in order to:\n",
    "- inform on the industry background of a company and its peers.\n",
    "- conduct fundamental analysis based on the rule #1 kpi set. \n",
    "- evaluate value growth KPIs and derive the sticker price.\n",
    "- screen markets for stocks whose prices is under their intrinsic value.\n",
    "- enable further optimization and backtesting via historic market price data.\n",
    "\n",
    "\n",
    "The project follows the follow steps:\n",
    "* Step 1: Scope the Project and Gather Data\n",
    "* Step 2: Explore and Assess the Data\n",
    "* Step 3: Define the Data Model\n",
    "* Step 4: Run ETL to Model the Data\n",
    "* Step 5: Complete Project Write Up"
   ]
  },
  {
   "cell_type": "code",
   "execution_count": 1,
   "metadata": {
    "editable": true
   },
   "outputs": [],
   "source": [
    "# Do all imports and installs here\n",
    "import pandas as pd\n",
    "import numpy as np\n",
    "import matplotlib.pyplot as plt\n",
    "import simfin as sf"
   ]
  },
  {
   "cell_type": "code",
   "execution_count": 2,
   "metadata": {},
   "outputs": [],
   "source": [
    "# Local spark cluster specific imports for Windows\n",
    "import findspark\n",
    "findspark.init()"
   ]
  },
  {
   "cell_type": "code",
   "execution_count": 4,
   "metadata": {},
   "outputs": [
    {
     "output_type": "stream",
     "name": "stdout",
     "text": [
      "+-----+\n|hello|\n+-----+\n|spark|\n+-----+\n\n"
     ]
    }
   ],
   "source": [
    "# spark specific import. \n",
    "# Note: wait until run of previous cell is complete to avoid start-up issues.\n",
    "import pyspark\n",
    "from pyspark.sql import SparkSession\n",
    "from pyspark.sql import functions as F\n",
    "spark = SparkSession.builder.getOrCreate()\n",
    "df = spark.sql(\"select 'spark' as hello \")\n",
    "df.show()"
   ]
  },
  {
   "cell_type": "code",
   "execution_count": 5,
   "metadata": {},
   "outputs": [],
   "source": [
    "# import of functions from custom modules. \n",
    "# Note: wait until run of previous cell is complete to avoid start-up issues.\n",
    "from get_prices import *\n",
    "from get_fundamentals import *\n",
    "from get_peers import *\n",
    "from get_company_info import *\n",
    "from analysis_utils import *"
   ]
  },
  {
   "cell_type": "markdown",
   "metadata": {
    "editable": true
   },
   "source": [
    "## Step 1: Scope the Project and Gather Data\n",
    "\n",
    "### Scope \n",
    "Explain what you plan to do in the project in more detail. What data do you use? What is your end solution look like? What tools did you use? etc>\n",
    "\n",
    "After some initial research it was found that the required data on \n",
    "- company information\n",
    "- financial statements \n",
    "- historical prices\n",
    "\n",
    "is available via APIs of various providers. \n",
    "\n",
    "The financial statement and price data is then used to create the following additional data sets:\n",
    "- growth KPIs: KPIs relevant for the growth #1 investment strategy\n",
    "- screener results: identified stock which current prices is below the calculated intrinsic value.\n",
    "\n",
    "The data engineering pipelines built in this project process the data in two steps:\n",
    "\n",
    "1. Extraction from source and load to staging folder.\n",
    "2. Extraction from staging folder, transformation and load to target folders.\n",
    "\n",
    "The goal is to provide all tables as files in a target folder from which they will be loaded to an analytical tool for the evaluation.\n",
    "\n",
    "Since all providers chosen for this project offer a python API the first pipeline for source data extraction is purely realized via python shell scripts.\n",
    "\n",
    "However since the amount of data is quite largely (ca. 10 million records on historical stock pices), the second data pipeline which processes the data and creates the output files uses a combination of python and PySpark.\n",
    "\n",
    "The project was entirely developed to run locally on a Windows computer. Consequently some specific imports and start-up procedures need to be followed in order to ensure a smooth run.\n",
    "\n",
    "### Describe and Gather Data \n",
    "Below the various data sets and sources are described in the categories \n",
    "- company information\n",
    "- financial statements \n",
    "- historical prices\n",
    "\n",
    "Furthermore an overview is given on the definition of the content in the data sets:\n",
    "- growth KPIs\n",
    "- screener results\n",
    "\n",
    "Describe the data sets you're using. Where did it come from? What type of information is included? "
   ]
  },
  {
   "source": [
    "#### 1.1 Company information\n",
    "- Ticker symbol list: \"http://www.nasdaqtrader.com/dynamic/SymDir/nasdaqtraded.txt\"\n",
    "    - [Symbol Look-Up/Directory Data Fields & Definitions] (http://www.nasdaqtrader.com/trader.aspx?id=symboldirdefs)\n",
    "    - \"Ticker\" symbol of a stock is the primary/ foreign key which connects all of the tables with each other.\n",
    "    - it is filtered to only those Ticker symbols which\n",
    "        - are not test issues\n",
    "        - are stocks and not ETFs\n",
    "        - are not bankrupt\n",
    "- Company information: Kaggle dataset from 2019 https://www.kaggle.com/marketahead/all-us-stocks-tickers-company-info-logos \n",
    "    - this data was retrieved from the IEX Cloud API.\n",
    "    - in order to save costs it was decided to re-use this dataset instead of downloading the data fresh from the API.\n",
    "- Peer group information: IEX Cloud API https://iexcloud.io/docs/api/#peer-groups\n",
    "    - the corresponding python API package is [pyEX] (https://pyex.readthedocs.io/en/latest/#)\n",
    "    - this data is merged to the company information data set."
   ],
   "cell_type": "markdown",
   "metadata": {
    "editable": true
   }
  },
  {
   "source": [
    "#### 1.2 Fundamental indicators \n",
    "\n",
    "- all fundamental data is retrieved via the [SimFin] API (https://simfin.com/contribute/overview#/)\n",
    "    - the corresponding python API package is [simfin] (https://github.com/SimFin/simfin)\n",
    "- the used financial statements are:\n",
    "    - Income statement\n",
    "    - Balance sheet\n",
    "    - Cashflow statement\n",
    "\n",
    "From these data sets the 5 relevant  KPIs listed by Phil Town are calculated:\n",
    "- Return on Investment Capital (ROIC)\n",
    "    - Source: Income Statement\n",
    "        - net income: n_i -> column 'Net Income'\n",
    "        - dividend: di -> column 'Dividends Paid'\n",
    "        - debt: de -> summed up with equity in column 'Total Liabilities & Equity'\n",
    "        - equity: eq\n",
    "    - Definition: ROIC = (ni - di) / (de + eq)\n",
    "- Sales Growth Rate\n",
    "    - Source: Income Statement\n",
    "    - Definition:  Sales is equal to column 'revenue'\n",
    "- Earnings per Share Growth Rate\n",
    "    - Source: Income Statement\n",
    "        - Earnings: ea -> column 'Net Income'\n",
    "        - number of shares : sh -> column 'Shares (Basic)'\n",
    "    - Definition: ea / sh\n",
    "- Book Value per Share Growth Rate\n",
    "    - Source: Balance Sheet\n",
    "        - Total Equity: t_e -> column 'Total Equity'\n",
    "        - Prefered Equity: p_e (not available)\n",
    "        - number of shares : sh -> column 'Shares (Basic)'\n",
    "    - Definition: (t_e - p_e) / sh\n",
    "- Free Cash Flow Growth Rate\n",
    "    - Source: \n",
    "        - Cash Flow: \n",
    "            - Cashflow from Operating Activities: cf_oa -> column 'Net Cash from Operating Activities'\n",
    "            - Capital Expenditure: capex -> column 'Net Cash from Investing Activities'\n",
    "        - Income Statement:\n",
    "            - Interest Expenses: i_e -> excluded for simplicity, column 'Interest Expense, Net'\n",
    "            - Tax shield on Interest Expense: t_i_e  -> excluded for simplicity\n",
    "    - Definition: Free Cashflow (f_cf) = cf_oa + i_e - t_i_e - capex\n"
   ],
   "cell_type": "markdown",
   "metadata": {
    "editable": true
   }
  },
  {
   "source": [
    "#### 1.3 Pricing information ####\n",
    "The purpose of this data is to evaluate the so-called sticker prices and margin of safety based on current stock prices. It can also be used for backtesting criteria on historic data.\n",
    "- all historic price data is retrieve via the Yahoo Finance API\n",
    "    - the corresponding python package is [yfinance] (https://pypi.org/project/yfinance/)\n",
    "    - for the data extraction an [existing script by Oleh Onyshchak] (https://www.kaggle.com/jacksoncrow/download-nasdaq-historical-data) was used and adapted.\n"
   ],
   "cell_type": "markdown",
   "metadata": {}
  },
  {
   "source": [
    "#### 1.4 Growth KPI ####\n",
    "\n",
    "From the fundamental KPIs growth indicators are derived which represent the performance over time. From these the intrinsic value of a stock is calculated via the \"sticker price\". An additional margin of safety is added to that.\n",
    "- Sticker price calculation\n",
    "    - future period fp, by default 10 years\n",
    "    - Sticker price = future market price / (1 + exp_rr)^fp\n",
    "    - expected annual return rate exp_rr, by default 15%\n",
    "    - future market price = future P/E * estimated future EPS\n",
    "        - future P/E = min(pe_default, pe_5yr_avg)\n",
    "            - default price per earnings pe_default: 2* rule #1 growth rate (see below)\n",
    "            - 5 year average of annual price per earnings pe_5yr_avg\n",
    "                - annual price per earnings pe = price/ eps\n",
    "                    - annual price = mean of daily low prices in month December\n",
    "        - estimated future EPS f_eps = current EPS * (1+ rule1_gr)^fp\n",
    "            - rule #1 growth rate rule1_gr = min(bvps_gr_5yr, eps_gr_5yr)\n",
    "- Margin of safety: half the the sticker price."
   ],
   "cell_type": "markdown",
   "metadata": {}
  },
  {
   "source": [
    "#### 1.5 Screener results ####\n",
    "This table is where things get interesting. The purpose of this table is to show all stocks which latest low price is below the calculated intrinsic value (including a margin of safety). For these stocks we get \"value\" for our bucks.\n",
    "\n",
    "The table is generated by:\n",
    "- extracting the latest stock price data for all stocks.\n",
    "- joining the intrinsic values for each stock from the growth kpi table.\n",
    "- filtering and keeping only those stocks which price is below the margin of safety value.\n"
   ],
   "cell_type": "markdown",
   "metadata": {}
  },
  {
   "cell_type": "markdown",
   "metadata": {
    "editable": true
   },
   "source": [
    "## Step 2: Explore and Assess the Data\n",
    "#### Explore the Data ####\n",
    "For the data exploration purposes the python package pandas profiling is used.\n",
    "It generates a so called profiling report for a Pandas Dataframe.\n",
    "\n",
    "Identify data quality issues, like missing values, duplicate data, etc.\n",
    "\n",
    "#### Cleaning Steps\n",
    "Document steps necessary to clean the data"
   ]
  },
  {
   "source": [
    "### 2.1 Company information\n",
    "#### 2.1.1 Ticker Symbol List"
   ],
   "cell_type": "markdown",
   "metadata": {}
  },
  {
   "cell_type": "code",
   "execution_count": 5,
   "metadata": {},
   "outputs": [
    {
     "output_type": "execute_result",
     "data": {
      "text/plain": [
       "  Nasdaq Traded Symbol                                      Security Name  \\\n",
       "0             Y      A            Agilent Technologies, Inc. Common Stock   \n",
       "1             Y     AA                    Alcoa Corporation Common Stock    \n",
       "2             Y    AAA  Listed Funds Trust AAF First Priority CLO Bond...   \n",
       "\n",
       "  Listing Exchange Market Category ETF  Round Lot Size Test Issue  \\\n",
       "0                N                   N           100.0          N   \n",
       "1                N                   N           100.0          N   \n",
       "2                P                   Y           100.0          N   \n",
       "\n",
       "  Financial Status CQS Symbol NASDAQ Symbol NextShares  \n",
       "0              NaN          A             A          N  \n",
       "1              NaN         AA            AA          N  \n",
       "2              NaN        AAA           AAA          N  "
      ],
      "text/html": "<div>\n<style scoped>\n    .dataframe tbody tr th:only-of-type {\n        vertical-align: middle;\n    }\n\n    .dataframe tbody tr th {\n        vertical-align: top;\n    }\n\n    .dataframe thead th {\n        text-align: right;\n    }\n</style>\n<table border=\"1\" class=\"dataframe\">\n  <thead>\n    <tr style=\"text-align: right;\">\n      <th></th>\n      <th>Nasdaq Traded</th>\n      <th>Symbol</th>\n      <th>Security Name</th>\n      <th>Listing Exchange</th>\n      <th>Market Category</th>\n      <th>ETF</th>\n      <th>Round Lot Size</th>\n      <th>Test Issue</th>\n      <th>Financial Status</th>\n      <th>CQS Symbol</th>\n      <th>NASDAQ Symbol</th>\n      <th>NextShares</th>\n    </tr>\n  </thead>\n  <tbody>\n    <tr>\n      <th>0</th>\n      <td>Y</td>\n      <td>A</td>\n      <td>Agilent Technologies, Inc. Common Stock</td>\n      <td>N</td>\n      <td></td>\n      <td>N</td>\n      <td>100.0</td>\n      <td>N</td>\n      <td>NaN</td>\n      <td>A</td>\n      <td>A</td>\n      <td>N</td>\n    </tr>\n    <tr>\n      <th>1</th>\n      <td>Y</td>\n      <td>AA</td>\n      <td>Alcoa Corporation Common Stock</td>\n      <td>N</td>\n      <td></td>\n      <td>N</td>\n      <td>100.0</td>\n      <td>N</td>\n      <td>NaN</td>\n      <td>AA</td>\n      <td>AA</td>\n      <td>N</td>\n    </tr>\n    <tr>\n      <th>2</th>\n      <td>Y</td>\n      <td>AAA</td>\n      <td>Listed Funds Trust AAF First Priority CLO Bond...</td>\n      <td>P</td>\n      <td></td>\n      <td>Y</td>\n      <td>100.0</td>\n      <td>N</td>\n      <td>NaN</td>\n      <td>AAA</td>\n      <td>AAA</td>\n      <td>N</td>\n    </tr>\n  </tbody>\n</table>\n</div>"
     },
     "metadata": {},
     "execution_count": 5
    }
   ],
   "source": [
    "# get ticket symbol list\n",
    "symbol_df = pd.read_csv(\"http://www.nasdaqtrader.com/dynamic/SymDir/nasdaqtraded.txt\", sep='|')\n",
    "symbol_df.head(3)"
   ]
  },
  {
   "cell_type": "code",
   "execution_count": 6,
   "metadata": {},
   "outputs": [
    {
     "output_type": "stream",
     "name": "stdout",
     "text": [
      "Number of symbol in NASDAQ list before any filters: 10657\nNumber of symbol in NASDAQ list after filters: 8129\n"
     ]
    }
   ],
   "source": [
    "print('Number of symbol in NASDAQ list before any filters: {}'\\\n",
    "    .format(symbol_df['NASDAQ Symbol'].nunique()))\n",
    "# exclude test issues\n",
    "symbol_df = symbol_df[(symbol_df['Test Issue'] == 'N')]\n",
    "# exclude companies that are bankrupt\n",
    "symbol_df = symbol_df[symbol_df['Financial Status'].isna() | (symbol_df['Financial Status']=='N')]\n",
    "# exclude ETFs\n",
    "symbol_df = symbol_df[symbol_df['ETF']=='N']\n",
    "symbol_list = symbol_df['NASDAQ Symbol'].tolist()\n",
    "print('Number of symbol in NASDAQ list after filters: {}'\\\n",
    "    .format(len(symbol_list)))"
   ]
  },
  {
   "source": [
    "#### 2.1.2 Company Info\n",
    "From the Pandas Profiling report the following insights can be gathered:\n",
    "- data for 4559 ticker symbols is available\n",
    "- the amount of missing data is quite low (5.3%) and mostly on the columns logo, ceo and tag.\n",
    "- the data quality is considered high, further cleaning is not required."
   ],
   "cell_type": "markdown",
   "metadata": {}
  },
  {
   "cell_type": "code",
   "execution_count": 7,
   "metadata": {},
   "outputs": [
    {
     "output_type": "stream",
     "name": "stdout",
     "text": [
      "Number of stocks symbols in list: 4545\nCompany data loaded from disk...\n"
     ]
    },
    {
     "output_type": "execute_result",
     "data": {
      "text/plain": [
       "  ticker               company name short name  \\\n",
       "0      A  Agilent Technologies Inc.    Agilent   \n",
       "\n",
       "                         industry  \\\n",
       "0  Medical Diagnostics & Research   \n",
       "\n",
       "                                         description                 website  \\\n",
       "0  Agilent Technologies Inc is engaged in life sc...  http://www.agilent.com   \n",
       "\n",
       "    logo                  ceo                 exchange    market cap  \\\n",
       "0  A.png  Michael R. McMullen  New York Stock Exchange  2.421807e+10   \n",
       "\n",
       "       sector       tag 1                   tag 2  \\\n",
       "0  Healthcare  Healthcare  Diagnostics & Research   \n",
       "\n",
       "                            tag 3  \n",
       "0  Medical Diagnostics & Research  "
      ],
      "text/html": "<div>\n<style scoped>\n    .dataframe tbody tr th:only-of-type {\n        vertical-align: middle;\n    }\n\n    .dataframe tbody tr th {\n        vertical-align: top;\n    }\n\n    .dataframe thead th {\n        text-align: right;\n    }\n</style>\n<table border=\"1\" class=\"dataframe\">\n  <thead>\n    <tr style=\"text-align: right;\">\n      <th></th>\n      <th>ticker</th>\n      <th>company name</th>\n      <th>short name</th>\n      <th>industry</th>\n      <th>description</th>\n      <th>website</th>\n      <th>logo</th>\n      <th>ceo</th>\n      <th>exchange</th>\n      <th>market cap</th>\n      <th>sector</th>\n      <th>tag 1</th>\n      <th>tag 2</th>\n      <th>tag 3</th>\n    </tr>\n  </thead>\n  <tbody>\n    <tr>\n      <th>0</th>\n      <td>A</td>\n      <td>Agilent Technologies Inc.</td>\n      <td>Agilent</td>\n      <td>Medical Diagnostics &amp; Research</td>\n      <td>Agilent Technologies Inc is engaged in life sc...</td>\n      <td>http://www.agilent.com</td>\n      <td>A.png</td>\n      <td>Michael R. McMullen</td>\n      <td>New York Stock Exchange</td>\n      <td>2.421807e+10</td>\n      <td>Healthcare</td>\n      <td>Healthcare</td>\n      <td>Diagnostics &amp; Research</td>\n      <td>Medical Diagnostics &amp; Research</td>\n    </tr>\n  </tbody>\n</table>\n</div>"
     },
     "metadata": {},
     "execution_count": 7
    }
   ],
   "source": [
    "company_info_df = load_company_info_from_disk(symbol_list)\n",
    "company_info_df.head(1)"
   ]
  },
  {
   "cell_type": "code",
   "execution_count": null,
   "metadata": {},
   "outputs": [],
   "source": [
    "create_pandas_profiling_report(company_info_df, 'company_info_df')"
   ]
  },
  {
   "cell_type": "code",
   "execution_count": 8,
   "metadata": {},
   "outputs": [],
   "source": [
    "# reduce symbol_list to those where company information is available\n",
    "symbol_list = company_info_df['ticker'].unique().tolist()"
   ]
  },
  {
   "source": [
    "#### 2.1.3 Peer group information\n",
    "For retrieving this data via the API there is a cost per ticker symbol. In order to limit these costs it was decided to limit data retrieval to only those symbols which are in the company information data set (4545 ticker symbols in total).\n",
    "\n",
    "From Pandas Profiling report the following insights can be gathered:\n",
    "- an API call was successfull for 4536 out of the 4545 ticker symbols.\n",
    "- For 3375 of these ticker symbols the peer data is available.\n",
    "\n",
    "Since the peer group is considered a supplementary information, it was decided to proceed in the project with the total number of symbols in the company information data set. The amount of missing values for peer group is acceptable."
   ],
   "cell_type": "markdown",
   "metadata": {}
  },
  {
   "cell_type": "code",
   "execution_count": 17,
   "metadata": {},
   "outputs": [],
   "source": [
    "# initial download of peer data from API\n",
    "# Note: requires a valid API key\n",
    "#peer_df = download_peer_data(symbol_list)"
   ]
  },
  {
   "source": [],
   "cell_type": "markdown",
   "metadata": {}
  },
  {
   "cell_type": "code",
   "execution_count": 9,
   "metadata": {},
   "outputs": [
    {
     "output_type": "stream",
     "name": "stdout",
     "text": [
      "Shape of peer_df: (4536, 3)\n"
     ]
    }
   ],
   "source": [
    "# load downloaded peer data from disk\n",
    "peer_df = get_peer_data_from_disk(symbol_list)\n",
    "peer_df_shape = peer_df.shape\n",
    "print(f'Shape of peer_df: {peer_df_shape}')"
   ]
  },
  {
   "cell_type": "code",
   "execution_count": 10,
   "metadata": {},
   "outputs": [
    {
     "output_type": "stream",
     "name": "stderr",
     "text": [
      "Summarize dataset: 100%|██████████| 12/12 [00:01<00:00, 10.07it/s, Completed]\n",
      "Generate report structure: 100%|██████████| 1/1 [00:00<00:00, 15.26it/s]\n",
      "Render HTML: 100%|██████████| 1/1 [00:00<00:00,  1.18it/s]\n",
      "Export report to file: 100%|██████████| 1/1 [00:00<00:00, 143.00it/s]\n",
      "Pandas profiling report of file peer_df created\n",
      "\n",
      "\n",
      "\n"
     ]
    }
   ],
   "source": [
    "create_pandas_profiling_report(peer_df, 'peer_df')"
   ]
  },
  {
   "cell_type": "code",
   "execution_count": 14,
   "metadata": {},
   "outputs": [
    {
     "output_type": "execute_result",
     "data": {
      "text/plain": [
       "  ticker               company name short name  \\\n",
       "0      A  Agilent Technologies Inc.    Agilent   \n",
       "1     AA          Alcoa Corporation      Alcoa   \n",
       "2    AAC          AAC Holdings Inc.        AAC   \n",
       "\n",
       "                         industry  \\\n",
       "0  Medical Diagnostics & Research   \n",
       "1                 Metals & Mining   \n",
       "2           Health Care Providers   \n",
       "\n",
       "                                         description  \\\n",
       "0  Agilent Technologies Inc is engaged in life sc...   \n",
       "1  Alcoa Corp is an integrated aluminum company. ...   \n",
       "2  AAC Holdings Inc provides inpatient and outpat...   \n",
       "\n",
       "                                   website    logo                     ceo  \\\n",
       "0                   http://www.agilent.com   A.png     Michael R. McMullen   \n",
       "1                     http://www.alcoa.com  AA.png  Roy Christopher Harvey   \n",
       "2  http://www.americanaddictioncenters.org     NaN   Michael T. Cartwright   \n",
       "\n",
       "                  exchange    market cap           sector            tag 1  \\\n",
       "0  New York Stock Exchange  2.421807e+10       Healthcare       Healthcare   \n",
       "1  New York Stock Exchange  5.374967e+09  Basic Materials  Basic Materials   \n",
       "2  New York Stock Exchange  6.372010e+07       Healthcare       Healthcare   \n",
       "\n",
       "                    tag 2                           tag 3  \\\n",
       "0  Diagnostics & Research  Medical Diagnostics & Research   \n",
       "1                Aluminum                 Metals & Mining   \n",
       "2            Medical Care           Health Care Providers   \n",
       "\n",
       "                                   peer_string  \\\n",
       "0  TMO,PKI,DHR,TER,NATI,ILMN,AME,BRKR,GE,SPMYY   \n",
       "1            ACH,KALU,CENX,NHYDY,AWCMY,BBL,BHP   \n",
       "2                           SEM,ACHC,USPH,BICX   \n",
       "\n",
       "                                           peer_list  \n",
       "0  [TMO, PKI, DHR, TER, NATI, ILMN, AME, BRKR, GE...  \n",
       "1          [ACH, KALU, CENX, NHYDY, AWCMY, BBL, BHP]  \n",
       "2                            [SEM, ACHC, USPH, BICX]  "
      ],
      "text/html": "<div>\n<style scoped>\n    .dataframe tbody tr th:only-of-type {\n        vertical-align: middle;\n    }\n\n    .dataframe tbody tr th {\n        vertical-align: top;\n    }\n\n    .dataframe thead th {\n        text-align: right;\n    }\n</style>\n<table border=\"1\" class=\"dataframe\">\n  <thead>\n    <tr style=\"text-align: right;\">\n      <th></th>\n      <th>ticker</th>\n      <th>company name</th>\n      <th>short name</th>\n      <th>industry</th>\n      <th>description</th>\n      <th>website</th>\n      <th>logo</th>\n      <th>ceo</th>\n      <th>exchange</th>\n      <th>market cap</th>\n      <th>sector</th>\n      <th>tag 1</th>\n      <th>tag 2</th>\n      <th>tag 3</th>\n      <th>peer_string</th>\n      <th>peer_list</th>\n    </tr>\n  </thead>\n  <tbody>\n    <tr>\n      <th>0</th>\n      <td>A</td>\n      <td>Agilent Technologies Inc.</td>\n      <td>Agilent</td>\n      <td>Medical Diagnostics &amp; Research</td>\n      <td>Agilent Technologies Inc is engaged in life sc...</td>\n      <td>http://www.agilent.com</td>\n      <td>A.png</td>\n      <td>Michael R. McMullen</td>\n      <td>New York Stock Exchange</td>\n      <td>2.421807e+10</td>\n      <td>Healthcare</td>\n      <td>Healthcare</td>\n      <td>Diagnostics &amp; Research</td>\n      <td>Medical Diagnostics &amp; Research</td>\n      <td>TMO,PKI,DHR,TER,NATI,ILMN,AME,BRKR,GE,SPMYY</td>\n      <td>[TMO, PKI, DHR, TER, NATI, ILMN, AME, BRKR, GE...</td>\n    </tr>\n    <tr>\n      <th>1</th>\n      <td>AA</td>\n      <td>Alcoa Corporation</td>\n      <td>Alcoa</td>\n      <td>Metals &amp; Mining</td>\n      <td>Alcoa Corp is an integrated aluminum company. ...</td>\n      <td>http://www.alcoa.com</td>\n      <td>AA.png</td>\n      <td>Roy Christopher Harvey</td>\n      <td>New York Stock Exchange</td>\n      <td>5.374967e+09</td>\n      <td>Basic Materials</td>\n      <td>Basic Materials</td>\n      <td>Aluminum</td>\n      <td>Metals &amp; Mining</td>\n      <td>ACH,KALU,CENX,NHYDY,AWCMY,BBL,BHP</td>\n      <td>[ACH, KALU, CENX, NHYDY, AWCMY, BBL, BHP]</td>\n    </tr>\n    <tr>\n      <th>2</th>\n      <td>AAC</td>\n      <td>AAC Holdings Inc.</td>\n      <td>AAC</td>\n      <td>Health Care Providers</td>\n      <td>AAC Holdings Inc provides inpatient and outpat...</td>\n      <td>http://www.americanaddictioncenters.org</td>\n      <td>NaN</td>\n      <td>Michael T. Cartwright</td>\n      <td>New York Stock Exchange</td>\n      <td>6.372010e+07</td>\n      <td>Healthcare</td>\n      <td>Healthcare</td>\n      <td>Medical Care</td>\n      <td>Health Care Providers</td>\n      <td>SEM,ACHC,USPH,BICX</td>\n      <td>[SEM, ACHC, USPH, BICX]</td>\n    </tr>\n  </tbody>\n</table>\n</div>"
     },
     "metadata": {},
     "execution_count": 14
    }
   ],
   "source": [
    "# add peer data to company info\n",
    "company_info_df = company_info_df.merge(peer_df, \n",
    "                                        on = 'ticker',\n",
    "                                        how='left',\n",
    "                                        validate='1:1')\n",
    "company_info_df.head(3)"
   ]
  },
  {
   "source": [
    "### 2.2 Fundamental indicators\n",
    "The Simfin API others a bulk download of fundamental data traded on American stock exchanges.\n",
    "From the Pandas Profiling report the following insights can be gathered:\n",
    "- Income statement: \n",
    "    - data for 2296 ticker symbols available.\n",
    "    - column \"Revenue\" has low number of missing values.\n",
    "    - Fiscal Years: data availability after 2010 is good, but no before.\n",
    "- Balance sheet:\n",
    "    - data for 2297 ticker symbols available.\n",
    "    - Fiscal Years: data availability after 2010 is good, but no before.\n",
    "- Cashflow statement:\n",
    "    - data for 2296 ticker symbols available.\n",
    "    - Fiscal Years: data availability after 2010 is good, but no before.\n",
    "    - column \"Shares (Basic)\" has low number of missing values.\n",
    "    - column \"Dividents Paid\" has high number of missing values (50%).\n",
    "        - data cleansing: NA values are replaced with Zero.\n",
    "        - this way the missing data has no effect on the overall ROIC calculation.\n",
    "        - this is however a cause of potential errors in the KPI.\n",
    "    - column \"Net Cash from Investing Activities\" has low number of missing values.\n",
    "\n",
    "However the number of Ticker symbols with data overlapping with those in the symbol list derived from the company information data set is considerably lower:\n",
    "- Available symbols in data set cashflow_df: 1660 of total 4545\n",
    "- Available symbols in data set income_sm_df: 1660 of total 4545\n",
    "- Available symbols in data set balance_st_df: 1661 of total 4545\n",
    "\n",
    "Since the fundamental data is at the core of value investing strategies, the symbol list will be reduced to the 1660 tickers with available fundamental data"
   ],
   "cell_type": "markdown",
   "metadata": {}
  },
  {
   "cell_type": "code",
   "execution_count": 9,
   "metadata": {},
   "outputs": [],
   "source": [
    "# initialize simfin API\n",
    "init_simfin_api()"
   ]
  },
  {
   "cell_type": "code",
   "execution_count": 10,
   "metadata": {},
   "outputs": [
    {
     "output_type": "stream",
     "name": "stdout",
     "text": [
      "Dataset \"us-cashflow-annual\" on disk (28 days old).\n",
      "- Loading from disk ... Done!\n",
      "Dataset \"us-income-annual\" on disk (28 days old).\n",
      "- Loading from disk ... Done!\n",
      "Dataset \"us-balance-annual\" on disk (25 days old).\n",
      "- Loading from disk ... Done!\n"
     ]
    }
   ],
   "source": [
    "market='us'\n",
    "variant='annual'\n",
    "# download cashflow data from the SimFin server and load into a Pandas DataFrame.\n",
    "cashflow_df = sf.load_cashflow(variant=variant, market=market)\n",
    "cashflow_df = cashflow_df.reset_index()\n",
    "# Download the data from the SimFin server and load into a Pandas DataFrame.\n",
    "income_sm_df = sf.load_income(variant=variant, market=market)\n",
    "income_sm_df = income_sm_df.reset_index()\n",
    "# Download the data from the SimFin server and load into a Pandas DataFrame.\n",
    "balance_st_df = sf.load_balance(variant=variant, market=market)\n",
    "balance_st_df = balance_st_df.reset_index()"
   ]
  },
  {
   "cell_type": "code",
   "execution_count": null,
   "metadata": {},
   "outputs": [],
   "source": [
    "# create Pandas Profiling Report for each DataFrame\n",
    "for df, df_name in zip([cashflow_df, income_sm_df, balance_st_df],\n",
    "                        ['cashflow_df', 'income_sm_df', 'balance_st_df']):\n",
    "    create_pandas_profiling_report(df, df_name)"
   ]
  },
  {
   "cell_type": "code",
   "execution_count": 11,
   "metadata": {},
   "outputs": [
    {
     "output_type": "stream",
     "name": "stdout",
     "text": [
      "Available symbols in data set cashflow_df: 1660 of total 4545\nAvailable symbols in data set income_sm_df: 1660 of total 4545\nAvailable symbols in data set balance_st_df: 1661 of total 4545\n"
     ]
    }
   ],
   "source": [
    "# check availability of fundamental data for stocks in symbol list\n",
    "for df, df_name in zip([cashflow_df, income_sm_df, balance_st_df],\n",
    "                        ['cashflow_df', 'income_sm_df', 'balance_st_df']):\n",
    "    symbol_cnt = len(symbol_list)\n",
    "    available_symbol_cnt = df[df['Ticker'].isin(symbol_list)]['Ticker'].nunique()\n",
    "    print(f'Available symbols in data set {df_name}: {available_symbol_cnt} of total {symbol_cnt}')"
   ]
  },
  {
   "cell_type": "code",
   "execution_count": 18,
   "metadata": {},
   "outputs": [],
   "source": [
    "# determine time period for analysis\n",
    "period_dict = {'start_date':2010,\n",
    "                'end_date':2019}"
   ]
  },
  {
   "cell_type": "code",
   "execution_count": 21,
   "metadata": {},
   "outputs": [
    {
     "output_type": "stream",
     "name": "stdout",
     "text": [
      "Dataset \"us-cashflow-annual\" on disk (28 days old).\n",
      "- Loading from disk ... Done!\n",
      "Dataset \"us-income-annual\" on disk (28 days old).\n",
      "- Loading from disk ... Done!\n",
      "Dataset \"us-balance-annual\" on disk (26 days old).\n",
      "- Loading from disk ... Done!\n",
      "Symbols with available fundamental data: 1655\n",
      "Combined all fundamental data from financial statements to one Dataframe.\n",
      "Calculated roic and added it to Dataframe\n",
      "Calculated eps and added it to Dataframe\n",
      "Calculated bvps and added it to Dataframe\n",
      "Calculated fcf and added it to Dataframe\n",
      "top5 KPIs added to fundamental data\n"
     ]
    },
    {
     "output_type": "execute_result",
     "data": {
      "text/plain": [
       "      Ticker Report Date_is  SimFinId Currency  Fiscal Year Fiscal Period_is  \\\n",
       "14387   ZYNE     2017-12-31    901704      USD         2017               FY   \n",
       "14388   ZYNE     2018-12-31    901704      USD         2018               FY   \n",
       "14389   ZYNE     2019-12-31    901704      USD         2019               FY   \n",
       "\n",
       "      Publish Date_is Restated Date_is  Shares (Basic)_is  \\\n",
       "14387      2018-03-12       2019-03-11         12914814.0   \n",
       "14388      2019-03-11       2019-03-11         15308886.0   \n",
       "14389      2020-03-10       2020-03-10         22000203.0   \n",
       "\n",
       "       Shares (Diluted)_is  ...  Share Capital & Additional Paid-In Capital  \\\n",
       "14387           12914814.0  ...                                 138930454.0   \n",
       "14388           15308886.0  ...                                 175493702.0   \n",
       "14389           22000203.0  ...                                 226432367.0   \n",
       "\n",
       "       Treasury Stock  Retained Earnings  Total Equity  \\\n",
       "14387             NaN        -77980866.0    60949588.0   \n",
       "14388             NaN       -117892041.0    57601661.0   \n",
       "14389             NaN       -150835624.0    75596743.0   \n",
       "\n",
       "       Total Liabilities & Equity  Dividends Paid_clean      roic       eps  \\\n",
       "14387                    69054309                   0.0 -0.463582 -2.478727   \n",
       "14388                    67327443                   0.0 -0.592792 -2.607059   \n",
       "14389                    87764596                   0.0 -0.375363 -1.497422   \n",
       "\n",
       "           bvps         fcf  \n",
       "14387  4.719355 -25727095.0  \n",
       "14388  3.762629 -32110693.0  \n",
       "14389  3.436184 -34688586.0  \n",
       "\n",
       "[3 rows x 83 columns]"
      ],
      "text/html": "<div>\n<style scoped>\n    .dataframe tbody tr th:only-of-type {\n        vertical-align: middle;\n    }\n\n    .dataframe tbody tr th {\n        vertical-align: top;\n    }\n\n    .dataframe thead th {\n        text-align: right;\n    }\n</style>\n<table border=\"1\" class=\"dataframe\">\n  <thead>\n    <tr style=\"text-align: right;\">\n      <th></th>\n      <th>Ticker</th>\n      <th>Report Date_is</th>\n      <th>SimFinId</th>\n      <th>Currency</th>\n      <th>Fiscal Year</th>\n      <th>Fiscal Period_is</th>\n      <th>Publish Date_is</th>\n      <th>Restated Date_is</th>\n      <th>Shares (Basic)_is</th>\n      <th>Shares (Diluted)_is</th>\n      <th>...</th>\n      <th>Share Capital &amp; Additional Paid-In Capital</th>\n      <th>Treasury Stock</th>\n      <th>Retained Earnings</th>\n      <th>Total Equity</th>\n      <th>Total Liabilities &amp; Equity</th>\n      <th>Dividends Paid_clean</th>\n      <th>roic</th>\n      <th>eps</th>\n      <th>bvps</th>\n      <th>fcf</th>\n    </tr>\n  </thead>\n  <tbody>\n    <tr>\n      <th>14387</th>\n      <td>ZYNE</td>\n      <td>2017-12-31</td>\n      <td>901704</td>\n      <td>USD</td>\n      <td>2017</td>\n      <td>FY</td>\n      <td>2018-03-12</td>\n      <td>2019-03-11</td>\n      <td>12914814.0</td>\n      <td>12914814.0</td>\n      <td>...</td>\n      <td>138930454.0</td>\n      <td>NaN</td>\n      <td>-77980866.0</td>\n      <td>60949588.0</td>\n      <td>69054309</td>\n      <td>0.0</td>\n      <td>-0.463582</td>\n      <td>-2.478727</td>\n      <td>4.719355</td>\n      <td>-25727095.0</td>\n    </tr>\n    <tr>\n      <th>14388</th>\n      <td>ZYNE</td>\n      <td>2018-12-31</td>\n      <td>901704</td>\n      <td>USD</td>\n      <td>2018</td>\n      <td>FY</td>\n      <td>2019-03-11</td>\n      <td>2019-03-11</td>\n      <td>15308886.0</td>\n      <td>15308886.0</td>\n      <td>...</td>\n      <td>175493702.0</td>\n      <td>NaN</td>\n      <td>-117892041.0</td>\n      <td>57601661.0</td>\n      <td>67327443</td>\n      <td>0.0</td>\n      <td>-0.592792</td>\n      <td>-2.607059</td>\n      <td>3.762629</td>\n      <td>-32110693.0</td>\n    </tr>\n    <tr>\n      <th>14389</th>\n      <td>ZYNE</td>\n      <td>2019-12-31</td>\n      <td>901704</td>\n      <td>USD</td>\n      <td>2019</td>\n      <td>FY</td>\n      <td>2020-03-10</td>\n      <td>2020-03-10</td>\n      <td>22000203.0</td>\n      <td>22000203.0</td>\n      <td>...</td>\n      <td>226432367.0</td>\n      <td>NaN</td>\n      <td>-150835624.0</td>\n      <td>75596743.0</td>\n      <td>87764596</td>\n      <td>0.0</td>\n      <td>-0.375363</td>\n      <td>-1.497422</td>\n      <td>3.436184</td>\n      <td>-34688586.0</td>\n    </tr>\n  </tbody>\n</table>\n<p>3 rows × 83 columns</p>\n</div>"
     },
     "metadata": {},
     "execution_count": 21
    }
   ],
   "source": [
    "# combine fundamentals and calculate top5 kpis\n",
    "fundamental_df = combine_fundamentals(symbol_list)\n",
    "# filter on relevant time period\n",
    "fundamental_df = filter_df(fundamental_df, period_dict)\n",
    "fundamental_df = calculate_top5_kpi(fundamental_df)\n",
    "# reduce symbol_list to those where fundamental data is available\n",
    "symbol_list = fundamental_df['Ticker'].unique().tolist()\n",
    "fundamental_df.tail(3)"
   ]
  },
  {
   "source": [
    "### 2.3 Pricing information\n",
    "Since the amount of available data is quite large, it is not possible to use Pandas Profiling here for an evaluation. Instead descriptive statistics are derived from PySpark computations\n",
    "- Number of rows in entire price data:  9.702.060\n",
    "- Data for 1655 out of 1660 ticker symbols is available via the API.\n",
    "- the price data is essential for the growth KPI calculation. Consequently the processed data will again be restricted to the ticker symbols with available price data."
   ],
   "cell_type": "markdown",
   "metadata": {}
  },
  {
   "cell_type": "code",
   "execution_count": 17,
   "metadata": {},
   "outputs": [
    {
     "output_type": "stream",
     "name": "stdout",
     "text": [
      "Wall time: 0 ns\n"
     ]
    }
   ],
   "source": [
    "%%time\n",
    "# Download historic stock prices for symbols\n",
    "# Note: this might take a long time, consequently the code line below is commented.\n",
    "#download_ticker_prices(symbol_list)"
   ]
  },
  {
   "cell_type": "code",
   "execution_count": 7,
   "metadata": {},
   "outputs": [
    {
     "output_type": "stream",
     "name": "stdout",
     "text": [
      "root\n |-- Date: date (nullable = true)\n |-- Ticker: string (nullable = true)\n |-- Open: double (nullable = true)\n |-- High: double (nullable = true)\n |-- Low: double (nullable = true)\n |-- Close: double (nullable = true)\n |-- Adj Close: double (nullable = true)\n |-- Volume: double (nullable = true)\n\nWall time: 16.1 s\n"
     ]
    }
   ],
   "source": [
    "%%time\n",
    "# load ticker prices for symbols\n",
    "price_df = load_ticker_prices(spark, symbol_list)\n",
    "# print Schema\n",
    "price_df.printSchema()"
   ]
  },
  {
   "cell_type": "code",
   "execution_count": 8,
   "metadata": {},
   "outputs": [
    {
     "output_type": "execute_result",
     "data": {
      "text/plain": [
       "         Date Ticker      Open      High       Low     Close  Adj Close  \\\n",
       "0  1962-01-02    HPQ  0.131273  0.131273  0.124177  0.124177   0.046594   \n",
       "1  1962-01-03    HPQ  0.124177  0.124177  0.121516  0.122846   0.046094   \n",
       "2  1962-01-04    HPQ  0.122846  0.126838  0.117968  0.120185   0.045096   \n",
       "\n",
       "      Volume  \n",
       "0  2480333.0  \n",
       "1   507341.0  \n",
       "2   845568.0  "
      ],
      "text/html": "<div>\n<style scoped>\n    .dataframe tbody tr th:only-of-type {\n        vertical-align: middle;\n    }\n\n    .dataframe tbody tr th {\n        vertical-align: top;\n    }\n\n    .dataframe thead th {\n        text-align: right;\n    }\n</style>\n<table border=\"1\" class=\"dataframe\">\n  <thead>\n    <tr style=\"text-align: right;\">\n      <th></th>\n      <th>Date</th>\n      <th>Ticker</th>\n      <th>Open</th>\n      <th>High</th>\n      <th>Low</th>\n      <th>Close</th>\n      <th>Adj Close</th>\n      <th>Volume</th>\n    </tr>\n  </thead>\n  <tbody>\n    <tr>\n      <th>0</th>\n      <td>1962-01-02</td>\n      <td>HPQ</td>\n      <td>0.131273</td>\n      <td>0.131273</td>\n      <td>0.124177</td>\n      <td>0.124177</td>\n      <td>0.046594</td>\n      <td>2480333.0</td>\n    </tr>\n    <tr>\n      <th>1</th>\n      <td>1962-01-03</td>\n      <td>HPQ</td>\n      <td>0.124177</td>\n      <td>0.124177</td>\n      <td>0.121516</td>\n      <td>0.122846</td>\n      <td>0.046094</td>\n      <td>507341.0</td>\n    </tr>\n    <tr>\n      <th>2</th>\n      <td>1962-01-04</td>\n      <td>HPQ</td>\n      <td>0.122846</td>\n      <td>0.126838</td>\n      <td>0.117968</td>\n      <td>0.120185</td>\n      <td>0.045096</td>\n      <td>845568.0</td>\n    </tr>\n  </tbody>\n</table>\n</div>"
     },
     "metadata": {},
     "execution_count": 8
    }
   ],
   "source": [
    "# print tail and visualize in Pandas\n",
    "price_df.limit(3).toPandas()"
   ]
  },
  {
   "cell_type": "code",
   "execution_count": 9,
   "metadata": {},
   "outputs": [
    {
     "output_type": "stream",
     "name": "stdout",
     "text": [
      "Number of rows in price data: 9702060\nWall time: 13.3 s\n"
     ]
    }
   ],
   "source": [
    "%%time\n",
    "# count number of rows\n",
    "price_df_row_count = price_df.count()\n",
    "print(f'Number of rows in price data: {price_df_row_count}')"
   ]
  },
  {
   "source": [
    "%%time\n",
    "price_df.select(F.countDistinct('Ticker')).show()"
   ],
   "cell_type": "code",
   "metadata": {},
   "execution_count": 10,
   "outputs": [
    {
     "output_type": "stream",
     "name": "stdout",
     "text": [
      "+----------------------+\n|count(DISTINCT Ticker)|\n+----------------------+\n|                  1655|\n+----------------------+\n\nWall time: 37.8 s\n"
     ]
    }
   ]
  },
  {
   "cell_type": "code",
   "execution_count": 11,
   "metadata": {},
   "outputs": [
    {
     "output_type": "stream",
     "name": "stdout",
     "text": [
      "+----------+----------+\n| min(Date)| max(Date)|\n+----------+----------+\n|1962-01-02|2021-05-13|\n+----------+----------+\n\nWall time: 21.2 s\n"
     ]
    }
   ],
   "source": [
    "%%time\n",
    "price_df.select(F.min('Date'),F.max('Date')).show()"
   ]
  },
  {
   "cell_type": "code",
   "execution_count": 22,
   "metadata": {},
   "outputs": [
    {
     "output_type": "stream",
     "name": "stdout",
     "text": [
      "Wall time: 24.2 s\n"
     ]
    }
   ],
   "source": [
    "%%time\n",
    "# restrict symbol_list to those with available price data\n",
    "symbol_list = price_df.select('Ticker').distinct().toPandas()['Ticker'].tolist()\n",
    "# filter on relevant time period\n",
    "fundamental_df = filter_df(fundamental_df, period_dict)"
   ]
  },
  {
   "source": [
    "### 2.4 Growth KPIs\n",
    "The growth KPI calculation is calculated from indicators in the fundamental and price data sets. Two more KPIs need to be added to the fundamental data set as prequisite:\n",
    "- annual price data. In this project: mean low price of all trading days in month December.\n",
    "- annual price per earning ratio.\n",
    "\n",
    "Once this is done, alle growth KPIs that are necessary for a calculation of the intrinsic stock value can be calculated from the fundamental data set."
   ],
   "cell_type": "markdown",
   "metadata": {}
  },
  {
   "source": [
    "# calculate annual price from historic price data\n",
    "ann_price_df = calculate_annual_price(spark, price_df, period_dict)\n",
    "ann_price_df.tail(3)"
   ],
   "cell_type": "code",
   "metadata": {},
   "execution_count": 19,
   "outputs": [
    {
     "output_type": "execute_result",
     "data": {
      "text/plain": [
       "       year Ticker  mean_low_price\n",
       "14485  2019   ZUMZ       31.880000\n",
       "14486  2019    ZUO       14.341429\n",
       "14487  2019   ZYNE        5.738524"
      ],
      "text/html": "<div>\n<style scoped>\n    .dataframe tbody tr th:only-of-type {\n        vertical-align: middle;\n    }\n\n    .dataframe tbody tr th {\n        vertical-align: top;\n    }\n\n    .dataframe thead th {\n        text-align: right;\n    }\n</style>\n<table border=\"1\" class=\"dataframe\">\n  <thead>\n    <tr style=\"text-align: right;\">\n      <th></th>\n      <th>year</th>\n      <th>Ticker</th>\n      <th>mean_low_price</th>\n    </tr>\n  </thead>\n  <tbody>\n    <tr>\n      <th>14485</th>\n      <td>2019</td>\n      <td>ZUMZ</td>\n      <td>31.880000</td>\n    </tr>\n    <tr>\n      <th>14486</th>\n      <td>2019</td>\n      <td>ZUO</td>\n      <td>14.341429</td>\n    </tr>\n    <tr>\n      <th>14487</th>\n      <td>2019</td>\n      <td>ZYNE</td>\n      <td>5.738524</td>\n    </tr>\n  </tbody>\n</table>\n</div>"
     },
     "metadata": {},
     "execution_count": 19
    }
   ]
  },
  {
   "cell_type": "code",
   "execution_count": 23,
   "metadata": {},
   "outputs": [
    {
     "output_type": "execute_result",
     "data": {
      "text/plain": [
       "      Ticker Report Date_is  SimFinId Currency  Fiscal Year Fiscal Period_is  \\\n",
       "14387   ZYNE     2017-12-31    901704      USD         2017               FY   \n",
       "14388   ZYNE     2018-12-31    901704      USD         2018               FY   \n",
       "14389   ZYNE     2019-12-31    901704      USD         2019               FY   \n",
       "\n",
       "      Publish Date_is Restated Date_is  Shares (Basic)_is  \\\n",
       "14387      2018-03-12       2019-03-11         12914814.0   \n",
       "14388      2019-03-11       2019-03-11         15308886.0   \n",
       "14389      2020-03-10       2020-03-10         22000203.0   \n",
       "\n",
       "       Shares (Diluted)_is  ...  Retained Earnings  Total Equity  \\\n",
       "14387           12914814.0  ...        -77980866.0    60949588.0   \n",
       "14388           15308886.0  ...       -117892041.0    57601661.0   \n",
       "14389           22000203.0  ...       -150835624.0    75596743.0   \n",
       "\n",
       "       Total Liabilities & Equity  Dividends Paid_clean      roic       eps  \\\n",
       "14387                    69054309                   0.0 -0.463582 -2.478727   \n",
       "14388                    67327443                   0.0 -0.592792 -2.607059   \n",
       "14389                    87764596                   0.0 -0.375363 -1.497422   \n",
       "\n",
       "           bvps         fcf  mean_low_price        pe  \n",
       "14387  4.719355 -25727095.0       11.937900 -4.816141  \n",
       "14388  3.762629 -32110693.0        3.816737 -1.464001  \n",
       "14389  3.436184 -34688586.0        5.738524 -3.832270  \n",
       "\n",
       "[3 rows x 85 columns]"
      ],
      "text/html": "<div>\n<style scoped>\n    .dataframe tbody tr th:only-of-type {\n        vertical-align: middle;\n    }\n\n    .dataframe tbody tr th {\n        vertical-align: top;\n    }\n\n    .dataframe thead th {\n        text-align: right;\n    }\n</style>\n<table border=\"1\" class=\"dataframe\">\n  <thead>\n    <tr style=\"text-align: right;\">\n      <th></th>\n      <th>Ticker</th>\n      <th>Report Date_is</th>\n      <th>SimFinId</th>\n      <th>Currency</th>\n      <th>Fiscal Year</th>\n      <th>Fiscal Period_is</th>\n      <th>Publish Date_is</th>\n      <th>Restated Date_is</th>\n      <th>Shares (Basic)_is</th>\n      <th>Shares (Diluted)_is</th>\n      <th>...</th>\n      <th>Retained Earnings</th>\n      <th>Total Equity</th>\n      <th>Total Liabilities &amp; Equity</th>\n      <th>Dividends Paid_clean</th>\n      <th>roic</th>\n      <th>eps</th>\n      <th>bvps</th>\n      <th>fcf</th>\n      <th>mean_low_price</th>\n      <th>pe</th>\n    </tr>\n  </thead>\n  <tbody>\n    <tr>\n      <th>14387</th>\n      <td>ZYNE</td>\n      <td>2017-12-31</td>\n      <td>901704</td>\n      <td>USD</td>\n      <td>2017</td>\n      <td>FY</td>\n      <td>2018-03-12</td>\n      <td>2019-03-11</td>\n      <td>12914814.0</td>\n      <td>12914814.0</td>\n      <td>...</td>\n      <td>-77980866.0</td>\n      <td>60949588.0</td>\n      <td>69054309</td>\n      <td>0.0</td>\n      <td>-0.463582</td>\n      <td>-2.478727</td>\n      <td>4.719355</td>\n      <td>-25727095.0</td>\n      <td>11.937900</td>\n      <td>-4.816141</td>\n    </tr>\n    <tr>\n      <th>14388</th>\n      <td>ZYNE</td>\n      <td>2018-12-31</td>\n      <td>901704</td>\n      <td>USD</td>\n      <td>2018</td>\n      <td>FY</td>\n      <td>2019-03-11</td>\n      <td>2019-03-11</td>\n      <td>15308886.0</td>\n      <td>15308886.0</td>\n      <td>...</td>\n      <td>-117892041.0</td>\n      <td>57601661.0</td>\n      <td>67327443</td>\n      <td>0.0</td>\n      <td>-0.592792</td>\n      <td>-2.607059</td>\n      <td>3.762629</td>\n      <td>-32110693.0</td>\n      <td>3.816737</td>\n      <td>-1.464001</td>\n    </tr>\n    <tr>\n      <th>14389</th>\n      <td>ZYNE</td>\n      <td>2019-12-31</td>\n      <td>901704</td>\n      <td>USD</td>\n      <td>2019</td>\n      <td>FY</td>\n      <td>2020-03-10</td>\n      <td>2020-03-10</td>\n      <td>22000203.0</td>\n      <td>22000203.0</td>\n      <td>...</td>\n      <td>-150835624.0</td>\n      <td>75596743.0</td>\n      <td>87764596</td>\n      <td>0.0</td>\n      <td>-0.375363</td>\n      <td>-1.497422</td>\n      <td>3.436184</td>\n      <td>-34688586.0</td>\n      <td>5.738524</td>\n      <td>-3.832270</td>\n    </tr>\n  </tbody>\n</table>\n<p>3 rows × 85 columns</p>\n</div>"
     },
     "metadata": {},
     "execution_count": 23
    }
   ],
   "source": [
    "# calculate annual price per earnings\n",
    "fundamental_df = calculate_annual_pe(ann_price_df, fundamental_df)\n",
    "fundamental_df.tail(3)"
   ]
  },
  {
   "cell_type": "code",
   "execution_count": 25,
   "metadata": {},
   "outputs": [
    {
     "output_type": "stream",
     "name": "stdout",
     "text": [
      "Calculated KPI growth from year to year.\nCalculated 5 and 10 year growth rate\n"
     ]
    },
    {
     "output_type": "execute_result",
     "data": {
      "text/plain": [
       "  Ticker  revenue_gr_curr  eps_curr  roic_gr_5yr  revenue_gr_5yr  eps_gr_5yr  \\\n",
       "0      A         0.050672  3.410828         1.03            0.05        0.47   \n",
       "1     AA        -0.221592 -6.081081        -2.08            0.00       -2.01   \n",
       "2    AAL         0.027548  3.802753         0.05            0.01        0.22   \n",
       "\n",
       "   bvps_gr_5yr  fcf_gr_5yr  pe_5yr  yrs_in_5yr  ...  pe_default_5yr  \\\n",
       "0        -0.00        0.24   38.06         5.0  ...             NaN   \n",
       "1        -0.14        3.41    7.76         5.0  ...             NaN   \n",
       "2        -0.09        0.09    8.91         5.0  ...             NaN   \n",
       "\n",
       "   roic_gr_10yr  revenue_gr_10yr  eps_gr_10yr  bvps_gr_10yr  fcf_gr_10yr  \\\n",
       "0          0.54             0.01         0.26          0.07       -11.94   \n",
       "1         -2.08             0.00        -2.01         -0.14         3.41   \n",
       "2          0.08             0.10         1.00          0.10         0.15   \n",
       "\n",
       "   pe_10yr  yrs_in_10yr  rule1_gr_10yr  pe_default_10yr  \n",
       "0    26.45           10           0.07             14.0  \n",
       "1     7.76            5            NaN              NaN  \n",
       "2     4.37           10           0.10             20.0  \n",
       "\n",
       "[3 rows x 21 columns]"
      ],
      "text/html": "<div>\n<style scoped>\n    .dataframe tbody tr th:only-of-type {\n        vertical-align: middle;\n    }\n\n    .dataframe tbody tr th {\n        vertical-align: top;\n    }\n\n    .dataframe thead th {\n        text-align: right;\n    }\n</style>\n<table border=\"1\" class=\"dataframe\">\n  <thead>\n    <tr style=\"text-align: right;\">\n      <th></th>\n      <th>Ticker</th>\n      <th>revenue_gr_curr</th>\n      <th>eps_curr</th>\n      <th>roic_gr_5yr</th>\n      <th>revenue_gr_5yr</th>\n      <th>eps_gr_5yr</th>\n      <th>bvps_gr_5yr</th>\n      <th>fcf_gr_5yr</th>\n      <th>pe_5yr</th>\n      <th>yrs_in_5yr</th>\n      <th>...</th>\n      <th>pe_default_5yr</th>\n      <th>roic_gr_10yr</th>\n      <th>revenue_gr_10yr</th>\n      <th>eps_gr_10yr</th>\n      <th>bvps_gr_10yr</th>\n      <th>fcf_gr_10yr</th>\n      <th>pe_10yr</th>\n      <th>yrs_in_10yr</th>\n      <th>rule1_gr_10yr</th>\n      <th>pe_default_10yr</th>\n    </tr>\n  </thead>\n  <tbody>\n    <tr>\n      <th>0</th>\n      <td>A</td>\n      <td>0.050672</td>\n      <td>3.410828</td>\n      <td>1.03</td>\n      <td>0.05</td>\n      <td>0.47</td>\n      <td>-0.00</td>\n      <td>0.24</td>\n      <td>38.06</td>\n      <td>5.0</td>\n      <td>...</td>\n      <td>NaN</td>\n      <td>0.54</td>\n      <td>0.01</td>\n      <td>0.26</td>\n      <td>0.07</td>\n      <td>-11.94</td>\n      <td>26.45</td>\n      <td>10</td>\n      <td>0.07</td>\n      <td>14.0</td>\n    </tr>\n    <tr>\n      <th>1</th>\n      <td>AA</td>\n      <td>-0.221592</td>\n      <td>-6.081081</td>\n      <td>-2.08</td>\n      <td>0.00</td>\n      <td>-2.01</td>\n      <td>-0.14</td>\n      <td>3.41</td>\n      <td>7.76</td>\n      <td>5.0</td>\n      <td>...</td>\n      <td>NaN</td>\n      <td>-2.08</td>\n      <td>0.00</td>\n      <td>-2.01</td>\n      <td>-0.14</td>\n      <td>3.41</td>\n      <td>7.76</td>\n      <td>5</td>\n      <td>NaN</td>\n      <td>NaN</td>\n    </tr>\n    <tr>\n      <th>2</th>\n      <td>AAL</td>\n      <td>0.027548</td>\n      <td>3.802753</td>\n      <td>0.05</td>\n      <td>0.01</td>\n      <td>0.22</td>\n      <td>-0.09</td>\n      <td>0.09</td>\n      <td>8.91</td>\n      <td>5.0</td>\n      <td>...</td>\n      <td>NaN</td>\n      <td>0.08</td>\n      <td>0.10</td>\n      <td>1.00</td>\n      <td>0.10</td>\n      <td>0.15</td>\n      <td>4.37</td>\n      <td>10</td>\n      <td>0.10</td>\n      <td>20.0</td>\n    </tr>\n  </tbody>\n</table>\n<p>3 rows × 21 columns</p>\n</div>"
     },
     "metadata": {},
     "execution_count": 25
    }
   ],
   "source": [
    "# calculate growth kpi df\n",
    "growth_df = calculate_growth_rates(fundamental_df, agg_func='mean')\n",
    "growth_df.head(3)"
   ]
  },
  {
   "cell_type": "code",
   "execution_count": 27,
   "metadata": {},
   "outputs": [
    {
     "output_type": "execute_result",
     "data": {
      "text/plain": [
       "  Ticker  revenue_gr_curr  eps_curr  roic_gr_5yr  revenue_gr_5yr  eps_gr_5yr  \\\n",
       "0      A         0.050672  3.410828         1.03            0.05        0.47   \n",
       "1     AA        -0.221592 -6.081081        -2.08            0.00       -2.01   \n",
       "2    AAL         0.027548  3.802753         0.05            0.01        0.22   \n",
       "\n",
       "   bvps_gr_5yr  fcf_gr_5yr  pe_5yr  yrs_in_5yr  ...  fcf_gr_10yr  pe_10yr  \\\n",
       "0        -0.00        0.24   38.06         5.0  ...       -11.94    26.45   \n",
       "1        -0.14        3.41    7.76         5.0  ...         3.41     7.76   \n",
       "2        -0.09        0.09    8.91         5.0  ...         0.15     4.37   \n",
       "\n",
       "   yrs_in_10yr  rule1_gr_10yr  pe_default_10yr  pe_future  eps_future  \\\n",
       "0           10           0.07             14.0      38.06         NaN   \n",
       "1            5            NaN              NaN       7.76         NaN   \n",
       "2           10           0.10             20.0       8.91         NaN   \n",
       "\n",
       "   price_future  sticker_price  mos  \n",
       "0           NaN            NaN  NaN  \n",
       "1           NaN            NaN  NaN  \n",
       "2           NaN            NaN  NaN  \n",
       "\n",
       "[3 rows x 26 columns]"
      ],
      "text/html": "<div>\n<style scoped>\n    .dataframe tbody tr th:only-of-type {\n        vertical-align: middle;\n    }\n\n    .dataframe tbody tr th {\n        vertical-align: top;\n    }\n\n    .dataframe thead th {\n        text-align: right;\n    }\n</style>\n<table border=\"1\" class=\"dataframe\">\n  <thead>\n    <tr style=\"text-align: right;\">\n      <th></th>\n      <th>Ticker</th>\n      <th>revenue_gr_curr</th>\n      <th>eps_curr</th>\n      <th>roic_gr_5yr</th>\n      <th>revenue_gr_5yr</th>\n      <th>eps_gr_5yr</th>\n      <th>bvps_gr_5yr</th>\n      <th>fcf_gr_5yr</th>\n      <th>pe_5yr</th>\n      <th>yrs_in_5yr</th>\n      <th>...</th>\n      <th>fcf_gr_10yr</th>\n      <th>pe_10yr</th>\n      <th>yrs_in_10yr</th>\n      <th>rule1_gr_10yr</th>\n      <th>pe_default_10yr</th>\n      <th>pe_future</th>\n      <th>eps_future</th>\n      <th>price_future</th>\n      <th>sticker_price</th>\n      <th>mos</th>\n    </tr>\n  </thead>\n  <tbody>\n    <tr>\n      <th>0</th>\n      <td>A</td>\n      <td>0.050672</td>\n      <td>3.410828</td>\n      <td>1.03</td>\n      <td>0.05</td>\n      <td>0.47</td>\n      <td>-0.00</td>\n      <td>0.24</td>\n      <td>38.06</td>\n      <td>5.0</td>\n      <td>...</td>\n      <td>-11.94</td>\n      <td>26.45</td>\n      <td>10</td>\n      <td>0.07</td>\n      <td>14.0</td>\n      <td>38.06</td>\n      <td>NaN</td>\n      <td>NaN</td>\n      <td>NaN</td>\n      <td>NaN</td>\n    </tr>\n    <tr>\n      <th>1</th>\n      <td>AA</td>\n      <td>-0.221592</td>\n      <td>-6.081081</td>\n      <td>-2.08</td>\n      <td>0.00</td>\n      <td>-2.01</td>\n      <td>-0.14</td>\n      <td>3.41</td>\n      <td>7.76</td>\n      <td>5.0</td>\n      <td>...</td>\n      <td>3.41</td>\n      <td>7.76</td>\n      <td>5</td>\n      <td>NaN</td>\n      <td>NaN</td>\n      <td>7.76</td>\n      <td>NaN</td>\n      <td>NaN</td>\n      <td>NaN</td>\n      <td>NaN</td>\n    </tr>\n    <tr>\n      <th>2</th>\n      <td>AAL</td>\n      <td>0.027548</td>\n      <td>3.802753</td>\n      <td>0.05</td>\n      <td>0.01</td>\n      <td>0.22</td>\n      <td>-0.09</td>\n      <td>0.09</td>\n      <td>8.91</td>\n      <td>5.0</td>\n      <td>...</td>\n      <td>0.15</td>\n      <td>4.37</td>\n      <td>10</td>\n      <td>0.10</td>\n      <td>20.0</td>\n      <td>8.91</td>\n      <td>NaN</td>\n      <td>NaN</td>\n      <td>NaN</td>\n      <td>NaN</td>\n    </tr>\n  </tbody>\n</table>\n<p>3 rows × 26 columns</p>\n</div>"
     },
     "metadata": {},
     "execution_count": 27
    }
   ],
   "source": [
    "growth_df = calculate_sticker_price(growth_df, fp=10, exp_rr=0.15)\n",
    "growth_df.head(3)"
   ]
  },
  {
   "source": [
    "### 2.4 Screener results\n",
    "The processing of the screener results table is comparatively easy:\n",
    "- the latest prices are extracted from the price data set\n",
    "- the relevant columns for the intrinsic value from the growth kpi data set are joined.\n",
    "- tbd"
   ],
   "cell_type": "markdown",
   "metadata": {}
  },
  {
   "cell_type": "code",
   "execution_count": 29,
   "metadata": {
    "editable": true
   },
   "outputs": [
    {
     "output_type": "stream",
     "name": "stdout",
     "text": [
      "Wall time: 3min 24s\n"
     ]
    }
   ],
   "source": [
    "%%time\n",
    "# find stocks which latest price is under the mos\n",
    "screener_df = find_stocks_below_mos(spark, price_df, growth_df)"
   ]
  },
  {
   "cell_type": "markdown",
   "metadata": {
    "editable": true
   },
   "source": [
    "## Step 3: Define the Data Model\n",
    "#### 3.1 Conceptual Data Model\n",
    "Map out the conceptual data model and explain why you chose that model\n",
    "- Dimensional tables\n",
    "    - company information, including peers\n",
    "- Fact tables:\n",
    "    - fundamental indicators\n",
    "    - price history\n",
    "    - growth KPIs\n",
    "    - screener results\n",
    "\n",
    "#### 3.2 Mapping Out Data Pipelines\n",
    "List the steps necessary to pipeline the data into the chosen data model\n",
    "- Data extraction pipeline: extract data from sources via APIs and store results in staging tables.\n",
    "    - NASDAAQ: stock symbol list\n",
    "    - IEX Cloud source:\n",
    "        - Company information data\n",
    "        - Peer group data\n",
    "    - Simfin source: fundamental data\n",
    "        - Annual cashflow data\n",
    "        - Annual income statement data\n",
    "        - Annual balance sheet data\n",
    "    - Yfinance source: historical stock price data\n",
    "- Data processing pipeline: process data from staging tables to dimension and fact tables.\n",
    "    - create company information dimension table with symbol list.\n",
    "    - create price facts table\n",
    "    - create fundamental facts table\n",
    "    - create growth KPI facts table\n",
    "    - create screener results KPI table"
   ]
  },
  {
   "cell_type": "markdown",
   "metadata": {
    "editable": true
   },
   "source": [
    "### Step 4: Run Pipelines to Model the Data \n",
    "#### 4.1 Create the data model\n",
    "Build the data pipelines to create the data model."
   ]
  },
  {
   "cell_type": "code",
   "execution_count": 6,
   "metadata": {},
   "outputs": [
    {
     "output_type": "stream",
     "name": "stdout",
     "text": [
      "Symbol data extracted...\n",
      "total number of symbols traded = 8129\n",
      "Number of stocks symbols in list: 4545\n",
      "Company data loaded from disk...\n",
      "Dataset \"us-cashflow-annual\" on disk (28 days old).\n",
      "- Loading from disk ... Done!\n",
      "Dataset \"us-income-annual\" on disk (28 days old).\n",
      "- Loading from disk ... Done!\n",
      "Dataset \"us-balance-annual\" on disk (26 days old).\n",
      "- Loading from disk ... Done!\n",
      "Symbols with available fundamental data: 1660\n",
      "Combined all fundamental data from financial statements to one Dataframe.\n",
      "Start download of historic price data\n",
      "Ticker price data extracted...\n",
      "Total number of valid symbols downloaded = 1655\n",
      "Staging pipeline run complete.\n",
      "Number of symbols in list after staging pipeline ran: 1660\n",
      "Wall time: 28min 28s\n"
     ]
    }
   ],
   "source": [
    "%%time\n",
    "# download data from sources to staging folders\n",
    "symbol_list = pipeline_staging()\n",
    "print('Number of symbols in list after staging pipeline ran: {}'.format(len(symbol_list)))"
   ]
  },
  {
   "cell_type": "code",
   "execution_count": 7,
   "metadata": {},
   "outputs": [
    {
     "output_type": "stream",
     "name": "stdout",
     "text": [
      "Number of stocks symbols in list: 6368\n",
      "Company data loaded from disk...\n",
      "Dataset \"us-cashflow-annual\" on disk (23 days old).\n",
      "- Loading from disk ... Done!\n",
      "Dataset \"us-income-annual\" on disk (23 days old).\n",
      "- Loading from disk ... Done!\n",
      "Dataset \"us-balance-annual\" on disk (20 days old).\n",
      "- Loading from disk ... Done!\n",
      "Combined all fundamental data from financial statements to one Dataframe.\n",
      "Calculated roic and added it to Dataframe\n",
      "Calculated eps and added it to Dataframe\n",
      "Calculated bvps and added it to Dataframe\n",
      "Calculated fcf and added it to Dataframe\n",
      "top5 KPIs added to fundamental data\n",
      "Calculated KPI growth from year to year.\n",
      "Calculated 5 and 10 year growth rate\n"
     ]
    },
    {
     "output_type": "execute_result",
     "data": {
      "text/plain": [
       "Ticker                  CARS\n",
       "revenue_gr_curr    -0.083738\n",
       "eps_curr           -6.647123\n",
       "roic_gr_5yr        -5.420000\n",
       "revenue_gr_5yr     -0.010000\n",
       "eps_gr_5yr         -4.530000\n",
       "bvps_gr_5yr              NaN\n",
       "fcf_gr_5yr         -0.140000\n",
       "pe_5yr             15.900000\n",
       "yrs_in_5yr          4.000000\n",
       "rule1_gr_5yr             NaN\n",
       "pe_default_5yr           NaN\n",
       "roic_gr_10yr       -5.420000\n",
       "revenue_gr_10yr    -0.010000\n",
       "eps_gr_10yr        -4.530000\n",
       "bvps_gr_10yr             NaN\n",
       "fcf_gr_10yr        -0.140000\n",
       "pe_10yr            15.900000\n",
       "yrs_in_10yr                4\n",
       "rule1_gr_10yr            NaN\n",
       "pe_default_10yr          NaN\n",
       "pe_future          15.900000\n",
       "eps_future               NaN\n",
       "price_future             NaN\n",
       "sticker_price            NaN\n",
       "mos                      NaN\n",
       "Name: 298, dtype: object"
      ]
     },
     "metadata": {},
     "execution_count": 7
    }
   ],
   "source": [
    "%%time\n",
    "period_dict = {'start_date':2010,\n",
    "                'end_date':2019}\n",
    "\n",
    "price_df, company_info_df, fundamental_df, growth_df, screener_df = pipeline_processing(spark, period_dict)\n",
    "growth_df[growth_df['Ticker']=='CARS'].iloc[0]"
   ]
  },
  {
   "cell_type": "code",
   "execution_count": 9,
   "metadata": {},
   "outputs": [
    {
     "output_type": "execute_result",
     "data": {
      "text/plain": [
       "  Ticker   last_date  last_low_price  price_future  sticker_price          mos\n",
       "0   ALXN  2021-05-05      168.789993  11071.685791    2736.751398  1368.375699\n",
       "1   ABMD  2021-05-05      299.779999   2648.558973     654.683271   327.341636\n",
       "2   SABR  2021-05-05       12.410000  11930.046852    2948.925125  1474.462563\n",
       "3    FND  2021-05-05      111.550003   2714.119248     670.888769   335.444384\n",
       "4     EA  2021-05-05      137.630005   1500.221008     370.831689   185.415845"
      ],
      "text/html": "<div>\n<style scoped>\n    .dataframe tbody tr th:only-of-type {\n        vertical-align: middle;\n    }\n\n    .dataframe tbody tr th {\n        vertical-align: top;\n    }\n\n    .dataframe thead th {\n        text-align: right;\n    }\n</style>\n<table border=\"1\" class=\"dataframe\">\n  <thead>\n    <tr style=\"text-align: right;\">\n      <th></th>\n      <th>Ticker</th>\n      <th>last_date</th>\n      <th>last_low_price</th>\n      <th>price_future</th>\n      <th>sticker_price</th>\n      <th>mos</th>\n    </tr>\n  </thead>\n  <tbody>\n    <tr>\n      <th>0</th>\n      <td>ALXN</td>\n      <td>2021-05-05</td>\n      <td>168.789993</td>\n      <td>11071.685791</td>\n      <td>2736.751398</td>\n      <td>1368.375699</td>\n    </tr>\n    <tr>\n      <th>1</th>\n      <td>ABMD</td>\n      <td>2021-05-05</td>\n      <td>299.779999</td>\n      <td>2648.558973</td>\n      <td>654.683271</td>\n      <td>327.341636</td>\n    </tr>\n    <tr>\n      <th>2</th>\n      <td>SABR</td>\n      <td>2021-05-05</td>\n      <td>12.410000</td>\n      <td>11930.046852</td>\n      <td>2948.925125</td>\n      <td>1474.462563</td>\n    </tr>\n    <tr>\n      <th>3</th>\n      <td>FND</td>\n      <td>2021-05-05</td>\n      <td>111.550003</td>\n      <td>2714.119248</td>\n      <td>670.888769</td>\n      <td>335.444384</td>\n    </tr>\n    <tr>\n      <th>4</th>\n      <td>EA</td>\n      <td>2021-05-05</td>\n      <td>137.630005</td>\n      <td>1500.221008</td>\n      <td>370.831689</td>\n      <td>185.415845</td>\n    </tr>\n  </tbody>\n</table>\n</div>"
     },
     "metadata": {},
     "execution_count": 9
    }
   ],
   "source": [
    "screener_df.head()"
   ]
  },
  {
   "cell_type": "code",
   "execution_count": 12,
   "metadata": {},
   "outputs": [
    {
     "output_type": "execute_result",
     "data": {
      "text/plain": [
       "  Ticker   last_date  last_low_price  price_future  sticker_price  \\\n",
       "0   ALXN  2021-05-05      168.789993  11071.685791    2736.751398   \n",
       "1   ABMD  2021-05-05      299.779999   2648.558973     654.683271   \n",
       "\n",
       "           mos                  company name               short name  \\\n",
       "0  1368.375699  Alexion Pharmaceuticals Inc.  Alexion Pharmaceuticals   \n",
       "1   327.341636                  ABIOMED Inc.                  ABIOMED   \n",
       "\n",
       "          industry                                        description  ...  \\\n",
       "0    Biotechnology  Alexion Pharmaceuticals Inc is a biopharmaceut...  ...   \n",
       "1  Medical Devices  Abiomed Inc is a medical device company. It pr...  ...   \n",
       "\n",
       "       logo                 ceo              exchange    market cap  \\\n",
       "0  ALXN.png   Ludwig N. Hantson  Nasdaq Global Select  2.760821e+10   \n",
       "1  ABMD.png  Michael R. Minogue  Nasdaq Global Select  1.488763e+10   \n",
       "\n",
       "       sector       tag 1            tag 2 tag 3  \\\n",
       "0  Healthcare  Healthcare    Biotechnology   NaN   \n",
       "1  Healthcare  Healthcare  Medical Devices   NaN   \n",
       "\n",
       "                                         peer_string  \\\n",
       "0  GILD,REGN,VRTX,BIIB,QGEN,AGIO,RARE,SRPT,BIO.B,JNJ   \n",
       "1                                  TFX,BSX,STXS,ATRC   \n",
       "\n",
       "                                           peer_list  \n",
       "0  [GILD, REGN, VRTX, BIIB, QGEN, AGIO, RARE, SRP...  \n",
       "1                             [TFX, BSX, STXS, ATRC]  \n",
       "\n",
       "[2 rows x 21 columns]"
      ],
      "text/html": "<div>\n<style scoped>\n    .dataframe tbody tr th:only-of-type {\n        vertical-align: middle;\n    }\n\n    .dataframe tbody tr th {\n        vertical-align: top;\n    }\n\n    .dataframe thead th {\n        text-align: right;\n    }\n</style>\n<table border=\"1\" class=\"dataframe\">\n  <thead>\n    <tr style=\"text-align: right;\">\n      <th></th>\n      <th>Ticker</th>\n      <th>last_date</th>\n      <th>last_low_price</th>\n      <th>price_future</th>\n      <th>sticker_price</th>\n      <th>mos</th>\n      <th>company name</th>\n      <th>short name</th>\n      <th>industry</th>\n      <th>description</th>\n      <th>...</th>\n      <th>logo</th>\n      <th>ceo</th>\n      <th>exchange</th>\n      <th>market cap</th>\n      <th>sector</th>\n      <th>tag 1</th>\n      <th>tag 2</th>\n      <th>tag 3</th>\n      <th>peer_string</th>\n      <th>peer_list</th>\n    </tr>\n  </thead>\n  <tbody>\n    <tr>\n      <th>0</th>\n      <td>ALXN</td>\n      <td>2021-05-05</td>\n      <td>168.789993</td>\n      <td>11071.685791</td>\n      <td>2736.751398</td>\n      <td>1368.375699</td>\n      <td>Alexion Pharmaceuticals Inc.</td>\n      <td>Alexion Pharmaceuticals</td>\n      <td>Biotechnology</td>\n      <td>Alexion Pharmaceuticals Inc is a biopharmaceut...</td>\n      <td>...</td>\n      <td>ALXN.png</td>\n      <td>Ludwig N. Hantson</td>\n      <td>Nasdaq Global Select</td>\n      <td>2.760821e+10</td>\n      <td>Healthcare</td>\n      <td>Healthcare</td>\n      <td>Biotechnology</td>\n      <td>NaN</td>\n      <td>GILD,REGN,VRTX,BIIB,QGEN,AGIO,RARE,SRPT,BIO.B,JNJ</td>\n      <td>[GILD, REGN, VRTX, BIIB, QGEN, AGIO, RARE, SRP...</td>\n    </tr>\n    <tr>\n      <th>1</th>\n      <td>ABMD</td>\n      <td>2021-05-05</td>\n      <td>299.779999</td>\n      <td>2648.558973</td>\n      <td>654.683271</td>\n      <td>327.341636</td>\n      <td>ABIOMED Inc.</td>\n      <td>ABIOMED</td>\n      <td>Medical Devices</td>\n      <td>Abiomed Inc is a medical device company. It pr...</td>\n      <td>...</td>\n      <td>ABMD.png</td>\n      <td>Michael R. Minogue</td>\n      <td>Nasdaq Global Select</td>\n      <td>1.488763e+10</td>\n      <td>Healthcare</td>\n      <td>Healthcare</td>\n      <td>Medical Devices</td>\n      <td>NaN</td>\n      <td>TFX,BSX,STXS,ATRC</td>\n      <td>[TFX, BSX, STXS, ATRC]</td>\n    </tr>\n  </tbody>\n</table>\n<p>2 rows × 21 columns</p>\n</div>"
     },
     "metadata": {},
     "execution_count": 12
    }
   ],
   "source": [
    "eval_df = screener_df.merge(company_info_df.rename(columns={'ticker':'Ticker'}),\n",
    "                        how='left',\n",
    "                        on='Ticker',\n",
    "                        validate='1:1')\n",
    "eval_df.head(2)"
   ]
  },
  {
   "cell_type": "code",
   "execution_count": 25,
   "metadata": {},
   "outputs": [],
   "source": [
    "eval_df.to_excel('../data/4_data_analysis/' + str(pd.to_datetime('today'))[:10] + '_eval_df.xlsx', index=False)"
   ]
  },
  {
   "cell_type": "code",
   "execution_count": 27,
   "metadata": {},
   "outputs": [
    {
     "output_type": "execute_result",
     "data": {
      "text/plain": [
       "count    8.900000e+01\n",
       "mean     1.932307e+23\n",
       "std      1.822935e+24\n",
       "min      4.376009e+00\n",
       "25%      9.204744e+01\n",
       "50%      3.273416e+02\n",
       "75%      1.474463e+03\n",
       "80%      2.305800e+03\n",
       "90%      8.875529e+03\n",
       "95%      7.727330e+06\n",
       "max      1.719753e+25\n",
       "Name: mos, dtype: float64"
      ]
     },
     "metadata": {},
     "execution_count": 27
    }
   ],
   "source": [
    "eval_df['mos'].describe(percentiles=[.25, .5, .75, .8, .9, .95])"
   ]
  },
  {
   "cell_type": "code",
   "execution_count": 28,
   "metadata": {},
   "outputs": [
    {
     "output_type": "execute_result",
     "data": {
      "text/plain": [
       "Ticker                    FIVN\n",
       "revenue_gr_curr       0.272999\n",
       "eps_curr             -0.075400\n",
       "roic_gr_5yr           2.740000\n",
       "revenue_gr_5yr        0.260000\n",
       "eps_gr_5yr            3.300000\n",
       "bvps_gr_5yr           0.450000\n",
       "fcf_gr_5yr            5.060000\n",
       "pe_5yr            -2357.840000\n",
       "yrs_in_5yr            5.000000\n",
       "rule1_gr_5yr          0.450000\n",
       "pe_default_5yr       90.000000\n",
       "roic_gr_10yr          2.220000\n",
       "revenue_gr_10yr       0.250000\n",
       "eps_gr_10yr           2.610000\n",
       "bvps_gr_10yr         -0.040000\n",
       "fcf_gr_10yr           4.080000\n",
       "pe_10yr           -1965.590000\n",
       "yrs_in_10yr                  7\n",
       "rule1_gr_10yr              NaN\n",
       "pe_default_10yr            NaN\n",
       "pe_future         -2357.840000\n",
       "eps_future           -3.097804\n",
       "price_future       7304.125676\n",
       "sticker_price      1805.468159\n",
       "mos                 902.734079\n",
       "Name: 641, dtype: object"
      ]
     },
     "metadata": {},
     "execution_count": 28
    }
   ],
   "source": [
    "growth_df[growth_df['Ticker']=='FIVN'].iloc[0]"
   ]
  },
  {
   "cell_type": "markdown",
   "metadata": {
    "editable": true
   },
   "source": [
    "#### 4.2 Data Quality Checks\n",
    "Explain the data quality checks you'll perform to ensure the pipeline ran as expected. These could include:\n",
    " * Integrity constraints on the relational database (e.g., unique key, data type, etc.)\n",
    " * Unit tests for the scripts to ensure they are doing the right thing\n",
    " * Source/Count checks to ensure completeness\n",
    " \n",
    "Run Quality Checks"
   ]
  },
  {
   "cell_type": "code",
   "execution_count": 28,
   "metadata": {
    "editable": true
   },
   "outputs": [],
   "source": [
    "# Perform quality checks here"
   ]
  },
  {
   "cell_type": "code",
   "execution_count": 25,
   "metadata": {},
   "outputs": [],
   "source": [
    "# filter for verification of mean calculation\n",
    "# price_df.filter(\n",
    "#                     (price_df['Date']>=F.to_date(F.lit('2020-12-01'))) &\\\n",
    "#                     (price_df['Date']<=F.to_date(F.lit('2020-12-31'))) &\\\n",
    "#                     (price_df['Ticker']=='AAPL')\n",
    "#                 ).toPandas()['Low'].mean()"
   ]
  },
  {
   "cell_type": "markdown",
   "metadata": {
    "editable": true
   },
   "source": [
    "#### 4.3 Data dictionary \n",
    "Create a data dictionary for your data model. For each field, provide a brief description of what the data is and where it came from. You can include the data dictionary in the notebook or in a separate file."
   ]
  },
  {
   "cell_type": "code",
   "execution_count": 12,
   "metadata": {},
   "outputs": [],
   "source": [
    "# TODO: create data dictionary"
   ]
  },
  {
   "cell_type": "markdown",
   "metadata": {
    "editable": true
   },
   "source": [
    "#### Step 5: Complete Project Write Up\n",
    "* Clearly state the rationale for the choice of tools and technologies for the project.\n",
    "* Propose how often the data should be updated and why.\n",
    "* Write a description of how you would approach the problem differently under the following scenarios:\n",
    " * The data was increased by 100x.\n",
    " * The data populates a dashboard that must be updated on a daily basis by 7am every day.\n",
    " * The database needed to be accessed by 100+ people."
   ]
  },
  {
   "cell_type": "code",
   "execution_count": null,
   "metadata": {
    "editable": true
   },
   "outputs": [],
   "source": []
  },
  {
   "cell_type": "code",
   "execution_count": null,
   "metadata": {
    "editable": true
   },
   "outputs": [],
   "source": []
  },
  {
   "cell_type": "code",
   "execution_count": null,
   "metadata": {
    "editable": true
   },
   "outputs": [],
   "source": []
  },
  {
   "cell_type": "code",
   "execution_count": null,
   "metadata": {
    "editable": true
   },
   "outputs": [],
   "source": []
  },
  {
   "cell_type": "code",
   "execution_count": null,
   "metadata": {
    "editable": true
   },
   "outputs": [],
   "source": []
  },
  {
   "cell_type": "code",
   "execution_count": 6,
   "metadata": {
    "editable": true
   },
   "outputs": [
    {
     "output_type": "stream",
     "name": "stderr",
     "text": [
      "[NbConvertApp] Converting notebook capstone_stockscreener.ipynb to markdown\n[NbConvertApp] Writing 58833 bytes to capstone_stockscreener.md\n"
     ]
    }
   ],
   "source": [
    "# export notebook to markdown for documentation\n",
    "!jupyter nbconvert --to markdown capstone_stockscreener.ipynb"
   ]
  }
 ],
 "metadata": {
  "kernelspec": {
   "name": "python385jvsc74a57bd0e8c5907d6f6b93abd568ea4798fcc42687f0080df672fabf898fced0e116d856",
   "display_name": "Python 3.8.5 64-bit ('dataengineering': conda)"
  },
  "language_info": {
   "codemirror_mode": {
    "name": "ipython",
    "version": 3
   },
   "file_extension": ".py",
   "mimetype": "text/x-python",
   "name": "python",
   "nbconvert_exporter": "python",
   "pygments_lexer": "ipython3",
   "version": "3.8.5"
  }
 },
 "nbformat": 4,
 "nbformat_minor": 4
}
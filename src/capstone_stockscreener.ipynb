{
 "cells": [
  {
   "cell_type": "markdown",
   "metadata": {
    "editable": true
   },
   "source": [
    "# Project Title\n",
    "### Data Engineering Capstone Project\n",
    "\n",
    "#### Project Summary\n",
    "--describe your project at a high level--\n",
    "\n",
    "The project follows the follow steps:\n",
    "* Step 1: Scope the Project and Gather Data\n",
    "* Step 2: Explore and Assess the Data\n",
    "* Step 3: Define the Data Model\n",
    "* Step 4: Run ETL to Model the Data\n",
    "* Step 5: Complete Project Write Up"
   ]
  },
  {
   "cell_type": "code",
   "execution_count": 1,
   "metadata": {
    "editable": true
   },
   "outputs": [],
   "source": [
    "# Do all imports and installs here\n",
    "import pandas as pd\n",
    "import matplotlib.pyplot as plt\n",
    "import simfin as sf\n",
    "\n"
   ]
  },
  {
   "cell_type": "code",
   "execution_count": 2,
   "metadata": {},
   "outputs": [],
   "source": [
    "# import of functions from custom modules\n",
    "from get_prices import download_ticker_prices\n",
    "from get_fundamentals import *\n",
    "from get_peers import download_peer_data, get_peer_data_from_disk\n",
    "from get_company_info import load_company_info_from_disk\n",
    "from analysis_utils import create_pandas_profiling_report, list_all_directory_files"
   ]
  },
  {
   "cell_type": "markdown",
   "metadata": {
    "editable": true
   },
   "source": [
    "## Step 1: Scope the Project and Gather Data\n",
    "\n",
    "### Scope \n",
    "Explain what you plan to do in the project in more detail. What data do you use? What is your end solution look like? What tools did you use? etc>\n",
    "\n",
    "### Describe and Gather Data \n",
    "Describe the data sets you're using. Where did it come from? What type of information is included? "
   ]
  },
  {
   "source": [
    "#### 1.1 Stock information\n",
    "- Ticker symbol list: \"http://www.nasdaqtrader.com/dynamic/SymDir/nasdaqtraded.txt\"\n",
    "    - Symbol Look-Up/Directory Data Fields & Definitions: http://www.nasdaqtrader.com/trader.aspx?id=symboldirdefs\n",
    "- Company information: Kaggle dataset from 2019 https://www.kaggle.com/marketahead/all-us-stocks-tickers-company-info-logos \n",
    "- Peer group information: IEX Cloud API https://iexcloud.io/docs/api/#peer-groups"
   ],
   "cell_type": "markdown",
   "metadata": {
    "editable": true
   }
  },
  {
   "source": [
    "##### 1.1.1 Ticker Symbol List"
   ],
   "cell_type": "markdown",
   "metadata": {}
  },
  {
   "cell_type": "code",
   "execution_count": 3,
   "metadata": {},
   "outputs": [],
   "source": [
    "# get ticket symbol list\n",
    "symbol_df = pd.read_csv(\"http://www.nasdaqtrader.com/dynamic/SymDir/nasdaqtraded.txt\", sep='|')"
   ]
  },
  {
   "cell_type": "code",
   "execution_count": 4,
   "metadata": {},
   "outputs": [
    {
     "output_type": "execute_result",
     "data": {
      "text/plain": [
       "  Nasdaq Traded Symbol                            Security Name  \\\n",
       "0             Y      A  Agilent Technologies, Inc. Common Stock   \n",
       "1             Y     AA          Alcoa Corporation Common Stock    \n",
       "\n",
       "  Listing Exchange Market Category ETF  Round Lot Size Test Issue  \\\n",
       "0                N                   N           100.0          N   \n",
       "1                N                   N           100.0          N   \n",
       "\n",
       "  Financial Status CQS Symbol NASDAQ Symbol NextShares  \n",
       "0              NaN          A             A          N  \n",
       "1              NaN         AA            AA          N  "
      ],
      "text/html": "<div>\n<style scoped>\n    .dataframe tbody tr th:only-of-type {\n        vertical-align: middle;\n    }\n\n    .dataframe tbody tr th {\n        vertical-align: top;\n    }\n\n    .dataframe thead th {\n        text-align: right;\n    }\n</style>\n<table border=\"1\" class=\"dataframe\">\n  <thead>\n    <tr style=\"text-align: right;\">\n      <th></th>\n      <th>Nasdaq Traded</th>\n      <th>Symbol</th>\n      <th>Security Name</th>\n      <th>Listing Exchange</th>\n      <th>Market Category</th>\n      <th>ETF</th>\n      <th>Round Lot Size</th>\n      <th>Test Issue</th>\n      <th>Financial Status</th>\n      <th>CQS Symbol</th>\n      <th>NASDAQ Symbol</th>\n      <th>NextShares</th>\n    </tr>\n  </thead>\n  <tbody>\n    <tr>\n      <th>0</th>\n      <td>Y</td>\n      <td>A</td>\n      <td>Agilent Technologies, Inc. Common Stock</td>\n      <td>N</td>\n      <td></td>\n      <td>N</td>\n      <td>100.0</td>\n      <td>N</td>\n      <td>NaN</td>\n      <td>A</td>\n      <td>A</td>\n      <td>N</td>\n    </tr>\n    <tr>\n      <th>1</th>\n      <td>Y</td>\n      <td>AA</td>\n      <td>Alcoa Corporation Common Stock</td>\n      <td>N</td>\n      <td></td>\n      <td>N</td>\n      <td>100.0</td>\n      <td>N</td>\n      <td>NaN</td>\n      <td>AA</td>\n      <td>AA</td>\n      <td>N</td>\n    </tr>\n  </tbody>\n</table>\n</div>"
     },
     "metadata": {},
     "execution_count": 4
    }
   ],
   "source": [
    "symbol_df.head(2)"
   ]
  },
  {
   "cell_type": "code",
   "execution_count": 4,
   "metadata": {},
   "outputs": [
    {
     "output_type": "stream",
     "name": "stdout",
     "text": [
      "total number of symbols traded = 7960\n"
     ]
    }
   ],
   "source": [
    "# exclude test issues\n",
    "symbol_df = symbol_df[(symbol_df['Test Issue'] == 'N')]\n",
    "# exclude companies that are bankrupt\n",
    "symbol_df = symbol_df[symbol_df['Financial Status'].isna() | (symbol_df['Financial Status']=='N')]\n",
    "# exclude ETFs\n",
    "symbol_df = symbol_df[symbol_df['ETF']=='N']\n",
    "symbol_list = symbol_df['NASDAQ Symbol'].tolist()\n",
    "print('total number of symbols traded = {}'.format(len(symbol_list)))"
   ]
  },
  {
   "source": [
    "##### 1.1.2 Company Info"
   ],
   "cell_type": "markdown",
   "metadata": {}
  },
  {
   "cell_type": "code",
   "execution_count": 6,
   "metadata": {},
   "outputs": [],
   "source": [
    "company_info_df = load_company_info_from_disk(symbol_list)"
   ]
  },
  {
   "cell_type": "code",
   "execution_count": 12,
   "metadata": {},
   "outputs": [
    {
     "output_type": "execute_result",
     "data": {
      "text/plain": [
       "  ticker               company name short name  \\\n",
       "0      A  Agilent Technologies Inc.    Agilent   \n",
       "\n",
       "                         industry  \\\n",
       "0  Medical Diagnostics & Research   \n",
       "\n",
       "                                         description                 website  \\\n",
       "0  Agilent Technologies Inc is engaged in life sc...  http://www.agilent.com   \n",
       "\n",
       "    logo                  ceo                 exchange    market cap  \\\n",
       "0  A.png  Michael R. McMullen  New York Stock Exchange  2.421807e+10   \n",
       "\n",
       "       sector       tag 1                   tag 2  \\\n",
       "0  Healthcare  Healthcare  Diagnostics & Research   \n",
       "\n",
       "                            tag 3  \n",
       "0  Medical Diagnostics & Research  "
      ],
      "text/html": "<div>\n<style scoped>\n    .dataframe tbody tr th:only-of-type {\n        vertical-align: middle;\n    }\n\n    .dataframe tbody tr th {\n        vertical-align: top;\n    }\n\n    .dataframe thead th {\n        text-align: right;\n    }\n</style>\n<table border=\"1\" class=\"dataframe\">\n  <thead>\n    <tr style=\"text-align: right;\">\n      <th></th>\n      <th>ticker</th>\n      <th>company name</th>\n      <th>short name</th>\n      <th>industry</th>\n      <th>description</th>\n      <th>website</th>\n      <th>logo</th>\n      <th>ceo</th>\n      <th>exchange</th>\n      <th>market cap</th>\n      <th>sector</th>\n      <th>tag 1</th>\n      <th>tag 2</th>\n      <th>tag 3</th>\n    </tr>\n  </thead>\n  <tbody>\n    <tr>\n      <th>0</th>\n      <td>A</td>\n      <td>Agilent Technologies Inc.</td>\n      <td>Agilent</td>\n      <td>Medical Diagnostics &amp; Research</td>\n      <td>Agilent Technologies Inc is engaged in life sc...</td>\n      <td>http://www.agilent.com</td>\n      <td>A.png</td>\n      <td>Michael R. McMullen</td>\n      <td>New York Stock Exchange</td>\n      <td>2.421807e+10</td>\n      <td>Healthcare</td>\n      <td>Healthcare</td>\n      <td>Diagnostics &amp; Research</td>\n      <td>Medical Diagnostics &amp; Research</td>\n    </tr>\n  </tbody>\n</table>\n</div>"
     },
     "metadata": {},
     "execution_count": 12
    }
   ],
   "source": [
    "company_info_df.head(1)"
   ]
  },
  {
   "cell_type": "code",
   "execution_count": 8,
   "metadata": {},
   "outputs": [
    {
     "output_type": "stream",
     "name": "stderr",
     "text": [
      "Summarize dataset: 100%|██████████| 24/24 [00:00<00:00, 46.97it/s, Completed]\n",
      "Generate report structure: 100%|██████████| 1/1 [00:01<00:00,  1.85s/it]\n",
      "Render HTML: 100%|██████████| 1/1 [00:00<00:00,  1.27it/s]\n",
      "Export report to file: 100%|██████████| 1/1 [00:00<00:00, 250.11it/s]\n",
      "\n",
      "Pandas profiling report of file company_info_df created\n",
      "\n"
     ]
    }
   ],
   "source": [
    "create_pandas_profiling_report(company_info_df, 'company_info_df')"
   ]
  },
  {
   "cell_type": "code",
   "execution_count": 16,
   "metadata": {},
   "outputs": [
    {
     "output_type": "stream",
     "name": "stdout",
     "text": [
      "Number of companies in company_info_df: 4559\n"
     ]
    }
   ],
   "source": [
    "ticker_count = company_info_df['ticker'].nunique()\n",
    "print(f'Number of companies in company_info_df: {ticker_count}')\n",
    "# reduce symbol_list to those where company information is available\n",
    "symbol_list = company_info_df['ticker'].unique().tolist()"
   ]
  },
  {
   "source": [
    "##### 1.1.3 Peer group information\n"
   ],
   "cell_type": "markdown",
   "metadata": {}
  },
  {
   "cell_type": "code",
   "execution_count": 17,
   "metadata": {},
   "outputs": [],
   "source": [
    "# initial download of peer data from API\n",
    "#peer_df = download_peer_data(symbol_list)"
   ]
  },
  {
   "cell_type": "code",
   "execution_count": 18,
   "metadata": {},
   "outputs": [
    {
     "output_type": "execute_result",
     "data": {
      "text/plain": [
       "(4559, 3)"
      ]
     },
     "metadata": {},
     "execution_count": 18
    }
   ],
   "source": [
    "peer_df.shape"
   ]
  },
  {
   "source": [],
   "cell_type": "markdown",
   "metadata": {}
  },
  {
   "cell_type": "code",
   "execution_count": 10,
   "metadata": {},
   "outputs": [],
   "source": [
    "# load downloaded peer data from disk\n",
    "peer_df = get_peer_data_from_disk(symbol_list)"
   ]
  },
  {
   "source": [
    "#### 1.2 Fundamental indicators \n",
    "- Return on Investment Capital (ROIC)\n",
    "    - Source: Income Statement\n",
    "        - net income: n_i -> column 'Net Income'\n",
    "        - dividend: di -> column 'Dividends Paid'\n",
    "        - debt: de -> summed up with equity in column 'Total Liabilities & Equity'\n",
    "        - equity: eq\n",
    "    - Definition: ROIC = (ni - di) / (de + eq)\n",
    "- Sales Growth Rate\n",
    "    - Source: Income Statement\n",
    "    - Definition:  Sales is equal to column 'revenue'\n",
    "- Earnings per Share Growth Rate\n",
    "    - Source: Income Statement\n",
    "        - Earnings: ea -> column 'Net Income'\n",
    "        - number of shares : sh -> column 'Shares (Basic)'\n",
    "    - Definition: ea / sh\n",
    "- Book Value per Share Growth Rate\n",
    "    - Source: Balance Sheet\n",
    "        - Total Equity: t_e -> column 'Total Equity'\n",
    "        - Prefered Equity: p_e (not available)\n",
    "        - number of shares : sh -> column 'Shares (Basic)'\n",
    "    - Definition: (t_e - p_e) / sh\n",
    "- Free Cash Flow Growth Rate\n",
    "    - Source: \n",
    "        - Cash Flow: \n",
    "            - Cashflow from Operating Activities: cf_oa -> column 'Net Cash from Operating Activities'\n",
    "            - Capital Expenditure: capex -> column 'Net Cash from Investing Activities'\n",
    "        - Income Statement:\n",
    "            - Interest Expenses: i_e -> exclude for simplicity, column 'Interest Expense, Net'\n",
    "            - Tax shield on Interest Expense: t_i_e  -> exclude for simplicity\n",
    "    - Definition: Free Cashflow (f_cf) = cf_oa + i_e - t_i_e - capex"
   ],
   "cell_type": "markdown",
   "metadata": {
    "editable": true
   }
  },
  {
   "cell_type": "code",
   "execution_count": 9,
   "metadata": {},
   "outputs": [],
   "source": [
    "# initialize simfin API\n",
    "init_simfin_api()"
   ]
  },
  {
   "cell_type": "code",
   "execution_count": 10,
   "metadata": {},
   "outputs": [
    {
     "output_type": "stream",
     "name": "stdout",
     "text": [
      "Dataset \"us-cashflow-annual\" on disk (4 days old).\n",
      "- Loading from disk ... Done!\n",
      "Dataset \"us-income-annual\" on disk (4 days old).\n",
      "- Loading from disk ... Done!\n",
      "Dataset \"us-balance-annual\" on disk (2 days old).\n",
      "Summarize dataset:   3%|▎         | 1/37 [00:00<00:03,  9.17it/s, Describe variable:Report Date]Done!\n",
      "Summarize dataset: 100%|██████████| 37/37 [00:00<00:00, 40.77it/s, Completed]\n",
      "Generate report structure: 100%|██████████| 1/1 [00:15<00:00, 15.29s/it]\n",
      "Render HTML: 100%|██████████| 1/1 [00:01<00:00,  1.44s/it]\n",
      "Export report to file: 100%|██████████| 1/1 [00:00<00:00, 125.10it/s]\n",
      "Summarize dataset:   3%|▎         | 1/37 [00:00<00:03,  9.72it/s, Describe variable:Report Date]\n",
      "\n",
      "Pandas profiling report of file cashflow_df created\n",
      "Summarize dataset: 100%|██████████| 37/37 [00:01<00:00, 36.55it/s, Completed]\n",
      "Generate report structure: 100%|██████████| 1/1 [00:17<00:00, 17.36s/it]\n",
      "Render HTML: 100%|██████████| 1/1 [00:01<00:00,  1.80s/it]\n",
      "Export report to file: 100%|██████████| 1/1 [00:00<00:00, 66.65it/s]\n",
      "Summarize dataset:   0%|          | 0/39 [00:00<?, ?it/s, Describe variable:Currency]\n",
      "\n",
      "Pandas profiling report of file income_sm_df created\n",
      "Summarize dataset: 100%|██████████| 39/39 [00:01<00:00, 29.53it/s, Completed]\n",
      "Generate report structure: 100%|██████████| 1/1 [00:25<00:00, 25.46s/it]\n",
      "Render HTML: 100%|██████████| 1/1 [00:01<00:00,  1.39s/it]\n",
      "Export report to file: 100%|██████████| 1/1 [00:00<00:00, 80.98it/s]\n",
      "\n",
      "Pandas profiling report of file balance_st_df created\n",
      "\n"
     ]
    }
   ],
   "source": [
    "market='us'\n",
    "variant='annual'\n",
    "# download cashflow data from the SimFin server and load into a Pandas DataFrame.\n",
    "cashflow_df = sf.load_cashflow(variant=variant, market=market)\n",
    "cashflow_df = cashflow_df.reset_index()\n",
    "# Download the data from the SimFin server and load into a Pandas DataFrame.\n",
    "income_sm_df = sf.load_income(variant=variant, market=market)\n",
    "income_sm_df = income_sm_df.reset_index()\n",
    "# Download the data from the SimFin server and load into a Pandas DataFrame.\n",
    "balance_st_df = sf.load_balance(variant=variant, market=market)\n",
    "balance_st_df = balance_st_df.reset_index()\n",
    "# create Pandas Profiling Report for each DataFrame\n",
    "for df, df_name in zip([cashflow_df, income_sm_df, balance_st_df],\n",
    "                        ['cashflow_df', 'income_sm_df', 'balance_st_df']):\n",
    "    create_pandas_profiling_report(df, df_name)"
   ]
  },
  {
   "cell_type": "code",
   "execution_count": null,
   "metadata": {},
   "outputs": [],
   "source": []
  },
  {
   "cell_type": "code",
   "execution_count": 3,
   "metadata": {},
   "outputs": [
    {
     "output_type": "stream",
     "name": "stdout",
     "text": [
      "Dataset \"us-cashflow-annual\" on disk (9 days old).\n",
      "- Loading from disk ... Done!\n",
      "Dataset \"us-income-annual\" on disk (9 days old).\n",
      "- Loading from disk ... Done!\n",
      "Dataset \"us-balance-annual\" on disk (6 days old).\n",
      "- Loading from disk ... Done!\n",
      "Combined all fundamental data from financial statements to one Dataframe.\n",
      "Calculated roic and added it to Dataframe\n",
      "Calculated eps and added it to Dataframe\n",
      "Calculated bvps and added it to Dataframe\n",
      "Calculated fcf and added it to Dataframe\n",
      "top5 KPIs added to fundamental data\n",
      "Calculated KPI growth from year to year.\n",
      "Calculated 5 and 10 year growth rate\n"
     ]
    },
    {
     "output_type": "execute_result",
     "data": {
      "text/plain": [
       "  Ticker  revenue_gr_2019   eps_2019  roic_gr_5yr  revenue_gr_5yr  eps_gr_5yr  \\\n",
       "0   AAPL        -0.020411   2.991446         0.02            0.08        0.15   \n",
       "1   GOOG         0.183001  49.585906         0.12            0.20        0.30   \n",
       "\n",
       "   bvps_gr_5yr  fcf_gr_5yr  yrs_in_5yr  roic_gr_10yr  revenue_gr_10yr  \\\n",
       "0         0.02       -0.12           5         -0.02             0.19   \n",
       "1         0.14        0.14           5          0.04             0.21   \n",
       "\n",
       "   eps_gr_10yr  bvps_gr_10yr  fcf_gr_10yr  yrs_in_10yr  \n",
       "0         0.24          0.14         0.10           10  \n",
       "1         0.16          0.10         0.18           10  "
      ],
      "text/html": "<div>\n<style scoped>\n    .dataframe tbody tr th:only-of-type {\n        vertical-align: middle;\n    }\n\n    .dataframe tbody tr th {\n        vertical-align: top;\n    }\n\n    .dataframe thead th {\n        text-align: right;\n    }\n</style>\n<table border=\"1\" class=\"dataframe\">\n  <thead>\n    <tr style=\"text-align: right;\">\n      <th></th>\n      <th>Ticker</th>\n      <th>revenue_gr_2019</th>\n      <th>eps_2019</th>\n      <th>roic_gr_5yr</th>\n      <th>revenue_gr_5yr</th>\n      <th>eps_gr_5yr</th>\n      <th>bvps_gr_5yr</th>\n      <th>fcf_gr_5yr</th>\n      <th>yrs_in_5yr</th>\n      <th>roic_gr_10yr</th>\n      <th>revenue_gr_10yr</th>\n      <th>eps_gr_10yr</th>\n      <th>bvps_gr_10yr</th>\n      <th>fcf_gr_10yr</th>\n      <th>yrs_in_10yr</th>\n    </tr>\n  </thead>\n  <tbody>\n    <tr>\n      <th>0</th>\n      <td>AAPL</td>\n      <td>-0.020411</td>\n      <td>2.991446</td>\n      <td>0.02</td>\n      <td>0.08</td>\n      <td>0.15</td>\n      <td>0.02</td>\n      <td>-0.12</td>\n      <td>5</td>\n      <td>-0.02</td>\n      <td>0.19</td>\n      <td>0.24</td>\n      <td>0.14</td>\n      <td>0.10</td>\n      <td>10</td>\n    </tr>\n    <tr>\n      <th>1</th>\n      <td>GOOG</td>\n      <td>0.183001</td>\n      <td>49.585906</td>\n      <td>0.12</td>\n      <td>0.20</td>\n      <td>0.30</td>\n      <td>0.14</td>\n      <td>0.14</td>\n      <td>5</td>\n      <td>0.04</td>\n      <td>0.21</td>\n      <td>0.16</td>\n      <td>0.10</td>\n      <td>0.18</td>\n      <td>10</td>\n    </tr>\n  </tbody>\n</table>\n</div>"
     },
     "metadata": {},
     "execution_count": 3
    }
   ],
   "source": [
    "# combine data\n",
    "symbol_list = ['AAPL', 'GOOG']\n",
    "period_dict = {'start_date':2010,\n",
    "                'end_date':2019}\n",
    "\n",
    "# test combine fundamentals and calculate top5 kpis\n",
    "test_fundamental_df = combine_fundamentals(symbol_list, period_dict)\n",
    "test_fundamental_df = calculate_top5_kpi(test_fundamental_df)\n",
    "\n",
    "# test calculate growth kpi df\n",
    "test_growth_df = calculate_growth_rates(test_fundamental_df, agg_func='mean')\n",
    "test_growth_df.head()"
   ]
  },
  {
   "source": [
    "#### 1.3 Pricing information ####\n",
    "The purpose of this data is to evaluate the so-called sticker prices and margin of safety based on current stock prices. It can also be used for backtesting criteria on historic data.\n",
    "- Sticker price calculation\n",
    "    - future period fp, by default 10 years\n",
    "    - Sticker price = future market price / (1 + exp_rr)^fp\n",
    "    - expected annual return rate exp_rr, by default 15%\n",
    "    - future market price = future P/E * estimated future EPS\n",
    "        - future P/E = min(pe_default, pe_5yr_avg)\n",
    "            - default price per earnings pe_default: 2* rule #1 growth rate (see below)\n",
    "            - 5 year average of annual price per earnings pe_5yr_avg\n",
    "                - annual price per earnings pe = price/ eps\n",
    "                    - annual price = median of daily low prices in month December\n",
    "        - estimated future EPS = current EPS * (1+ rule1_gr)^fp\n",
    "            - rule #1 growth rate rule1_gr = min(bvps_gr_5yr, eps_gr_5yr)\n",
    "\n",
    "- Margin of safety: half the the sticker price."
   ],
   "cell_type": "markdown",
   "metadata": {}
  },
  {
   "cell_type": "code",
   "execution_count": null,
   "metadata": {},
   "outputs": [],
   "source": [
    "# test_fundamental_df\n",
    "# test_growth_df"
   ]
  },
  {
   "cell_type": "code",
   "execution_count": null,
   "metadata": {},
   "outputs": [],
   "source": []
  },
  {
   "cell_type": "code",
   "execution_count": 3,
   "metadata": {},
   "outputs": [
    {
     "output_type": "stream",
     "name": "stdout",
     "text": [
      "Total number of valid symbols downloaded = 1\n"
     ]
    }
   ],
   "source": [
    "# adapt yfinance notebook to python script that downloads ticker symbols\n",
    "symbol_list = ['AAPL']\n",
    "\n",
    "download_ticker_prices(symbol_list)"
   ]
  },
  {
   "cell_type": "markdown",
   "metadata": {
    "editable": true
   },
   "source": [
    "## Step 2: Explore and Assess the Data\n",
    "#### Explore the Data \n",
    "Identify data quality issues, like missing values, duplicate data, etc.\n",
    "\n",
    "#### Cleaning Steps\n",
    "Document steps necessary to clean the data"
   ]
  },
  {
   "cell_type": "code",
   "execution_count": null,
   "metadata": {
    "editable": true
   },
   "outputs": [],
   "source": [
    "# Performing cleaning tasks here\n",
    "\n",
    "\n",
    "\n"
   ]
  },
  {
   "cell_type": "markdown",
   "metadata": {
    "editable": true
   },
   "source": [
    "## Step 3: Define the Data Model\n",
    "#### 3.1 Conceptual Data Model\n",
    "Map out the conceptual data model and explain why you chose that model\n",
    "- Dimensional tables\n",
    "    - company information, including peers\n",
    "- Fact tables:\n",
    "    - fundamental indicators\n",
    "    - price history\n",
    "\n",
    "#### 3.2 Mapping Out Data Pipelines\n",
    "List the steps necessary to pipeline the data into the chosen data model"
   ]
  },
  {
   "cell_type": "markdown",
   "metadata": {
    "editable": true
   },
   "source": [
    "### Step 4: Run Pipelines to Model the Data \n",
    "#### 4.1 Create the data model\n",
    "Build the data pipelines to create the data model."
   ]
  },
  {
   "cell_type": "code",
   "execution_count": null,
   "metadata": {
    "editable": true
   },
   "outputs": [],
   "source": [
    "# Write code here"
   ]
  },
  {
   "cell_type": "markdown",
   "metadata": {
    "editable": true
   },
   "source": [
    "#### 4.2 Data Quality Checks\n",
    "Explain the data quality checks you'll perform to ensure the pipeline ran as expected. These could include:\n",
    " * Integrity constraints on the relational database (e.g., unique key, data type, etc.)\n",
    " * Unit tests for the scripts to ensure they are doing the right thing\n",
    " * Source/Count checks to ensure completeness\n",
    " \n",
    "Run Quality Checks"
   ]
  },
  {
   "cell_type": "code",
   "execution_count": null,
   "metadata": {
    "editable": true
   },
   "outputs": [],
   "source": [
    "# Perform quality checks here"
   ]
  },
  {
   "cell_type": "markdown",
   "metadata": {
    "editable": true
   },
   "source": [
    "#### 4.3 Data dictionary \n",
    "Create a data dictionary for your data model. For each field, provide a brief description of what the data is and where it came from. You can include the data dictionary in the notebook or in a separate file."
   ]
  },
  {
   "cell_type": "markdown",
   "metadata": {
    "editable": true
   },
   "source": [
    "#### Step 5: Complete Project Write Up\n",
    "* Clearly state the rationale for the choice of tools and technologies for the project.\n",
    "* Propose how often the data should be updated and why.\n",
    "* Write a description of how you would approach the problem differently under the following scenarios:\n",
    " * The data was increased by 100x.\n",
    " * The data populates a dashboard that must be updated on a daily basis by 7am every day.\n",
    " * The database needed to be accessed by 100+ people."
   ]
  },
  {
   "cell_type": "code",
   "execution_count": null,
   "metadata": {
    "editable": true
   },
   "outputs": [],
   "source": []
  },
  {
   "cell_type": "code",
   "execution_count": null,
   "metadata": {
    "editable": true
   },
   "outputs": [],
   "source": []
  },
  {
   "cell_type": "code",
   "execution_count": null,
   "metadata": {
    "editable": true
   },
   "outputs": [],
   "source": []
  },
  {
   "cell_type": "code",
   "execution_count": null,
   "metadata": {
    "editable": true
   },
   "outputs": [],
   "source": []
  },
  {
   "cell_type": "code",
   "execution_count": null,
   "metadata": {
    "editable": true
   },
   "outputs": [],
   "source": []
  },
  {
   "cell_type": "code",
   "execution_count": null,
   "metadata": {
    "editable": true
   },
   "outputs": [],
   "source": []
  }
 ],
 "metadata": {
  "kernelspec": {
   "name": "python385jvsc74a57bd0e8c5907d6f6b93abd568ea4798fcc42687f0080df672fabf898fced0e116d856",
   "display_name": "Python 3.8.5 64-bit ('dataengineering': conda)"
  },
  "language_info": {
   "codemirror_mode": {
    "name": "ipython",
    "version": 3
   },
   "file_extension": ".py",
   "mimetype": "text/x-python",
   "name": "python",
   "nbconvert_exporter": "python",
   "pygments_lexer": "ipython3",
   "version": "3.8.5"
  }
 },
 "nbformat": 4,
 "nbformat_minor": 4
}
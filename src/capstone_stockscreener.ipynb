{
 "cells": [
  {
   "cell_type": "markdown",
   "metadata": {
    "editable": true
   },
   "source": [
    "# Project Title\n",
    "### Data Engineering Capstone Project\n",
    "\n",
    "#### Project Summary\n",
    "--describe your project at a high level--\n",
    "\n",
    "The project follows the follow steps:\n",
    "* Step 1: Scope the Project and Gather Data\n",
    "* Step 2: Explore and Assess the Data\n",
    "* Step 3: Define the Data Model\n",
    "* Step 4: Run ETL to Model the Data\n",
    "* Step 5: Complete Project Write Up"
   ]
  },
  {
   "cell_type": "code",
   "execution_count": 1,
   "metadata": {
    "editable": true
   },
   "outputs": [],
   "source": [
    "# Do all imports and installs here\n",
    "import pandas as pd\n",
    "import numpy as np\n",
    "import matplotlib.pyplot as plt\n",
    "import simfin as sf"
   ]
  },
  {
   "cell_type": "code",
   "execution_count": 2,
   "metadata": {},
   "outputs": [],
   "source": [
    "# Local spark cluster specific imports\n",
    "import findspark\n",
    "findspark.init()"
   ]
  },
  {
   "cell_type": "code",
   "execution_count": 3,
   "metadata": {},
   "outputs": [
    {
     "output_type": "stream",
     "name": "stdout",
     "text": [
      "+-----+\n|hello|\n+-----+\n|spark|\n+-----+\n\n"
     ]
    }
   ],
   "source": [
    "import pyspark\n",
    "from pyspark.sql import SparkSession\n",
    "spark = SparkSession.builder.getOrCreate()\n",
    "df = spark.sql(\"select 'spark' as hello \")\n",
    "df.show()"
   ]
  },
  {
   "cell_type": "code",
   "execution_count": 4,
   "metadata": {},
   "outputs": [],
   "source": [
    "# import of functions from custom modules\n",
    "from get_prices import *\n",
    "from get_fundamentals import *\n",
    "from get_peers import *\n",
    "from get_company_info import *\n",
    "from analysis_utils import *"
   ]
  },
  {
   "cell_type": "markdown",
   "metadata": {
    "editable": true
   },
   "source": [
    "## Step 1: Scope the Project and Gather Data\n",
    "\n",
    "### Scope \n",
    "Explain what you plan to do in the project in more detail. What data do you use? What is your end solution look like? What tools did you use? etc>\n",
    "\n",
    "### Describe and Gather Data \n",
    "Describe the data sets you're using. Where did it come from? What type of information is included? "
   ]
  },
  {
   "cell_type": "code",
   "execution_count": null,
   "metadata": {},
   "outputs": [],
   "source": [
    "# IEX API calls\n"
   ]
  },
  {
   "cell_type": "code",
   "execution_count": null,
   "metadata": {},
   "outputs": [],
   "source": [
    "# Simfin API calls"
   ]
  },
  {
   "cell_type": "markdown",
   "metadata": {
    "editable": true
   },
   "source": [
    "## Step 2: Explore and Assess the Data\n",
    "#### Explore the Data \n",
    "Identify data quality issues, like missing values, duplicate data, etc.\n",
    "\n",
    "#### Cleaning Steps\n",
    "Document steps necessary to clean the data"
   ]
  },
  {
   "source": [
    "#### Configuration ####\n",
    "Define:\n",
    "- time period for analysis"
   ],
   "cell_type": "markdown",
   "metadata": {}
  },
  {
   "cell_type": "code",
   "execution_count": 5,
   "metadata": {},
   "outputs": [],
   "source": [
    "period_dict = {'start_date':2010,\n",
    "                'end_date':2019}"
   ]
  },
  {
   "source": [
    "#### 1.1 Stock information\n",
    "- Ticker symbol list: \"http://www.nasdaqtrader.com/dynamic/SymDir/nasdaqtraded.txt\"\n",
    "    - Symbol Look-Up/Directory Data Fields & Definitions: http://www.nasdaqtrader.com/trader.aspx?id=symboldirdefs\n",
    "- Company information: Kaggle dataset from 2019 https://www.kaggle.com/marketahead/all-us-stocks-tickers-company-info-logos \n",
    "- Peer group information: IEX Cloud API https://iexcloud.io/docs/api/#peer-groups"
   ],
   "cell_type": "markdown",
   "metadata": {
    "editable": true
   }
  },
  {
   "source": [
    "##### 1.1.1 Ticker Symbol List"
   ],
   "cell_type": "markdown",
   "metadata": {}
  },
  {
   "cell_type": "code",
   "execution_count": 6,
   "metadata": {},
   "outputs": [
    {
     "output_type": "execute_result",
     "data": {
      "text/plain": [
       "  Nasdaq Traded Symbol                            Security Name  \\\n",
       "0             Y      A  Agilent Technologies, Inc. Common Stock   \n",
       "1             Y     AA          Alcoa Corporation Common Stock    \n",
       "\n",
       "  Listing Exchange Market Category ETF  Round Lot Size Test Issue  \\\n",
       "0                N                   N           100.0          N   \n",
       "1                N                   N           100.0          N   \n",
       "\n",
       "  Financial Status CQS Symbol NASDAQ Symbol NextShares  \n",
       "0              NaN          A             A          N  \n",
       "1              NaN         AA            AA          N  "
      ],
      "text/html": "<div>\n<style scoped>\n    .dataframe tbody tr th:only-of-type {\n        vertical-align: middle;\n    }\n\n    .dataframe tbody tr th {\n        vertical-align: top;\n    }\n\n    .dataframe thead th {\n        text-align: right;\n    }\n</style>\n<table border=\"1\" class=\"dataframe\">\n  <thead>\n    <tr style=\"text-align: right;\">\n      <th></th>\n      <th>Nasdaq Traded</th>\n      <th>Symbol</th>\n      <th>Security Name</th>\n      <th>Listing Exchange</th>\n      <th>Market Category</th>\n      <th>ETF</th>\n      <th>Round Lot Size</th>\n      <th>Test Issue</th>\n      <th>Financial Status</th>\n      <th>CQS Symbol</th>\n      <th>NASDAQ Symbol</th>\n      <th>NextShares</th>\n    </tr>\n  </thead>\n  <tbody>\n    <tr>\n      <th>0</th>\n      <td>Y</td>\n      <td>A</td>\n      <td>Agilent Technologies, Inc. Common Stock</td>\n      <td>N</td>\n      <td></td>\n      <td>N</td>\n      <td>100.0</td>\n      <td>N</td>\n      <td>NaN</td>\n      <td>A</td>\n      <td>A</td>\n      <td>N</td>\n    </tr>\n    <tr>\n      <th>1</th>\n      <td>Y</td>\n      <td>AA</td>\n      <td>Alcoa Corporation Common Stock</td>\n      <td>N</td>\n      <td></td>\n      <td>N</td>\n      <td>100.0</td>\n      <td>N</td>\n      <td>NaN</td>\n      <td>AA</td>\n      <td>AA</td>\n      <td>N</td>\n    </tr>\n  </tbody>\n</table>\n</div>"
     },
     "metadata": {},
     "execution_count": 6
    }
   ],
   "source": [
    "# get ticket symbol list\n",
    "symbol_df = pd.read_csv(\"http://www.nasdaqtrader.com/dynamic/SymDir/nasdaqtraded.txt\", sep='|')\n",
    "# exclude test issues\n",
    "symbol_df = symbol_df[(symbol_df['Test Issue'] == 'N')]\n",
    "# exclude companies that are bankrupt\n",
    "symbol_df = symbol_df[symbol_df['Financial Status'].isna() | (symbol_df['Financial Status']=='N')]\n",
    "# exclude ETFs\n",
    "symbol_df = symbol_df[symbol_df['ETF']=='N']\n",
    "symbol_list = symbol_df['NASDAQ Symbol'].tolist()\n",
    "print('total number of symbols traded = {}'.format(len(symbol_list)))"
   ]
  },
  {
   "source": [
    "##### 1.1.2 Company Info"
   ],
   "cell_type": "markdown",
   "metadata": {}
  },
  {
   "cell_type": "code",
   "execution_count": 8,
   "metadata": {},
   "outputs": [
    {
     "output_type": "execute_result",
     "data": {
      "text/plain": [
       "  ticker               company name short name  \\\n",
       "0      A  Agilent Technologies Inc.    Agilent   \n",
       "\n",
       "                         industry  \\\n",
       "0  Medical Diagnostics & Research   \n",
       "\n",
       "                                         description                 website  \\\n",
       "0  Agilent Technologies Inc is engaged in life sc...  http://www.agilent.com   \n",
       "\n",
       "    logo                  ceo                 exchange    market cap  \\\n",
       "0  A.png  Michael R. McMullen  New York Stock Exchange  2.421807e+10   \n",
       "\n",
       "       sector       tag 1                   tag 2  \\\n",
       "0  Healthcare  Healthcare  Diagnostics & Research   \n",
       "\n",
       "                            tag 3  \n",
       "0  Medical Diagnostics & Research  "
      ],
      "text/html": "<div>\n<style scoped>\n    .dataframe tbody tr th:only-of-type {\n        vertical-align: middle;\n    }\n\n    .dataframe tbody tr th {\n        vertical-align: top;\n    }\n\n    .dataframe thead th {\n        text-align: right;\n    }\n</style>\n<table border=\"1\" class=\"dataframe\">\n  <thead>\n    <tr style=\"text-align: right;\">\n      <th></th>\n      <th>ticker</th>\n      <th>company name</th>\n      <th>short name</th>\n      <th>industry</th>\n      <th>description</th>\n      <th>website</th>\n      <th>logo</th>\n      <th>ceo</th>\n      <th>exchange</th>\n      <th>market cap</th>\n      <th>sector</th>\n      <th>tag 1</th>\n      <th>tag 2</th>\n      <th>tag 3</th>\n    </tr>\n  </thead>\n  <tbody>\n    <tr>\n      <th>0</th>\n      <td>A</td>\n      <td>Agilent Technologies Inc.</td>\n      <td>Agilent</td>\n      <td>Medical Diagnostics &amp; Research</td>\n      <td>Agilent Technologies Inc is engaged in life sc...</td>\n      <td>http://www.agilent.com</td>\n      <td>A.png</td>\n      <td>Michael R. McMullen</td>\n      <td>New York Stock Exchange</td>\n      <td>2.421807e+10</td>\n      <td>Healthcare</td>\n      <td>Healthcare</td>\n      <td>Diagnostics &amp; Research</td>\n      <td>Medical Diagnostics &amp; Research</td>\n    </tr>\n  </tbody>\n</table>\n</div>"
     },
     "metadata": {},
     "execution_count": 8
    }
   ],
   "source": [
    "company_info_df = load_company_info_from_disk(symbol_list)\n",
    "company_info_df.head(1)"
   ]
  },
  {
   "cell_type": "code",
   "execution_count": null,
   "metadata": {},
   "outputs": [],
   "source": [
    "create_pandas_profiling_report(company_info_df, 'company_info_df')"
   ]
  },
  {
   "cell_type": "code",
   "execution_count": 9,
   "metadata": {},
   "outputs": [
    {
     "output_type": "stream",
     "name": "stdout",
     "text": [
      "Number of companies in company_info_df: 4545\n"
     ]
    }
   ],
   "source": [
    "ticker_count = company_info_df['ticker'].nunique()\n",
    "print(f'Number of companies in company_info_df: {ticker_count}')\n",
    "# reduce symbol_list to those where company information is available\n",
    "symbol_list = company_info_df['ticker'].unique().tolist()"
   ]
  },
  {
   "cell_type": "code",
   "execution_count": null,
   "metadata": {
    "tags": []
   },
   "outputs": [],
   "source": [
    "# tmp - download stats\n",
    "# stats_df = download_advanced_stats_data(symbol_list)"
   ]
  },
  {
   "source": [
    "## TESTING: limit symbol list - to be deleted later"
   ],
   "cell_type": "markdown",
   "metadata": {}
  },
  {
   "cell_type": "code",
   "execution_count": 10,
   "metadata": {},
   "outputs": [],
   "source": [
    "# combine data\n",
    "symbol_list = ['AAPL', 'GOOG']"
   ]
  },
  {
   "source": [
    "##### 1.1.3 Peer group information\n"
   ],
   "cell_type": "markdown",
   "metadata": {}
  },
  {
   "cell_type": "code",
   "execution_count": 17,
   "metadata": {},
   "outputs": [],
   "source": [
    "# initial download of peer data from API\n",
    "#peer_df = download_peer_data(symbol_list)"
   ]
  },
  {
   "source": [],
   "cell_type": "markdown",
   "metadata": {}
  },
  {
   "cell_type": "code",
   "execution_count": 11,
   "metadata": {},
   "outputs": [
    {
     "output_type": "stream",
     "name": "stdout",
     "text": [
      "Shape of peer_df: (2, 3)\n"
     ]
    }
   ],
   "source": [
    "# load downloaded peer data from disk\n",
    "peer_df = get_peer_data_from_disk(symbol_list)\n",
    "peer_df_shape = peer_df.shape\n",
    "print(f'Shape of peer_df: {peer_df_shape}')"
   ]
  },
  {
   "cell_type": "code",
   "execution_count": 12,
   "metadata": {},
   "outputs": [
    {
     "output_type": "stream",
     "name": "stdout",
     "text": [
      "company_info_df: Index(['ticker', 'company name', 'short name', 'industry', 'description',\n       'website', 'logo', 'ceo', 'exchange', 'market cap', 'sector', 'tag 1',\n       'tag 2', 'tag 3'],\n      dtype='object')\n\npeer_df: Index(['ticker', 'peer_string', 'peer_list'], dtype='object')\n"
     ]
    }
   ],
   "source": [
    "company_info_df_cols = company_info_df.columns\n",
    "peer_df_cols = peer_df.columns\n",
    "print(f'company_info_df: {company_info_df_cols}')\n",
    "print()\n",
    "print(f'peer_df: {peer_df_cols}')"
   ]
  },
  {
   "cell_type": "code",
   "execution_count": 13,
   "metadata": {},
   "outputs": [
    {
     "output_type": "execute_result",
     "data": {
      "text/plain": [
       "  ticker               company name short name  \\\n",
       "0      A  Agilent Technologies Inc.    Agilent   \n",
       "1     AA          Alcoa Corporation      Alcoa   \n",
       "2    AAC          AAC Holdings Inc.        AAC   \n",
       "\n",
       "                         industry  \\\n",
       "0  Medical Diagnostics & Research   \n",
       "1                 Metals & Mining   \n",
       "2           Health Care Providers   \n",
       "\n",
       "                                         description  \\\n",
       "0  Agilent Technologies Inc is engaged in life sc...   \n",
       "1  Alcoa Corp is an integrated aluminum company. ...   \n",
       "2  AAC Holdings Inc provides inpatient and outpat...   \n",
       "\n",
       "                                   website    logo                     ceo  \\\n",
       "0                   http://www.agilent.com   A.png     Michael R. McMullen   \n",
       "1                     http://www.alcoa.com  AA.png  Roy Christopher Harvey   \n",
       "2  http://www.americanaddictioncenters.org     NaN   Michael T. Cartwright   \n",
       "\n",
       "                  exchange    market cap           sector            tag 1  \\\n",
       "0  New York Stock Exchange  2.421807e+10       Healthcare       Healthcare   \n",
       "1  New York Stock Exchange  5.374967e+09  Basic Materials  Basic Materials   \n",
       "2  New York Stock Exchange  6.372010e+07       Healthcare       Healthcare   \n",
       "\n",
       "                    tag 2                           tag 3 peer_string  \\\n",
       "0  Diagnostics & Research  Medical Diagnostics & Research         NaN   \n",
       "1                Aluminum                 Metals & Mining         NaN   \n",
       "2            Medical Care           Health Care Providers         NaN   \n",
       "\n",
       "  peer_list  \n",
       "0       NaN  \n",
       "1       NaN  \n",
       "2       NaN  "
      ],
      "text/html": "<div>\n<style scoped>\n    .dataframe tbody tr th:only-of-type {\n        vertical-align: middle;\n    }\n\n    .dataframe tbody tr th {\n        vertical-align: top;\n    }\n\n    .dataframe thead th {\n        text-align: right;\n    }\n</style>\n<table border=\"1\" class=\"dataframe\">\n  <thead>\n    <tr style=\"text-align: right;\">\n      <th></th>\n      <th>ticker</th>\n      <th>company name</th>\n      <th>short name</th>\n      <th>industry</th>\n      <th>description</th>\n      <th>website</th>\n      <th>logo</th>\n      <th>ceo</th>\n      <th>exchange</th>\n      <th>market cap</th>\n      <th>sector</th>\n      <th>tag 1</th>\n      <th>tag 2</th>\n      <th>tag 3</th>\n      <th>peer_string</th>\n      <th>peer_list</th>\n    </tr>\n  </thead>\n  <tbody>\n    <tr>\n      <th>0</th>\n      <td>A</td>\n      <td>Agilent Technologies Inc.</td>\n      <td>Agilent</td>\n      <td>Medical Diagnostics &amp; Research</td>\n      <td>Agilent Technologies Inc is engaged in life sc...</td>\n      <td>http://www.agilent.com</td>\n      <td>A.png</td>\n      <td>Michael R. McMullen</td>\n      <td>New York Stock Exchange</td>\n      <td>2.421807e+10</td>\n      <td>Healthcare</td>\n      <td>Healthcare</td>\n      <td>Diagnostics &amp; Research</td>\n      <td>Medical Diagnostics &amp; Research</td>\n      <td>NaN</td>\n      <td>NaN</td>\n    </tr>\n    <tr>\n      <th>1</th>\n      <td>AA</td>\n      <td>Alcoa Corporation</td>\n      <td>Alcoa</td>\n      <td>Metals &amp; Mining</td>\n      <td>Alcoa Corp is an integrated aluminum company. ...</td>\n      <td>http://www.alcoa.com</td>\n      <td>AA.png</td>\n      <td>Roy Christopher Harvey</td>\n      <td>New York Stock Exchange</td>\n      <td>5.374967e+09</td>\n      <td>Basic Materials</td>\n      <td>Basic Materials</td>\n      <td>Aluminum</td>\n      <td>Metals &amp; Mining</td>\n      <td>NaN</td>\n      <td>NaN</td>\n    </tr>\n    <tr>\n      <th>2</th>\n      <td>AAC</td>\n      <td>AAC Holdings Inc.</td>\n      <td>AAC</td>\n      <td>Health Care Providers</td>\n      <td>AAC Holdings Inc provides inpatient and outpat...</td>\n      <td>http://www.americanaddictioncenters.org</td>\n      <td>NaN</td>\n      <td>Michael T. Cartwright</td>\n      <td>New York Stock Exchange</td>\n      <td>6.372010e+07</td>\n      <td>Healthcare</td>\n      <td>Healthcare</td>\n      <td>Medical Care</td>\n      <td>Health Care Providers</td>\n      <td>NaN</td>\n      <td>NaN</td>\n    </tr>\n  </tbody>\n</table>\n</div>"
     },
     "metadata": {},
     "execution_count": 13
    }
   ],
   "source": [
    "# add peer data to company info\n",
    "company_info_df = company_info_df.merge(peer_df, \n",
    "                                        on = 'ticker',\n",
    "                                        how='left',\n",
    "                                        validate='1:1')\n",
    "company_info_df.head(3)"
   ]
  },
  {
   "source": [
    "#### 1.2 Fundamental indicators \n",
    "- Return on Investment Capital (ROIC)\n",
    "    - Source: Income Statement\n",
    "        - net income: n_i -> column 'Net Income'\n",
    "        - dividend: di -> column 'Dividends Paid'\n",
    "        - debt: de -> summed up with equity in column 'Total Liabilities & Equity'\n",
    "        - equity: eq\n",
    "    - Definition: ROIC = (ni - di) / (de + eq)\n",
    "- Sales Growth Rate\n",
    "    - Source: Income Statement\n",
    "    - Definition:  Sales is equal to column 'revenue'\n",
    "- Earnings per Share Growth Rate\n",
    "    - Source: Income Statement\n",
    "        - Earnings: ea -> column 'Net Income'\n",
    "        - number of shares : sh -> column 'Shares (Basic)'\n",
    "    - Definition: ea / sh\n",
    "- Book Value per Share Growth Rate\n",
    "    - Source: Balance Sheet\n",
    "        - Total Equity: t_e -> column 'Total Equity'\n",
    "        - Prefered Equity: p_e (not available)\n",
    "        - number of shares : sh -> column 'Shares (Basic)'\n",
    "    - Definition: (t_e - p_e) / sh\n",
    "- Free Cash Flow Growth Rate\n",
    "    - Source: \n",
    "        - Cash Flow: \n",
    "            - Cashflow from Operating Activities: cf_oa -> column 'Net Cash from Operating Activities'\n",
    "            - Capital Expenditure: capex -> column 'Net Cash from Investing Activities'\n",
    "        - Income Statement:\n",
    "            - Interest Expenses: i_e -> exclude for simplicity, column 'Interest Expense, Net'\n",
    "            - Tax shield on Interest Expense: t_i_e  -> exclude for simplicity\n",
    "    - Definition: Free Cashflow (f_cf) = cf_oa + i_e - t_i_e - capex"
   ],
   "cell_type": "markdown",
   "metadata": {
    "editable": true
   }
  },
  {
   "cell_type": "code",
   "execution_count": 9,
   "metadata": {},
   "outputs": [],
   "source": [
    "# initialize simfin API\n",
    "init_simfin_api()"
   ]
  },
  {
   "cell_type": "code",
   "execution_count": 3,
   "metadata": {},
   "outputs": [
    {
     "output_type": "error",
     "ename": "Exception",
     "evalue": "The simfin data directory has not been set by the user. Please call the function sf.set_data_dir() first.",
     "traceback": [
      "\u001b[1;31m---------------------------------------------------------------------------\u001b[0m",
      "\u001b[1;31mException\u001b[0m                                 Traceback (most recent call last)",
      "\u001b[1;32m<ipython-input-3-1f5eb7b35f51>\u001b[0m in \u001b[0;36m<module>\u001b[1;34m\u001b[0m\n\u001b[0;32m      2\u001b[0m \u001b[0mvariant\u001b[0m\u001b[1;33m=\u001b[0m\u001b[1;34m'annual'\u001b[0m\u001b[1;33m\u001b[0m\u001b[1;33m\u001b[0m\u001b[0m\n\u001b[0;32m      3\u001b[0m \u001b[1;31m# download cashflow data from the SimFin server and load into a Pandas DataFrame.\u001b[0m\u001b[1;33m\u001b[0m\u001b[1;33m\u001b[0m\u001b[1;33m\u001b[0m\u001b[0m\n\u001b[1;32m----> 4\u001b[1;33m \u001b[0mcashflow_df\u001b[0m \u001b[1;33m=\u001b[0m \u001b[0msf\u001b[0m\u001b[1;33m.\u001b[0m\u001b[0mload_cashflow\u001b[0m\u001b[1;33m(\u001b[0m\u001b[0mvariant\u001b[0m\u001b[1;33m=\u001b[0m\u001b[0mvariant\u001b[0m\u001b[1;33m,\u001b[0m \u001b[0mmarket\u001b[0m\u001b[1;33m=\u001b[0m\u001b[0mmarket\u001b[0m\u001b[1;33m)\u001b[0m\u001b[1;33m\u001b[0m\u001b[1;33m\u001b[0m\u001b[0m\n\u001b[0m\u001b[0;32m      5\u001b[0m \u001b[0mcashflow_df\u001b[0m \u001b[1;33m=\u001b[0m \u001b[0mcashflow_df\u001b[0m\u001b[1;33m.\u001b[0m\u001b[0mreset_index\u001b[0m\u001b[1;33m(\u001b[0m\u001b[1;33m)\u001b[0m\u001b[1;33m\u001b[0m\u001b[1;33m\u001b[0m\u001b[0m\n\u001b[0;32m      6\u001b[0m \u001b[1;31m# Download the data from the SimFin server and load into a Pandas DataFrame.\u001b[0m\u001b[1;33m\u001b[0m\u001b[1;33m\u001b[0m\u001b[1;33m\u001b[0m\u001b[0m\n",
      "\u001b[1;32m~\\Anaconda3\\envs\\dataengineering\\lib\\site-packages\\simfin\\load.py\u001b[0m in \u001b[0;36mload\u001b[1;34m(dataset, variant, market, parse_dates, index, refresh_days)\u001b[0m\n\u001b[0;32m    130\u001b[0m \u001b[1;33m\u001b[0m\u001b[0m\n\u001b[0;32m    131\u001b[0m     \u001b[1;31m# Download file if it does not exist on local disk, or if it is too old.\u001b[0m\u001b[1;33m\u001b[0m\u001b[1;33m\u001b[0m\u001b[1;33m\u001b[0m\u001b[0m\n\u001b[1;32m--> 132\u001b[1;33m     \u001b[0m_maybe_download_dataset\u001b[0m\u001b[1;33m(\u001b[0m\u001b[1;33m**\u001b[0m\u001b[0mdataset_args\u001b[0m\u001b[1;33m,\u001b[0m \u001b[0mrefresh_days\u001b[0m\u001b[1;33m=\u001b[0m\u001b[0mrefresh_days\u001b[0m\u001b[1;33m)\u001b[0m\u001b[1;33m\u001b[0m\u001b[1;33m\u001b[0m\u001b[0m\n\u001b[0m\u001b[0;32m    133\u001b[0m \u001b[1;33m\u001b[0m\u001b[0m\n\u001b[0;32m    134\u001b[0m     \u001b[1;31m# Lambda function for converting strings to dates. Format: YYYY-MM-DD\u001b[0m\u001b[1;33m\u001b[0m\u001b[1;33m\u001b[0m\u001b[1;33m\u001b[0m\u001b[0m\n",
      "\u001b[1;32m~\\Anaconda3\\envs\\dataengineering\\lib\\site-packages\\simfin\\download.py\u001b[0m in \u001b[0;36m_maybe_download_dataset\u001b[1;34m(refresh_days, **kwargs)\u001b[0m\n\u001b[0;32m    281\u001b[0m \u001b[1;33m\u001b[0m\u001b[0m\n\u001b[0;32m    282\u001b[0m     \u001b[1;31m# Full path for the local data-file.\u001b[0m\u001b[1;33m\u001b[0m\u001b[1;33m\u001b[0m\u001b[1;33m\u001b[0m\u001b[0m\n\u001b[1;32m--> 283\u001b[1;33m     \u001b[0mpath\u001b[0m \u001b[1;33m=\u001b[0m \u001b[0m_path_dataset\u001b[0m\u001b[1;33m(\u001b[0m\u001b[1;33m**\u001b[0m\u001b[0mkwargs\u001b[0m\u001b[1;33m)\u001b[0m\u001b[1;33m\u001b[0m\u001b[1;33m\u001b[0m\u001b[0m\n\u001b[0m\u001b[0;32m    284\u001b[0m \u001b[1;33m\u001b[0m\u001b[0m\n\u001b[0;32m    285\u001b[0m     \u001b[1;31m# Full path for the downloaded file.\u001b[0m\u001b[1;33m\u001b[0m\u001b[1;33m\u001b[0m\u001b[1;33m\u001b[0m\u001b[0m\n",
      "\u001b[1;32m~\\Anaconda3\\envs\\dataengineering\\lib\\site-packages\\simfin\\paths.py\u001b[0m in \u001b[0;36m_path_dataset\u001b[1;34m(**kwargs)\u001b[0m\n\u001b[0;32m     66\u001b[0m     \"\"\"\n\u001b[0;32m     67\u001b[0m     \u001b[0mfilename\u001b[0m \u001b[1;33m=\u001b[0m \u001b[0m_filename_dataset\u001b[0m\u001b[1;33m(\u001b[0m\u001b[0mextension\u001b[0m\u001b[1;33m=\u001b[0m\u001b[1;34m'csv'\u001b[0m\u001b[1;33m,\u001b[0m \u001b[1;33m**\u001b[0m\u001b[0mkwargs\u001b[0m\u001b[1;33m)\u001b[0m\u001b[1;33m\u001b[0m\u001b[1;33m\u001b[0m\u001b[0m\n\u001b[1;32m---> 68\u001b[1;33m     \u001b[0mpath\u001b[0m \u001b[1;33m=\u001b[0m \u001b[0mos\u001b[0m\u001b[1;33m.\u001b[0m\u001b[0mpath\u001b[0m\u001b[1;33m.\u001b[0m\u001b[0mjoin\u001b[0m\u001b[1;33m(\u001b[0m\u001b[0mget_data_dir\u001b[0m\u001b[1;33m(\u001b[0m\u001b[1;33m)\u001b[0m\u001b[1;33m,\u001b[0m \u001b[0mfilename\u001b[0m\u001b[1;33m)\u001b[0m\u001b[1;33m\u001b[0m\u001b[1;33m\u001b[0m\u001b[0m\n\u001b[0m\u001b[0;32m     69\u001b[0m     \u001b[1;32mreturn\u001b[0m \u001b[0mpath\u001b[0m\u001b[1;33m\u001b[0m\u001b[1;33m\u001b[0m\u001b[0m\n\u001b[0;32m     70\u001b[0m \u001b[1;33m\u001b[0m\u001b[0m\n",
      "\u001b[1;32m~\\Anaconda3\\envs\\dataengineering\\lib\\site-packages\\simfin\\config.py\u001b[0m in \u001b[0;36mget_data_dir\u001b[1;34m()\u001b[0m\n\u001b[0;32m    139\u001b[0m     \"\"\"\n\u001b[0;32m    140\u001b[0m     \u001b[1;31m# Ensure the data-directory has been set by the user.\u001b[0m\u001b[1;33m\u001b[0m\u001b[1;33m\u001b[0m\u001b[1;33m\u001b[0m\u001b[0m\n\u001b[1;32m--> 141\u001b[1;33m     \u001b[0m_check_data_dir\u001b[0m\u001b[1;33m(\u001b[0m\u001b[1;33m)\u001b[0m\u001b[1;33m\u001b[0m\u001b[1;33m\u001b[0m\u001b[0m\n\u001b[0m\u001b[0;32m    142\u001b[0m     \u001b[1;32mreturn\u001b[0m \u001b[0m_data_dir\u001b[0m\u001b[1;33m\u001b[0m\u001b[1;33m\u001b[0m\u001b[0m\n\u001b[0;32m    143\u001b[0m \u001b[1;33m\u001b[0m\u001b[0m\n",
      "\u001b[1;32m~\\Anaconda3\\envs\\dataengineering\\lib\\site-packages\\simfin\\config.py\u001b[0m in \u001b[0;36m_check_data_dir\u001b[1;34m()\u001b[0m\n\u001b[0;32m     91\u001b[0m         \u001b[0mmsg\u001b[0m \u001b[1;33m=\u001b[0m \u001b[1;34m'The simfin data directory has not been set by the user. '\u001b[0m\u001b[0;31m \u001b[0m\u001b[0;31m\\\u001b[0m\u001b[1;33m\u001b[0m\u001b[1;33m\u001b[0m\u001b[0m\n\u001b[0;32m     92\u001b[0m               \u001b[1;34m'Please call the function sf.set_data_dir() first.'\u001b[0m\u001b[1;33m\u001b[0m\u001b[1;33m\u001b[0m\u001b[0m\n\u001b[1;32m---> 93\u001b[1;33m         \u001b[1;32mraise\u001b[0m \u001b[0mException\u001b[0m\u001b[1;33m(\u001b[0m\u001b[0mmsg\u001b[0m\u001b[1;33m)\u001b[0m\u001b[1;33m\u001b[0m\u001b[1;33m\u001b[0m\u001b[0m\n\u001b[0m\u001b[0;32m     94\u001b[0m \u001b[1;33m\u001b[0m\u001b[0m\n\u001b[0;32m     95\u001b[0m \u001b[1;33m\u001b[0m\u001b[0m\n",
      "\u001b[1;31mException\u001b[0m: The simfin data directory has not been set by the user. Please call the function sf.set_data_dir() first."
     ]
    }
   ],
   "source": [
    "market='us'\n",
    "variant='annual'\n",
    "# download cashflow data from the SimFin server and load into a Pandas DataFrame.\n",
    "cashflow_df = sf.load_cashflow(variant=variant, market=market)\n",
    "cashflow_df = cashflow_df.reset_index()\n",
    "# Download the data from the SimFin server and load into a Pandas DataFrame.\n",
    "income_sm_df = sf.load_income(variant=variant, market=market)\n",
    "income_sm_df = income_sm_df.reset_index()\n",
    "# Download the data from the SimFin server and load into a Pandas DataFrame.\n",
    "balance_st_df = sf.load_balance(variant=variant, market=market)\n",
    "balance_st_df = balance_st_df.reset_index()\n",
    "# create Pandas Profiling Report for each DataFrame\n",
    "for df, df_name in zip([cashflow_df, income_sm_df, balance_st_df],\n",
    "                        ['cashflow_df', 'income_sm_df', 'balance_st_df']):\n",
    "    create_pandas_profiling_report(df, df_name)"
   ]
  },
  {
   "cell_type": "code",
   "execution_count": 18,
   "metadata": {},
   "outputs": [
    {
     "output_type": "stream",
     "name": "stdout",
     "text": [
      "Dataset \"us-cashflow-annual\" on disk (19 days old).\n",
      "- Loading from disk ... Done!\n",
      "Dataset \"us-income-annual\" on disk (19 days old).\n",
      "- Loading from disk ... Done!\n",
      "Dataset \"us-balance-annual\" on disk (17 days old).\n",
      "- Loading from disk ... Done!\n",
      "Combined all fundamental data from financial statements to one Dataframe.\n",
      "Calculated roic and added it to Dataframe\n",
      "Calculated eps and added it to Dataframe\n",
      "Calculated bvps and added it to Dataframe\n",
      "Calculated fcf and added it to Dataframe\n",
      "top5 KPIs added to fundamental data\n"
     ]
    },
    {
     "output_type": "execute_result",
     "data": {
      "text/plain": [
       "   Ticker Report Date_is  SimFinId Currency  Fiscal Year Fiscal Period_is  \\\n",
       "17   GOOG     2017-12-31        18      USD         2017               FY   \n",
       "18   GOOG     2018-12-31        18      USD         2018               FY   \n",
       "19   GOOG     2019-12-31        18      USD         2019               FY   \n",
       "\n",
       "   Publish Date_is Restated Date_is  Shares (Basic)_is  Shares (Diluted)_is  \\\n",
       "17      2018-02-06       2018-02-06        692901000.0          750730000.0   \n",
       "18      2019-02-06       2019-02-06        695140000.0          750149000.0   \n",
       "19      2020-02-04       2020-02-04        692596000.0          745083000.0   \n",
       "\n",
       "    ...  Share Capital & Additional Paid-In Capital  Treasury Stock  \\\n",
       "17  ...                                4.024700e+10             NaN   \n",
       "18  ...                                4.504900e+10             NaN   \n",
       "19  ...                                5.055200e+10             NaN   \n",
       "\n",
       "    Retained Earnings  Total Equity  Total Liabilities & Equity  \\\n",
       "17       1.132470e+11  1.525020e+11                197295000000   \n",
       "18       1.348850e+11  1.776280e+11                232792000000   \n",
       "19       1.521220e+11  2.014420e+11                275909000000   \n",
       "\n",
       "    Dividends Paid_clean      roic        eps        bvps           fcf  \n",
       "17                   0.0  0.064178  18.273895  220.092048  6.991100e+10  \n",
       "18                   0.0  0.132032  44.215554  255.528383  7.647500e+10  \n",
       "19                   0.0  0.124472  49.585906  290.850655  8.401100e+10  \n",
       "\n",
       "[3 rows x 83 columns]"
      ],
      "text/html": "<div>\n<style scoped>\n    .dataframe tbody tr th:only-of-type {\n        vertical-align: middle;\n    }\n\n    .dataframe tbody tr th {\n        vertical-align: top;\n    }\n\n    .dataframe thead th {\n        text-align: right;\n    }\n</style>\n<table border=\"1\" class=\"dataframe\">\n  <thead>\n    <tr style=\"text-align: right;\">\n      <th></th>\n      <th>Ticker</th>\n      <th>Report Date_is</th>\n      <th>SimFinId</th>\n      <th>Currency</th>\n      <th>Fiscal Year</th>\n      <th>Fiscal Period_is</th>\n      <th>Publish Date_is</th>\n      <th>Restated Date_is</th>\n      <th>Shares (Basic)_is</th>\n      <th>Shares (Diluted)_is</th>\n      <th>...</th>\n      <th>Share Capital &amp; Additional Paid-In Capital</th>\n      <th>Treasury Stock</th>\n      <th>Retained Earnings</th>\n      <th>Total Equity</th>\n      <th>Total Liabilities &amp; Equity</th>\n      <th>Dividends Paid_clean</th>\n      <th>roic</th>\n      <th>eps</th>\n      <th>bvps</th>\n      <th>fcf</th>\n    </tr>\n  </thead>\n  <tbody>\n    <tr>\n      <th>17</th>\n      <td>GOOG</td>\n      <td>2017-12-31</td>\n      <td>18</td>\n      <td>USD</td>\n      <td>2017</td>\n      <td>FY</td>\n      <td>2018-02-06</td>\n      <td>2018-02-06</td>\n      <td>692901000.0</td>\n      <td>750730000.0</td>\n      <td>...</td>\n      <td>4.024700e+10</td>\n      <td>NaN</td>\n      <td>1.132470e+11</td>\n      <td>1.525020e+11</td>\n      <td>197295000000</td>\n      <td>0.0</td>\n      <td>0.064178</td>\n      <td>18.273895</td>\n      <td>220.092048</td>\n      <td>6.991100e+10</td>\n    </tr>\n    <tr>\n      <th>18</th>\n      <td>GOOG</td>\n      <td>2018-12-31</td>\n      <td>18</td>\n      <td>USD</td>\n      <td>2018</td>\n      <td>FY</td>\n      <td>2019-02-06</td>\n      <td>2019-02-06</td>\n      <td>695140000.0</td>\n      <td>750149000.0</td>\n      <td>...</td>\n      <td>4.504900e+10</td>\n      <td>NaN</td>\n      <td>1.348850e+11</td>\n      <td>1.776280e+11</td>\n      <td>232792000000</td>\n      <td>0.0</td>\n      <td>0.132032</td>\n      <td>44.215554</td>\n      <td>255.528383</td>\n      <td>7.647500e+10</td>\n    </tr>\n    <tr>\n      <th>19</th>\n      <td>GOOG</td>\n      <td>2019-12-31</td>\n      <td>18</td>\n      <td>USD</td>\n      <td>2019</td>\n      <td>FY</td>\n      <td>2020-02-04</td>\n      <td>2020-02-04</td>\n      <td>692596000.0</td>\n      <td>745083000.0</td>\n      <td>...</td>\n      <td>5.055200e+10</td>\n      <td>NaN</td>\n      <td>1.521220e+11</td>\n      <td>2.014420e+11</td>\n      <td>275909000000</td>\n      <td>0.0</td>\n      <td>0.124472</td>\n      <td>49.585906</td>\n      <td>290.850655</td>\n      <td>8.401100e+10</td>\n    </tr>\n  </tbody>\n</table>\n<p>3 rows × 83 columns</p>\n</div>"
     },
     "metadata": {},
     "execution_count": 18
    }
   ],
   "source": [
    "# combine fundamentals and calculate top5 kpis\n",
    "fundamental_df = combine_fundamentals(symbol_list, period_dict)\n",
    "fundamental_df = calculate_top5_kpi(fundamental_df)\n",
    "fundamental_df.tail(3)"
   ]
  },
  {
   "source": [
    "#### 1.3 Pricing information ####\n",
    "The purpose of this data is to evaluate the so-called sticker prices and margin of safety based on current stock prices. It can also be used for backtesting criteria on historic data.\n",
    "- Sticker price calculation\n",
    "    - future period fp, by default 10 years\n",
    "    - Sticker price = future market price / (1 + exp_rr)^fp\n",
    "    - expected annual return rate exp_rr, by default 15%\n",
    "    - future market price = future P/E * estimated future EPS\n",
    "        - future P/E = min(pe_default, pe_5yr_avg)\n",
    "            - default price per earnings pe_default: 2* rule #1 growth rate (see below)\n",
    "            - 5 year average of annual price per earnings pe_5yr_avg\n",
    "                - annual price per earnings pe = price/ eps\n",
    "                    - annual price = mean of daily low prices in month December\n",
    "        - estimated future EPS f_eps = current EPS * (1+ rule1_gr)^fp\n",
    "            - rule #1 growth rate rule1_gr = min(bvps_gr_5yr, eps_gr_5yr)\n",
    "\n",
    "- Margin of safety: half the the sticker price."
   ],
   "cell_type": "markdown",
   "metadata": {}
  },
  {
   "cell_type": "code",
   "execution_count": 14,
   "metadata": {},
   "outputs": [
    {
     "output_type": "stream",
     "name": "stdout",
     "text": [
      "Total number of valid symbols downloaded = 2\n"
     ]
    }
   ],
   "source": [
    "# Download historic stock prices for symbols\n",
    "download_ticker_prices(symbol_list)"
   ]
  },
  {
   "cell_type": "code",
   "execution_count": 19,
   "metadata": {},
   "outputs": [
    {
     "output_type": "stream",
     "name": "stdout",
     "text": [
      "root\n |-- Date: date (nullable = true)\n |-- Ticker: string (nullable = true)\n |-- Open: double (nullable = true)\n |-- High: double (nullable = true)\n |-- Low: double (nullable = true)\n |-- Close: double (nullable = true)\n |-- Adj Close: double (nullable = true)\n |-- Volume: double (nullable = true)\n\n"
     ]
    },
    {
     "output_type": "execute_result",
     "data": {
      "text/plain": [
       "            Date Ticker         Open         High          Low        Close  \\\n",
       "5029  2021-04-28   GOOG  2407.145020  2452.377930  2374.850098  2379.909912   \n",
       "5030  2021-04-29   GOOG  2410.330078  2436.520020  2402.280029  2429.889893   \n",
       "5031  2021-04-30   GOOG  2404.489990  2427.139893  2402.159912  2410.120117   \n",
       "5032  2021-05-03   GOOG  2402.719971  2419.699951  2384.500000  2395.169922   \n",
       "5033  2021-05-04   GOOG  2369.739990  2379.260010  2311.699951  2326.334961   \n",
       "\n",
       "        Adj Close     Volume  \n",
       "5029  2379.909912  2986400.0  \n",
       "5030  2429.889893  1977700.0  \n",
       "5031  2410.120117  1956700.0  \n",
       "5032  2395.169922  1688900.0  \n",
       "5033  2326.334961  1072839.0  "
      ],
      "text/html": "<div>\n<style scoped>\n    .dataframe tbody tr th:only-of-type {\n        vertical-align: middle;\n    }\n\n    .dataframe tbody tr th {\n        vertical-align: top;\n    }\n\n    .dataframe thead th {\n        text-align: right;\n    }\n</style>\n<table border=\"1\" class=\"dataframe\">\n  <thead>\n    <tr style=\"text-align: right;\">\n      <th></th>\n      <th>Date</th>\n      <th>Ticker</th>\n      <th>Open</th>\n      <th>High</th>\n      <th>Low</th>\n      <th>Close</th>\n      <th>Adj Close</th>\n      <th>Volume</th>\n    </tr>\n  </thead>\n  <tbody>\n    <tr>\n      <th>5029</th>\n      <td>2021-04-28</td>\n      <td>GOOG</td>\n      <td>2407.145020</td>\n      <td>2452.377930</td>\n      <td>2374.850098</td>\n      <td>2379.909912</td>\n      <td>2379.909912</td>\n      <td>2986400.0</td>\n    </tr>\n    <tr>\n      <th>5030</th>\n      <td>2021-04-29</td>\n      <td>GOOG</td>\n      <td>2410.330078</td>\n      <td>2436.520020</td>\n      <td>2402.280029</td>\n      <td>2429.889893</td>\n      <td>2429.889893</td>\n      <td>1977700.0</td>\n    </tr>\n    <tr>\n      <th>5031</th>\n      <td>2021-04-30</td>\n      <td>GOOG</td>\n      <td>2404.489990</td>\n      <td>2427.139893</td>\n      <td>2402.159912</td>\n      <td>2410.120117</td>\n      <td>2410.120117</td>\n      <td>1956700.0</td>\n    </tr>\n    <tr>\n      <th>5032</th>\n      <td>2021-05-03</td>\n      <td>GOOG</td>\n      <td>2402.719971</td>\n      <td>2419.699951</td>\n      <td>2384.500000</td>\n      <td>2395.169922</td>\n      <td>2395.169922</td>\n      <td>1688900.0</td>\n    </tr>\n    <tr>\n      <th>5033</th>\n      <td>2021-05-04</td>\n      <td>GOOG</td>\n      <td>2369.739990</td>\n      <td>2379.260010</td>\n      <td>2311.699951</td>\n      <td>2326.334961</td>\n      <td>2326.334961</td>\n      <td>1072839.0</td>\n    </tr>\n  </tbody>\n</table>\n</div>"
     },
     "metadata": {},
     "execution_count": 19
    }
   ],
   "source": [
    "# load ticker prices for symbols\n",
    "price_df = load_ticker_prices(spark, symbol_list)\n",
    "price_df.toPandas().tail()"
   ]
  },
  {
   "cell_type": "code",
   "execution_count": 20,
   "metadata": {},
   "outputs": [
    {
     "output_type": "execute_result",
     "data": {
      "text/plain": [
       "    year Ticker  mean_low_price\n",
       "15  2018   GOOG     1023.568163\n",
       "16  2019   AAPL       68.467024\n",
       "17  2019   GOOG     1334.039190"
      ],
      "text/html": "<div>\n<style scoped>\n    .dataframe tbody tr th:only-of-type {\n        vertical-align: middle;\n    }\n\n    .dataframe tbody tr th {\n        vertical-align: top;\n    }\n\n    .dataframe thead th {\n        text-align: right;\n    }\n</style>\n<table border=\"1\" class=\"dataframe\">\n  <thead>\n    <tr style=\"text-align: right;\">\n      <th></th>\n      <th>year</th>\n      <th>Ticker</th>\n      <th>mean_low_price</th>\n    </tr>\n  </thead>\n  <tbody>\n    <tr>\n      <th>15</th>\n      <td>2018</td>\n      <td>GOOG</td>\n      <td>1023.568163</td>\n    </tr>\n    <tr>\n      <th>16</th>\n      <td>2019</td>\n      <td>AAPL</td>\n      <td>68.467024</td>\n    </tr>\n    <tr>\n      <th>17</th>\n      <td>2019</td>\n      <td>GOOG</td>\n      <td>1334.039190</td>\n    </tr>\n  </tbody>\n</table>\n</div>"
     },
     "metadata": {},
     "execution_count": 20
    }
   ],
   "source": [
    "# calculate annual price from historic price data\n",
    "ann_price_df = calculate_annual_price(spark, price_df, period_dict)\n",
    "ann_price_df.tail(3)"
   ]
  },
  {
   "cell_type": "code",
   "execution_count": 21,
   "metadata": {},
   "outputs": [
    {
     "output_type": "execute_result",
     "data": {
      "text/plain": [
       "   Ticker Report Date_is  SimFinId Currency  Fiscal Year Fiscal Period_is  \\\n",
       "17   GOOG     2017-12-31        18      USD         2017               FY   \n",
       "18   GOOG     2018-12-31        18      USD         2018               FY   \n",
       "19   GOOG     2019-12-31        18      USD         2019               FY   \n",
       "\n",
       "   Publish Date_is Restated Date_is  Shares (Basic)_is  Shares (Diluted)_is  \\\n",
       "17      2018-02-06       2018-02-06        692901000.0          750730000.0   \n",
       "18      2019-02-06       2019-02-06        695140000.0          750149000.0   \n",
       "19      2020-02-04       2020-02-04        692596000.0          745083000.0   \n",
       "\n",
       "    ...  Retained Earnings  Total Equity  Total Liabilities & Equity  \\\n",
       "17  ...       1.132470e+11  1.525020e+11                197295000000   \n",
       "18  ...       1.348850e+11  1.776280e+11                232792000000   \n",
       "19  ...       1.521220e+11  2.014420e+11                275909000000   \n",
       "\n",
       "    Dividends Paid_clean      roic        eps        bvps           fcf  \\\n",
       "17                   0.0  0.064178  18.273895  220.092048  6.991100e+10   \n",
       "18                   0.0  0.132032  44.215554  255.528383  7.647500e+10   \n",
       "19                   0.0  0.124472  49.585906  290.850655  8.401100e+10   \n",
       "\n",
       "    mean_low_price         pe  \n",
       "17     1036.527850  56.721780  \n",
       "18     1023.568163  23.149505  \n",
       "19     1334.039190  26.903596  \n",
       "\n",
       "[3 rows x 85 columns]"
      ],
      "text/html": "<div>\n<style scoped>\n    .dataframe tbody tr th:only-of-type {\n        vertical-align: middle;\n    }\n\n    .dataframe tbody tr th {\n        vertical-align: top;\n    }\n\n    .dataframe thead th {\n        text-align: right;\n    }\n</style>\n<table border=\"1\" class=\"dataframe\">\n  <thead>\n    <tr style=\"text-align: right;\">\n      <th></th>\n      <th>Ticker</th>\n      <th>Report Date_is</th>\n      <th>SimFinId</th>\n      <th>Currency</th>\n      <th>Fiscal Year</th>\n      <th>Fiscal Period_is</th>\n      <th>Publish Date_is</th>\n      <th>Restated Date_is</th>\n      <th>Shares (Basic)_is</th>\n      <th>Shares (Diluted)_is</th>\n      <th>...</th>\n      <th>Retained Earnings</th>\n      <th>Total Equity</th>\n      <th>Total Liabilities &amp; Equity</th>\n      <th>Dividends Paid_clean</th>\n      <th>roic</th>\n      <th>eps</th>\n      <th>bvps</th>\n      <th>fcf</th>\n      <th>mean_low_price</th>\n      <th>pe</th>\n    </tr>\n  </thead>\n  <tbody>\n    <tr>\n      <th>17</th>\n      <td>GOOG</td>\n      <td>2017-12-31</td>\n      <td>18</td>\n      <td>USD</td>\n      <td>2017</td>\n      <td>FY</td>\n      <td>2018-02-06</td>\n      <td>2018-02-06</td>\n      <td>692901000.0</td>\n      <td>750730000.0</td>\n      <td>...</td>\n      <td>1.132470e+11</td>\n      <td>1.525020e+11</td>\n      <td>197295000000</td>\n      <td>0.0</td>\n      <td>0.064178</td>\n      <td>18.273895</td>\n      <td>220.092048</td>\n      <td>6.991100e+10</td>\n      <td>1036.527850</td>\n      <td>56.721780</td>\n    </tr>\n    <tr>\n      <th>18</th>\n      <td>GOOG</td>\n      <td>2018-12-31</td>\n      <td>18</td>\n      <td>USD</td>\n      <td>2018</td>\n      <td>FY</td>\n      <td>2019-02-06</td>\n      <td>2019-02-06</td>\n      <td>695140000.0</td>\n      <td>750149000.0</td>\n      <td>...</td>\n      <td>1.348850e+11</td>\n      <td>1.776280e+11</td>\n      <td>232792000000</td>\n      <td>0.0</td>\n      <td>0.132032</td>\n      <td>44.215554</td>\n      <td>255.528383</td>\n      <td>7.647500e+10</td>\n      <td>1023.568163</td>\n      <td>23.149505</td>\n    </tr>\n    <tr>\n      <th>19</th>\n      <td>GOOG</td>\n      <td>2019-12-31</td>\n      <td>18</td>\n      <td>USD</td>\n      <td>2019</td>\n      <td>FY</td>\n      <td>2020-02-04</td>\n      <td>2020-02-04</td>\n      <td>692596000.0</td>\n      <td>745083000.0</td>\n      <td>...</td>\n      <td>1.521220e+11</td>\n      <td>2.014420e+11</td>\n      <td>275909000000</td>\n      <td>0.0</td>\n      <td>0.124472</td>\n      <td>49.585906</td>\n      <td>290.850655</td>\n      <td>8.401100e+10</td>\n      <td>1334.039190</td>\n      <td>26.903596</td>\n    </tr>\n  </tbody>\n</table>\n<p>3 rows × 85 columns</p>\n</div>"
     },
     "metadata": {},
     "execution_count": 21
    }
   ],
   "source": [
    "# calculate annual price per earnings\n",
    "fundamental_df = calculate_annual_pe(ann_price_df, fundamental_df)\n",
    "fundamental_df.tail(3)"
   ]
  },
  {
   "cell_type": "code",
   "execution_count": 22,
   "metadata": {},
   "outputs": [
    {
     "output_type": "stream",
     "name": "stdout",
     "text": [
      "Calculated KPI growth from year to year.\nCalculated 5 and 10 year growth rate\n"
     ]
    },
    {
     "output_type": "execute_result",
     "data": {
      "text/plain": [
       "  Ticker  revenue_gr_curr   eps_curr  roic_gr_5yr  revenue_gr_5yr  eps_gr_5yr  \\\n",
       "0   AAPL        -0.020411   2.991446         0.02            0.08        0.15   \n",
       "1   GOOG         0.183001  49.585906         0.12            0.20        0.30   \n",
       "\n",
       "   bvps_gr_5yr  fcf_gr_5yr  pe_5yr  yrs_in_5yr  ...  pe_default_5yr  \\\n",
       "0         0.02       -0.12   16.07           5  ...             4.0   \n",
       "1         0.14        0.14   33.10           5  ...            28.0   \n",
       "\n",
       "   roic_gr_10yr  revenue_gr_10yr  eps_gr_10yr  bvps_gr_10yr  fcf_gr_10yr  \\\n",
       "0         -0.02             0.19         0.24          0.14         0.10   \n",
       "1          0.04             0.21         0.16          0.10         0.18   \n",
       "\n",
       "   pe_10yr  yrs_in_10yr  rule1_gr_10yr  pe_default_10yr  \n",
       "0    15.23           10           0.14             28.0  \n",
       "1    27.76           10           0.10             20.0  \n",
       "\n",
       "[2 rows x 21 columns]"
      ],
      "text/html": "<div>\n<style scoped>\n    .dataframe tbody tr th:only-of-type {\n        vertical-align: middle;\n    }\n\n    .dataframe tbody tr th {\n        vertical-align: top;\n    }\n\n    .dataframe thead th {\n        text-align: right;\n    }\n</style>\n<table border=\"1\" class=\"dataframe\">\n  <thead>\n    <tr style=\"text-align: right;\">\n      <th></th>\n      <th>Ticker</th>\n      <th>revenue_gr_curr</th>\n      <th>eps_curr</th>\n      <th>roic_gr_5yr</th>\n      <th>revenue_gr_5yr</th>\n      <th>eps_gr_5yr</th>\n      <th>bvps_gr_5yr</th>\n      <th>fcf_gr_5yr</th>\n      <th>pe_5yr</th>\n      <th>yrs_in_5yr</th>\n      <th>...</th>\n      <th>pe_default_5yr</th>\n      <th>roic_gr_10yr</th>\n      <th>revenue_gr_10yr</th>\n      <th>eps_gr_10yr</th>\n      <th>bvps_gr_10yr</th>\n      <th>fcf_gr_10yr</th>\n      <th>pe_10yr</th>\n      <th>yrs_in_10yr</th>\n      <th>rule1_gr_10yr</th>\n      <th>pe_default_10yr</th>\n    </tr>\n  </thead>\n  <tbody>\n    <tr>\n      <th>0</th>\n      <td>AAPL</td>\n      <td>-0.020411</td>\n      <td>2.991446</td>\n      <td>0.02</td>\n      <td>0.08</td>\n      <td>0.15</td>\n      <td>0.02</td>\n      <td>-0.12</td>\n      <td>16.07</td>\n      <td>5</td>\n      <td>...</td>\n      <td>4.0</td>\n      <td>-0.02</td>\n      <td>0.19</td>\n      <td>0.24</td>\n      <td>0.14</td>\n      <td>0.10</td>\n      <td>15.23</td>\n      <td>10</td>\n      <td>0.14</td>\n      <td>28.0</td>\n    </tr>\n    <tr>\n      <th>1</th>\n      <td>GOOG</td>\n      <td>0.183001</td>\n      <td>49.585906</td>\n      <td>0.12</td>\n      <td>0.20</td>\n      <td>0.30</td>\n      <td>0.14</td>\n      <td>0.14</td>\n      <td>33.10</td>\n      <td>5</td>\n      <td>...</td>\n      <td>28.0</td>\n      <td>0.04</td>\n      <td>0.21</td>\n      <td>0.16</td>\n      <td>0.10</td>\n      <td>0.18</td>\n      <td>27.76</td>\n      <td>10</td>\n      <td>0.10</td>\n      <td>20.0</td>\n    </tr>\n  </tbody>\n</table>\n<p>2 rows × 21 columns</p>\n</div>"
     },
     "metadata": {},
     "execution_count": 22
    }
   ],
   "source": [
    "# calculate growth kpi df\n",
    "growth_df = calculate_growth_rates(fundamental_df, agg_func='mean')\n",
    "growth_df.tail(3)"
   ]
  },
  {
   "cell_type": "code",
   "execution_count": 24,
   "metadata": {},
   "outputs": [
    {
     "output_type": "execute_result",
     "data": {
      "text/plain": [
       "  Ticker  revenue_gr_curr   eps_curr  roic_gr_5yr  revenue_gr_5yr  eps_gr_5yr  \\\n",
       "0   AAPL        -0.020411   2.991446         0.02            0.08        0.15   \n",
       "1   GOOG         0.183001  49.585906         0.12            0.20        0.30   \n",
       "\n",
       "   bvps_gr_5yr  fcf_gr_5yr  pe_5yr  yrs_in_5yr  ...  fcf_gr_10yr  pe_10yr  \\\n",
       "0         0.02       -0.12   16.07           5  ...         0.10    15.23   \n",
       "1         0.14        0.14   33.10           5  ...         0.18    27.76   \n",
       "\n",
       "   yrs_in_10yr  rule1_gr_10yr  pe_default_10yr  pe_future  eps_future  \\\n",
       "0           10           0.14             28.0        4.0    3.646556   \n",
       "1           10           0.10             20.0       28.0  183.825927   \n",
       "\n",
       "   price_future  sticker_price         mos  \n",
       "0     14.586223       3.605491    1.802746  \n",
       "1   5147.125950    1272.290815  636.145408  \n",
       "\n",
       "[2 rows x 26 columns]"
      ],
      "text/html": "<div>\n<style scoped>\n    .dataframe tbody tr th:only-of-type {\n        vertical-align: middle;\n    }\n\n    .dataframe tbody tr th {\n        vertical-align: top;\n    }\n\n    .dataframe thead th {\n        text-align: right;\n    }\n</style>\n<table border=\"1\" class=\"dataframe\">\n  <thead>\n    <tr style=\"text-align: right;\">\n      <th></th>\n      <th>Ticker</th>\n      <th>revenue_gr_curr</th>\n      <th>eps_curr</th>\n      <th>roic_gr_5yr</th>\n      <th>revenue_gr_5yr</th>\n      <th>eps_gr_5yr</th>\n      <th>bvps_gr_5yr</th>\n      <th>fcf_gr_5yr</th>\n      <th>pe_5yr</th>\n      <th>yrs_in_5yr</th>\n      <th>...</th>\n      <th>fcf_gr_10yr</th>\n      <th>pe_10yr</th>\n      <th>yrs_in_10yr</th>\n      <th>rule1_gr_10yr</th>\n      <th>pe_default_10yr</th>\n      <th>pe_future</th>\n      <th>eps_future</th>\n      <th>price_future</th>\n      <th>sticker_price</th>\n      <th>mos</th>\n    </tr>\n  </thead>\n  <tbody>\n    <tr>\n      <th>0</th>\n      <td>AAPL</td>\n      <td>-0.020411</td>\n      <td>2.991446</td>\n      <td>0.02</td>\n      <td>0.08</td>\n      <td>0.15</td>\n      <td>0.02</td>\n      <td>-0.12</td>\n      <td>16.07</td>\n      <td>5</td>\n      <td>...</td>\n      <td>0.10</td>\n      <td>15.23</td>\n      <td>10</td>\n      <td>0.14</td>\n      <td>28.0</td>\n      <td>4.0</td>\n      <td>3.646556</td>\n      <td>14.586223</td>\n      <td>3.605491</td>\n      <td>1.802746</td>\n    </tr>\n    <tr>\n      <th>1</th>\n      <td>GOOG</td>\n      <td>0.183001</td>\n      <td>49.585906</td>\n      <td>0.12</td>\n      <td>0.20</td>\n      <td>0.30</td>\n      <td>0.14</td>\n      <td>0.14</td>\n      <td>33.10</td>\n      <td>5</td>\n      <td>...</td>\n      <td>0.18</td>\n      <td>27.76</td>\n      <td>10</td>\n      <td>0.10</td>\n      <td>20.0</td>\n      <td>28.0</td>\n      <td>183.825927</td>\n      <td>5147.125950</td>\n      <td>1272.290815</td>\n      <td>636.145408</td>\n    </tr>\n  </tbody>\n</table>\n<p>2 rows × 26 columns</p>\n</div>"
     },
     "metadata": {},
     "execution_count": 24
    }
   ],
   "source": [
    "growth_df = calculate_sticker_price(growth_df, fp=10, exp_rr=0.15)\n",
    "growth_df.tail(3)"
   ]
  },
  {
   "cell_type": "code",
   "execution_count": 29,
   "metadata": {},
   "outputs": [
    {
     "output_type": "stream",
     "name": "stdout",
     "text": [
      "root\n |-- Date: date (nullable = true)\n |-- Ticker: string (nullable = true)\n |-- Open: double (nullable = true)\n |-- High: double (nullable = true)\n |-- Low: double (nullable = true)\n |-- Close: double (nullable = true)\n |-- Adj Close: double (nullable = true)\n |-- Volume: double (nullable = true)\n\n"
     ]
    }
   ],
   "source": [
    "price_df.printSchema()"
   ]
  },
  {
   "cell_type": "code",
   "execution_count": 25,
   "metadata": {},
   "outputs": [],
   "source": [
    "# filter for verification of mean calculation\n",
    "# price_df.filter(\n",
    "#                     (price_df['Date']>=F.to_date(F.lit('2020-12-01'))) &\\\n",
    "#                     (price_df['Date']<=F.to_date(F.lit('2020-12-31'))) &\\\n",
    "#                     (price_df['Ticker']=='AAPL')\n",
    "#                 ).toPandas()['Low'].mean()"
   ]
  },
  {
   "cell_type": "code",
   "execution_count": 26,
   "metadata": {
    "editable": true
   },
   "outputs": [],
   "source": [
    "# Performing cleaning tasks here\n",
    "\n",
    "\n",
    "\n"
   ]
  },
  {
   "cell_type": "markdown",
   "metadata": {
    "editable": true
   },
   "source": [
    "## Step 3: Define the Data Model\n",
    "#### 3.1 Conceptual Data Model\n",
    "Map out the conceptual data model and explain why you chose that model\n",
    "- Dimensional tables\n",
    "    - company information, including peers\n",
    "- Fact tables:\n",
    "    - fundamental indicators\n",
    "    - price history\n",
    "    - growth KPIs\n",
    "    - screener results\n",
    "\n",
    "#### 3.2 Mapping Out Data Pipelines\n",
    "List the steps necessary to pipeline the data into the chosen data model\n",
    "- Data extraction pipeline: extract data from sources via APIs and store results in staging tables.\n",
    "    - NASDAAQ: stock symbol list\n",
    "    - IEX Cloud source:\n",
    "        - Company information data\n",
    "        - Peer group data\n",
    "    - Simfin source: fundamental data\n",
    "        - Annual cashflow data\n",
    "        - Annual income statement data\n",
    "        - Annual balance sheet data\n",
    "    - Yfinance source: historical stock price data\n",
    "- Data processing pipeline: process data from staging tables to dimension and fact tables.\n",
    "    - create company information dimension table with symbol list.\n",
    "    - create price facts table\n",
    "    - create fundamental facts table\n",
    "    - create growth KPI facts table\n",
    "    - create screener results KPI table"
   ]
  },
  {
   "cell_type": "markdown",
   "metadata": {
    "editable": true
   },
   "source": [
    "### Step 4: Run Pipelines to Model the Data \n",
    "#### 4.1 Create the data model\n",
    "Build the data pipelines to create the data model."
   ]
  },
  {
   "cell_type": "code",
   "execution_count": 6,
   "metadata": {},
   "outputs": [
    {
     "output_type": "stream",
     "name": "stdout",
     "text": [
      "Symbol data extracted...\n",
      "total number of symbols traded = 8060\n",
      "Company data loaded from disk...\n",
      "Ticker price data extracted...\n",
      "Total number of valid symbols downloaded = 4511\n",
      "Wall time: 1h 22min 57s\n"
     ]
    }
   ],
   "source": [
    "%%time\n",
    "# download data from sources to staging folders\n",
    "pipeline_staging()"
   ]
  },
  {
   "cell_type": "code",
   "execution_count": 6,
   "metadata": {
    "editable": true
   },
   "outputs": [
    {
     "output_type": "stream",
     "name": "stdout",
     "text": [
      "Number of stocks symbols in list: 6368\n",
      "Company data loaded from disk...\n",
      "Dataset \"us-cashflow-annual\" on disk (22 days old).\n",
      "- Loading from disk ... Done!\n",
      "Dataset \"us-income-annual\" on disk (22 days old).\n",
      "- Loading from disk ... Done!\n",
      "Dataset \"us-balance-annual\" on disk (20 days old).\n",
      "- Loading from disk ... Done!\n",
      "Combined all fundamental data from financial statements to one Dataframe.\n",
      "Calculated roic and added it to Dataframe\n",
      "Calculated eps and added it to Dataframe\n",
      "Calculated bvps and added it to Dataframe\n",
      "Calculated fcf and added it to Dataframe\n",
      "top5 KPIs added to fundamental data\n",
      "root\n",
      " |-- Date: date (nullable = true)\n",
      " |-- Ticker: string (nullable = true)\n",
      " |-- Open: double (nullable = true)\n",
      " |-- High: double (nullable = true)\n",
      " |-- Low: double (nullable = true)\n",
      " |-- Close: double (nullable = true)\n",
      " |-- Adj Close: double (nullable = true)\n",
      " |-- Volume: double (nullable = true)\n",
      "\n",
      "Calculated KPI growth from year to year.\n",
      "Calculated 5 and 10 year growth rate\n",
      "Wall time: 11min 13s\n"
     ]
    }
   ],
   "source": [
    "%%time\n",
    "period_dict = {'start_date':2010,\n",
    "                'end_date':2019}\n",
    "\n",
    "company_info_df, fundamental_df, growth_df, screener_df = pipeline_processing(spark, period_dict)"
   ]
  },
  {
   "cell_type": "code",
   "execution_count": 8,
   "metadata": {},
   "outputs": [
    {
     "output_type": "execute_result",
     "data": {
      "text/plain": [
       "  Ticker   last_date  last_low_price  price_future  sticker_price  \\\n",
       "0   ALXN  2021-05-05      168.789993  1.107169e+04   2.736751e+03   \n",
       "1   CARS  2021-05-05       12.950000  1.809293e+09   4.472296e+08   \n",
       "2   ABMD  2021-05-05      299.779999  2.648559e+03   6.546833e+02   \n",
       "3   OPRX  2021-05-05       47.619999  6.767950e+03   1.672934e+03   \n",
       "4   SABR  2021-05-05       12.410000  1.193005e+04   2.948925e+03   \n",
       "\n",
       "            mos  \n",
       "0  1.368376e+03  \n",
       "1  2.236148e+08  \n",
       "2  3.273416e+02  \n",
       "3  8.364668e+02  \n",
       "4  1.474463e+03  "
      ],
      "text/html": "<div>\n<style scoped>\n    .dataframe tbody tr th:only-of-type {\n        vertical-align: middle;\n    }\n\n    .dataframe tbody tr th {\n        vertical-align: top;\n    }\n\n    .dataframe thead th {\n        text-align: right;\n    }\n</style>\n<table border=\"1\" class=\"dataframe\">\n  <thead>\n    <tr style=\"text-align: right;\">\n      <th></th>\n      <th>Ticker</th>\n      <th>last_date</th>\n      <th>last_low_price</th>\n      <th>price_future</th>\n      <th>sticker_price</th>\n      <th>mos</th>\n    </tr>\n  </thead>\n  <tbody>\n    <tr>\n      <th>0</th>\n      <td>ALXN</td>\n      <td>2021-05-05</td>\n      <td>168.789993</td>\n      <td>1.107169e+04</td>\n      <td>2.736751e+03</td>\n      <td>1.368376e+03</td>\n    </tr>\n    <tr>\n      <th>1</th>\n      <td>CARS</td>\n      <td>2021-05-05</td>\n      <td>12.950000</td>\n      <td>1.809293e+09</td>\n      <td>4.472296e+08</td>\n      <td>2.236148e+08</td>\n    </tr>\n    <tr>\n      <th>2</th>\n      <td>ABMD</td>\n      <td>2021-05-05</td>\n      <td>299.779999</td>\n      <td>2.648559e+03</td>\n      <td>6.546833e+02</td>\n      <td>3.273416e+02</td>\n    </tr>\n    <tr>\n      <th>3</th>\n      <td>OPRX</td>\n      <td>2021-05-05</td>\n      <td>47.619999</td>\n      <td>6.767950e+03</td>\n      <td>1.672934e+03</td>\n      <td>8.364668e+02</td>\n    </tr>\n    <tr>\n      <th>4</th>\n      <td>SABR</td>\n      <td>2021-05-05</td>\n      <td>12.410000</td>\n      <td>1.193005e+04</td>\n      <td>2.948925e+03</td>\n      <td>1.474463e+03</td>\n    </tr>\n  </tbody>\n</table>\n</div>"
     },
     "metadata": {},
     "execution_count": 8
    }
   ],
   "source": [
    "screener_df.head()"
   ]
  },
  {
   "cell_type": "code",
   "execution_count": 17,
   "metadata": {},
   "outputs": [
    {
     "output_type": "execute_result",
     "data": {
      "text/plain": [
       "Ticker                          CARS\n",
       "revenue_gr_curr            -0.083738\n",
       "eps_curr                   -6.647123\n",
       "roic_gr_5yr                -5.420000\n",
       "revenue_gr_5yr             -0.010000\n",
       "eps_gr_5yr                 -4.530000\n",
       "bvps_gr_5yr                      inf\n",
       "fcf_gr_5yr                 -0.140000\n",
       "pe_5yr                     15.900000\n",
       "yrs_in_5yr                  4.000000\n",
       "rule1_gr_5yr               -4.530000\n",
       "pe_default_5yr           -906.000000\n",
       "roic_gr_10yr               -5.420000\n",
       "revenue_gr_10yr            -0.010000\n",
       "eps_gr_10yr                -4.530000\n",
       "bvps_gr_10yr                     inf\n",
       "fcf_gr_10yr                -0.140000\n",
       "pe_10yr                    15.900000\n",
       "yrs_in_10yr                        4\n",
       "rule1_gr_10yr              -4.530000\n",
       "pe_default_10yr          -906.000000\n",
       "pe_future                -906.000000\n",
       "eps_future           -1997012.410272\n",
       "price_future       1809293243.706757\n",
       "sticker_price       447229618.733932\n",
       "mos                 223614809.366966\n",
       "Name: 298, dtype: object"
      ]
     },
     "metadata": {},
     "execution_count": 17
    }
   ],
   "source": [
    "growth_df[growth_df['Ticker']=='CARS'].iloc[0]"
   ]
  },
  {
   "cell_type": "code",
   "execution_count": 14,
   "metadata": {},
   "outputs": [
    {
     "output_type": "execute_result",
     "data": {
      "text/plain": [
       "    ticker   company name short name industry  \\\n",
       "898   CARS  Cars.com Inc.   Cars.com    Autos   \n",
       "\n",
       "                                           description               website  \\\n",
       "898  Cars.com Inc is an online destination for buyi...  https://www.cars.com   \n",
       "\n",
       "         logo                 ceo                 exchange    market cap  \\\n",
       "898  CARS.png  Thomas Alex Vetter  New York Stock Exchange  1.875338e+09   \n",
       "\n",
       "                sector              tag 1                     tag 2  tag 3  \\\n",
       "898  Consumer Cyclical  Consumer Cyclical  Auto & Truck Dealerships  Autos   \n",
       "\n",
       "               peer_string                   peer_list  \n",
       "898  PBYA,PAXH,PERI,PHA-CA  [PBYA, PAXH, PERI, PHA-CA]  "
      ],
      "text/html": "<div>\n<style scoped>\n    .dataframe tbody tr th:only-of-type {\n        vertical-align: middle;\n    }\n\n    .dataframe tbody tr th {\n        vertical-align: top;\n    }\n\n    .dataframe thead th {\n        text-align: right;\n    }\n</style>\n<table border=\"1\" class=\"dataframe\">\n  <thead>\n    <tr style=\"text-align: right;\">\n      <th></th>\n      <th>ticker</th>\n      <th>company name</th>\n      <th>short name</th>\n      <th>industry</th>\n      <th>description</th>\n      <th>website</th>\n      <th>logo</th>\n      <th>ceo</th>\n      <th>exchange</th>\n      <th>market cap</th>\n      <th>sector</th>\n      <th>tag 1</th>\n      <th>tag 2</th>\n      <th>tag 3</th>\n      <th>peer_string</th>\n      <th>peer_list</th>\n    </tr>\n  </thead>\n  <tbody>\n    <tr>\n      <th>898</th>\n      <td>CARS</td>\n      <td>Cars.com Inc.</td>\n      <td>Cars.com</td>\n      <td>Autos</td>\n      <td>Cars.com Inc is an online destination for buyi...</td>\n      <td>https://www.cars.com</td>\n      <td>CARS.png</td>\n      <td>Thomas Alex Vetter</td>\n      <td>New York Stock Exchange</td>\n      <td>1.875338e+09</td>\n      <td>Consumer Cyclical</td>\n      <td>Consumer Cyclical</td>\n      <td>Auto &amp; Truck Dealerships</td>\n      <td>Autos</td>\n      <td>PBYA,PAXH,PERI,PHA-CA</td>\n      <td>[PBYA, PAXH, PERI, PHA-CA]</td>\n    </tr>\n  </tbody>\n</table>\n</div>"
     },
     "metadata": {},
     "execution_count": 14
    }
   ],
   "source": [
    "company_info_df[company_info_df['tbicker']=='CARS']"
   ]
  },
  {
   "cell_type": "code",
   "execution_count": 7,
   "metadata": {},
   "outputs": [
    {
     "output_type": "stream",
     "name": "stdout",
     "text": [
      "Number of stocks symbols in list: 6368\n",
      "Company data loaded from disk...\n",
      "Dataset \"us-cashflow-annual\" on disk (23 days old).\n",
      "- Loading from disk ... Done!\n",
      "Dataset \"us-income-annual\" on disk (23 days old).\n",
      "- Loading from disk ... Done!\n",
      "Dataset \"us-balance-annual\" on disk (20 days old).\n",
      "- Loading from disk ... Done!\n",
      "Combined all fundamental data from financial statements to one Dataframe.\n",
      "Calculated roic and added it to Dataframe\n",
      "Calculated eps and added it to Dataframe\n",
      "Calculated bvps and added it to Dataframe\n",
      "Calculated fcf and added it to Dataframe\n",
      "top5 KPIs added to fundamental data\n",
      "Calculated KPI growth from year to year.\n",
      "Calculated 5 and 10 year growth rate\n"
     ]
    },
    {
     "output_type": "execute_result",
     "data": {
      "text/plain": [
       "Ticker                  CARS\n",
       "revenue_gr_curr    -0.083738\n",
       "eps_curr           -6.647123\n",
       "roic_gr_5yr        -5.420000\n",
       "revenue_gr_5yr     -0.010000\n",
       "eps_gr_5yr         -4.530000\n",
       "bvps_gr_5yr              NaN\n",
       "fcf_gr_5yr         -0.140000\n",
       "pe_5yr             15.900000\n",
       "yrs_in_5yr          4.000000\n",
       "rule1_gr_5yr             NaN\n",
       "pe_default_5yr           NaN\n",
       "roic_gr_10yr       -5.420000\n",
       "revenue_gr_10yr    -0.010000\n",
       "eps_gr_10yr        -4.530000\n",
       "bvps_gr_10yr             NaN\n",
       "fcf_gr_10yr        -0.140000\n",
       "pe_10yr            15.900000\n",
       "yrs_in_10yr                4\n",
       "rule1_gr_10yr            NaN\n",
       "pe_default_10yr          NaN\n",
       "pe_future          15.900000\n",
       "eps_future               NaN\n",
       "price_future             NaN\n",
       "sticker_price            NaN\n",
       "mos                      NaN\n",
       "Name: 298, dtype: object"
      ]
     },
     "metadata": {},
     "execution_count": 7
    }
   ],
   "source": [
    "# DEBUGGING BELOW +++++++++++++++++++++++++++++++++++++++++++++++++++++\n",
    "\n",
    "# def calculate_growth_summary(df, gr_kpi_list, agg_func='mean'):\n",
    "#     \"\"\"[summary]\n",
    "\n",
    "#     Args:\n",
    "#         df ([type]): [description]\n",
    "#         gr_kpi_list ([type]): [description]\n",
    "#         agg_func (str, optional): [description]. Defaults to 'mean'.\n",
    "\n",
    "#     Returns:\n",
    "#         [type]: [description]\n",
    "#     \"\"\"    \n",
    "#     # calculate 10 year and 5 year average\n",
    "#     # get current year\n",
    "#     curr_year = df['Fiscal Year'].max()\n",
    "#     df_list = []\n",
    "#     for period in [5, 10]:\n",
    "#         start_year = curr_year - period\n",
    "#         df_filtered = df[df['Fiscal Year']>start_year]\n",
    "#         kpi_sum_list = [kpi + '_' + str(period) + 'yr' for kpi in gr_kpi_list]\n",
    "#         rename_dict = dict(zip(gr_kpi_list, kpi_sum_list))\n",
    "#         rename_dict['Fiscal Year'] = 'yrs_in_' + str(period) + 'yr'\n",
    "#         agg_dict = {gr_kpi:agg_func for gr_kpi in gr_kpi_list}\n",
    "#         agg_dict['Fiscal Year'] ='count'\n",
    "#         df_filtered = df_filtered.groupby(['Ticker'])\\\n",
    "#                                         .agg(agg_dict)\\\n",
    "#                                         .reset_index()\\\n",
    "#                                         .round(2)\n",
    "#         df_filtered = df_filtered.rename(columns=rename_dict)\n",
    "#         # calculate rule1 growth rate\n",
    "#         kpi_list = ['bvps_gr_', 'eps_gr_']\n",
    "#         kpi_list = [(kpi + str(period) + 'yr') for kpi in kpi_list]\n",
    "#         df_filtered[('rule1_gr_' + str(period)+ 'yr')] = df_filtered[kpi_list].min(axis=1)\n",
    "#         df_filtered[('rule1_gr_' + str(period)+ 'yr')] = df_filtered[('rule1_gr_' + str(period)+ 'yr')].apply(lambda value: value if value > 0 else np.nan)\n",
    "#         df_filtered['pe_default_'+ str(period)+ 'yr'] = 2*100*df_filtered[('rule1_gr_' + str(period)+ 'yr')]\n",
    "#         df_list.append(df_filtered)\n",
    "#     df_sum = pd.merge(df_list[0], df_list[1], how='outer', on='Ticker')\n",
    "#     print('Calculated 5 and 10 year growth rate')\n",
    "#     return df_sum\n",
    "\n",
    "# def get_current_yr_kpi(df):\n",
    "#     col_list = ['Ticker', 'revenue_gr', 'eps']\n",
    "#     curr_yr = df['Fiscal Year'].max()\n",
    "#     rename_dict = {col:(col + '_curr') for col in ['revenue_gr', 'eps']}\n",
    "#     df_curr_yr = df[df['Fiscal Year']==curr_yr][col_list].reset_index(drop=True)\n",
    "#     df_curr_yr = df_curr_yr.rename(columns=rename_dict)\n",
    "#     return df_curr_yr\n",
    "\n",
    "# def calculate_growth_rates(df, agg_func='mean'):\n",
    "#     \"\"\"[summary]\n",
    "\n",
    "#     Args:\n",
    "#         df ([type]): [description]\n",
    "#         agg_func (str, optional): [description]. Defaults to 'mean'.\n",
    "\n",
    "#     Returns:\n",
    "#         [type]: [description]\n",
    "#     \"\"\"    \n",
    "#     group_col_list = ['Ticker',\n",
    "#                     'Fiscal Year']\n",
    "#     kpi_col_list = ['roic',\n",
    "#                     'revenue',\n",
    "#                     'eps',\n",
    "#                     'bvps',\n",
    "#                     'fcf'\n",
    "#                     ]\n",
    "#     df = df.rename(columns={'Revenue':'revenue'})\n",
    "#     column_list = group_col_list + kpi_col_list \n",
    "#     # add price per earnings to list, but do not calculate change\n",
    "#     pe_df = df[group_col_list + ['pe']]\n",
    "#     df = df[column_list]\n",
    "#     # sort values to ensure that growth rate is calculated correctly\n",
    "#     df = df.sort_values(by=group_col_list, ascending = True)\n",
    "#     gr_kpi_list = [kpi + '_gr' for kpi in kpi_col_list]\n",
    "#     # create new columns for kpi growth rate\n",
    "#     df[gr_kpi_list] = df.groupby(['Ticker'])[kpi_col_list].pct_change()\n",
    "#     df = df.merge(pe_df, on = group_col_list, how= 'left', validate='1:1')\n",
    "#     gr_kpi_list.append('pe')\n",
    "#     print('Calculated KPI growth from year to year.')\n",
    "#     # extract current year kpi data\n",
    "#     df_curr_yr = get_current_yr_kpi(df)\n",
    "#     # calculate growth summary\n",
    "#     df_growth = calculate_growth_summary(df, gr_kpi_list, agg_func=agg_func)\n",
    "#     df = df_curr_yr.merge(df_growth, how='outer', on='Ticker',  validate='1:1')\n",
    "#     # data cleansing: remove inf values from numerical columns\n",
    "#     number_cols = df.select_dtypes(include='number').columns\n",
    "#     df[number_cols] = df[number_cols].replace([np.inf, -np.inf], np.nan) \n",
    "#     return df\n",
    "\n",
    "# def find_stocks_below_mos(spark, price_df, growth_df):\n",
    "#     \"\"\"[summary]\n",
    "\n",
    "#     Args:\n",
    "#         spark ([type]): [description]\n",
    "#         price_df ([type]): [description]\n",
    "#         growth_df ([type]): [description]\n",
    "\n",
    "#     Returns:\n",
    "#         [type]: [description]\n",
    "#     \"\"\"    \n",
    "#     # price_df : group by Ticker and filter price_df for max date, keep low price\n",
    "#     curr_price_df = price_df.select('Date', 'Ticker')\\\n",
    "#                             .groupBy('Ticker')\\\n",
    "#                             .agg(F.max('Date').alias('Date'))\n",
    "#     curr_price_df = curr_price_df.join(price_df.select('Date', 'Ticker', 'Low'), \n",
    "#                                         ['Date', 'Ticker'], \n",
    "#                                         'left_outer')\n",
    "#     curr_price_df = curr_price_df.withColumnRenamed('Date', 'last_date')\\\n",
    "#                                .withColumnRenamed('Low', 'last_low_price') \n",
    "#     # create Spark df from Pandas df growth_df\n",
    "#     growth_df_spark = spark.createDataFrame(\\\n",
    "#                             growth_df[['Ticker', 'price_future', 'sticker_price', 'mos']])\n",
    "#     # filter on condition price < mos\n",
    "#     curr_price_df = curr_price_df.join(growth_df_spark,\n",
    "#                                         'Ticker',\n",
    "#                                         'left_outer')\n",
    "#     curr_price_df = curr_price_df.filter(curr_price_df['last_low_price'] <= curr_price_df['mos'])\n",
    "#     # drop rows with missing values\n",
    "#     curr_price_df = curr_price_df.na.drop()\n",
    "#     # convert to Pandas df\n",
    "#     screener_df = curr_price_df.toPandas()\n",
    "#     # return Pandas df\n",
    "#     return screener_df\n",
    "\n",
    "# def pipeline_processing(spark, period_dict, fp=10, exp_rr=0.15, symbol_list=['_all']):\n",
    "#     # create company info_df\n",
    "#     company_info_df = load_company_info_from_disk(symbol_list=symbol_list)\n",
    "#     symbol_list = company_info_df['ticker'].unique().tolist()\n",
    "#     peer_df = get_peer_data_from_disk(symbol_list)\n",
    "#     company_info_df = company_info_df.merge(peer_df, \n",
    "#                                         on = 'ticker',\n",
    "#                                         how='left',\n",
    "#                                         validate='1:1')\n",
    "#     # combine fundamentals and calculate top5 kpis\n",
    "#     fundamental_df = combine_fundamentals(symbol_list, period_dict)\n",
    "#     fundamental_df = calculate_top5_kpi(fundamental_df)\n",
    "#     # load ticker prices for symbols\n",
    "#     price_df = load_ticker_prices(spark, symbol_list)\n",
    "#     # calculate annual price from historic price data\n",
    "#     ann_price_df = calculate_annual_price(spark, price_df, period_dict)\n",
    "#     # calculate annual price per earnings\n",
    "#     fundamental_df = calculate_annual_pe(ann_price_df, fundamental_df)\n",
    "#     # calculate growth kpi df\n",
    "#     growth_df = calculate_growth_rates(fundamental_df, agg_func='mean')\n",
    "#     growth_df = calculate_sticker_price(growth_df, fp=fp, exp_rr=exp_rr)\n",
    "#     screener_df = find_stocks_below_mos(spark, price_df, growth_df)\n",
    "#     return company_info_df, fundamental_df, growth_df, screener_df\n",
    "\n",
    "\n",
    "\n",
    "period_dict = {'start_date':2010,\n",
    "                'end_date':2019}\n",
    "\n",
    "company_info_df, fundamental_df, growth_df, screener_df = pipeline_processing(spark, period_dict)\n",
    "growth_df[growth_df['Ticker']=='CARS'].iloc[0]"
   ]
  },
  {
   "cell_type": "code",
   "execution_count": 9,
   "metadata": {},
   "outputs": [
    {
     "output_type": "execute_result",
     "data": {
      "text/plain": [
       "  Ticker   last_date  last_low_price  price_future  sticker_price          mos\n",
       "0   ALXN  2021-05-05      168.789993  11071.685791    2736.751398  1368.375699\n",
       "1   ABMD  2021-05-05      299.779999   2648.558973     654.683271   327.341636\n",
       "2   SABR  2021-05-05       12.410000  11930.046852    2948.925125  1474.462563\n",
       "3    FND  2021-05-05      111.550003   2714.119248     670.888769   335.444384\n",
       "4     EA  2021-05-05      137.630005   1500.221008     370.831689   185.415845"
      ],
      "text/html": "<div>\n<style scoped>\n    .dataframe tbody tr th:only-of-type {\n        vertical-align: middle;\n    }\n\n    .dataframe tbody tr th {\n        vertical-align: top;\n    }\n\n    .dataframe thead th {\n        text-align: right;\n    }\n</style>\n<table border=\"1\" class=\"dataframe\">\n  <thead>\n    <tr style=\"text-align: right;\">\n      <th></th>\n      <th>Ticker</th>\n      <th>last_date</th>\n      <th>last_low_price</th>\n      <th>price_future</th>\n      <th>sticker_price</th>\n      <th>mos</th>\n    </tr>\n  </thead>\n  <tbody>\n    <tr>\n      <th>0</th>\n      <td>ALXN</td>\n      <td>2021-05-05</td>\n      <td>168.789993</td>\n      <td>11071.685791</td>\n      <td>2736.751398</td>\n      <td>1368.375699</td>\n    </tr>\n    <tr>\n      <th>1</th>\n      <td>ABMD</td>\n      <td>2021-05-05</td>\n      <td>299.779999</td>\n      <td>2648.558973</td>\n      <td>654.683271</td>\n      <td>327.341636</td>\n    </tr>\n    <tr>\n      <th>2</th>\n      <td>SABR</td>\n      <td>2021-05-05</td>\n      <td>12.410000</td>\n      <td>11930.046852</td>\n      <td>2948.925125</td>\n      <td>1474.462563</td>\n    </tr>\n    <tr>\n      <th>3</th>\n      <td>FND</td>\n      <td>2021-05-05</td>\n      <td>111.550003</td>\n      <td>2714.119248</td>\n      <td>670.888769</td>\n      <td>335.444384</td>\n    </tr>\n    <tr>\n      <th>4</th>\n      <td>EA</td>\n      <td>2021-05-05</td>\n      <td>137.630005</td>\n      <td>1500.221008</td>\n      <td>370.831689</td>\n      <td>185.415845</td>\n    </tr>\n  </tbody>\n</table>\n</div>"
     },
     "metadata": {},
     "execution_count": 9
    }
   ],
   "source": [
    "screener_df.head()"
   ]
  },
  {
   "cell_type": "code",
   "execution_count": 12,
   "metadata": {},
   "outputs": [
    {
     "output_type": "execute_result",
     "data": {
      "text/plain": [
       "  Ticker   last_date  last_low_price  price_future  sticker_price  \\\n",
       "0   ALXN  2021-05-05      168.789993  11071.685791    2736.751398   \n",
       "1   ABMD  2021-05-05      299.779999   2648.558973     654.683271   \n",
       "\n",
       "           mos                  company name               short name  \\\n",
       "0  1368.375699  Alexion Pharmaceuticals Inc.  Alexion Pharmaceuticals   \n",
       "1   327.341636                  ABIOMED Inc.                  ABIOMED   \n",
       "\n",
       "          industry                                        description  ...  \\\n",
       "0    Biotechnology  Alexion Pharmaceuticals Inc is a biopharmaceut...  ...   \n",
       "1  Medical Devices  Abiomed Inc is a medical device company. It pr...  ...   \n",
       "\n",
       "       logo                 ceo              exchange    market cap  \\\n",
       "0  ALXN.png   Ludwig N. Hantson  Nasdaq Global Select  2.760821e+10   \n",
       "1  ABMD.png  Michael R. Minogue  Nasdaq Global Select  1.488763e+10   \n",
       "\n",
       "       sector       tag 1            tag 2 tag 3  \\\n",
       "0  Healthcare  Healthcare    Biotechnology   NaN   \n",
       "1  Healthcare  Healthcare  Medical Devices   NaN   \n",
       "\n",
       "                                         peer_string  \\\n",
       "0  GILD,REGN,VRTX,BIIB,QGEN,AGIO,RARE,SRPT,BIO.B,JNJ   \n",
       "1                                  TFX,BSX,STXS,ATRC   \n",
       "\n",
       "                                           peer_list  \n",
       "0  [GILD, REGN, VRTX, BIIB, QGEN, AGIO, RARE, SRP...  \n",
       "1                             [TFX, BSX, STXS, ATRC]  \n",
       "\n",
       "[2 rows x 21 columns]"
      ],
      "text/html": "<div>\n<style scoped>\n    .dataframe tbody tr th:only-of-type {\n        vertical-align: middle;\n    }\n\n    .dataframe tbody tr th {\n        vertical-align: top;\n    }\n\n    .dataframe thead th {\n        text-align: right;\n    }\n</style>\n<table border=\"1\" class=\"dataframe\">\n  <thead>\n    <tr style=\"text-align: right;\">\n      <th></th>\n      <th>Ticker</th>\n      <th>last_date</th>\n      <th>last_low_price</th>\n      <th>price_future</th>\n      <th>sticker_price</th>\n      <th>mos</th>\n      <th>company name</th>\n      <th>short name</th>\n      <th>industry</th>\n      <th>description</th>\n      <th>...</th>\n      <th>logo</th>\n      <th>ceo</th>\n      <th>exchange</th>\n      <th>market cap</th>\n      <th>sector</th>\n      <th>tag 1</th>\n      <th>tag 2</th>\n      <th>tag 3</th>\n      <th>peer_string</th>\n      <th>peer_list</th>\n    </tr>\n  </thead>\n  <tbody>\n    <tr>\n      <th>0</th>\n      <td>ALXN</td>\n      <td>2021-05-05</td>\n      <td>168.789993</td>\n      <td>11071.685791</td>\n      <td>2736.751398</td>\n      <td>1368.375699</td>\n      <td>Alexion Pharmaceuticals Inc.</td>\n      <td>Alexion Pharmaceuticals</td>\n      <td>Biotechnology</td>\n      <td>Alexion Pharmaceuticals Inc is a biopharmaceut...</td>\n      <td>...</td>\n      <td>ALXN.png</td>\n      <td>Ludwig N. Hantson</td>\n      <td>Nasdaq Global Select</td>\n      <td>2.760821e+10</td>\n      <td>Healthcare</td>\n      <td>Healthcare</td>\n      <td>Biotechnology</td>\n      <td>NaN</td>\n      <td>GILD,REGN,VRTX,BIIB,QGEN,AGIO,RARE,SRPT,BIO.B,JNJ</td>\n      <td>[GILD, REGN, VRTX, BIIB, QGEN, AGIO, RARE, SRP...</td>\n    </tr>\n    <tr>\n      <th>1</th>\n      <td>ABMD</td>\n      <td>2021-05-05</td>\n      <td>299.779999</td>\n      <td>2648.558973</td>\n      <td>654.683271</td>\n      <td>327.341636</td>\n      <td>ABIOMED Inc.</td>\n      <td>ABIOMED</td>\n      <td>Medical Devices</td>\n      <td>Abiomed Inc is a medical device company. It pr...</td>\n      <td>...</td>\n      <td>ABMD.png</td>\n      <td>Michael R. Minogue</td>\n      <td>Nasdaq Global Select</td>\n      <td>1.488763e+10</td>\n      <td>Healthcare</td>\n      <td>Healthcare</td>\n      <td>Medical Devices</td>\n      <td>NaN</td>\n      <td>TFX,BSX,STXS,ATRC</td>\n      <td>[TFX, BSX, STXS, ATRC]</td>\n    </tr>\n  </tbody>\n</table>\n<p>2 rows × 21 columns</p>\n</div>"
     },
     "metadata": {},
     "execution_count": 12
    }
   ],
   "source": [
    "eval_df = screener_df.merge(company_info_df.rename(columns={'ticker':'Ticker'}),\n",
    "                        how='left',\n",
    "                        on='Ticker',\n",
    "                        validate='1:1')\n",
    "eval_df.head(2)"
   ]
  },
  {
   "cell_type": "code",
   "execution_count": 25,
   "metadata": {},
   "outputs": [],
   "source": [
    "eval_df.to_excel('../data/4_data_analysis/' + str(pd.to_datetime('today'))[:10] + '_eval_df.xlsx', index=False)"
   ]
  },
  {
   "cell_type": "code",
   "execution_count": 27,
   "metadata": {},
   "outputs": [
    {
     "output_type": "execute_result",
     "data": {
      "text/plain": [
       "count    8.900000e+01\n",
       "mean     1.932307e+23\n",
       "std      1.822935e+24\n",
       "min      4.376009e+00\n",
       "25%      9.204744e+01\n",
       "50%      3.273416e+02\n",
       "75%      1.474463e+03\n",
       "80%      2.305800e+03\n",
       "90%      8.875529e+03\n",
       "95%      7.727330e+06\n",
       "max      1.719753e+25\n",
       "Name: mos, dtype: float64"
      ]
     },
     "metadata": {},
     "execution_count": 27
    }
   ],
   "source": [
    "eval_df['mos'].describe(percentiles=[.25, .5, .75, .8, .9, .95])"
   ]
  },
  {
   "cell_type": "code",
   "execution_count": 28,
   "metadata": {},
   "outputs": [
    {
     "output_type": "execute_result",
     "data": {
      "text/plain": [
       "Ticker                    FIVN\n",
       "revenue_gr_curr       0.272999\n",
       "eps_curr             -0.075400\n",
       "roic_gr_5yr           2.740000\n",
       "revenue_gr_5yr        0.260000\n",
       "eps_gr_5yr            3.300000\n",
       "bvps_gr_5yr           0.450000\n",
       "fcf_gr_5yr            5.060000\n",
       "pe_5yr            -2357.840000\n",
       "yrs_in_5yr            5.000000\n",
       "rule1_gr_5yr          0.450000\n",
       "pe_default_5yr       90.000000\n",
       "roic_gr_10yr          2.220000\n",
       "revenue_gr_10yr       0.250000\n",
       "eps_gr_10yr           2.610000\n",
       "bvps_gr_10yr         -0.040000\n",
       "fcf_gr_10yr           4.080000\n",
       "pe_10yr           -1965.590000\n",
       "yrs_in_10yr                  7\n",
       "rule1_gr_10yr              NaN\n",
       "pe_default_10yr            NaN\n",
       "pe_future         -2357.840000\n",
       "eps_future           -3.097804\n",
       "price_future       7304.125676\n",
       "sticker_price      1805.468159\n",
       "mos                 902.734079\n",
       "Name: 641, dtype: object"
      ]
     },
     "metadata": {},
     "execution_count": 28
    }
   ],
   "source": [
    "growth_df[growth_df['Ticker']=='FIVN'].iloc[0]"
   ]
  },
  {
   "cell_type": "markdown",
   "metadata": {
    "editable": true
   },
   "source": [
    "#### 4.2 Data Quality Checks\n",
    "Explain the data quality checks you'll perform to ensure the pipeline ran as expected. These could include:\n",
    " * Integrity constraints on the relational database (e.g., unique key, data type, etc.)\n",
    " * Unit tests for the scripts to ensure they are doing the right thing\n",
    " * Source/Count checks to ensure completeness\n",
    " \n",
    "Run Quality Checks"
   ]
  },
  {
   "cell_type": "code",
   "execution_count": 28,
   "metadata": {
    "editable": true
   },
   "outputs": [],
   "source": [
    "# Perform quality checks here"
   ]
  },
  {
   "cell_type": "markdown",
   "metadata": {
    "editable": true
   },
   "source": [
    "#### 4.3 Data dictionary \n",
    "Create a data dictionary for your data model. For each field, provide a brief description of what the data is and where it came from. You can include the data dictionary in the notebook or in a separate file."
   ]
  },
  {
   "cell_type": "markdown",
   "metadata": {
    "editable": true
   },
   "source": [
    "#### Step 5: Complete Project Write Up\n",
    "* Clearly state the rationale for the choice of tools and technologies for the project.\n",
    "* Propose how often the data should be updated and why.\n",
    "* Write a description of how you would approach the problem differently under the following scenarios:\n",
    " * The data was increased by 100x.\n",
    " * The data populates a dashboard that must be updated on a daily basis by 7am every day.\n",
    " * The database needed to be accessed by 100+ people."
   ]
  },
  {
   "cell_type": "code",
   "execution_count": null,
   "metadata": {
    "editable": true
   },
   "outputs": [],
   "source": []
  },
  {
   "cell_type": "code",
   "execution_count": null,
   "metadata": {
    "editable": true
   },
   "outputs": [],
   "source": []
  },
  {
   "cell_type": "code",
   "execution_count": null,
   "metadata": {
    "editable": true
   },
   "outputs": [],
   "source": []
  },
  {
   "cell_type": "code",
   "execution_count": null,
   "metadata": {
    "editable": true
   },
   "outputs": [],
   "source": []
  },
  {
   "cell_type": "code",
   "execution_count": null,
   "metadata": {
    "editable": true
   },
   "outputs": [],
   "source": []
  },
  {
   "cell_type": "code",
   "execution_count": null,
   "metadata": {
    "editable": true
   },
   "outputs": [],
   "source": []
  }
 ],
 "metadata": {
  "kernelspec": {
   "name": "python385jvsc74a57bd0e8c5907d6f6b93abd568ea4798fcc42687f0080df672fabf898fced0e116d856",
   "display_name": "Python 3.8.5 64-bit ('dataengineering': conda)"
  },
  "language_info": {
   "codemirror_mode": {
    "name": "ipython",
    "version": 3
   },
   "file_extension": ".py",
   "mimetype": "text/x-python",
   "name": "python",
   "nbconvert_exporter": "python",
   "pygments_lexer": "ipython3",
   "version": "3.8.5"
  }
 },
 "nbformat": 4,
 "nbformat_minor": 4
}
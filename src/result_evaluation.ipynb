{
 "metadata": {
  "language_info": {
   "codemirror_mode": {
    "name": "ipython",
    "version": 3
   },
   "file_extension": ".py",
   "mimetype": "text/x-python",
   "name": "python",
   "nbconvert_exporter": "python",
   "pygments_lexer": "ipython3",
   "version": "3.8.5"
  },
  "orig_nbformat": 2,
  "kernelspec": {
   "name": "python385jvsc74a57bd0e8c5907d6f6b93abd568ea4798fcc42687f0080df672fabf898fced0e116d856",
   "display_name": "Python 3.8.5 64-bit ('dataengineering': conda)"
  }
 },
 "nbformat": 4,
 "nbformat_minor": 2,
 "cells": [
  {
   "source": [
    "# Stock screener result evaluation"
   ],
   "cell_type": "markdown",
   "metadata": {}
  },
  {
   "source": [
    "## Imports"
   ],
   "cell_type": "markdown",
   "metadata": {}
  },
  {
   "cell_type": "code",
   "execution_count": 1,
   "metadata": {},
   "outputs": [],
   "source": [
    "# Do all imports and installs here\n",
    "import pandas as pd\n",
    "import numpy as np\n",
    "from analysis_utils import read_result_tables"
   ]
  },
  {
   "source": [
    "## Extract screener results data"
   ],
   "cell_type": "markdown",
   "metadata": {}
  },
  {
   "cell_type": "code",
   "execution_count": 8,
   "metadata": {},
   "outputs": [],
   "source": [
    "company_info_df, fundamental_df, growth_df, screener_df = read_result_tables()"
   ]
  },
  {
   "source": [
    "## Data Exploration"
   ],
   "cell_type": "markdown",
   "metadata": {}
  },
  {
   "cell_type": "code",
   "execution_count": 8,
   "metadata": {},
   "outputs": [
    {
     "output_type": "execute_result",
     "data": {
      "text/plain": [
       "   Ticker   last_date  last_low_price  price_future  sticker_price  \\\n",
       "1    SABR  2021-05-12       12.210000  1.193005e+04   2.948925e+03   \n",
       "6     HSY  2021-05-13      167.100006  5.406446e+04   1.336391e+04   \n",
       "12     RH  2021-05-12      616.809998  2.422068e+05   5.986982e+04   \n",
       "14   JYNT  2021-05-13       49.790001  1.368686e+04   3.383182e+03   \n",
       "15   CCOI  2021-05-13       74.800003  4.395772e+04   1.086568e+04   \n",
       "17   TNET  2021-05-13       76.820000  1.846708e+04   4.564781e+03   \n",
       "18    UAL  2021-05-13       51.299999  1.724174e+04   4.261894e+03   \n",
       "23     IT  2021-05-13      224.149994  1.035805e+08   2.560351e+07   \n",
       "24   RDNT  2021-05-12       22.680000  2.213361e+03   5.471089e+02   \n",
       "25   FCPT  2021-05-13       25.709999  3.425919e+11   8.468348e+10   \n",
       "\n",
       "             mos  \n",
       "1   1.474463e+03  \n",
       "6   6.681954e+03  \n",
       "12  2.993491e+04  \n",
       "14  1.691591e+03  \n",
       "15  5.432838e+03  \n",
       "17  2.282390e+03  \n",
       "18  2.130947e+03  \n",
       "23  1.280175e+07  \n",
       "24  2.735545e+02  \n",
       "25  4.234174e+10  "
      ],
      "text/html": "<div>\n<style scoped>\n    .dataframe tbody tr th:only-of-type {\n        vertical-align: middle;\n    }\n\n    .dataframe tbody tr th {\n        vertical-align: top;\n    }\n\n    .dataframe thead th {\n        text-align: right;\n    }\n</style>\n<table border=\"1\" class=\"dataframe\">\n  <thead>\n    <tr style=\"text-align: right;\">\n      <th></th>\n      <th>Ticker</th>\n      <th>last_date</th>\n      <th>last_low_price</th>\n      <th>price_future</th>\n      <th>sticker_price</th>\n      <th>mos</th>\n    </tr>\n  </thead>\n  <tbody>\n    <tr>\n      <th>1</th>\n      <td>SABR</td>\n      <td>2021-05-12</td>\n      <td>12.210000</td>\n      <td>1.193005e+04</td>\n      <td>2.948925e+03</td>\n      <td>1.474463e+03</td>\n    </tr>\n    <tr>\n      <th>6</th>\n      <td>HSY</td>\n      <td>2021-05-13</td>\n      <td>167.100006</td>\n      <td>5.406446e+04</td>\n      <td>1.336391e+04</td>\n      <td>6.681954e+03</td>\n    </tr>\n    <tr>\n      <th>12</th>\n      <td>RH</td>\n      <td>2021-05-12</td>\n      <td>616.809998</td>\n      <td>2.422068e+05</td>\n      <td>5.986982e+04</td>\n      <td>2.993491e+04</td>\n    </tr>\n    <tr>\n      <th>14</th>\n      <td>JYNT</td>\n      <td>2021-05-13</td>\n      <td>49.790001</td>\n      <td>1.368686e+04</td>\n      <td>3.383182e+03</td>\n      <td>1.691591e+03</td>\n    </tr>\n    <tr>\n      <th>15</th>\n      <td>CCOI</td>\n      <td>2021-05-13</td>\n      <td>74.800003</td>\n      <td>4.395772e+04</td>\n      <td>1.086568e+04</td>\n      <td>5.432838e+03</td>\n    </tr>\n    <tr>\n      <th>17</th>\n      <td>TNET</td>\n      <td>2021-05-13</td>\n      <td>76.820000</td>\n      <td>1.846708e+04</td>\n      <td>4.564781e+03</td>\n      <td>2.282390e+03</td>\n    </tr>\n    <tr>\n      <th>18</th>\n      <td>UAL</td>\n      <td>2021-05-13</td>\n      <td>51.299999</td>\n      <td>1.724174e+04</td>\n      <td>4.261894e+03</td>\n      <td>2.130947e+03</td>\n    </tr>\n    <tr>\n      <th>23</th>\n      <td>IT</td>\n      <td>2021-05-13</td>\n      <td>224.149994</td>\n      <td>1.035805e+08</td>\n      <td>2.560351e+07</td>\n      <td>1.280175e+07</td>\n    </tr>\n    <tr>\n      <th>24</th>\n      <td>RDNT</td>\n      <td>2021-05-12</td>\n      <td>22.680000</td>\n      <td>2.213361e+03</td>\n      <td>5.471089e+02</td>\n      <td>2.735545e+02</td>\n    </tr>\n    <tr>\n      <th>25</th>\n      <td>FCPT</td>\n      <td>2021-05-13</td>\n      <td>25.709999</td>\n      <td>3.425919e+11</td>\n      <td>8.468348e+10</td>\n      <td>4.234174e+10</td>\n    </tr>\n  </tbody>\n</table>\n</div>"
     },
     "metadata": {},
     "execution_count": 8
    }
   ],
   "source": [
    "# find extreme mos calculation values which are unlikely to achieve\n",
    "extremes_df = screener_df[(screener_df.mos/ screener_df.last_low_price)>10]\n",
    "extremes_df"
   ]
  },
  {
   "cell_type": "code",
   "execution_count": 12,
   "metadata": {},
   "outputs": [
    {
     "output_type": "execute_result",
     "data": {
      "text/plain": [
       "     Ticker  revenue_gr_curr   eps_curr  roic_gr_5yr  revenue_gr_5yr  \\\n",
       "260    CCOI         0.049916   0.823849         0.06            0.08   \n",
       "518    FCPT         0.115557   1.061159         0.82            0.77   \n",
       "666     HSY         0.025052  18.967433         0.92            0.01   \n",
       "723      IT         0.067883   2.597392         8.47            0.16   \n",
       "752    JYNT         0.524128   0.240515         1.61            0.49   \n",
       "1131   RDNT         0.183596   0.297052        95.56            0.10   \n",
       "1146     RH         0.056586  11.548658         9.43            0.07   \n",
       "1173   SABR         0.027937   0.578448         1.01            0.09   \n",
       "1325   TNET         0.100771   3.028571         0.74            0.12   \n",
       "1375    UAL         0.047357  11.626739         0.83            0.02   \n",
       "\n",
       "      eps_gr_5yr  bvps_gr_5yr  fcf_gr_5yr   pe_5yr  yrs_in_5yr  rule1_gr_5yr  \\\n",
       "260         2.18         0.79        0.09   184.04         5.0          0.79   \n",
       "518        35.69         9.50        5.40    19.82         5.0          9.50   \n",
       "666         0.68         0.66        0.14    17.94         5.0          0.66   \n",
       "723         7.09         2.14        2.36   702.82         5.0          2.14   \n",
       "752         2.22         0.91        3.80    88.07         5.0          0.91   \n",
       "1131      118.87         0.53        0.15  1763.52         5.0          0.53   \n",
       "1146       16.96         0.66        0.12   304.07         5.0          0.66   \n",
       "1173        1.04         0.96        0.11    24.65         5.0          0.96   \n",
       "1325        0.74         1.62        1.40    23.97         5.0          0.74   \n",
       "1375        1.08         0.68        0.22     8.28         5.0          0.68   \n",
       "\n",
       "      pe_default_5yr  roic_gr_10yr  revenue_gr_10yr  eps_gr_10yr  \\\n",
       "260            158.0         -0.24             0.08         0.48   \n",
       "518           1900.0          0.82             0.77        35.69   \n",
       "666            132.0          0.56             0.04         0.45   \n",
       "723            428.0          4.74             0.14         4.03   \n",
       "752            182.0          0.06             0.44        -1.48   \n",
       "1131           106.0         52.92             0.09        66.52   \n",
       "1146           132.0          5.75             0.14        10.58   \n",
       "1173           192.0          0.56             0.08         0.61   \n",
       "1325           148.0          0.57             0.16         0.49   \n",
       "1375           136.0          0.44             0.08         0.41   \n",
       "\n",
       "      bvps_gr_10yr  fcf_gr_10yr  pe_10yr  yrs_in_10yr  rule1_gr_10yr  \n",
       "260           0.40         0.06   362.30           10           0.40  \n",
       "518           9.50         5.40    19.82            6           9.50  \n",
       "666           0.44         0.15    20.95           10           0.44  \n",
       "723           1.23         1.41   367.25           10           1.23  \n",
       "752          -1.49         3.42    71.54            7            NaN  \n",
       "1131          0.13         0.05   910.71           10           0.13  \n",
       "1146          0.57         0.53   200.03            9           0.57  \n",
       "1173          0.60         0.16    31.62            7           0.60  \n",
       "1325          1.19         1.11    38.22            7           0.49  \n",
       "1375          0.77        -0.28    10.21           10           0.41  "
      ],
      "text/html": "<div>\n<style scoped>\n    .dataframe tbody tr th:only-of-type {\n        vertical-align: middle;\n    }\n\n    .dataframe tbody tr th {\n        vertical-align: top;\n    }\n\n    .dataframe thead th {\n        text-align: right;\n    }\n</style>\n<table border=\"1\" class=\"dataframe\">\n  <thead>\n    <tr style=\"text-align: right;\">\n      <th></th>\n      <th>Ticker</th>\n      <th>revenue_gr_curr</th>\n      <th>eps_curr</th>\n      <th>roic_gr_5yr</th>\n      <th>revenue_gr_5yr</th>\n      <th>eps_gr_5yr</th>\n      <th>bvps_gr_5yr</th>\n      <th>fcf_gr_5yr</th>\n      <th>pe_5yr</th>\n      <th>yrs_in_5yr</th>\n      <th>rule1_gr_5yr</th>\n      <th>pe_default_5yr</th>\n      <th>roic_gr_10yr</th>\n      <th>revenue_gr_10yr</th>\n      <th>eps_gr_10yr</th>\n      <th>bvps_gr_10yr</th>\n      <th>fcf_gr_10yr</th>\n      <th>pe_10yr</th>\n      <th>yrs_in_10yr</th>\n      <th>rule1_gr_10yr</th>\n    </tr>\n  </thead>\n  <tbody>\n    <tr>\n      <th>260</th>\n      <td>CCOI</td>\n      <td>0.049916</td>\n      <td>0.823849</td>\n      <td>0.06</td>\n      <td>0.08</td>\n      <td>2.18</td>\n      <td>0.79</td>\n      <td>0.09</td>\n      <td>184.04</td>\n      <td>5.0</td>\n      <td>0.79</td>\n      <td>158.0</td>\n      <td>-0.24</td>\n      <td>0.08</td>\n      <td>0.48</td>\n      <td>0.40</td>\n      <td>0.06</td>\n      <td>362.30</td>\n      <td>10</td>\n      <td>0.40</td>\n    </tr>\n    <tr>\n      <th>518</th>\n      <td>FCPT</td>\n      <td>0.115557</td>\n      <td>1.061159</td>\n      <td>0.82</td>\n      <td>0.77</td>\n      <td>35.69</td>\n      <td>9.50</td>\n      <td>5.40</td>\n      <td>19.82</td>\n      <td>5.0</td>\n      <td>9.50</td>\n      <td>1900.0</td>\n      <td>0.82</td>\n      <td>0.77</td>\n      <td>35.69</td>\n      <td>9.50</td>\n      <td>5.40</td>\n      <td>19.82</td>\n      <td>6</td>\n      <td>9.50</td>\n    </tr>\n    <tr>\n      <th>666</th>\n      <td>HSY</td>\n      <td>0.025052</td>\n      <td>18.967433</td>\n      <td>0.92</td>\n      <td>0.01</td>\n      <td>0.68</td>\n      <td>0.66</td>\n      <td>0.14</td>\n      <td>17.94</td>\n      <td>5.0</td>\n      <td>0.66</td>\n      <td>132.0</td>\n      <td>0.56</td>\n      <td>0.04</td>\n      <td>0.45</td>\n      <td>0.44</td>\n      <td>0.15</td>\n      <td>20.95</td>\n      <td>10</td>\n      <td>0.44</td>\n    </tr>\n    <tr>\n      <th>723</th>\n      <td>IT</td>\n      <td>0.067883</td>\n      <td>2.597392</td>\n      <td>8.47</td>\n      <td>0.16</td>\n      <td>7.09</td>\n      <td>2.14</td>\n      <td>2.36</td>\n      <td>702.82</td>\n      <td>5.0</td>\n      <td>2.14</td>\n      <td>428.0</td>\n      <td>4.74</td>\n      <td>0.14</td>\n      <td>4.03</td>\n      <td>1.23</td>\n      <td>1.41</td>\n      <td>367.25</td>\n      <td>10</td>\n      <td>1.23</td>\n    </tr>\n    <tr>\n      <th>752</th>\n      <td>JYNT</td>\n      <td>0.524128</td>\n      <td>0.240515</td>\n      <td>1.61</td>\n      <td>0.49</td>\n      <td>2.22</td>\n      <td>0.91</td>\n      <td>3.80</td>\n      <td>88.07</td>\n      <td>5.0</td>\n      <td>0.91</td>\n      <td>182.0</td>\n      <td>0.06</td>\n      <td>0.44</td>\n      <td>-1.48</td>\n      <td>-1.49</td>\n      <td>3.42</td>\n      <td>71.54</td>\n      <td>7</td>\n      <td>NaN</td>\n    </tr>\n    <tr>\n      <th>1131</th>\n      <td>RDNT</td>\n      <td>0.183596</td>\n      <td>0.297052</td>\n      <td>95.56</td>\n      <td>0.10</td>\n      <td>118.87</td>\n      <td>0.53</td>\n      <td>0.15</td>\n      <td>1763.52</td>\n      <td>5.0</td>\n      <td>0.53</td>\n      <td>106.0</td>\n      <td>52.92</td>\n      <td>0.09</td>\n      <td>66.52</td>\n      <td>0.13</td>\n      <td>0.05</td>\n      <td>910.71</td>\n      <td>10</td>\n      <td>0.13</td>\n    </tr>\n    <tr>\n      <th>1146</th>\n      <td>RH</td>\n      <td>0.056586</td>\n      <td>11.548658</td>\n      <td>9.43</td>\n      <td>0.07</td>\n      <td>16.96</td>\n      <td>0.66</td>\n      <td>0.12</td>\n      <td>304.07</td>\n      <td>5.0</td>\n      <td>0.66</td>\n      <td>132.0</td>\n      <td>5.75</td>\n      <td>0.14</td>\n      <td>10.58</td>\n      <td>0.57</td>\n      <td>0.53</td>\n      <td>200.03</td>\n      <td>9</td>\n      <td>0.57</td>\n    </tr>\n    <tr>\n      <th>1173</th>\n      <td>SABR</td>\n      <td>0.027937</td>\n      <td>0.578448</td>\n      <td>1.01</td>\n      <td>0.09</td>\n      <td>1.04</td>\n      <td>0.96</td>\n      <td>0.11</td>\n      <td>24.65</td>\n      <td>5.0</td>\n      <td>0.96</td>\n      <td>192.0</td>\n      <td>0.56</td>\n      <td>0.08</td>\n      <td>0.61</td>\n      <td>0.60</td>\n      <td>0.16</td>\n      <td>31.62</td>\n      <td>7</td>\n      <td>0.60</td>\n    </tr>\n    <tr>\n      <th>1325</th>\n      <td>TNET</td>\n      <td>0.100771</td>\n      <td>3.028571</td>\n      <td>0.74</td>\n      <td>0.12</td>\n      <td>0.74</td>\n      <td>1.62</td>\n      <td>1.40</td>\n      <td>23.97</td>\n      <td>5.0</td>\n      <td>0.74</td>\n      <td>148.0</td>\n      <td>0.57</td>\n      <td>0.16</td>\n      <td>0.49</td>\n      <td>1.19</td>\n      <td>1.11</td>\n      <td>38.22</td>\n      <td>7</td>\n      <td>0.49</td>\n    </tr>\n    <tr>\n      <th>1375</th>\n      <td>UAL</td>\n      <td>0.047357</td>\n      <td>11.626739</td>\n      <td>0.83</td>\n      <td>0.02</td>\n      <td>1.08</td>\n      <td>0.68</td>\n      <td>0.22</td>\n      <td>8.28</td>\n      <td>5.0</td>\n      <td>0.68</td>\n      <td>136.0</td>\n      <td>0.44</td>\n      <td>0.08</td>\n      <td>0.41</td>\n      <td>0.77</td>\n      <td>-0.28</td>\n      <td>10.21</td>\n      <td>10</td>\n      <td>0.41</td>\n    </tr>\n  </tbody>\n</table>\n</div>"
     },
     "metadata": {},
     "execution_count": 12
    }
   ],
   "source": [
    "growth_df[growth_df.Ticker.isin(extremes_df.Ticker.unique())].iloc[:,0:20]"
   ]
  },
  {
   "cell_type": "code",
   "execution_count": 14,
   "metadata": {},
   "outputs": [
    {
     "output_type": "execute_result",
     "data": {
      "text/plain": [
       "      Ticker Report Date_is  SimFinId Currency  Fiscal Year Fiscal Period_is  \\\n",
       "10844   RDNT     2010-12-31    143984      USD         2010               FY   \n",
       "10845   RDNT     2011-12-31    143984      USD         2011               FY   \n",
       "10846   RDNT     2012-12-31    143984      USD         2012               FY   \n",
       "10847   RDNT     2013-12-31    143984      USD         2013               FY   \n",
       "10848   RDNT     2014-12-31    143984      USD         2014               FY   \n",
       "10849   RDNT     2015-12-31    143984      USD         2015               FY   \n",
       "10850   RDNT     2016-12-31    143984      USD         2016               FY   \n",
       "10851   RDNT     2017-12-31    143984      USD         2017               FY   \n",
       "10852   RDNT     2018-12-31    143984      USD         2018               FY   \n",
       "10853   RDNT     2019-12-31    143984      USD         2019               FY   \n",
       "\n",
       "      Publish Date_is Restated Date_is  Shares (Basic)_is  \\\n",
       "10844      2011-03-11       2013-03-18         36853477.0   \n",
       "10845      2012-03-13       2014-03-17         37367736.0   \n",
       "10846      2013-02-13       2015-03-16         37751170.0   \n",
       "10847      2014-03-17       2016-03-15         39140480.0   \n",
       "10848      2015-03-16       2017-03-17         41070077.0   \n",
       "10849      2016-03-15       2017-03-17         43805794.0   \n",
       "10850      2017-03-17       2017-03-17         46244188.0   \n",
       "10851      2018-03-19       2018-03-19         46880775.0   \n",
       "10852      2019-03-18       2019-03-18         48114275.0   \n",
       "10853      2020-03-16       2020-03-16         49674858.0   \n",
       "\n",
       "       Shares (Diluted)_is  ...  Retained Earnings  Total Equity  \\\n",
       "10844           36853477.0  ...       -242841000.0   -82473000.0   \n",
       "10845           38785675.0  ...                NaN    33099000.0   \n",
       "10846           39244686.0  ...                NaN    35970000.0   \n",
       "10847           39814535.0  ...                NaN    35012000.0   \n",
       "10848           43149196.0  ...                NaN    33176000.0   \n",
       "10849           45171372.0  ...                NaN    32790000.0   \n",
       "10850           46655032.0  ...       -150211000.0    52053000.0   \n",
       "10851           47401921.0  ...       -150158000.0    69925000.0   \n",
       "10852           48678999.0  ...       -117915000.0   200253000.0   \n",
       "10853           50244006.0  ...       -103159000.0   233139000.0   \n",
       "\n",
       "       Total Liabilities & Equity  Dividends Paid_clean      roic       eps  \\\n",
       "10844                   539514000                   0.0 -0.023821 -0.348732   \n",
       "10845                    43900000                   0.0  0.164715  0.193509   \n",
       "10846                    42103000                   0.0  1.421134  1.584957   \n",
       "10847                    40652000                   0.0  0.052150  0.054164   \n",
       "10848                    37316000                   0.0  0.036874  0.033504   \n",
       "10849                    35494000                   0.0  0.217192  0.175981   \n",
       "10850                   849476000                   0.0  0.008511  0.156344   \n",
       "10851                   868979000                   0.0  0.000061  0.001131   \n",
       "10852                  1109330000                   0.0  0.029065  0.670134   \n",
       "10853                  1646986000                   0.0  0.008959  0.297052   \n",
       "\n",
       "           bvps          fcf  mean_low_price           pe  \n",
       "10844 -2.237862  168266000.0        2.558636    -7.336963  \n",
       "10845  0.885764  145375000.0        2.159048    11.157339  \n",
       "10846  0.952818  162317000.0        2.405300     1.517580  \n",
       "10847  0.894521  117082000.0        1.708381    31.540967  \n",
       "10848  0.807790  114646000.0        8.464454   252.642293  \n",
       "10849  0.748531  163833000.0        6.055727    34.411200  \n",
       "10850  1.125612  157131000.0        6.189524    39.589143  \n",
       "10851  1.491550  221545000.0        9.792250  8661.665422  \n",
       "10852  4.162029  263503000.0       11.449211    17.084963  \n",
       "10853  4.693300  203787000.0       19.259048    64.833997  \n",
       "\n",
       "[10 rows x 85 columns]"
      ],
      "text/html": "<div>\n<style scoped>\n    .dataframe tbody tr th:only-of-type {\n        vertical-align: middle;\n    }\n\n    .dataframe tbody tr th {\n        vertical-align: top;\n    }\n\n    .dataframe thead th {\n        text-align: right;\n    }\n</style>\n<table border=\"1\" class=\"dataframe\">\n  <thead>\n    <tr style=\"text-align: right;\">\n      <th></th>\n      <th>Ticker</th>\n      <th>Report Date_is</th>\n      <th>SimFinId</th>\n      <th>Currency</th>\n      <th>Fiscal Year</th>\n      <th>Fiscal Period_is</th>\n      <th>Publish Date_is</th>\n      <th>Restated Date_is</th>\n      <th>Shares (Basic)_is</th>\n      <th>Shares (Diluted)_is</th>\n      <th>...</th>\n      <th>Retained Earnings</th>\n      <th>Total Equity</th>\n      <th>Total Liabilities &amp; Equity</th>\n      <th>Dividends Paid_clean</th>\n      <th>roic</th>\n      <th>eps</th>\n      <th>bvps</th>\n      <th>fcf</th>\n      <th>mean_low_price</th>\n      <th>pe</th>\n    </tr>\n  </thead>\n  <tbody>\n    <tr>\n      <th>10844</th>\n      <td>RDNT</td>\n      <td>2010-12-31</td>\n      <td>143984</td>\n      <td>USD</td>\n      <td>2010</td>\n      <td>FY</td>\n      <td>2011-03-11</td>\n      <td>2013-03-18</td>\n      <td>36853477.0</td>\n      <td>36853477.0</td>\n      <td>...</td>\n      <td>-242841000.0</td>\n      <td>-82473000.0</td>\n      <td>539514000</td>\n      <td>0.0</td>\n      <td>-0.023821</td>\n      <td>-0.348732</td>\n      <td>-2.237862</td>\n      <td>168266000.0</td>\n      <td>2.558636</td>\n      <td>-7.336963</td>\n    </tr>\n    <tr>\n      <th>10845</th>\n      <td>RDNT</td>\n      <td>2011-12-31</td>\n      <td>143984</td>\n      <td>USD</td>\n      <td>2011</td>\n      <td>FY</td>\n      <td>2012-03-13</td>\n      <td>2014-03-17</td>\n      <td>37367736.0</td>\n      <td>38785675.0</td>\n      <td>...</td>\n      <td>NaN</td>\n      <td>33099000.0</td>\n      <td>43900000</td>\n      <td>0.0</td>\n      <td>0.164715</td>\n      <td>0.193509</td>\n      <td>0.885764</td>\n      <td>145375000.0</td>\n      <td>2.159048</td>\n      <td>11.157339</td>\n    </tr>\n    <tr>\n      <th>10846</th>\n      <td>RDNT</td>\n      <td>2012-12-31</td>\n      <td>143984</td>\n      <td>USD</td>\n      <td>2012</td>\n      <td>FY</td>\n      <td>2013-02-13</td>\n      <td>2015-03-16</td>\n      <td>37751170.0</td>\n      <td>39244686.0</td>\n      <td>...</td>\n      <td>NaN</td>\n      <td>35970000.0</td>\n      <td>42103000</td>\n      <td>0.0</td>\n      <td>1.421134</td>\n      <td>1.584957</td>\n      <td>0.952818</td>\n      <td>162317000.0</td>\n      <td>2.405300</td>\n      <td>1.517580</td>\n    </tr>\n    <tr>\n      <th>10847</th>\n      <td>RDNT</td>\n      <td>2013-12-31</td>\n      <td>143984</td>\n      <td>USD</td>\n      <td>2013</td>\n      <td>FY</td>\n      <td>2014-03-17</td>\n      <td>2016-03-15</td>\n      <td>39140480.0</td>\n      <td>39814535.0</td>\n      <td>...</td>\n      <td>NaN</td>\n      <td>35012000.0</td>\n      <td>40652000</td>\n      <td>0.0</td>\n      <td>0.052150</td>\n      <td>0.054164</td>\n      <td>0.894521</td>\n      <td>117082000.0</td>\n      <td>1.708381</td>\n      <td>31.540967</td>\n    </tr>\n    <tr>\n      <th>10848</th>\n      <td>RDNT</td>\n      <td>2014-12-31</td>\n      <td>143984</td>\n      <td>USD</td>\n      <td>2014</td>\n      <td>FY</td>\n      <td>2015-03-16</td>\n      <td>2017-03-17</td>\n      <td>41070077.0</td>\n      <td>43149196.0</td>\n      <td>...</td>\n      <td>NaN</td>\n      <td>33176000.0</td>\n      <td>37316000</td>\n      <td>0.0</td>\n      <td>0.036874</td>\n      <td>0.033504</td>\n      <td>0.807790</td>\n      <td>114646000.0</td>\n      <td>8.464454</td>\n      <td>252.642293</td>\n    </tr>\n    <tr>\n      <th>10849</th>\n      <td>RDNT</td>\n      <td>2015-12-31</td>\n      <td>143984</td>\n      <td>USD</td>\n      <td>2015</td>\n      <td>FY</td>\n      <td>2016-03-15</td>\n      <td>2017-03-17</td>\n      <td>43805794.0</td>\n      <td>45171372.0</td>\n      <td>...</td>\n      <td>NaN</td>\n      <td>32790000.0</td>\n      <td>35494000</td>\n      <td>0.0</td>\n      <td>0.217192</td>\n      <td>0.175981</td>\n      <td>0.748531</td>\n      <td>163833000.0</td>\n      <td>6.055727</td>\n      <td>34.411200</td>\n    </tr>\n    <tr>\n      <th>10850</th>\n      <td>RDNT</td>\n      <td>2016-12-31</td>\n      <td>143984</td>\n      <td>USD</td>\n      <td>2016</td>\n      <td>FY</td>\n      <td>2017-03-17</td>\n      <td>2017-03-17</td>\n      <td>46244188.0</td>\n      <td>46655032.0</td>\n      <td>...</td>\n      <td>-150211000.0</td>\n      <td>52053000.0</td>\n      <td>849476000</td>\n      <td>0.0</td>\n      <td>0.008511</td>\n      <td>0.156344</td>\n      <td>1.125612</td>\n      <td>157131000.0</td>\n      <td>6.189524</td>\n      <td>39.589143</td>\n    </tr>\n    <tr>\n      <th>10851</th>\n      <td>RDNT</td>\n      <td>2017-12-31</td>\n      <td>143984</td>\n      <td>USD</td>\n      <td>2017</td>\n      <td>FY</td>\n      <td>2018-03-19</td>\n      <td>2018-03-19</td>\n      <td>46880775.0</td>\n      <td>47401921.0</td>\n      <td>...</td>\n      <td>-150158000.0</td>\n      <td>69925000.0</td>\n      <td>868979000</td>\n      <td>0.0</td>\n      <td>0.000061</td>\n      <td>0.001131</td>\n      <td>1.491550</td>\n      <td>221545000.0</td>\n      <td>9.792250</td>\n      <td>8661.665422</td>\n    </tr>\n    <tr>\n      <th>10852</th>\n      <td>RDNT</td>\n      <td>2018-12-31</td>\n      <td>143984</td>\n      <td>USD</td>\n      <td>2018</td>\n      <td>FY</td>\n      <td>2019-03-18</td>\n      <td>2019-03-18</td>\n      <td>48114275.0</td>\n      <td>48678999.0</td>\n      <td>...</td>\n      <td>-117915000.0</td>\n      <td>200253000.0</td>\n      <td>1109330000</td>\n      <td>0.0</td>\n      <td>0.029065</td>\n      <td>0.670134</td>\n      <td>4.162029</td>\n      <td>263503000.0</td>\n      <td>11.449211</td>\n      <td>17.084963</td>\n    </tr>\n    <tr>\n      <th>10853</th>\n      <td>RDNT</td>\n      <td>2019-12-31</td>\n      <td>143984</td>\n      <td>USD</td>\n      <td>2019</td>\n      <td>FY</td>\n      <td>2020-03-16</td>\n      <td>2020-03-16</td>\n      <td>49674858.0</td>\n      <td>50244006.0</td>\n      <td>...</td>\n      <td>-103159000.0</td>\n      <td>233139000.0</td>\n      <td>1646986000</td>\n      <td>0.0</td>\n      <td>0.008959</td>\n      <td>0.297052</td>\n      <td>4.693300</td>\n      <td>203787000.0</td>\n      <td>19.259048</td>\n      <td>64.833997</td>\n    </tr>\n  </tbody>\n</table>\n<p>10 rows × 85 columns</p>\n</div>"
     },
     "metadata": {},
     "execution_count": 14
    }
   ],
   "source": [
    "fundamental_df[fundamental_df.Ticker=='RDNT'].sort_values('Fiscal Year')"
   ]
  },
  {
   "source": [
    "## Data Transformation"
   ],
   "cell_type": "markdown",
   "metadata": {}
  },
  {
   "cell_type": "code",
   "execution_count": null,
   "metadata": {},
   "outputs": [],
   "source": []
  },
  {
   "cell_type": "code",
   "execution_count": 3,
   "metadata": {},
   "outputs": [
    {
     "output_type": "execute_result",
     "data": {
      "text/plain": [
       "  Ticker  revenue_gr_curr  eps_curr  roic_gr_5yr  revenue_gr_5yr  eps_gr_5yr  \\\n",
       "0      A         0.050672  3.410828         0.12            0.05        0.18   \n",
       "1     AA        -0.221592 -6.081081        -1.03           -0.01       -1.04   \n",
       "\n",
       "   bvps_gr_5yr  fcf_gr_5yr  pe_5yr  yrs_in_5yr  ...    logo  \\\n",
       "0         0.04        0.16   31.95         5.0  ...   A.png   \n",
       "1        -0.16       -0.07   -3.39         5.0  ...  AA.png   \n",
       "\n",
       "                      ceo                 exchange    market cap  \\\n",
       "0     Michael R. McMullen  New York Stock Exchange  2.421807e+10   \n",
       "1  Roy Christopher Harvey  New York Stock Exchange  5.374967e+09   \n",
       "\n",
       "            sector            tag 1                   tag 2  \\\n",
       "0       Healthcare       Healthcare  Diagnostics & Research   \n",
       "1  Basic Materials  Basic Materials                Aluminum   \n",
       "\n",
       "                            tag 3  \\\n",
       "0  Medical Diagnostics & Research   \n",
       "1                 Metals & Mining   \n",
       "\n",
       "                                   peer_string  \\\n",
       "0  TMO,PKI,DHR,TER,NATI,ILMN,AME,BRKR,GE,SPMYY   \n",
       "1            ACH,KALU,CENX,NHYDY,AWCMY,BBL,BHP   \n",
       "\n",
       "                                           peer_list  \n",
       "0  [TMO, PKI, DHR, TER, NATI, ILMN, AME, BRKR, GE...  \n",
       "1          [ACH, KALU, CENX, NHYDY, AWCMY, BBL, BHP]  \n",
       "\n",
       "[2 rows x 41 columns]"
      ],
      "text/html": "<div>\n<style scoped>\n    .dataframe tbody tr th:only-of-type {\n        vertical-align: middle;\n    }\n\n    .dataframe tbody tr th {\n        vertical-align: top;\n    }\n\n    .dataframe thead th {\n        text-align: right;\n    }\n</style>\n<table border=\"1\" class=\"dataframe\">\n  <thead>\n    <tr style=\"text-align: right;\">\n      <th></th>\n      <th>Ticker</th>\n      <th>revenue_gr_curr</th>\n      <th>eps_curr</th>\n      <th>roic_gr_5yr</th>\n      <th>revenue_gr_5yr</th>\n      <th>eps_gr_5yr</th>\n      <th>bvps_gr_5yr</th>\n      <th>fcf_gr_5yr</th>\n      <th>pe_5yr</th>\n      <th>yrs_in_5yr</th>\n      <th>...</th>\n      <th>logo</th>\n      <th>ceo</th>\n      <th>exchange</th>\n      <th>market cap</th>\n      <th>sector</th>\n      <th>tag 1</th>\n      <th>tag 2</th>\n      <th>tag 3</th>\n      <th>peer_string</th>\n      <th>peer_list</th>\n    </tr>\n  </thead>\n  <tbody>\n    <tr>\n      <th>0</th>\n      <td>A</td>\n      <td>0.050672</td>\n      <td>3.410828</td>\n      <td>0.12</td>\n      <td>0.05</td>\n      <td>0.18</td>\n      <td>0.04</td>\n      <td>0.16</td>\n      <td>31.95</td>\n      <td>5.0</td>\n      <td>...</td>\n      <td>A.png</td>\n      <td>Michael R. McMullen</td>\n      <td>New York Stock Exchange</td>\n      <td>2.421807e+10</td>\n      <td>Healthcare</td>\n      <td>Healthcare</td>\n      <td>Diagnostics &amp; Research</td>\n      <td>Medical Diagnostics &amp; Research</td>\n      <td>TMO,PKI,DHR,TER,NATI,ILMN,AME,BRKR,GE,SPMYY</td>\n      <td>[TMO, PKI, DHR, TER, NATI, ILMN, AME, BRKR, GE...</td>\n    </tr>\n    <tr>\n      <th>1</th>\n      <td>AA</td>\n      <td>-0.221592</td>\n      <td>-6.081081</td>\n      <td>-1.03</td>\n      <td>-0.01</td>\n      <td>-1.04</td>\n      <td>-0.16</td>\n      <td>-0.07</td>\n      <td>-3.39</td>\n      <td>5.0</td>\n      <td>...</td>\n      <td>AA.png</td>\n      <td>Roy Christopher Harvey</td>\n      <td>New York Stock Exchange</td>\n      <td>5.374967e+09</td>\n      <td>Basic Materials</td>\n      <td>Basic Materials</td>\n      <td>Aluminum</td>\n      <td>Metals &amp; Mining</td>\n      <td>ACH,KALU,CENX,NHYDY,AWCMY,BBL,BHP</td>\n      <td>[ACH, KALU, CENX, NHYDY, AWCMY, BBL, BHP]</td>\n    </tr>\n  </tbody>\n</table>\n<p>2 rows × 41 columns</p>\n</div>"
     },
     "metadata": {},
     "execution_count": 3
    }
   ],
   "source": [
    "# merge company info to growth kpi dataset\n",
    "growth_eval_df = growth_df.merge(company_info_df.rename(columns={'ticker':'Ticker'}),\n",
    "                        how='left',\n",
    "                        on='Ticker',\n",
    "                        validate='1:1')\n",
    "growth_eval_df.head(2)"
   ]
  },
  {
   "cell_type": "code",
   "execution_count": 4,
   "metadata": {},
   "outputs": [
    {
     "output_type": "execute_result",
     "data": {
      "text/plain": [
       "  Ticker   last_date  last_low_price  price_future  sticker_price        mos  \\\n",
       "0   FIZZ  2021-06-04       49.400002    493.871839     122.077565  61.038783   \n",
       "1     VZ  2021-06-04       56.900002    522.162754     129.070647  64.535323   \n",
       "\n",
       "                  company name              short name  \\\n",
       "0      National Beverage Corp.       National Beverage   \n",
       "1  Verizon Communications Inc.  Verizon Communications   \n",
       "\n",
       "                    industry  \\\n",
       "0  Beverages - Non-Alcoholic   \n",
       "1     Communication Services   \n",
       "\n",
       "                                         description  ...    logo  \\\n",
       "0  National Beverage Corp is engaged in the devel...  ...    None   \n",
       "1  Verizon Communications Inc is a provider of co...  ...  VZ.png   \n",
       "\n",
       "                  ceo                 exchange    market cap  \\\n",
       "0   Nick A. Caporella     Nasdaq Global Select  3.922616e+09   \n",
       "1  Hans Erik Vestberg  New York Stock Exchange  2.235627e+11   \n",
       "\n",
       "                   sector                   tag 1                    tag 2  \\\n",
       "0      Consumer Defensive      Consumer Defensive  Beverages - Soft Drinks   \n",
       "1  Communication Services  Communication Services         Telecom Services   \n",
       "\n",
       "                       tag 3                                    peer_string  \\\n",
       "0  Beverages - Non-Alcoholic                     COKE,MNST,KO,PEP,REED,JSDA   \n",
       "1                       None  T,TMUS,SHEN,DTEGY,TDS,USM,VOD,SPOK,GOOGL,AAPL   \n",
       "\n",
       "                                           peer_list  \n",
       "0                  [COKE, MNST, KO, PEP, REED, JSDA]  \n",
       "1  [T, TMUS, SHEN, DTEGY, TDS, USM, VOD, SPOK, GO...  \n",
       "\n",
       "[2 rows x 21 columns]"
      ],
      "text/html": "<div>\n<style scoped>\n    .dataframe tbody tr th:only-of-type {\n        vertical-align: middle;\n    }\n\n    .dataframe tbody tr th {\n        vertical-align: top;\n    }\n\n    .dataframe thead th {\n        text-align: right;\n    }\n</style>\n<table border=\"1\" class=\"dataframe\">\n  <thead>\n    <tr style=\"text-align: right;\">\n      <th></th>\n      <th>Ticker</th>\n      <th>last_date</th>\n      <th>last_low_price</th>\n      <th>price_future</th>\n      <th>sticker_price</th>\n      <th>mos</th>\n      <th>company name</th>\n      <th>short name</th>\n      <th>industry</th>\n      <th>description</th>\n      <th>...</th>\n      <th>logo</th>\n      <th>ceo</th>\n      <th>exchange</th>\n      <th>market cap</th>\n      <th>sector</th>\n      <th>tag 1</th>\n      <th>tag 2</th>\n      <th>tag 3</th>\n      <th>peer_string</th>\n      <th>peer_list</th>\n    </tr>\n  </thead>\n  <tbody>\n    <tr>\n      <th>0</th>\n      <td>FIZZ</td>\n      <td>2021-06-04</td>\n      <td>49.400002</td>\n      <td>493.871839</td>\n      <td>122.077565</td>\n      <td>61.038783</td>\n      <td>National Beverage Corp.</td>\n      <td>National Beverage</td>\n      <td>Beverages - Non-Alcoholic</td>\n      <td>National Beverage Corp is engaged in the devel...</td>\n      <td>...</td>\n      <td>None</td>\n      <td>Nick A. Caporella</td>\n      <td>Nasdaq Global Select</td>\n      <td>3.922616e+09</td>\n      <td>Consumer Defensive</td>\n      <td>Consumer Defensive</td>\n      <td>Beverages - Soft Drinks</td>\n      <td>Beverages - Non-Alcoholic</td>\n      <td>COKE,MNST,KO,PEP,REED,JSDA</td>\n      <td>[COKE, MNST, KO, PEP, REED, JSDA]</td>\n    </tr>\n    <tr>\n      <th>1</th>\n      <td>VZ</td>\n      <td>2021-06-04</td>\n      <td>56.900002</td>\n      <td>522.162754</td>\n      <td>129.070647</td>\n      <td>64.535323</td>\n      <td>Verizon Communications Inc.</td>\n      <td>Verizon Communications</td>\n      <td>Communication Services</td>\n      <td>Verizon Communications Inc is a provider of co...</td>\n      <td>...</td>\n      <td>VZ.png</td>\n      <td>Hans Erik Vestberg</td>\n      <td>New York Stock Exchange</td>\n      <td>2.235627e+11</td>\n      <td>Communication Services</td>\n      <td>Communication Services</td>\n      <td>Telecom Services</td>\n      <td>None</td>\n      <td>T,TMUS,SHEN,DTEGY,TDS,USM,VOD,SPOK,GOOGL,AAPL</td>\n      <td>[T, TMUS, SHEN, DTEGY, TDS, USM, VOD, SPOK, GO...</td>\n    </tr>\n  </tbody>\n</table>\n<p>2 rows × 21 columns</p>\n</div>"
     },
     "metadata": {},
     "execution_count": 4
    }
   ],
   "source": [
    "screener_eval_df = screener_df.merge(company_info_df.rename(columns={'ticker':'Ticker'}),\n",
    "                        how='left',\n",
    "                        on='Ticker',\n",
    "                        validate='1:1')\n",
    "screener_eval_df.head(2)"
   ]
  },
  {
   "cell_type": "code",
   "execution_count": 9,
   "metadata": {},
   "outputs": [
    {
     "output_type": "execute_result",
     "data": {
      "text/plain": [
       "  Ticker Report Date_is  SimFinId Currency  Fiscal Year Fiscal Period_is  \\\n",
       "0      A     2010-10-31     45846      USD         2010               FY   \n",
       "1      A     2011-10-31     45846      USD         2011               FY   \n",
       "\n",
       "  Publish Date_is Restated Date_is  Shares (Basic)_is  Shares (Diluted)_is  \\\n",
       "0      2010-12-20       2012-12-20        347000000.0          353000000.0   \n",
       "1      2011-12-16       2013-12-19        347000000.0          355000000.0   \n",
       "\n",
       "   ...   logo                  ceo                 exchange    market cap  \\\n",
       "0  ...  A.png  Michael R. McMullen  New York Stock Exchange  2.421807e+10   \n",
       "1  ...  A.png  Michael R. McMullen  New York Stock Exchange  2.421807e+10   \n",
       "\n",
       "       sector       tag 1                   tag 2  \\\n",
       "0  Healthcare  Healthcare  Diagnostics & Research   \n",
       "1  Healthcare  Healthcare  Diagnostics & Research   \n",
       "\n",
       "                            tag 3  \\\n",
       "0  Medical Diagnostics & Research   \n",
       "1  Medical Diagnostics & Research   \n",
       "\n",
       "                                   peer_string  \\\n",
       "0  TMO,PKI,DHR,TER,NATI,ILMN,AME,BRKR,GE,SPMYY   \n",
       "1  TMO,PKI,DHR,TER,NATI,ILMN,AME,BRKR,GE,SPMYY   \n",
       "\n",
       "                                           peer_list  \n",
       "0  [TMO, PKI, DHR, TER, NATI, ILMN, AME, BRKR, GE...  \n",
       "1  [TMO, PKI, DHR, TER, NATI, ILMN, AME, BRKR, GE...  \n",
       "\n",
       "[2 rows x 100 columns]"
      ],
      "text/html": "<div>\n<style scoped>\n    .dataframe tbody tr th:only-of-type {\n        vertical-align: middle;\n    }\n\n    .dataframe tbody tr th {\n        vertical-align: top;\n    }\n\n    .dataframe thead th {\n        text-align: right;\n    }\n</style>\n<table border=\"1\" class=\"dataframe\">\n  <thead>\n    <tr style=\"text-align: right;\">\n      <th></th>\n      <th>Ticker</th>\n      <th>Report Date_is</th>\n      <th>SimFinId</th>\n      <th>Currency</th>\n      <th>Fiscal Year</th>\n      <th>Fiscal Period_is</th>\n      <th>Publish Date_is</th>\n      <th>Restated Date_is</th>\n      <th>Shares (Basic)_is</th>\n      <th>Shares (Diluted)_is</th>\n      <th>...</th>\n      <th>logo</th>\n      <th>ceo</th>\n      <th>exchange</th>\n      <th>market cap</th>\n      <th>sector</th>\n      <th>tag 1</th>\n      <th>tag 2</th>\n      <th>tag 3</th>\n      <th>peer_string</th>\n      <th>peer_list</th>\n    </tr>\n  </thead>\n  <tbody>\n    <tr>\n      <th>0</th>\n      <td>A</td>\n      <td>2010-10-31</td>\n      <td>45846</td>\n      <td>USD</td>\n      <td>2010</td>\n      <td>FY</td>\n      <td>2010-12-20</td>\n      <td>2012-12-20</td>\n      <td>347000000.0</td>\n      <td>353000000.0</td>\n      <td>...</td>\n      <td>A.png</td>\n      <td>Michael R. McMullen</td>\n      <td>New York Stock Exchange</td>\n      <td>2.421807e+10</td>\n      <td>Healthcare</td>\n      <td>Healthcare</td>\n      <td>Diagnostics &amp; Research</td>\n      <td>Medical Diagnostics &amp; Research</td>\n      <td>TMO,PKI,DHR,TER,NATI,ILMN,AME,BRKR,GE,SPMYY</td>\n      <td>[TMO, PKI, DHR, TER, NATI, ILMN, AME, BRKR, GE...</td>\n    </tr>\n    <tr>\n      <th>1</th>\n      <td>A</td>\n      <td>2011-10-31</td>\n      <td>45846</td>\n      <td>USD</td>\n      <td>2011</td>\n      <td>FY</td>\n      <td>2011-12-16</td>\n      <td>2013-12-19</td>\n      <td>347000000.0</td>\n      <td>355000000.0</td>\n      <td>...</td>\n      <td>A.png</td>\n      <td>Michael R. McMullen</td>\n      <td>New York Stock Exchange</td>\n      <td>2.421807e+10</td>\n      <td>Healthcare</td>\n      <td>Healthcare</td>\n      <td>Diagnostics &amp; Research</td>\n      <td>Medical Diagnostics &amp; Research</td>\n      <td>TMO,PKI,DHR,TER,NATI,ILMN,AME,BRKR,GE,SPMYY</td>\n      <td>[TMO, PKI, DHR, TER, NATI, ILMN, AME, BRKR, GE...</td>\n    </tr>\n  </tbody>\n</table>\n<p>2 rows × 100 columns</p>\n</div>"
     },
     "metadata": {},
     "execution_count": 9
    }
   ],
   "source": [
    "fundamental_eval_df = fundamental_df.merge(company_info_df.rename(columns={'ticker':'Ticker'}),\n",
    "                        how='left',\n",
    "                        on='Ticker',\n",
    "                        validate='m:1')\n",
    "fundamental_eval_df.head(2)"
   ]
  },
  {
   "source": [
    "## Load analysis results to disk"
   ],
   "cell_type": "markdown",
   "metadata": {}
  },
  {
   "cell_type": "code",
   "execution_count": 5,
   "metadata": {},
   "outputs": [],
   "source": [
    "growth_eval_df.to_excel('../data/4_data_analysis/' + str(pd.to_datetime('today'))[:10] + '_growth_eval_df.xlsx', index=False)"
   ]
  },
  {
   "cell_type": "code",
   "execution_count": 6,
   "metadata": {},
   "outputs": [],
   "source": [
    "screener_eval_df.to_excel('../data/4_data_analysis/' + str(pd.to_datetime('today'))[:10] + '_screener_eval_df.xlsx', index=False)"
   ]
  },
  {
   "cell_type": "code",
   "execution_count": 10,
   "metadata": {},
   "outputs": [],
   "source": [
    "fundamental_eval_df.to_excel('../data/4_data_analysis/' + str(pd.to_datetime('today'))[:10] + '_fundamental_eval_df.xlsx', index=False)"
   ]
  },
  {
   "source": [
    "## Document notebook as markdown file"
   ],
   "cell_type": "markdown",
   "metadata": {}
  },
  {
   "cell_type": "code",
   "execution_count": 11,
   "metadata": {},
   "outputs": [
    {
     "output_type": "stream",
     "name": "stderr",
     "text": [
      "[NbConvertApp] Converting notebook result_evaluation.ipynb to markdown\n[NbConvertApp] Writing 23263 bytes to result_evaluation.md\n"
     ]
    }
   ],
   "source": [
    "# export notebook to markdown for documentation\n",
    "!jupyter nbconvert --to markdown result_evaluation.ipynb"
   ]
  }
 ]
}